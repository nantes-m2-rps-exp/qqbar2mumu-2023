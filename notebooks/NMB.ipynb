{
 "cells": [
  {
   "cell_type": "code",
   "execution_count": 1,
   "id": "68f79341-29af-40d2-9857-de52b56469b8",
   "metadata": {},
   "outputs": [],
   "source": [
    "import uproot\n",
    "import awkward as ak\n",
    "import numpy as np\n",
    "import math\n",
    "import hist\n",
    "import matplotlib.pyplot as plt\n",
    "import os\n",
    "import subprocess\n",
    "import vector\n",
    "import gc\n",
    "import csv"
   ]
  },
  {
   "cell_type": "code",
   "execution_count": 2,
   "id": "17de090d-cefc-47dc-b4fb-8937a578297c",
   "metadata": {},
   "outputs": [],
   "source": [
    "csv_file_path = '../data/counters.online.csv'"
   ]
  },
  {
   "cell_type": "code",
   "execution_count": 3,
   "id": "c7f45f86-bba7-43d8-87e7-42ea23cec851",
   "metadata": {},
   "outputs": [],
   "source": [
    "run = []\n",
    "\n",
    "with open(csv_file_path, newline='') as csvfile:\n",
    "    csv_reader = csv.DictReader(csvfile)\n",
    "    for row in csv_reader:\n",
    "        run.append(row['run'])"
   ]
  },
  {
   "cell_type": "code",
   "execution_count": 4,
   "id": "45d1f9ae-31e4-4b45-9491-c83899867288",
   "metadata": {},
   "outputs": [
    {
     "name": "stdout",
     "output_type": "stream",
     "text": [
      "[290222, 290223, 290254, 290293, 290297, 290300, 290323, 290324, 290327, 290350, 290374, 290375, 290401, 290404, 290411, 290418, 290420, 290421, 290423, 290425, 290427, 290428, 290456, 290458, 290459, 290467, 290469, 290499, 290501, 290538, 290539, 290540, 290544, 290549, 290550, 290553, 290590, 290612, 290613, 290614, 290615, 290627, 290632, 290645, 290658, 290660, 290665, 290687, 290692, 290696, 290699, 290721, 290742, 290764, 290766, 290769, 290774, 290776, 290787, 290790, 290848, 290853, 290860, 290862, 290892, 290894, 290895, 290932, 290935, 290943, 290944, 290948, 290975, 290976, 290979, 290980, 291002, 291003, 291004, 291005, 291006, 291035, 291037, 291041, 291065, 291066, 291100, 291110, 291263, 291265, 291282, 291283, 291284, 291285, 291286, 291360, 291361, 291362, 291363, 291373, 291375, 291397, 291399, 291400, 291402, 291416, 291417, 291419, 291420, 291446, 291447, 291451, 291453, 291456, 291457, 291481, 291482, 291484, 291485, 291590, 291614, 291615, 291618, 291622, 291624, 291625, 291626, 291657, 291661, 291665, 291690, 291692, 291694, 291697, 291698, 291706, 291729, 291755, 291756, 291760, 291769, 291795, 291796, 291803, 291942, 291943, 291944, 291945, 291948, 291953, 291976, 291982, 292012, 292040, 292060, 292061, 292062, 292075, 292077, 292080, 292081, 292106, 292107, 292108, 292109, 292114, 292115, 292140, 292160, 292161, 292162, 292163, 292164, 292166, 292167, 292168, 292192, 292240, 292241, 292242, 292265, 292269, 292270, 292273, 292274, 292298, 292397]\n"
     ]
    }
   ],
   "source": [
    "print([int(r) for r in run])"
   ]
  },
  {
   "cell_type": "code",
   "execution_count": null,
   "id": "51f44935-1893-4291-b082-97d662170fa1",
   "metadata": {},
   "outputs": [],
   "source": []
  }
 ],
 "metadata": {
  "kernelspec": {
   "display_name": "Python 3.9 - M2 RPS EXP",
   "language": "python",
   "name": "nantes-m2-rps-exp"
  },
  "language_info": {
   "codemirror_mode": {
    "name": "ipython",
    "version": 3
   },
   "file_extension": ".py",
   "mimetype": "text/x-python",
   "name": "python",
   "nbconvert_exporter": "python",
   "pygments_lexer": "ipython3",
   "version": "3.9.18"
  }
 },
 "nbformat": 4,
 "nbformat_minor": 5
}
