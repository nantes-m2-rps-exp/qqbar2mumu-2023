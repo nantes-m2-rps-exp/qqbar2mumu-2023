{
 "cells": [
  {
   "cell_type": "code",
   "execution_count": 25,
   "id": "68f79341-29af-40d2-9857-de52b56469b8",
   "metadata": {},
   "outputs": [],
   "source": [
    "import uproot\n",
    "import awkward as ak\n",
    "import numpy as np\n",
    "import math\n",
    "import hist\n",
    "import matplotlib.pyplot as plt\n",
    "import os\n",
    "import subprocess\n",
    "import vector\n",
    "import gc\n",
    "import csv"
   ]
  },
  {
   "cell_type": "code",
   "execution_count": 51,
   "id": "17de090d-cefc-47dc-b4fb-8937a578297c",
   "metadata": {},
   "outputs": [],
   "source": [
    "#méthode online\n",
    "\n",
    "csv_file_path_1 = '../data/counters.online.csv'"
   ]
  },
  {
   "cell_type": "code",
   "execution_count": 160,
   "id": "c7f45f86-bba7-43d8-87e7-42ea23cec851",
   "metadata": {},
   "outputs": [],
   "source": [
    "cint = []\n",
    "cmul = []\n",
    "SAMPLE_RUNS = [290323, 290327, 290374, 290375, 290404, 290420, 290421, 290423, 290425, 290427,  290456, 290458, 290459, 290469, 290501, 290539, 290540, 290549, 290553, 290590, 290612, 290632, 290658, 290660, 290687, 290692, 290696, 290699, 290742, 290764, 290766, 290776, 290787, 290848, 290853, 290860, 290894, 290895, 290932, 290935, 290975, 290980, 291002, 291003, 291004, 291005, 291041, 291263, 291283, 291284, 291285, 291360, 291361, 291362, 291373, 291399, 291400, 291447, 291451, 291453, 291482, 291485, 291590, 291618, 291622, 291624, 291657, 291690, 291692, 291694, 291698, 291706, 291755, 291760, 291769, 291795, 291796, 291803, 291943, 291944, 291948, 291953, 291976, 291982, 292012, 292040, 292060, 292061, 292062, 292075, 292077, 292080, 292106, 292108, 292109, 292115, 292140, 292160, 292162, 292163, 292164, 292166, 292168, 292192, 292242, 292265, 292269, 292270, 292273, 292274]\n",
    "    \n",
    "with open(csv_file_path_1, newline='') as csvfile:\n",
    "    csv_reader = csv.DictReader(csvfile)\n",
    "    for row in csv_reader:\n",
    "        if int(row['run']) in SAMPLE_RUNS:\n",
    "            cint.append(row['cint7l0b'])\n",
    "            cmul.append(row['cmul7l0b'])\n",
    "\n",
    "#print(len(cint))\n",
    "#print(len(SAMPLE_RUNS))"
   ]
  },
  {
   "cell_type": "code",
   "execution_count": 140,
   "id": "45d1f9ae-31e4-4b45-9491-c83899867288",
   "metadata": {},
   "outputs": [],
   "source": [
    "F_norm_online = []\n",
    "for i in range(len(cmul)):\n",
    "    F_norm_online.append(float(cint[i])/float(cmul[i]))"
   ]
  },
  {
   "cell_type": "code",
   "execution_count": 141,
   "id": "51f44935-1893-4291-b082-97d662170fa1",
   "metadata": {},
   "outputs": [],
   "source": [
    "#F_norm_online_moy = np.sum(F_norm_online)/187)"
   ]
  },
  {
   "cell_type": "code",
   "execution_count": 142,
   "id": "67dd503c-9a2d-4c8b-a485-0228771840a5",
   "metadata": {},
   "outputs": [],
   "source": [
    "CMUL = []\n",
    "for i in range(len(cmul)):\n",
    "    CMUL.append(float(cmul[i]))\n",
    "    \n",
    "CINT = []\n",
    "for i in range(len(cint)):\n",
    "    CINT.append(float(cint[i]))"
   ]
  },
  {
   "cell_type": "code",
   "execution_count": 143,
   "id": "5678b807-b22f-4511-8433-d047ecc4be2f",
   "metadata": {},
   "outputs": [],
   "source": [
    "#print(np.sum(CMUL))\n",
    "#print(F_norm_online_moy)\n",
    "#N_MB_online_moy = np.sum(CMUL)*F_norm_online_moy\n",
    "#print(N_MB_online_moy)"
   ]
  },
  {
   "cell_type": "code",
   "execution_count": 144,
   "id": "1c6a2f74-1b42-4a4e-a027-51fff7279c60",
   "metadata": {},
   "outputs": [],
   "source": [
    "N_MB_online = []\n",
    "for i in range(len(cmul)):\n",
    "    N_MB_online.append(float(F_norm_online[i])*float(CMUL[i]))\n",
    "\n",
    "#print(CINT)\n",
    "#print(N_MB_online)"
   ]
  },
  {
   "cell_type": "code",
   "execution_count": 145,
   "id": "9b6dca42-354e-41cd-8635-0a055e669378",
   "metadata": {},
   "outputs": [
    {
     "name": "stdout",
     "output_type": "stream",
     "text": [
      "N_MB_online =  1307198862.5363636\n",
      "N_CINT = 143791874879.0\n"
     ]
    }
   ],
   "source": [
    "print(\"N_MB_online = \",np.sum(N_MB_online)/len(N_MB_online))\n",
    "print(\"N_CINT =\", np.sum(CINT))"
   ]
  },
  {
   "cell_type": "code",
   "execution_count": 50,
   "id": "ff91aaf4-f90e-4b0a-a0aa-abd565637362",
   "metadata": {},
   "outputs": [],
   "source": [
    "#méthode offline : donnée ps\n",
    "\n",
    "csv_file_path_2 = '../data/counters.offline.csv'"
   ]
  },
  {
   "cell_type": "code",
   "execution_count": 146,
   "id": "104a3967-9488-4937-924b-6b32e55b40a6",
   "metadata": {},
   "outputs": [],
   "source": [
    "cmul7ps = []\n",
    "cmsl7ps = []\n",
    "cint7ps = []\n",
    "cmsl7all0mul = []\n",
    "cint7all0msl = []\n",
    "\n",
    "with open(csv_file_path_2, newline='') as csvfile:\n",
    "    csv_reader = csv.DictReader(csvfile)\n",
    "    for row in csv_reader:\n",
    "        if int(row['run']) in SAMPLE_RUNS:\n",
    "            cmul7ps.append(row['cmul7ps'])\n",
    "            cmsl7ps.append(row['cmsl7ps'])\n",
    "            cint7ps.append(row['cint7ps'])\n",
    "            cmsl7all0mul.append(row['cmsl7all&0mul'])\n",
    "            cint7all0msl.append(row['cint7all&0msl'])"
   ]
  },
  {
   "cell_type": "code",
   "execution_count": 147,
   "id": "c42e00ce-9633-4e44-af1c-e4cb4d652b17",
   "metadata": {},
   "outputs": [],
   "source": [
    "F_norm_offline = []\n",
    "for i in range(len(cmul7ps)):\n",
    "    F_norm_offline.append(float(cmsl7ps[i])/float(cmsl7all0mul[i])*float(cint7ps[i])/float(cint7all0msl[i]))"
   ]
  },
  {
   "cell_type": "code",
   "execution_count": 148,
   "id": "18404aa4-7df4-445a-9cd2-d46c8197863b",
   "metadata": {},
   "outputs": [],
   "source": [
    "CMUL_off = []\n",
    "for i in range(len(cmul7ps)):\n",
    "    CMUL_off.append(float(cmul7ps[i]))"
   ]
  },
  {
   "cell_type": "code",
   "execution_count": 149,
   "id": "b51f8a9d-9881-4660-9444-1f1394e6b5bb",
   "metadata": {},
   "outputs": [],
   "source": [
    "N_MB_offline = []\n",
    "for i in range(len(cmul7ps)):\n",
    "    N_MB_offline.append(float( F_norm_offline[i])*float(CMUL_off[i]))"
   ]
  },
  {
   "cell_type": "code",
   "execution_count": 161,
   "id": "ece7332d-8763-4d2e-8be4-2c6e2aff0048",
   "metadata": {},
   "outputs": [
    {
     "name": "stdout",
     "output_type": "stream",
     "text": [
      "N_MB_offline_ps =  822857743.9465469\n"
     ]
    }
   ],
   "source": [
    "print(\"N_MB_offline_ps = \",np.sum(N_MB_offline)/len(N_MB_offline))"
   ]
  },
  {
   "cell_type": "code",
   "execution_count": 151,
   "id": "8fdddc4c-1e49-46fe-ac41-858a9ca2d56a",
   "metadata": {},
   "outputs": [
    {
     "name": "stdout",
     "output_type": "stream",
     "text": [
      "1.588608568313212\n"
     ]
    }
   ],
   "source": [
    "print((np.sum(N_MB_online)/len(N_MB_online))/(np.sum(N_MB_offline)/len(N_MB_offline)))"
   ]
  },
  {
   "cell_type": "code",
   "execution_count": 152,
   "id": "90ec7632-d7c8-4b8b-b54f-84a52e9dd87f",
   "metadata": {},
   "outputs": [],
   "source": [
    "#print(cint7ps)\n",
    "#print(N_MB_offline)"
   ]
  },
  {
   "cell_type": "code",
   "execution_count": 153,
   "id": "ff1d7dfb-615b-4ab5-a116-b0290f38456a",
   "metadata": {},
   "outputs": [],
   "source": [
    "#méthode offline : données all\n",
    "\n",
    "cmul7all = []\n",
    "cmsl7all = []\n",
    "cint7all = []\n",
    "cmsl7all0mul = []\n",
    "cint7all0msl = []\n",
    "\n",
    "with open(csv_file_path_2, newline='') as csvfile:\n",
    "    csv_reader = csv.DictReader(csvfile)\n",
    "    for row in csv_reader:\n",
    "        if int(row['run']) in SAMPLE_RUNS:\n",
    "            cmul7all.append(row['cmul7all'])\n",
    "            cmsl7all.append(row['cmsl7all'])\n",
    "            cint7all.append(row['cint7all'])\n",
    "            cmsl7all0mul.append(row['cmsl7all&0mul'])\n",
    "            cint7all0msl.append(row['cint7all&0msl'])"
   ]
  },
  {
   "cell_type": "code",
   "execution_count": 154,
   "id": "c447b910-82f3-4428-9436-2477702ebfbc",
   "metadata": {},
   "outputs": [],
   "source": [
    "F_norm_offlineall = []\n",
    "for i in range(len(cmul7all)):\n",
    "    F_norm_offlineall.append(float(cmsl7all[i])/float(cmsl7all0mul[i])*float(cint7all[i])/float(cint7all0msl[i]))"
   ]
  },
  {
   "cell_type": "code",
   "execution_count": 155,
   "id": "69d04eca-c342-42e1-8ea5-2b68eccee0a8",
   "metadata": {},
   "outputs": [],
   "source": [
    "CMUL_offall = []\n",
    "for i in range(len(cmul7all)):\n",
    "    CMUL_offall.append(float(cmul7all[i]))"
   ]
  },
  {
   "cell_type": "code",
   "execution_count": 156,
   "id": "45390a34-e540-4864-b922-70975ddbfc7b",
   "metadata": {},
   "outputs": [],
   "source": [
    "N_MB_offlineall = []\n",
    "for i in range(len(cmul7all)):\n",
    "    N_MB_offlineall.append(float( F_norm_offlineall[i])*float(CMUL_offall[i]))"
   ]
  },
  {
   "cell_type": "code",
   "execution_count": 162,
   "id": "b26332a4-d0e9-4cf3-bd87-52217cb62486",
   "metadata": {},
   "outputs": [
    {
     "name": "stdout",
     "output_type": "stream",
     "text": [
      "N_MB_offline_all =  875983449.6055784\n"
     ]
    }
   ],
   "source": [
    "print(\"N_MB_offline_all = \",np.sum(N_MB_offlineall)/len(N_MB_offlineall))"
   ]
  },
  {
   "cell_type": "code",
   "execution_count": 158,
   "id": "da106cf5-5a9a-466f-8079-ed55780b537d",
   "metadata": {},
   "outputs": [],
   "source": [
    "#print(N_MB_offlineall)"
   ]
  },
  {
   "cell_type": "code",
   "execution_count": 159,
   "id": "bdcbdeae-6e23-4d32-94c2-438bcad39b34",
   "metadata": {},
   "outputs": [
    {
     "name": "stdout",
     "output_type": "stream",
     "text": [
      "1.4922643380134006\n"
     ]
    }
   ],
   "source": [
    "print((np.sum(N_MB_online)/len(N_MB_online))/(np.sum(N_MB_offlineall)/len(N_MB_offlineall)))"
   ]
  },
  {
   "cell_type": "code",
   "execution_count": null,
   "id": "e5befdb2-6eb9-44ae-812b-f72974fc83df",
   "metadata": {},
   "outputs": [],
   "source": []
  },
  {
   "cell_type": "code",
   "execution_count": null,
   "id": "83b65d05-44f4-4a43-a1eb-3019cf2a632e",
   "metadata": {},
   "outputs": [],
   "source": []
  }
 ],
 "metadata": {
  "kernelspec": {
   "display_name": "Python 3.9 - M2 RPS EXP",
   "language": "python",
   "name": "nantes-m2-rps-exp"
  },
  "language_info": {
   "codemirror_mode": {
    "name": "ipython",
    "version": 3
   },
   "file_extension": ".py",
   "mimetype": "text/x-python",
   "name": "python",
   "nbconvert_exporter": "python",
   "pygments_lexer": "ipython3",
   "version": "3.9.18"
  }
 },
 "nbformat": 4,
 "nbformat_minor": 5
}
