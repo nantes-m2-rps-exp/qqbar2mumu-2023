{
 "cells": [
  {
   "cell_type": "code",
   "execution_count": 1,
   "id": "77632d4f-66e0-4946-bb68-314f7ad7d9ea",
   "metadata": {},
   "outputs": [
    {
     "name": "stdout",
     "output_type": "stream",
     "text": [
      "uproot version 5.0.12\n",
      "awkward version 2.4.3\n",
      "numpy version 1.25.2\n",
      "matplotlib version 3.8.0\n",
      "hist version 2.7.2\n",
      "vector version 1.1.1\n",
      "pandas version 1.5.3\n"
     ]
    }
   ],
   "source": [
    "import uproot\n",
    "import awkward as ak\n",
    "import numpy as np\n",
    "import matplotlib\n",
    "import matplotlib.pyplot as plt\n",
    "import math\n",
    "import hist\n",
    "import vector\n",
    "import os\n",
    "import subprocess\n",
    "import gc\n",
    "import pandas as pd\n",
    "from scipy.optimize import curve_fit\n",
    "from scipy.integrate import quad\n",
    "print(\"uproot version\", uproot.__version__)\n",
    "print(\"awkward version\", ak.__version__)\n",
    "print(\"numpy version\", np.__version__)\n",
    "print(\"matplotlib version\", matplotlib.__version__)\n",
    "print(\"hist version\", hist.__version__)\n",
    "print(\"vector version\", vector.__version__)\n",
    "#print(\"os version\", os.__version__)\n",
    "#print(\"subprocess version\", subprocess.__version__)\n",
    "#print(\"gc version\", gc.__version__)\n",
    "print(\"pandas version\", pd.__version__)\n",
    "#print(\"scipy.optimize version\", scipy.optimize.__version__)\n",
    "#print(\"scipy.integrate version\", scipy.integrate.__version__)"
   ]
  },
  {
   "cell_type": "code",
   "execution_count": 2,
   "id": "165848a0-8570-4c38-81fb-85331cbc3946",
   "metadata": {},
   "outputs": [
    {
     "data": {
      "text/html": [
       "<html>\n",
       "<div style=\"display:flex; align-items:center;\">\n",
       "<div style=\"width:290px;\">\n",
       "<svg xmlns=\"http://www.w3.org/2000/svg\" viewBox=\"-10 -105 270 120\">\n",
       "<line x1=\"-5\" y1=\"0\" x2=\"255\" y2=\"0\" style=\"fill:none;stroke-width:2;stroke:currentColor\"/>\n",
       "<text text-anchor=\"middle\" x=\"0\" y=\"15\" style=\"fill:currentColor;\">\n",
       "1.5\n",
       "</text>\n",
       "<text text-anchor=\"middle\" x=\"250\" y=\"15\" style=\"fill:currentColor;\">\n",
       "5\n",
       "</text>\n",
       "<text text-anchor=\"middle\" x=\"125.0\" y=\"15\" style=\"fill:currentColor;\">\n",
       "X\n",
       "</text>\n",
       "<polyline points=\"  0,0   0,-100 2.5,-100 2.5,-95.4   5,-95.4   5,-89.6 7.5,-89.6 7.5,-85.9  10,-85.9  10,-81.6 12.5,-81.6 12.5,-76.7  15,-76.7  15,-73.4 17.5,-73.4 17.5,-69.8  20,-69.8  20,-66 22.5,-66 22.5,-63.1  25,-63.1  25,-60.1 27.5,-60.1 27.5,-57  30,-57  30,-53.6 32.5,-53.6 32.5,-51.5  35,-51.5  35,-48.6 37.5,-48.6 37.5,-46.1  40,-46.1  40,-43.5 42.5,-43.5 42.5,-41.4  45,-41.4  45,-39.8 47.5,-39.8 47.5,-37.9  50,-37.9  50,-35.9 52.5,-35.9 52.5,-34.3  55,-34.3  55,-32.4 57.5,-32.4 57.5,-30.7  60,-30.7  60,-29.5 62.5,-29.5 62.5,-28.2  65,-28.2  65,-27 67.5,-27 67.5,-25.7  70,-25.7  70,-24.8 72.5,-24.8 72.5,-23.8  75,-23.8  75,-22.5 77.5,-22.5 77.5,-21.8  80,-21.8  80,-21.1 82.5,-21.1 82.5,-20.3  85,-20.3  85,-19.6 87.5,-19.6 87.5,-19.3  90,-19.3  90,-19 92.5,-19 92.5,-19  95,-19  95,-19.4 97.5,-19.4 97.5,-20.1 100,-20.1 100,-22.5 102.5,-22.5 102.5,-25.6 105,-25.6 105,-31.6 107.5,-31.6 107.5,-40.9 110,-40.9 110,-51.1 112.5,-51.1 112.5,-57.3 115,-57.3 115,-53.3 117.5,-53.3 117.5,-40.6 120,-40.6 120,-26.3 122.5,-26.3 122.5,-16.9 125,-16.9 125,-12.1 127.5,-12.1 127.5,-9.93 130,-9.93 130,-8.86 132.5,-8.86 132.5,-8.07 135,-8.07 135,-7.54 137.5,-7.54 137.5,-7.15 140,-7.15 140,-6.96 142.5,-6.96 142.5,-6.73 145,-6.73 145,-6.56 147.5,-6.56 147.5,-6.49 150,-6.49 150,-6.35 152.5,-6.35 152.5,-6.41 155,-6.41 155,-6.16 157.5,-6.16 157.5,-6.01 160,-6.01 160,-5.66 162.5,-5.66 162.5,-5.09 165,-5.09 165,-4.76 167.5,-4.76 167.5,-4.39 170,-4.39 170,-4.28 172.5,-4.28 172.5,-4.22 175,-4.22 175,-4.01 177.5,-4.01 177.5,-3.88 180,-3.88 180,-3.71 182.5,-3.71 182.5,-3.7 185,-3.7 185,-3.49 187.5,-3.49 187.5,-3.4 190,-3.4 190,-3.42 192.5,-3.42 192.5,-3.13 195,-3.13 195,-3.17 197.5,-3.17 197.5,-3.03 200,-3.03 200,-2.9 202.5,-2.9 202.5,-2.88 205,-2.88 205,-2.82 207.5,-2.82 207.5,-2.64 210,-2.64 210,-2.66 212.5,-2.66 212.5,-2.53 215,-2.53 215,-2.42 217.5,-2.42 217.5,-2.41 220,-2.41 220,-2.24 222.5,-2.24 222.5,-2.23 225,-2.23 225,-2.13 227.5,-2.13 227.5,-2.23 230,-2.23 230,-2.06 232.5,-2.06 232.5,-2.06 235,-2.06 235,-1.99 237.5,-1.99 237.5,-1.93 240,-1.93 240,-1.92 242.5,-1.92 242.5,-1.8 245,-1.8 245,-1.86 247.5,-1.86 247.5,-1.71 250,-1.71 250,0\" style=\"fill:none; stroke:currentColor;\"/>\n",
       "</svg>\n",
       "</div>\n",
       "<div style=\"flex=grow:1;\">\n",
       "Regular(100, 1.5, 5, name='$m_{\\\\mu \\\\mu}$', label='X')<br/>\n",
       "<hr style=\"margin-top:.2em; margin-bottom:.2em;\"/>\n",
       "Double() Σ=2202069.0\n",
       "\n",
       "</div>\n",
       "</div>\n",
       "</html>"
      ],
      "text/plain": [
       "Hist(Regular(100, 1.5, 5, name='$m_{\\\\mu \\\\mu}$', label='X'), storage=Double()) # Sum: 2202069.0"
      ]
     },
     "execution_count": 2,
     "metadata": {},
     "output_type": "execute_result"
    }
   ],
   "source": [
    "X = [1.5174999999999998, 1.5525, 1.5875, 1.6225, 1.6574999999999998, 1.6925, 1.7275, 1.7625000000000002, \n",
    "     1.7975, 1.8325, 1.8675000000000002, 1.9025000000000003, 1.9375, 1.9725, 2.0075, 2.0425, 2.0775, 2.1125, \n",
    "     2.1475, 2.1825, 2.2175000000000002, 2.2525, 2.2875, 2.3225, 2.3575, 2.3925, 2.4275, 2.4625, 2.4975, \n",
    "     2.5324999999999998, 2.5675, 2.6025, 2.6375, 2.6725000000000003, 2.7075, 2.7424999999999997, 2.7775, \n",
    "     2.8125, 2.8475, 2.8825000000000003, 2.9175000000000004, 2.9524999999999997, 2.9875, 3.0225, 3.0575, \n",
    "     3.0925, 3.1275, 3.1625, 3.1975, 3.2325, 3.2675, 3.3025, 3.3375, 3.3725000000000005, 3.4074999999999998, \n",
    "     3.4425000000000003, 3.4775, 3.5125, 3.5475, 3.5824999999999996, 3.6174999999999997, 3.6525000000000003, \n",
    "     3.6875, 3.7224999999999997, 3.7575000000000003, 3.7925000000000004, 3.8275, 3.8625, 3.8975, \n",
    "     3.9324999999999997, 3.9675, 4.0024999999999995, 4.0375, 4.0725, 4.1075, 4.1425, 4.1775, 4.2125, \n",
    "     4.2475000000000005, 4.2825, 4.3175, 4.352499999999999, 4.3875, 4.422499999999999, 4.4575, \n",
    "     4.492500000000001, 4.5275, 4.5625, 4.5975, 4.632499999999999, 4.6675, 4.702500000000001, 4.7375, \n",
    "     4.772500000000001, 4.8075, 4.842499999999999, 4.8775, 4.9125, 4.9475, 4.9825]\n",
    "\n",
    "# CMUL\n",
    "Y = [93470.0, 89154.0, 83733.0, 80295.0, 76234.0, 71664.0, 68589.0, 65228.0, 61727.0, 58942.0, 56171.0, \n",
    "                 53304.0, 50137.0, 48177.0, 45405.0, 43092.0, 40689.0, 38742.0, 37198.0, 35434.0, 33522.0, 32075.0, \n",
    "                 30305.0, 28693.0, 27618.0, 26370.0, 25262.0, 23987.0, 23203.0, 22220.0, 21071.0, 20411.0, 19732.0, \n",
    "                 18966.0, 18296.0, 18066.0, 17785.0, 17759.0, 18112.0, 18770.0, 21067.0, 23969.0, 29539.0, 38275.0, \n",
    "                 47773.0, 53561.0, 49775.0, 37949.0, 24622.0, 15769.0, 11335.0, 9280.0, 8281.0, 7547.0, 7049.0, 6682.0, \n",
    "                 6503.0, 6294.0, 6136.0, 6066.0, 5940.0, 5994.0, 5759.0, 5613.0, 5292.0, 4762.0, 4448.0, 4106.0, 3999.0, \n",
    "                 3947.0, 3744.0, 3624.0, 3469.0, 3461.0, 3262.0, 3175.0, 3200.0, 2922.0, 2959.0, 2832.0, 2714.0, 2696.0, \n",
    "                 2637.0, 2472.0, 2490.0, 2369.0, 2264.0, 2254.0, 2096.0, 2080.0, 1995.0, 2086.0, 1921.0, 1930.0, 1859.0, \n",
    "                 1800.0, 1798.0, 1684.0, 1738.0, 1598.0]\n",
    "\n",
    "vMass_OS = hist.Hist(hist.axis.Regular(bins = 100, start = 1.5, stop = 5, name='$m_{\\mu \\mu}$', label = 'X'))\n",
    "vMass_OS.fill(X, weight = Y)"
   ]
  },
  {
   "cell_type": "code",
   "execution_count": 3,
   "id": "7de12974-2f8d-4e7a-a22e-431de4547d53",
   "metadata": {},
   "outputs": [],
   "source": [
    "def funcVec(x, N, mu, sig, alphaL, nL, alphaR, nR):\n",
    "    AL = ( nL / np.absolute( alphaL ) )**nL * np.exp( -1 * np.absolute( alphaL )**2 / 2 )\n",
    "    AR = ( nR / np.absolute( alphaR ) )**nR * np.exp( -1 * np.absolute( alphaR )**2 / 2 )\n",
    "    BL = nL / np.absolute( alphaL ) - np.absolute( alphaL )\n",
    "    BR = nR / np.absolute( alphaR ) - np.absolute( alphaR )\n",
    "\n",
    "    return np.piecewise(x, \n",
    "                        [( x - mu )/sig < -1 * alphaL, (( x - mu )/sig >= -1 * alphaL) & (( x - mu )/sig <= alphaR).any() , ( x - mu )/sig > alphaR],\n",
    "                        [lambda x: N * AL * (BL - (( x - mu )/sig))**(-nL), lambda x: N * np.exp(-1 * (( x - mu )/sig)**2 / 2), lambda x: N * AR * (BR + ( x - mu )/sig)**(-nR)])\n",
    "\n",
    "def VWG(x, N, mu, alpha, beta):\n",
    "    sigma = alpha + beta*((x-mu)/mu)\n",
    "    return N * np.exp(-(x - mu)**2 / (2*sigma**2))\n",
    "\n",
    "def PR(x, N, a1, b1, b2):\n",
    "    return N * (1 + a1*x) / (b1*x + b2*x)\n",
    "\n",
    "def DE(x, N, alpha, beta1, beta2):\n",
    "    return N * (np.exp(beta1*x) + alpha * np.exp(beta2*x))\n",
    "\n",
    "def fitFunc(x,\n",
    "            N1, mu1, sig1, alphaL1, nL1, alphaR1, nR1,\n",
    "            N2, mu2, sig2, alphaL2, nL2, alphaR2, nR2,\n",
    "            Nbg, a1, a2, a3):\n",
    "    return funcVec(x, N1, mu1, sig1, alphaL1, nL1, alphaR1, nR1) + funcVec(x, N2, mu2, sig2, alphaL2, nL2, alphaR2, nR2) + DE(x, Nbg, a1, a2, a3)"
   ]
  },
  {
   "cell_type": "code",
   "execution_count": 4,
   "id": "fe907a3c-115c-4123-b2b8-5c69353f999b",
   "metadata": {},
   "outputs": [],
   "source": [
    "x_data = np.array(X)\n",
    "y_data = np.array(vMass_OS)\n",
    "y_error = np.array(np.sqrt(vMass_OS))\n",
    "\n",
    "condition = (x_data > 2.0)\n",
    "#condition = True\n",
    "x_filtered = np.ravel(x_data[condition])\n",
    "y_filtered = np.ravel(y_data[condition])\n",
    "y_error_filtered = np.ravel(y_error[condition])\n",
    "\n",
    "x_data = x_filtered\n",
    "y_data = y_filtered\n",
    "y_error = y_error_filtered"
   ]
  },
  {
   "cell_type": "code",
   "execution_count": 5,
   "id": "80e3cdb6-e292-4b9e-8f2a-849d26cec702",
   "metadata": {},
   "outputs": [],
   "source": [
    "p0 = np.array([4.55480661e+04, 3.09865210e+00, 6.61685782e-02, 8.82346075e-01, 3.02220911e+00,\n",
    "               2.02907631e+00, 2.80816984e+00, 1.00000000e+03, 3.69645336e+00, 5.19889713e-02,\n",
    "               1.05368114e+00, 3.30817422e+00, 2.65615253e+00, 2.93595354e+00, 2.27919897e+04,\n",
    "               4.53001147e+01, -5.76132695e-01, -1.64742979e+00])"
   ]
  },
  {
   "cell_type": "code",
   "execution_count": 6,
   "id": "3937be46-4973-42fa-be25-6086f86d1bf4",
   "metadata": {},
   "outputs": [
    {
     "name": "stdout",
     "output_type": "stream",
     "text": [
      "popt: \n",
      " [ 4.36267325e+04  3.09474728e+00  7.26952544e-02  9.48388934e-01\n",
      "  4.06753423e+00  1.78905162e+00  2.87029956e+01  7.76048371e+02\n",
      "  3.68917442e+00  6.56891523e-02  8.89189095e-01  1.39215937e+02\n",
      "  5.73967511e+00  2.20647929e+00  2.24811310e+04  4.82106861e+01\n",
      " -5.68751926e-01 -1.66493912e+00]\n",
      "pcov: \n",
      " [[ 6.32466338e+04  1.45482966e-02 -7.04854020e-02  3.24361218e-01\n",
      "  -4.93090431e+01 -9.22243517e+00  1.83450381e+03  2.61406497e+03\n",
      "  -1.03126162e-01  3.24575949e-01  9.19413403e+00 -7.52297353e+05\n",
      "  -3.24416962e+07 -1.21492225e+07  1.88380863e+05 -1.63652241e+02\n",
      "  -1.22323241e+00 -2.95097663e+00]\n",
      " [ 1.45482966e-02  2.49196464e-07 -1.49574204e-07 -8.30912979e-06\n",
      "   1.44046972e-04  5.63972874e-07 -1.28244365e-03 -1.93752964e-03\n",
      "   2.03051053e-07 -2.82636437e-07 -2.67253766e-05  1.24031182e+00\n",
      "   3.91880305e+00 -9.15932293e+00 -6.05934282e-01  9.18052660e-04\n",
      "   4.64060973e-06  5.54591608e-06]\n",
      " [-7.04854020e-02 -1.49574204e-07  3.66769203e-07  1.06587998e-05\n",
      "  -1.86517785e-04  4.49053289e-05 -2.12033038e-02  4.59354727e-03\n",
      "   2.44900424e-07  2.58178001e-07 -6.89004880e-05  2.12157198e+00\n",
      "  -5.39646539e+01 -1.44529500e+01  6.31953911e-01 -7.69173934e-04\n",
      "  -4.49211705e-06 -7.70757494e-06]\n",
      " [ 3.24361218e-01 -8.30912979e-06  1.06587998e-05  8.57778326e-04\n",
      "  -1.91337261e-02  8.66026515e-04 -4.96230798e-01  2.43633261e-01\n",
      "  -3.87299944e-06  1.95440203e-05 -8.25301584e-04 -6.15147289e+00\n",
      "  -6.46950421e+02  1.12397884e+03  7.96026561e+01 -1.20709406e-01\n",
      "  -6.09304345e-04 -7.29543211e-04]\n",
      " [-4.93090431e+01  1.44046972e-04 -1.86517785e-04 -1.91337261e-02\n",
      "   6.13650636e-01 -6.06410862e-03  9.77701211e+00 -1.29638639e+01\n",
      "   4.86249198e-04 -1.36226435e-03 -2.00782105e-02  2.65412208e+03\n",
      "   7.47902172e+04 -2.08522272e+04 -3.13617905e+03  4.53058194e+00\n",
      "   2.36364080e-02  3.08876260e-02]\n",
      " [-9.22243517e+00  5.63972874e-07  4.49053289e-05  8.66026515e-04\n",
      "  -6.06410862e-03  2.38937640e-02 -1.27273356e+01 -4.60704338e-01\n",
      "   1.90460566e-04 -1.66738595e-04 -3.60436081e-02  1.69366057e+03\n",
      "   3.39935754e+03  2.25410528e+03  3.16902173e+01 -6.10392666e-02\n",
      "  -2.65921093e-04 -1.57977474e-04]\n",
      " [ 1.83450381e+03 -1.28244365e-03 -2.12033038e-02 -4.96230798e-01\n",
      "   9.77701211e+00 -1.27273356e+01  9.22024123e+03 -1.48495212e+02\n",
      "  -2.05437409e-01  1.24604539e-01  4.14718092e+01 -1.65768730e+06\n",
      "   5.32916197e+06  2.08002322e+06 -2.45431220e+04  1.71482957e+01\n",
      "   1.50522554e-01  4.29469741e-01]\n",
      " [ 2.61406497e+03 -1.93752964e-03  4.59354727e-03  2.43633261e-01\n",
      "  -1.29638639e+01 -4.60704338e-01 -1.48495212e+02  8.14889981e+03\n",
      "   1.16696240e-01 -3.41813425e-01 -1.56126399e+00 -3.17600039e+05\n",
      "  -2.63207778e+07 -1.53524548e+07 -1.03019596e+05  2.46148326e+02\n",
      "   9.55362470e-01  3.65696870e-03]\n",
      " [-1.03126162e-01  2.03051053e-07  2.44900424e-07 -3.87299944e-06\n",
      "   4.86249198e-04  1.90460566e-04 -2.05437409e-01  1.16696240e-01\n",
      "   1.37521833e-04 -8.95641213e-05 -7.73301611e-03  1.49431777e+02\n",
      "   6.72116216e+02  3.46622987e+02  1.07483026e+00 -4.08201085e-03\n",
      "  -1.28103098e-05  1.54847647e-05]\n",
      " [ 3.24575949e-01 -2.82636437e-07  2.58178001e-07  1.95440203e-05\n",
      "  -1.36226435e-03 -1.66738595e-04  1.24604539e-01 -3.41813425e-01\n",
      "  -8.95641213e-05  1.69352064e-04  7.78660144e-03 -1.50643049e+02\n",
      "  -4.05953476e+03 -2.54267534e+03 -2.02221003e+01  4.37241517e-02\n",
      "   1.78493214e-04  4.80103427e-05]\n",
      " [ 9.19413403e+00 -2.67253766e-05 -6.89004880e-05 -8.25301584e-04\n",
      "  -2.00782105e-02 -3.60436081e-02  4.14718092e+01 -1.56126399e+00\n",
      "  -7.73301611e-03  7.78660144e-03  1.05889196e+00 -2.57567045e+04\n",
      "  -8.68162269e+04 -5.52988879e+04 -4.48220895e+02  9.54029019e-01\n",
      "   3.92178265e-03  1.22683053e-03]\n",
      " [-7.52297353e+05  1.24031182e+00  2.12157198e+00 -6.15147289e+00\n",
      "   2.65412208e+03  1.69366057e+03 -1.65768730e+06 -3.17600039e+05\n",
      "   1.49431777e+02 -1.50643049e+02 -2.57567045e+04  8.23875439e+08\n",
      "   4.84528481e+09  2.71283347e+09  1.39573207e+07 -3.79668325e+04\n",
      "  -1.37788855e+02  4.66380234e+01]\n",
      " [-3.24416962e+07  3.91880305e+00 -5.39646539e+01 -6.46950421e+02\n",
      "   7.47902172e+04  3.39935754e+03  5.32916197e+06 -2.63207778e+07\n",
      "   6.72116216e+02 -4.05953476e+03 -8.68162269e+04  4.84528481e+09\n",
      "   4.37494747e+12 -3.40660583e+12  4.32513823e+09 -8.44297879e+06\n",
      "  -3.61158717e+04 -1.96660502e+04]\n",
      " [-1.21492225e+07 -9.15932293e+00 -1.44529500e+01  1.12397884e+03\n",
      "  -2.08522272e+04  2.25410528e+03  2.08002322e+06 -1.53524548e+07\n",
      "   3.46622987e+02 -2.54267534e+03 -5.52988879e+04  2.71283347e+09\n",
      "  -3.40660583e+12  2.35912447e+13  3.08116923e+09 -5.68990765e+06\n",
      "  -2.47854437e+04 -1.74083127e+04]\n",
      " [ 1.88380863e+05 -6.05934282e-01  6.31953911e-01  7.96026561e+01\n",
      "  -3.13617905e+03  3.16902173e+01 -2.45431220e+04 -1.03019596e+05\n",
      "   1.07483026e+00 -2.02221003e+01 -4.48220895e+02  1.39573207e+07\n",
      "   4.32513823e+09  3.08116923e+09  8.07646640e+07 -1.40949217e+05\n",
      "  -6.60838744e+02 -5.34668305e+02]\n",
      " [-1.63652241e+02  9.18052660e-04 -7.69173934e-04 -1.20709406e-01\n",
      "   4.53058194e+00 -6.10392666e-02  1.71482957e+01  2.46148326e+02\n",
      "  -4.08201085e-03  4.37241517e-02  9.54029019e-01 -3.79668325e+04\n",
      "  -8.44297879e+06 -5.68990765e+06 -1.40949217e+05  2.50438063e+02\n",
      "   1.16221844e+00  8.88015930e-01]\n",
      " [-1.22323241e+00  4.64060973e-06 -4.49211705e-06 -6.09304345e-04\n",
      "   2.36364080e-02 -2.65921093e-04  1.50522554e-01  9.55362470e-01\n",
      "  -1.28103098e-05  1.78493214e-04  3.92178265e-03 -1.37788855e+02\n",
      "  -3.61158717e+04 -2.47854437e+04 -6.60838744e+02  1.16221844e+00\n",
      "   5.42956775e-03  4.28246049e-03]\n",
      " [-2.95097663e+00  5.54591608e-06 -7.70757494e-06 -7.29543211e-04\n",
      "   3.08876260e-02 -1.57977474e-04  4.29469741e-01  3.65696870e-03\n",
      "   1.54847647e-05  4.80103427e-05  1.22683053e-03  4.66380234e+01\n",
      "  -1.96660502e+04 -1.74083127e+04 -5.34668305e+02  8.88015930e-01\n",
      "   4.28246049e-03  3.99883400e-03]]\n",
      "residual: \n",
      " {'nfev': 56, 'fvec': array([ 0.77564358,  0.85034428,  2.00587004,  1.50784148, -0.51997876,\n",
      "       -0.90047596,  0.06375758, -0.97591184,  0.31333925,  1.26652143,\n",
      "       -0.46596052, -0.70473493, -1.3332952 , -0.41673803, -2.17358387,\n",
      "       -2.15445485, -0.45311068, -1.511383  , -1.82733702, -0.79143092,\n",
      "        0.45297538, -0.47374782,  0.35562513,  1.13401066,  1.65252279,\n",
      "        3.61962002, -0.64327408, -0.28094592, -3.28965329, -2.64260207,\n",
      "        5.06876138,  0.90931002, -2.804507  , -1.89437172,  2.40385896,\n",
      "        0.66904951,  0.13124726, -0.18816962, -1.02642371,  0.08211993,\n",
      "        0.88236218,  1.36575569,  0.25888727,  0.05980095, -0.23570609,\n",
      "       -0.97567013, -0.03646741, -0.46237354,  1.51147147, -0.2632012 ,\n",
      "       -1.47799713,  0.37394319,  0.55087211,  2.54451283,  1.63084586,\n",
      "        0.14839051,  1.24696151,  1.10992363,  1.66438215, -0.21114799,\n",
      "        1.28143799,  0.91582261, -1.36850197,  1.86671325, -0.58183863,\n",
      "        0.06978201,  0.64888922, -0.62706809, -1.06229049,  0.65704495,\n",
      "       -1.20359383, -0.22348842,  0.52696235, -0.66004173,  1.37101479,\n",
      "        0.37864109,  0.96393007, -2.29854513,  0.11551188, -1.29541042,\n",
      "       -0.8578774 , -0.64249307, -1.71690575, -0.11438996, -2.47087496,\n",
      "       -0.14548306])}\n"
     ]
    },
    {
     "name": "stderr",
     "output_type": "stream",
     "text": [
      "/tmp/ipykernel_6075/3209874668.py:3: RuntimeWarning: overflow encountered in scalar power\n",
      "  AR = ( nR / np.absolute( alphaR ) )**nR * np.exp( -1 * np.absolute( alphaR )**2 / 2 )\n",
      "/tmp/ipykernel_6075/3209874668.py:9: RuntimeWarning: invalid value encountered in multiply\n",
      "  [lambda x: N * AL * (BL - (( x - mu )/sig))**(-nL), lambda x: N * np.exp(-1 * (( x - mu )/sig)**2 / 2), lambda x: N * AR * (BR + ( x - mu )/sig)**(-nR)])\n",
      "/tmp/ipykernel_6075/3209874668.py:3: RuntimeWarning: invalid value encountered in scalar power\n",
      "  AR = ( nR / np.absolute( alphaR ) )**nR * np.exp( -1 * np.absolute( alphaR )**2 / 2 )\n",
      "/tmp/ipykernel_6075/3209874668.py:2: RuntimeWarning: overflow encountered in scalar power\n",
      "  AL = ( nL / np.absolute( alphaL ) )**nL * np.exp( -1 * np.absolute( alphaL )**2 / 2 )\n",
      "/tmp/ipykernel_6075/3209874668.py:9: RuntimeWarning: overflow encountered in scalar multiply\n",
      "  [lambda x: N * AL * (BL - (( x - mu )/sig))**(-nL), lambda x: N * np.exp(-1 * (( x - mu )/sig)**2 / 2), lambda x: N * AR * (BR + ( x - mu )/sig)**(-nR)])\n"
     ]
    }
   ],
   "source": [
    "popt, pcov, nfev, fvec, fjac = curve_fit(fitFunc, xdata = x_data, ydata = y_data, sigma = y_error, p0 = p0,  method = 'trf', full_output = True)\n",
    "\n",
    "print(\"popt: \\n\", popt) \n",
    "print(\"pcov: \\n\", pcov)\n",
    "print(\"residual: \\n\", nfev)"
   ]
  },
  {
   "cell_type": "code",
   "execution_count": 7,
   "id": "68eca965-475d-4108-8296-09f9a95c99b0",
   "metadata": {},
   "outputs": [
    {
     "data": {
      "image/png": "[encoded data removed]",
      "text/plain": [
       "<Figure size 640x480 with 1 Axes>"
      ]
     },
     "metadata": {},
     "output_type": "display_data"
    }
   ],
   "source": [
    "x_data_fit = np.linspace(min(x_data), max(x_data), len(x_data))\n",
    "plt.errorbar(x_data, y_data, y_error, marker='+', mfc='black', mec='black', ms=2, mew=5, ls='')\n",
    "plt.plot(x_data_fit, fitFunc(x_data_fit, *popt), '-r')\n",
    "plt.plot(x_data_fit, funcVec(x_data_fit, *popt[:7]), '--b')\n",
    "plt.plot(x_data_fit, funcVec(x_data_fit, *popt[7:14]), '--b')\n",
    "plt.plot(x_data_fit, DE(x_data_fit, *popt[14:18]), '--b')\n",
    "plt.yscale('log')\n",
    "plt.ylim(500, 100000)\n",
    "plt.grid(True)"
   ]
  },
  {
   "cell_type": "code",
   "execution_count": 8,
   "id": "095ac343-5a8a-4bb8-9701-e2b9605d37d6",
   "metadata": {},
   "outputs": [
    {
     "name": "stdout",
     "output_type": "stream",
     "text": [
      "(16163.135434967371, 1.8322789824322893e-05)\n"
     ]
    }
   ],
   "source": [
    "print(quad(fitFunc, 2.7, 3.3, args = (*popt, )))"
   ]
  },
  {
   "cell_type": "code",
   "execution_count": 15,
   "id": "2895dfdc-1164-486e-8a16-166f08f36a25",
   "metadata": {},
   "outputs": [
    {
     "name": "stdout",
     "output_type": "stream",
     "text": [
      "(9490.873094871622, 5.850484675019624e-05)\n"
     ]
    }
   ],
   "source": [
    "print(quad(funcVec, 0, np.inf, args = (*popt[:7], )))"
   ]
  },
  {
   "cell_type": "code",
   "execution_count": 16,
   "id": "f8f76249-3b2b-4cdf-b8c8-29370c71c86d",
   "metadata": {},
   "outputs": [
    {
     "name": "stdout",
     "output_type": "stream",
     "text": [
      "Signal : 9490.873094871622\n",
      "Bruit : 690643.1136959264\n"
     ]
    }
   ],
   "source": [
    "signal = quad(funcVec, 0, np.inf, args = (*popt[:7], ))[0]\n",
    "bruit = quad(funcVec, 0, np.inf, args = (*popt[7:14], ))[0] + quad(DE, 0, np.inf, args = (*popt[14:18], ))[0]\n",
    "print(\"Signal :\", signal)\n",
    "print(\"Bruit :\", bruit)"
   ]
  },
  {
   "cell_type": "code",
   "execution_count": 17,
   "id": "6194187b-387f-4b4b-9ab7-6c60cd99c23f",
   "metadata": {},
   "outputs": [
    {
     "name": "stdout",
     "output_type": "stream",
     "text": [
      "RSB : 11.34267755323352\n"
     ]
    }
   ],
   "source": [
    "print(\"RSB :\", signal / np.sqrt(signal + bruit))"
   ]
  },
  {
   "cell_type": "code",
   "execution_count": null,
   "id": "5056f01a-56a4-4a0b-85c0-a6f01436448e",
   "metadata": {},
   "outputs": [],
   "source": []
  }
 ],
 "metadata": {
  "kernelspec": {
   "display_name": "Python 3.9 - M2 RPS EXP",
   "language": "python",
   "name": "nantes-m2-rps-exp"
  },
  "language_info": {
   "codemirror_mode": {
    "name": "ipython",
    "version": 3
   },
   "file_extension": ".py",
   "mimetype": "text/x-python",
   "name": "python",
   "nbconvert_exporter": "python",
   "pygments_lexer": "ipython3",
   "version": "3.9.18"
  }
 },
 "nbformat": 4,
 "nbformat_minor": 5
}
