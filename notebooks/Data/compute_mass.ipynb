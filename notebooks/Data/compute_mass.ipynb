{
 "cells": [
  {
   "cell_type": "code",
   "execution_count": 1,
   "id": "943c4485-fcb0-4000-a413-49d81eb3b9dc",
   "metadata": {},
   "outputs": [],
   "source": [
    "import uproot\n",
    "import awkward as ak\n",
    "import numpy as np\n",
    "import math\n",
    "import hist\n",
    "import matplotlib.pyplot as plt\n",
    "import os\n",
    "import subprocess\n",
    "import vector\n",
    "import gc"
   ]
  },
  {
   "cell_type": "code",
   "execution_count": 2,
   "id": "cbd5f867-ee55-417f-b59f-874318cd52bb",
   "metadata": {},
   "outputs": [],
   "source": [
    "vector.register_awkward() "
   ]
  },
  {
   "cell_type": "code",
   "execution_count": 3,
   "id": "10f3e0ea-d515-42ef-a2af-25819fd9864f",
   "metadata": {},
   "outputs": [],
   "source": [
    "DATATYPE=\"mc\"\n",
    "assert((DATATYPE==\"mc\") or (DATATYPE==\"data\"))\n",
    "BASEDIR=\"/pbs/throng/training/nantes-m2-rps-exp/data\" # basedir where to look for runXXX.DATATYPE.root files\n",
    "IS_MC=True if DATATYPE==\"mc\" else False\n",
    "\n",
    "def data_file_path(run,is_mc=IS_MC,dest=BASEDIR):\n",
    "    datatype=\"mc\" if is_mc else \"data\"\n",
    "    print({dest},\"/run\",{run},\".\",{datatype},\".root\")\n",
    "    return f\"{dest}/run{run}.{datatype}.root\""
   ]
  },
  {
   "cell_type": "code",
   "execution_count": 4,
   "id": "cadaaaf3-b071-49f1-9cbb-50b9aa372282",
   "metadata": {},
   "outputs": [],
   "source": [
    "SAMPLE_RUNS=[291694,291399]"
   ]
  },
  {
   "cell_type": "code",
   "execution_count": 5,
   "id": "a8bf2254-ba68-4e89-84c0-1f5691035287",
   "metadata": {},
   "outputs": [
    {
     "name": "stdout",
     "output_type": "stream",
     "text": [
      "{'/pbs/throng/training/nantes-m2-rps-exp/data'} /run {291694} . {'mc'} .root\n",
      "name                 | typename                 | interpretation                \n",
      "---------------------+--------------------------+-------------------------------\n",
      "runNumber            | int32_t                  | AsDtype('>i4')\n",
      "xVtx                 | double                   | AsDtype('>f8')\n",
      "yVtx                 | double                   | AsDtype('>f8')\n",
      "zVtx                 | double                   | AsDtype('>f8')\n",
      "isCINT               | bool                     | AsDtype('bool')\n",
      "isCMSL               | bool                     | AsDtype('bool')\n",
      "isCMSH               | bool                     | AsDtype('bool')\n",
      "isCMLL               | bool                     | AsDtype('bool')\n",
      "isCMUL               | bool                     | AsDtype('bool')\n",
      "nMuons               | int32_t                  | AsDtype('>i4')\n",
      "Muon_E               | std::vector<float>       | AsJagged(AsDtype('>f4'), he...\n",
      "Muon_Px              | std::vector<float>       | AsJagged(AsDtype('>f4'), he...\n",
      "Muon_Py              | std::vector<float>       | AsJagged(AsDtype('>f4'), he...\n",
      "Muon_Pz              | std::vector<float>       | AsJagged(AsDtype('>f4'), he...\n",
      "Muon_Charge          | std::vector<int16_t>     | AsJagged(AsDtype('>i2'), he...\n",
      "Muon_thetaAbs        | std::vector<float>       | AsJagged(AsDtype('>f4'), he...\n",
      "Muon_xDCA            | std::vector<double>      | AsJagged(AsDtype('>f8'), he...\n",
      "Muon_yDCA            | std::vector<double>      | AsJagged(AsDtype('>f8'), he...\n",
      "Muon_zDCA            | std::vector<double>      | AsJagged(AsDtype('>f8'), he...\n",
      "Muon_matchedTrgTh... | std::vector<int32_t>     | AsJagged(AsDtype('>i4'), he...\n",
      "Muon_MCHClusterMap   | std::vector<uint32_t>    | AsJagged(AsDtype('>u4'), he...\n",
      "Muon_MTRHitMapTrg    | std::vector<uint32_t>    | AsJagged(AsDtype('>u4'), he...\n",
      "Muon_MTRHitMapTrk    | std::vector<uint32_t>    | AsJagged(AsDtype('>u4'), he...\n",
      "Muon_MCLabel         | std::vector<int32_t>     | AsJagged(AsDtype('>i4'), he...\n",
      "Muon_MCPDGCode       | std::vector<int32_t>     | AsJagged(AsDtype('>i4'), he...\n",
      "name                 | typename                 | interpretation                \n",
      "---------------------+--------------------------+-------------------------------\n",
      "xVtxMC               | double                   | AsDtype('>f8')\n",
      "yVtxMC               | double                   | AsDtype('>f8')\n",
      "zVtxMC               | double                   | AsDtype('>f8')\n",
      "nMuonsGen            | int32_t                  | AsDtype('>i4')\n",
      "Muon_GenE            | std::vector<float>       | AsJagged(AsDtype('>f4'), he...\n",
      "Muon_GenPx           | std::vector<float>       | AsJagged(AsDtype('>f4'), he...\n",
      "Muon_GenPy           | std::vector<float>       | AsJagged(AsDtype('>f4'), he...\n",
      "Muon_GenPz           | std::vector<float>       | AsJagged(AsDtype('>f4'), he...\n",
      "Muon_GenLabel        | std::vector<int32_t>     | AsJagged(AsDtype('>i4'), he...\n",
      "Muon_GenMotherPDG... | std::vector<int32_t>     | AsJagged(AsDtype('>i4'), he...\n"
     ]
    }
   ],
   "source": [
    "file = uproot.open(data_file_path(SAMPLE_RUNS[0],IS_MC))\n",
    "events = file[\"eventsTree\"]\n",
    "eventsGen = file[\"genTree\"]\n",
    "events.show()\n",
    "eventsGen.show()"
   ]
  },
  {
   "cell_type": "markdown",
   "id": "1e3fa135-5bb6-4979-9dca-6281e21ceb07",
   "metadata": {},
   "source": [
    "We will just print here the number of entries (events) in the file for the record"
   ]
  },
  {
   "cell_type": "code",
   "execution_count": 6,
   "id": "cad12c86-befd-446d-9739-463559276a31",
   "metadata": {},
   "outputs": [
    {
     "name": "stdout",
     "output_type": "stream",
     "text": [
      "40000\n",
      "40000\n"
     ]
    }
   ],
   "source": [
    "print(events.num_entries)\n",
    "print(eventsGen.num_entries)"
   ]
  },
  {
   "cell_type": "code",
   "execution_count": 7,
   "id": "48e2f3ae-8300-462d-b6e0-10f8dc308068",
   "metadata": {},
   "outputs": [],
   "source": [
    "def getTracks(events):\n",
    "    return ak.zip({\"px\":events[\"Muon_Px\"],\n",
    "                    \"py\":events[\"Muon_Py\"],\n",
    "                    \"pz\":events[\"Muon_Pz\"],\n",
    "                    \"E\":events[\"Muon_E\"],\n",
    "                    \"charge\":events[\"Muon_Charge\"],\n",
    "                    \"thetaAbs\":events[\"Muon_thetaAbs\"],\n",
    "                    \"matched\":events[\"Muon_matchedTrgThreshold\"],\n",
    "                    \"n\":events[\"nMuons\"]},\n",
    "                    with_name='Momentum4D')\n",
    "\n",
    "def getTracksGen(events):\n",
    "    return ak.zip({\"px\":events[\"Muon_GenPx\"],\n",
    "                    \"py\":events[\"Muon_GenPy\"],\n",
    "                    \"pz\":events[\"Muon_GenPz\"],\n",
    "                    \"E\":events[\"Muon_GenE\"],\n",
    "                    \"n\":events[\"nMuonsGen\"],\n",
    "                    \"label\":events[\"Muon_GenLabel\"],\n",
    "                    \"mother\":events[\"Muon_GenMotherPDGCode\"]},\n",
    "                    with_name='Momentum4D')"
   ]
  },
  {
   "cell_type": "markdown",
   "id": "eeafb138-8eed-43a9-ac65-5ec16ef9445e",
   "metadata": {},
   "source": [
    "Now we will design a function to run over the data with uproot. \n",
    "In the iterate, we define all the varaible we want to access for each events\n",
    "\n",
    "We first select good events and track using lambdas in python. What is a good event or a good track will be define later when we call the function \"scan\""
   ]
  },
  {
   "cell_type": "code",
   "execution_count": 8,
   "id": "d7d8b963-b6fb-4746-8a8c-7d7d61d9ed9f",
   "metadata": {},
   "outputs": [],
   "source": [
    "#print(dir(vector.backends.awkward.MomentumArray4D))"
   ]
  },
  {
   "cell_type": "code",
   "execution_count": 9,
   "id": "921099e8-c6a6-4e97-9432-c71257f15f51",
   "metadata": {},
   "outputs": [],
   "source": [
    "import pandas\n",
    "l1 = pandas.read_csv('../data/counters.offline.csv')['run']\n",
    "l2 = [int(e) for e in os.popen(\"ls /pbs/throng/training/nantes-m2-rps-exp/data/ | grep 'mc' | cut -c 4-9\").read().split('\\n')[0:-2]]\n",
    "#list(set(l1) & set(l2))"
   ]
  },
  {
   "cell_type": "code",
   "execution_count": 10,
   "id": "e0f51803-769d-489c-b82d-04c6ef8c6572",
   "metadata": {},
   "outputs": [],
   "source": [
    "#def invariant_mass(part1,part2):\n",
    "#    ''' Not used anymore '''\n",
    "#    px = part1.px+part2.px\n",
    "#    py = part1.py+part2.py\n",
    "#    pz = part1.pz+part2.pz \n",
    "#    E1 = part1.e\n",
    "#    E2 = part2.e\n",
    "#    return np.sqrt((E1+E2)**2-(px**2+py**2+pz**2))\n",
    "\n",
    "def Momentum4D(events):\n",
    "    return ak.zip({\n",
    "        \"px\": events[\"0\"].px + events[\"1\"].px,\n",
    "        \"py\": events[\"0\"].py + events[\"1\"].py,\n",
    "        \"pz\": events[\"0\"].pz + events[\"1\"].pz,\n",
    "        \"E\" : events[\"0\"].E  + events[\"1\"].E},\n",
    "        with_name=\"Momentum4D\")"
   ]
  },
  {
   "cell_type": "code",
   "execution_count": 11,
   "id": "43b800e2-915e-442a-aa66-935ee621c400",
   "metadata": {
    "tags": []
   },
   "outputs": [],
   "source": [
    "def makePairsMomentum(tracks):\n",
    "    # Combinations & Keep opposite charges only \n",
    "    C = ak.combinations(tracks,2)\n",
    "    C_OS = C[(C[\"0\"].charge+C[\"1\"].charge)==0]\n",
    "    P = Momentum4D(C_OS)\n",
    "    return P\n",
    "    \n",
    "def scan(dataDescription,\n",
    "            fdata, fJPsi, fPsi2S,\n",
    "            eventSelector=lambda x:[True]*len(x),\n",
    "            trackSelector=lambda x:[True]*len(x),\n",
    "            pairSelector=lambda x:[True]*len(x),\n",
    "            verbose:bool=False):\n",
    "    \"\"\" Loop over data to write masses to files.\n",
    "        \n",
    "        :param: dataDescription: is anything uproot.iterate can take.\n",
    "                typical something like run*.data.root:eventsTree in our case\n",
    "        :param: eventSelector: returns an array of bool from an array of events\n",
    "        :param: trackSelector: returns an array of bool from an array of tracks\n",
    "    \"\"\"\n",
    "    #MCEntries = [\"Muon_MCLabel\", \"Muon_MCPDGCode\"]\n",
    "    eventsTreeEntries = [\"isCINT\",\"isCMUL\",\"isCMSL\",\"nMuons\",\"Muon_Px\",\"Muon_Py\",\"Muon_Pz\",\"Muon_E\",\"Muon_Charge\",\"Muon_thetaAbs\",\"Muon_matchedTrgThreshold\"]\n",
    "    genTreeEntries = [\"nMuonsGen\",\"Muon_GenPx\",\"Muon_GenPy\",\"Muon_GenPz\",\"Muon_GenE\",\"Muon_GenLabel\",\"Muon_GenMotherPDGCode\"]\n",
    "    if 1:\n",
    "        for batch in uproot.iterate(dataDescription+\".data.root:eventsTree\", eventsTreeEntries, report=True):\n",
    "            events = batch[0]\n",
    "            # Event selection\n",
    "            eventSelection = eventSelector(events)\n",
    "            tracks = getTracks(events[eventSelection])          \n",
    "            # Track selection\n",
    "            trackSelection = trackSelector(tracks)\n",
    "            tracks = tracks[trackSelection]\n",
    "            # Combinations\n",
    "            P = makePairsMomentum(tracks)\n",
    "            pairSelection = pairSelector(P)\n",
    "            # Save all masses\n",
    "            np.save(fdata, ak.flatten(P[pairSelection].mass).to_numpy()) \n",
    "            \n",
    "            if verbose:\n",
    "                print(batch[1])\n",
    "            gc.collect()\n",
    "        \n",
    "        for batch, batchGen in zip(uproot.iterate(dataDescription+\".mc.root:eventsTree\", eventsTreeEntries, report=True),\n",
    "                                   uproot.iterate(dataDescription+\".mc.root:genTree\", genTreeEntries, report=True)):\n",
    "            events = batch[0]\n",
    "            # Event selection\n",
    "            eventSelection = eventSelector(events)\n",
    "            tracks = getTracks(events[eventSelection])          \n",
    "            # Track selection\n",
    "            trackSelection = trackSelector(tracks)\n",
    "            tracks = tracks[trackSelection]\n",
    "            # Apply selections on gen\n",
    "            eventsGen = batchGen[0]\n",
    "\n",
    "            tracksGen = getTracksGen(eventsGen[eventSelection])\n",
    "            try:  # Temporary fix, but it's OK, it's just for MC initial fit\n",
    "                tracksGen = tracksGen[trackSelection]  # fail for some runs (e.g 290374) bc of differents track shapes        \n",
    "                # J/psi and psi(2S) selection\n",
    "                for code, f in zip((443, 100443), (fJPsi, fPsi2S)):\n",
    "                    motherSelection = tracksGen.mother==code\n",
    "                    tracksReso = tracks[motherSelection]\n",
    "                    # Combinations\n",
    "                    P = makePairsMomentum(tracksReso)\n",
    "                    pairSelection = pairSelector(P)\n",
    "                    # Save all masses\n",
    "                    np.save(f, ak.flatten(P[pairSelection].mass).to_numpy()) \n",
    "            except Exception as e:\n",
    "                np.save(fJPsi, []) \n",
    "                np.save(fPsi2S, []) \n",
    "                pass        \n",
    "            "
   ]
  },
  {
   "cell_type": "code",
   "execution_count": 12,
   "id": "dc0876f0-5fff-4bc2-9e9d-04ac5c411e9c",
   "metadata": {},
   "outputs": [
    {
     "name": "stdout",
     "output_type": "stream",
     "text": [
      "108\n"
     ]
    },
    {
     "name": "stderr",
     "output_type": "stream",
     "text": [
      "sh: mass/data.pT0-1.npy: No such file or directory\n",
      "sh: mass/JPsi.pT0-1.npy: No such file or directory\n",
      "sh: mass/Psi2S.pT0-1.npy: No such file or directory\n"
     ]
    },
    {
     "ename": "FileNotFoundError",
     "evalue": "[Errno 2] No such file or directory: 'mass/data.pT0-1.npy'",
     "output_type": "error",
     "traceback": [
      "\u001b[0;31m---------------------------------------------------------------------------\u001b[0m",
      "\u001b[0;31mFileNotFoundError\u001b[0m                         Traceback (most recent call last)",
      "File \u001b[0;32m<timed exec>:20\u001b[0m\n",
      "File \u001b[0;32m/pbs/throng/training/nantes-m2-rps-exp/miniconda3/envs/qqbar2mumu/lib/python3.9/site-packages/IPython/core/interactiveshell.py:286\u001b[0m, in \u001b[0;36m_modified_open\u001b[0;34m(file, *args, **kwargs)\u001b[0m\n\u001b[1;32m    279\u001b[0m \u001b[38;5;28;01mif\u001b[39;00m file \u001b[38;5;129;01min\u001b[39;00m {\u001b[38;5;241m0\u001b[39m, \u001b[38;5;241m1\u001b[39m, \u001b[38;5;241m2\u001b[39m}:\n\u001b[1;32m    280\u001b[0m     \u001b[38;5;28;01mraise\u001b[39;00m \u001b[38;5;167;01mValueError\u001b[39;00m(\n\u001b[1;32m    281\u001b[0m         \u001b[38;5;124mf\u001b[39m\u001b[38;5;124m\"\u001b[39m\u001b[38;5;124mIPython won\u001b[39m\u001b[38;5;124m'\u001b[39m\u001b[38;5;124mt let you open fd=\u001b[39m\u001b[38;5;132;01m{\u001b[39;00mfile\u001b[38;5;132;01m}\u001b[39;00m\u001b[38;5;124m by default \u001b[39m\u001b[38;5;124m\"\u001b[39m\n\u001b[1;32m    282\u001b[0m         \u001b[38;5;124m\"\u001b[39m\u001b[38;5;124mas it is likely to crash IPython. If you know what you are doing, \u001b[39m\u001b[38;5;124m\"\u001b[39m\n\u001b[1;32m    283\u001b[0m         \u001b[38;5;124m\"\u001b[39m\u001b[38;5;124myou can use builtins\u001b[39m\u001b[38;5;124m'\u001b[39m\u001b[38;5;124m open.\u001b[39m\u001b[38;5;124m\"\u001b[39m\n\u001b[1;32m    284\u001b[0m     )\n\u001b[0;32m--> 286\u001b[0m \u001b[38;5;28;01mreturn\u001b[39;00m \u001b[43mio_open\u001b[49m\u001b[43m(\u001b[49m\u001b[43mfile\u001b[49m\u001b[43m,\u001b[49m\u001b[43m \u001b[49m\u001b[38;5;241;43m*\u001b[39;49m\u001b[43margs\u001b[49m\u001b[43m,\u001b[49m\u001b[43m \u001b[49m\u001b[38;5;241;43m*\u001b[39;49m\u001b[38;5;241;43m*\u001b[39;49m\u001b[43mkwargs\u001b[49m\u001b[43m)\u001b[49m\n",
      "\u001b[0;31mFileNotFoundError\u001b[0m: [Errno 2] No such file or directory: 'mass/data.pT0-1.npy'"
     ]
    }
   ],
   "source": [
    "%%time\n",
    "runid = \"{290323,290327,290848,291361,291360,291362,290853,290860,291373,290374,290375,291399,291400,290894,290895,290404,291943,291944,291948,291953,290932,290423,291447,290935,290425,290427,291451,291453,291976,291982,290456,290458,290459,291482,291485,290975,290980,290469,292012,291002,291003,291004,291005,290501,292040,292060,292061,292062,291041,290539,290540,292075,292077,292080,290549,290553,291590,292106,292108,292109,292115,290590,291618,291622,291624,292140,290612,292160,292162,292163,292164,292166,290632,291657,292168,292192,290658,290660,291690,291692,291694,291698,291706,290687,290692,290696,290699,292242,292265,291755,292269,292270,291760,292273,292274,290742,291769,291263,290764,290766,291283,291284,291285,291795,291796,290776,291803,290787}\"\n",
    "#runid = \"{290853,290327,290848}\"\n",
    "#runid = \"290374\"\n",
    "os.system(f\"ls {BASEDIR}/run{runid}.data.root | wc -l\")\n",
    "if 1:\n",
    "    pTcuts = [0, 1, 2, 3, 4, 5, 6, 8]\n",
    "    #pTcuts = [0, 1000]\n",
    "    for i in range(len(pTcuts)-1):\n",
    "        pTl = pTcuts[i]\n",
    "        pTu = pTcuts[i+1]\n",
    "        # Create file names\n",
    "        suffix = f\"pT{pTl}-{pTu}.npy\"\n",
    "        fiddata = \"mass/data.\"+suffix\n",
    "        fidJPsi = \"mass/JPsi.\"+suffix\n",
    "        fidPsi2S = \"mass/Psi2S.\"+suffix\n",
    "        # Clear files data\n",
    "        for f in (fiddata, fidJPsi, fidPsi2S):\n",
    "            os.system(\"> \"+f)\n",
    "        # Open files for writing\n",
    "        fdata = open(fiddata,\"ab\")\n",
    "        fJPsi = open(fidJPsi,\"ab\")\n",
    "        fPsi2S = open(fidPsi2S,\"ab\")\n",
    "        cuttrack = lambda x: (x.thetaAbs < 10) & (x.thetaAbs > 2) & (x.pt > 0.5) & (x.eta < -2.5) & (x.eta > -4)\n",
    "        cutpair = lambda x: (pTl<x.pt)&(x.pt<pTu)\n",
    "        scan(dataDescription=f\"{BASEDIR}/run{runid}\",\n",
    "                fdata=fdata, fJPsi=fJPsi, fPsi2S=fPsi2S,\n",
    "                eventSelector=lambda x: x[\"isCMUL\"]==True,\n",
    "                trackSelector=cuttrack,\n",
    "                pairSelector=cutpair,\n",
    "                verbose=True\n",
    "            )\n",
    "        for f in (fdata, fJPsi, fPsi2S):\n",
    "            f.close()\n"
   ]
  },
  {
   "cell_type": "code",
   "execution_count": null,
   "id": "7b928d85-9707-40fe-872a-5f42bd330e18",
   "metadata": {},
   "outputs": [],
   "source": []
  },
  {
   "cell_type": "code",
   "execution_count": null,
   "id": "8a4e75a7-2b3a-41e8-83c9-bfe0a83b8ff2",
   "metadata": {},
   "outputs": [],
   "source": []
  },
  {
   "cell_type": "code",
   "execution_count": null,
   "id": "93291ef1-a198-4d48-b352-ad8042deaca2",
   "metadata": {},
   "outputs": [],
   "source": []
  }
 ],
 "metadata": {
  "kernelspec": {
   "display_name": "Python 3.9 - M2 RPS EXP",
   "language": "python",
   "name": "nantes-m2-rps-exp"
  },
  "language_info": {
   "codemirror_mode": {
    "name": "ipython",
    "version": 3
   },
   "file_extension": ".py",
   "mimetype": "text/x-python",
   "name": "python",
   "nbconvert_exporter": "python",
   "pygments_lexer": "ipython3",
   "version": "3.9.18"
  }
 },
 "nbformat": 4,
 "nbformat_minor": 5
}
