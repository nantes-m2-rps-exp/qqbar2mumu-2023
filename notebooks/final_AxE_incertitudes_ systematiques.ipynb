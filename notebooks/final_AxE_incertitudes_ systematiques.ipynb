{
 "cells": [
  {
   "cell_type": "code",
   "execution_count": 1,
   "id": "89308c2d-6271-4d47-b6b3-2aeaa6256537",
   "metadata": {},
   "outputs": [
    {
     "name": "stdout",
     "output_type": "stream",
     "text": [
      "uproot version 5.0.12\n",
      "awkward version 2.4.3\n",
      "numpy version 1.25.2\n",
      "matplotlib version 3.8.0\n",
      "hist version 2.7.2\n",
      "vector version 1.1.1\n",
      "pandas version 1.5.3\n"
     ]
    }
   ],
   "source": [
    "import uproot\n",
    "import awkward as ak\n",
    "import numpy as np\n",
    "import matplotlib\n",
    "import matplotlib.pyplot as plt\n",
    "import math\n",
    "import hist\n",
    "import vector\n",
    "import os\n",
    "import subprocess\n",
    "import gc\n",
    "import pandas as pd\n",
    "from scipy.optimize import curve_fit\n",
    "from scipy.integrate import quad\n",
    "print(\"uproot version\", uproot.__version__)\n",
    "print(\"awkward version\", ak.__version__)\n",
    "print(\"numpy version\", np.__version__)\n",
    "print(\"matplotlib version\", matplotlib.__version__)\n",
    "print(\"hist version\", hist.__version__)\n",
    "print(\"vector version\", vector.__version__)\n",
    "#print(\"os version\", os.__version__)\n",
    "#print(\"subprocess version\", subprocess.__version__)\n",
    "#print(\"gc version\", gc.__version__)\n",
    "print(\"pandas version\", pd.__version__)"
   ]
  },
  {
   "cell_type": "code",
   "execution_count": 2,
   "id": "b87d2503-dec7-4803-a123-0077874c0059",
   "metadata": {},
   "outputs": [],
   "source": [
    "vector.register_awkward() "
   ]
  },
  {
   "cell_type": "code",
   "execution_count": 3,
   "id": "9704fd6a-6bae-4fb7-bcf6-24d9c3b00884",
   "metadata": {},
   "outputs": [],
   "source": [
    "SAMPLE_RUNS = sorted([290323, 290327, 290848, 291361, 291360, 291362, 290853, 290860, 291373, 290374, \n",
    "                      290375, 291399, 291400, 290894, 290895, 290404, 291943, 291944, 291948, 291953, \n",
    "                      290932, 290423, 291447, 290935, 290425, 290427, 291451, 291453, 291976, 291982, \n",
    "                      290456, 290458, 290459, 291482, 291485, 290975, 290980, 290469, 292012, 291002, \n",
    "                      291003, 291004, 291005, 290501, 292040, 292060, 292061, 292062, 291041, 290539, \n",
    "                      290540, 292075, 292077, 292080, 290549, 290553, 291590, 292106, 292108, 292109, \n",
    "                      292115, 290590, 291618, 291622, 291624, 292140, 290612, 292160, 292162, 292163, \n",
    "                      292164, 292166, 290632, 291657, 292168, 292192, 290658, 290660, 291690, 291692, \n",
    "                      291694, 291698, 291706, 290687, 290692, 290696, 290699, 292242, 292265, 291755, \n",
    "                      292269, 292270, 291760, 292273, 292274, 290742, 291769, 291263, 290764, 290766, \n",
    "                      291283, 291284, 291285, 291795, 291796, 290776, 291803, 290787])"
   ]
  },
  {
   "cell_type": "code",
   "execution_count": 4,
   "id": "44e710ab-ede5-44ea-98c3-3f05a0a2246d",
   "metadata": {},
   "outputs": [],
   "source": [
    "def integral(histo: hist.Hist, start: float, stop: float):\n",
    "    start_bin = histo.axes[0].index(start)  \n",
    "    stop_bin = histo.axes[0].index(stop)\n",
    "    return histo[start_bin:stop_bin].sum()\n",
    "\n",
    "def getTracksEvents(events):\n",
    "    return ak.zip({\n",
    "        \"px\":events[\"Muon_Px\"],\n",
    "        \"py\":events[\"Muon_Py\"],\n",
    "        \"pz\":events[\"Muon_Pz\"],\n",
    "        \"E\":events[\"Muon_E\"],\n",
    "        \"charge\":events[\"Muon_Charge\"],\n",
    "        \"thetaAbs\":events[\"Muon_thetaAbs\"],\n",
    "        \"matched\":events[\"Muon_matchedTrgThreshold\"],\n",
    "        \"code\":events[\"Muon_MCPDGCode\"],\n",
    "        \"label\":events[\"Muon_MCLabel\"]},\n",
    "         with_name='Momentum4D')\n",
    "\n",
    "def getTracksGen(events):\n",
    "    return ak.zip({\n",
    "        \"px\":events[\"Muon_GenPx\"],\n",
    "        \"py\":events[\"Muon_GenPy\"],\n",
    "        \"pz\":events[\"Muon_GenPz\"],\n",
    "        \"E\":events[\"Muon_GenE\"],\n",
    "        \"label\":events[\"Muon_GenLabel\"],\n",
    "        \"code\":events[\"Muon_GenMotherPDGCode\"]},\n",
    "        with_name='Momentum4D')\n",
    "\n",
    "def Momentum4D(events):\n",
    "    return ak.zip({\n",
    "        \"px\": events[\"0\"].px + events[\"1\"].px,\n",
    "        \"py\": events[\"0\"].py + events[\"1\"].py,\n",
    "        \"pz\": events[\"0\"].pz + events[\"1\"].pz,\n",
    "        \"E\" : events[\"0\"].E  + events[\"1\"].E},\n",
    "        with_name=\"Momentum4D\")\n",
    "\n",
    "\n",
    "def scan(dataDescription, \n",
    "              hMagGen:hist.Hist, hPhiGen:hist.Hist, hEtaGen:hist.Hist, hYGen:hist.Hist, hPtGen:hist.Hist, hMassGen:hist.Hist, hMass2Gen:hist.Hist,\n",
    "              hMagEvents:hist.Hist, hPhiEvents:hist.Hist, hEtaEvents:hist.Hist, hYEvents:hist.Hist, hPtEvents:hist.Hist, hMassEvents:hist.Hist, hMass_OSMuon:hist.Hist, hMass_LSMuon:hist.Hist,\n",
    "              eventSelectorGen = lambda x:[True]*len(x), trackSelectorGen = lambda x:[True]*len(x), pairSelectorGen = lambda x:[True]*len(x),\n",
    "              eventSelectorEvents = lambda x:[True]*len(x), trackSelectorEvents = lambda x:[True]*len(x), pairSelectorEvents = lambda x:[True]*len(x),\n",
    "              verbose:bool = False):\n",
    "    \"\"\" Loop over data to fill the invariant mass histogram.\n",
    "        \n",
    "        :param: dataDescription: is anything uproot.iterate can take.\n",
    "                typical something like run*.data.root:eventsTree in our case\n",
    "        :param: eventSelector: returns an array of bool from an array of events\n",
    "        :param: trackSelector: returns an array of bool from an array of tracks\n",
    "        print(dir(vector.backends.awkward.MomentumArray4D))\n",
    "    \"\"\"\n",
    "    \n",
    "    nEntriesGen = nGoodEventsGen = nGoodTracksGen = nGoodEntriesGen = nJPsiGen = nPairsGen = nGoodGen= 0\n",
    "    PDGGen = PDG = LabelGen = Label = []\n",
    "    nEntries = nGoodEvents = nGoodTracks = nGoodEntries = AxE = nPairs = nOS = nGoodOS = nLS = nGoodLS = nJPsiEvents = i_stat = 0\n",
    "    \n",
    "    for batchGen, batchEvents in zip(uproot.iterate(dataDescription + \"genTree\", [\"Muon_GenE\", \"Muon_GenPx\", \"Muon_GenPy\", \"Muon_GenPz\", \"Muon_GenLabel\", \"Muon_GenMotherPDGCode\"], report = True),\n",
    "                                    uproot.iterate(dataDescription + \"eventsTree\", [\"isCINT\", \"isCMUL\", \"isCMSL\", \"Muon_Px\", \"Muon_Py\", \"Muon_Pz\", \"Muon_E\", \"Muon_Charge\", \"Muon_thetaAbs\", \"Muon_matchedTrgThreshold\", \"Muon_MCLabel\", \"Muon_MCPDGCode\"], report = True)):\n",
    "\n",
    "        eventsGen = batchGen[0] # batch[1] is the report info\n",
    "        events = batchEvents[0]\n",
    "        #eventsGen[0:10].show()\n",
    "        #events[0:10].show()\n",
    "\n",
    "        if (len(eventsGen) < 1000) | (len(events) < 1000):\n",
    "            print(\"something is wrong\", batchGen[1]) # this is a protection for some corrupted input data files \n",
    "            break\n",
    "            \n",
    "        goodEventsGen = eventsGen[eventSelectorGen(eventsGen)]\n",
    "        tracksGen = getTracksGen(goodEventsGen)\n",
    "        goodTracksGen = tracksGen[trackSelectorGen(tracksGen)]\n",
    "        #goodTracksGen[0:10].show()\n",
    "        \n",
    "        hMagGen.fill(ak.flatten(goodTracksGen.p))\n",
    "        hPhiGen.fill(ak.flatten(goodTracksGen.phi))\n",
    "        hPtGen.fill(ak.flatten(goodTracksGen.pt))\n",
    "        hYGen.fill(ak.flatten(goodTracksGen.rapidity))\n",
    "        hEtaGen.fill(ak.flatten(goodTracksGen.eta))\n",
    "        hMassGen.fill(ak.flatten(goodTracksGen.mass))\n",
    "        \n",
    "        pairsGen = ak.combinations(goodTracksGen, 2)\n",
    "        #pairsGen[0:10].show()\n",
    "        Gen = Momentum4D(pairsGen)\n",
    "        #Gen[0:10].show()\n",
    "        goodGen = Gen[pairSelectorGen(Gen)]\n",
    "        #goodGen[0:10].show()\n",
    "        \n",
    "        hMass2Gen.fill(ak.flatten(goodGen.mass))\n",
    "        \n",
    "        \n",
    "        \n",
    "        isJPsi = ak.num(goodTracksGen) > 0\n",
    "        #print(isJPsi[0:10].show())\n",
    "        events2 = ak.zip({\"isJPsi\":isJPsi, \"isCINT\":events[\"isCINT\"], \"isCMUL\":events[\"isCMUL\"], \"isCMSL\":events[\"isCMSL\"], \"Muon_Px\":events[\"Muon_Px\"], \"Muon_Py\":events[\"Muon_Py\"], \n",
    "                          \"Muon_Pz\":events[\"Muon_Pz\"], \"Muon_E\":events[\"Muon_E\"], \"Muon_Charge\":events[\"Muon_Charge\"], \"Muon_thetaAbs\":events[\"Muon_thetaAbs\"],\n",
    "                          \"Muon_matchedTrgThreshold\":events[\"Muon_matchedTrgThreshold\"], \"Muon_MCLabel\":events[\"Muon_MCLabel\"], \"Muon_MCPDGCode\":events[\"Muon_MCPDGCode\"]})\n",
    "                          \n",
    "        \n",
    "        #print(events2[0:10].show())\n",
    "        goodEvents = events2[eventSelectorEvents(events2)]\n",
    "        tracks = getTracksEvents(goodEvents)\n",
    "        goodTracks = tracks[trackSelectorEvents(tracks)]\n",
    "        #goodTracks[0:10].show()\n",
    "        \n",
    "        \n",
    "        pairs = ak.combinations(goodTracks, 2)\n",
    "        \n",
    "        condition_OS = np.logical_or(np.logical_and(pairs[\"0\"].code ==  13, pairs[\"1\"].code == -13),\n",
    "                                     np.logical_and(pairs[\"0\"].code == -13, pairs[\"1\"].code ==  13))\n",
    "        muons_OS = pairs[condition_OS]\n",
    "        OS = Momentum4D(muons_OS)\n",
    "        goodOS = OS[pairSelectorEvents(OS)]\n",
    "    \n",
    "        \n",
    "        condition_LS = np.logical_or(np.logical_and(pairs[\"0\"].code == -13, pairs[\"1\"].code == -13),\n",
    "                                     np.logical_and(pairs[\"0\"].code ==  13, pairs[\"1\"].code ==  13))\n",
    "        muons_LS = pairs[condition_LS]\n",
    "        LS = Momentum4D(muons_LS)\n",
    "        goodLS = LS[pairSelectorEvents(LS)]\n",
    "\n",
    "        \n",
    "        hMagEvents.fill(ak.flatten(goodTracks.p))\n",
    "        hPhiEvents.fill(ak.flatten(goodTracks.phi))\n",
    "        hPtEvents.fill(ak.flatten(goodTracks.pt))\n",
    "        hYEvents.fill(ak.flatten(goodTracks.rapidity))\n",
    "        hEtaEvents.fill(ak.flatten(goodTracks.eta))\n",
    "        hMassEvents.fill(ak.flatten(goodTracks.mass))\n",
    "        \n",
    "        hMass_OSEvents.fill(ak.flatten(goodOS.mass))\n",
    "        hMass_LSEvents.fill(ak.flatten(goodLS.mass))\n",
    "        \n",
    "        \n",
    "        nEntriesGen += len(eventsGen)\n",
    "        nGoodEventsGen += len(goodEventsGen)\n",
    "        nGoodTracksGen += len(ak.flatten(goodTracksGen))\n",
    "        nGoodEntriesGen += list(ak.num(goodTracksGen) > 0).count(True)\n",
    "        nPairsGen += len(ak.flatten(pairsGen))\n",
    "        nGoodGen += len(ak.flatten(goodGen))\n",
    "        PDGGen = np.union1d(PDG, ak.flatten(goodTracksGen.code))\n",
    "        LabelGen = np.union1d(LabelGen, ak.flatten(goodTracksGen.label))\n",
    "        \n",
    "        nEntries += len(events)\n",
    "        nGoodEvents += len(goodEvents)\n",
    "        nGoodTracks += len(ak.flatten(goodTracks))\n",
    "        nGoodEntries += list(ak.num(goodTracks) > 0).count(True)\n",
    "        nPairs += len(ak.flatten(pairs))\n",
    "        nOS += len(ak.flatten(OS))\n",
    "        nGoodOS += len(ak.flatten(goodOS))\n",
    "        nLS += len(ak.flatten(LS))\n",
    "        nGoodLS += len(ak.flatten(goodLS))\n",
    "        PDG = np.union1d(PDG, ak.flatten(goodTracks.code))\n",
    "        Label = np.union1d(Label, ak.flatten(goodTracks.label))\n",
    "        \n",
    "        nJPsiEvents += len(ak.flatten(goodOS))\n",
    "        nJPsiGen += len(ak.flatten(goodGen))\n",
    "        AxE = nJPsiEvents / nJPsiGen\n",
    "        i_stat = (math.sqrt(nGoodOS)/nGoodOS)+(math.sqrt(nGoodGen)/nGoodGen)\n",
    "\n",
    "        if verbose:\n",
    "            #print(\"Statistiques Generees\")\n",
    "            print(batchGen[1])\n",
    "            print(\"Entries: \", nEntries)\n",
    "            print(\"Good Events: \", nGoodEventsGen)\n",
    "            print(\"Good Tracks: \", nGoodTracksGen)\n",
    "            print(\"Good Entries: \", nGoodEntriesGen)\n",
    "            print(\"Pairs: \", nPairsGen)\n",
    "            print(\"Good Pairs: \", nGoodGen)\n",
    "            #print(\"PDG: \", PDGGen)\n",
    "            #print(\"Label: \", LabelGen)\n",
    "            print(\"----------------------------\")\n",
    "            \n",
    "            #print(\"Statistiques Detectees\")\n",
    "            print(batchEvents[1])\n",
    "            print(\"Entries: \", nEntries)\n",
    "            print(\"Good Events: \", nGoodEvents)\n",
    "            print(\"Good Tracks: \", nGoodTracks)\n",
    "            print(\"Good Entries: \", nGoodEntries)\n",
    "            print(\"Pairs: \", nPairs)\n",
    "            print(\"OS: \", nOS)\n",
    "            print(\"Good OS:\", nGoodOS)\n",
    "            #print(\"LS: \", nLS)\n",
    "            #print(\"Good LS:\", nGoodLS)\n",
    "            #print(\"PDG: \", PDG)\n",
    "            #print(\"Label: \", Label)\n",
    "            print(\"----------------------------\")\n",
    "            \n",
    "            print(\"J/Psi gen: \", nJPsiGen)\n",
    "            print(\"J/Psi events: \", nJPsiEvents)\n",
    "            #print(\"-------> AxE: \", AxE)\n",
    "            print(\"---------------------------------------------------------------------------------------\")\n",
    "        gc.collect()\n",
    "        \n",
    "    return nEntriesGen, nGoodEventsGen, nGoodTracksGen, nGoodEntriesGen, nJPsiGen, nPairsGen, nGoodGen, PDGGen, LabelGen, nEntries, nGoodEvents, nGoodTracks, nGoodEntries, nPairs, nOS, nGoodOS, nLS, nGoodLS, PDG, Label, AxE, nJPsiEvents, i_stat"
   ]
  },
  {
   "cell_type": "code",
   "execution_count": 5,
   "id": "4e90869c-37fd-409d-828e-8199e67f058e",
   "metadata": {},
   "outputs": [],
   "source": [
    "hMagGen = hist.Hist(hist.axis.Regular(bins = 100, start = 0, stop = 100, name = '$|p|$'))\n",
    "hPhiGen = hist.Hist(hist.axis.Regular(bins = 200, start = -22/7, stop = 22/7, name = '$\\phi$'))\n",
    "hEtaGen = hist.Hist(hist.axis.Regular(bins = 100, start = -6, stop = 0, name = '$\\eta$'))\n",
    "hYGen = hist.Hist(hist.axis.Regular(bins = 100, start = -6, stop = 0, name = '$y$'))\n",
    "hPtGen = hist.Hist(hist.axis.Regular(bins = 200, start = 0, stop = 10, name = '$p_T$'))\n",
    "hMassGen = hist.Hist(hist.axis.Regular(bins = 100, start = 0, stop = 0.2, name = '$m_{\\mu}$'))\n",
    "hMass2Gen = hist.Hist(hist.axis.Regular(bins = 100, start = 1.5, stop = 5, name = '$m_{\\mu \\mu}$'))\n",
    "\n",
    "hMagEvents = hist.Hist(hist.axis.Regular(bins = 100, start = 0, stop = 100, name = '$|p|$'))\n",
    "hPhiEvents = hist.Hist(hist.axis.Regular(bins = 200, start = -22/7, stop = 22/7, name = '$\\phi$'))\n",
    "hEtaEvents = hist.Hist(hist.axis.Regular(bins = 100, start = -6, stop = 0, name = '$\\eta$'))\n",
    "hYEvents = hist.Hist(hist.axis.Regular(bins = 100, start = -6, stop = 0, name = '$y$'))\n",
    "hPtEvents = hist.Hist(hist.axis.Regular(bins = 200, start = 0, stop = 10, name = '$p_T$'))\n",
    "hMassEvents = hist.Hist(hist.axis.Regular(bins = 100, start = 0, stop = 0.2, name = '$m_{\\mu}$'))\n",
    "hMass_OSEvents = hist.Hist(hist.axis.Regular(bins = 100, start = 1.5, stop = 5, name = '$m_{\\mu \\mu}$'))\n",
    "hMass_LSEvents = hist.Hist(hist.axis.Regular(bins = 100, start = 1.5, stop = 5, name = '$m_{\\mu \\mu}$'))"
   ]
  },
  {
   "cell_type": "code",
   "execution_count": 6,
   "id": "4b9f81dd-ba10-45f0-afe4-4b5fc91663b0",
   "metadata": {},
   "outputs": [
    {
     "ename": "FileNotFoundError",
     "evalue": "[Errno 2] No such file or directory: '../data/counters.offline.csv'",
     "output_type": "error",
     "traceback": [
      "\u001b[0;31m---------------------------------------------------------------------------\u001b[0m",
      "\u001b[0;31mFileNotFoundError\u001b[0m                         Traceback (most recent call last)",
      "File \u001b[0;32m<timed exec>:13\u001b[0m\n",
      "File \u001b[0;32m/pbs/throng/training/nantes-m2-rps-exp/miniconda3/envs/qqbar2mumu/lib/python3.9/site-packages/pandas/util/_decorators.py:211\u001b[0m, in \u001b[0;36mdeprecate_kwarg.<locals>._deprecate_kwarg.<locals>.wrapper\u001b[0;34m(*args, **kwargs)\u001b[0m\n\u001b[1;32m    209\u001b[0m     \u001b[38;5;28;01melse\u001b[39;00m:\n\u001b[1;32m    210\u001b[0m         kwargs[new_arg_name] \u001b[38;5;241m=\u001b[39m new_arg_value\n\u001b[0;32m--> 211\u001b[0m \u001b[38;5;28;01mreturn\u001b[39;00m \u001b[43mfunc\u001b[49m\u001b[43m(\u001b[49m\u001b[38;5;241;43m*\u001b[39;49m\u001b[43margs\u001b[49m\u001b[43m,\u001b[49m\u001b[43m \u001b[49m\u001b[38;5;241;43m*\u001b[39;49m\u001b[38;5;241;43m*\u001b[39;49m\u001b[43mkwargs\u001b[49m\u001b[43m)\u001b[49m\n",
      "File \u001b[0;32m/pbs/throng/training/nantes-m2-rps-exp/miniconda3/envs/qqbar2mumu/lib/python3.9/site-packages/pandas/util/_decorators.py:331\u001b[0m, in \u001b[0;36mdeprecate_nonkeyword_arguments.<locals>.decorate.<locals>.wrapper\u001b[0;34m(*args, **kwargs)\u001b[0m\n\u001b[1;32m    325\u001b[0m \u001b[38;5;28;01mif\u001b[39;00m \u001b[38;5;28mlen\u001b[39m(args) \u001b[38;5;241m>\u001b[39m num_allow_args:\n\u001b[1;32m    326\u001b[0m     warnings\u001b[38;5;241m.\u001b[39mwarn(\n\u001b[1;32m    327\u001b[0m         msg\u001b[38;5;241m.\u001b[39mformat(arguments\u001b[38;5;241m=\u001b[39m_format_argument_list(allow_args)),\n\u001b[1;32m    328\u001b[0m         \u001b[38;5;167;01mFutureWarning\u001b[39;00m,\n\u001b[1;32m    329\u001b[0m         stacklevel\u001b[38;5;241m=\u001b[39mfind_stack_level(),\n\u001b[1;32m    330\u001b[0m     )\n\u001b[0;32m--> 331\u001b[0m \u001b[38;5;28;01mreturn\u001b[39;00m \u001b[43mfunc\u001b[49m\u001b[43m(\u001b[49m\u001b[38;5;241;43m*\u001b[39;49m\u001b[43margs\u001b[49m\u001b[43m,\u001b[49m\u001b[43m \u001b[49m\u001b[38;5;241;43m*\u001b[39;49m\u001b[38;5;241;43m*\u001b[39;49m\u001b[43mkwargs\u001b[49m\u001b[43m)\u001b[49m\n",
      "File \u001b[0;32m/pbs/throng/training/nantes-m2-rps-exp/miniconda3/envs/qqbar2mumu/lib/python3.9/site-packages/pandas/io/parsers/readers.py:950\u001b[0m, in \u001b[0;36mread_csv\u001b[0;34m(filepath_or_buffer, sep, delimiter, header, names, index_col, usecols, squeeze, prefix, mangle_dupe_cols, dtype, engine, converters, true_values, false_values, skipinitialspace, skiprows, skipfooter, nrows, na_values, keep_default_na, na_filter, verbose, skip_blank_lines, parse_dates, infer_datetime_format, keep_date_col, date_parser, dayfirst, cache_dates, iterator, chunksize, compression, thousands, decimal, lineterminator, quotechar, quoting, doublequote, escapechar, comment, encoding, encoding_errors, dialect, error_bad_lines, warn_bad_lines, on_bad_lines, delim_whitespace, low_memory, memory_map, float_precision, storage_options)\u001b[0m\n\u001b[1;32m    935\u001b[0m kwds_defaults \u001b[38;5;241m=\u001b[39m _refine_defaults_read(\n\u001b[1;32m    936\u001b[0m     dialect,\n\u001b[1;32m    937\u001b[0m     delimiter,\n\u001b[0;32m   (...)\u001b[0m\n\u001b[1;32m    946\u001b[0m     defaults\u001b[38;5;241m=\u001b[39m{\u001b[38;5;124m\"\u001b[39m\u001b[38;5;124mdelimiter\u001b[39m\u001b[38;5;124m\"\u001b[39m: \u001b[38;5;124m\"\u001b[39m\u001b[38;5;124m,\u001b[39m\u001b[38;5;124m\"\u001b[39m},\n\u001b[1;32m    947\u001b[0m )\n\u001b[1;32m    948\u001b[0m kwds\u001b[38;5;241m.\u001b[39mupdate(kwds_defaults)\n\u001b[0;32m--> 950\u001b[0m \u001b[38;5;28;01mreturn\u001b[39;00m \u001b[43m_read\u001b[49m\u001b[43m(\u001b[49m\u001b[43mfilepath_or_buffer\u001b[49m\u001b[43m,\u001b[49m\u001b[43m \u001b[49m\u001b[43mkwds\u001b[49m\u001b[43m)\u001b[49m\n",
      "File \u001b[0;32m/pbs/throng/training/nantes-m2-rps-exp/miniconda3/envs/qqbar2mumu/lib/python3.9/site-packages/pandas/io/parsers/readers.py:605\u001b[0m, in \u001b[0;36m_read\u001b[0;34m(filepath_or_buffer, kwds)\u001b[0m\n\u001b[1;32m    602\u001b[0m _validate_names(kwds\u001b[38;5;241m.\u001b[39mget(\u001b[38;5;124m\"\u001b[39m\u001b[38;5;124mnames\u001b[39m\u001b[38;5;124m\"\u001b[39m, \u001b[38;5;28;01mNone\u001b[39;00m))\n\u001b[1;32m    604\u001b[0m \u001b[38;5;66;03m# Create the parser.\u001b[39;00m\n\u001b[0;32m--> 605\u001b[0m parser \u001b[38;5;241m=\u001b[39m \u001b[43mTextFileReader\u001b[49m\u001b[43m(\u001b[49m\u001b[43mfilepath_or_buffer\u001b[49m\u001b[43m,\u001b[49m\u001b[43m \u001b[49m\u001b[38;5;241;43m*\u001b[39;49m\u001b[38;5;241;43m*\u001b[39;49m\u001b[43mkwds\u001b[49m\u001b[43m)\u001b[49m\n\u001b[1;32m    607\u001b[0m \u001b[38;5;28;01mif\u001b[39;00m chunksize \u001b[38;5;129;01mor\u001b[39;00m iterator:\n\u001b[1;32m    608\u001b[0m     \u001b[38;5;28;01mreturn\u001b[39;00m parser\n",
      "File \u001b[0;32m/pbs/throng/training/nantes-m2-rps-exp/miniconda3/envs/qqbar2mumu/lib/python3.9/site-packages/pandas/io/parsers/readers.py:1442\u001b[0m, in \u001b[0;36mTextFileReader.__init__\u001b[0;34m(self, f, engine, **kwds)\u001b[0m\n\u001b[1;32m   1439\u001b[0m     \u001b[38;5;28mself\u001b[39m\u001b[38;5;241m.\u001b[39moptions[\u001b[38;5;124m\"\u001b[39m\u001b[38;5;124mhas_index_names\u001b[39m\u001b[38;5;124m\"\u001b[39m] \u001b[38;5;241m=\u001b[39m kwds[\u001b[38;5;124m\"\u001b[39m\u001b[38;5;124mhas_index_names\u001b[39m\u001b[38;5;124m\"\u001b[39m]\n\u001b[1;32m   1441\u001b[0m \u001b[38;5;28mself\u001b[39m\u001b[38;5;241m.\u001b[39mhandles: IOHandles \u001b[38;5;241m|\u001b[39m \u001b[38;5;28;01mNone\u001b[39;00m \u001b[38;5;241m=\u001b[39m \u001b[38;5;28;01mNone\u001b[39;00m\n\u001b[0;32m-> 1442\u001b[0m \u001b[38;5;28mself\u001b[39m\u001b[38;5;241m.\u001b[39m_engine \u001b[38;5;241m=\u001b[39m \u001b[38;5;28;43mself\u001b[39;49m\u001b[38;5;241;43m.\u001b[39;49m\u001b[43m_make_engine\u001b[49m\u001b[43m(\u001b[49m\u001b[43mf\u001b[49m\u001b[43m,\u001b[49m\u001b[43m \u001b[49m\u001b[38;5;28;43mself\u001b[39;49m\u001b[38;5;241;43m.\u001b[39;49m\u001b[43mengine\u001b[49m\u001b[43m)\u001b[49m\n",
      "File \u001b[0;32m/pbs/throng/training/nantes-m2-rps-exp/miniconda3/envs/qqbar2mumu/lib/python3.9/site-packages/pandas/io/parsers/readers.py:1735\u001b[0m, in \u001b[0;36mTextFileReader._make_engine\u001b[0;34m(self, f, engine)\u001b[0m\n\u001b[1;32m   1733\u001b[0m     \u001b[38;5;28;01mif\u001b[39;00m \u001b[38;5;124m\"\u001b[39m\u001b[38;5;124mb\u001b[39m\u001b[38;5;124m\"\u001b[39m \u001b[38;5;129;01mnot\u001b[39;00m \u001b[38;5;129;01min\u001b[39;00m mode:\n\u001b[1;32m   1734\u001b[0m         mode \u001b[38;5;241m+\u001b[39m\u001b[38;5;241m=\u001b[39m \u001b[38;5;124m\"\u001b[39m\u001b[38;5;124mb\u001b[39m\u001b[38;5;124m\"\u001b[39m\n\u001b[0;32m-> 1735\u001b[0m \u001b[38;5;28mself\u001b[39m\u001b[38;5;241m.\u001b[39mhandles \u001b[38;5;241m=\u001b[39m \u001b[43mget_handle\u001b[49m\u001b[43m(\u001b[49m\n\u001b[1;32m   1736\u001b[0m \u001b[43m    \u001b[49m\u001b[43mf\u001b[49m\u001b[43m,\u001b[49m\n\u001b[1;32m   1737\u001b[0m \u001b[43m    \u001b[49m\u001b[43mmode\u001b[49m\u001b[43m,\u001b[49m\n\u001b[1;32m   1738\u001b[0m \u001b[43m    \u001b[49m\u001b[43mencoding\u001b[49m\u001b[38;5;241;43m=\u001b[39;49m\u001b[38;5;28;43mself\u001b[39;49m\u001b[38;5;241;43m.\u001b[39;49m\u001b[43moptions\u001b[49m\u001b[38;5;241;43m.\u001b[39;49m\u001b[43mget\u001b[49m\u001b[43m(\u001b[49m\u001b[38;5;124;43m\"\u001b[39;49m\u001b[38;5;124;43mencoding\u001b[39;49m\u001b[38;5;124;43m\"\u001b[39;49m\u001b[43m,\u001b[49m\u001b[43m \u001b[49m\u001b[38;5;28;43;01mNone\u001b[39;49;00m\u001b[43m)\u001b[49m\u001b[43m,\u001b[49m\n\u001b[1;32m   1739\u001b[0m \u001b[43m    \u001b[49m\u001b[43mcompression\u001b[49m\u001b[38;5;241;43m=\u001b[39;49m\u001b[38;5;28;43mself\u001b[39;49m\u001b[38;5;241;43m.\u001b[39;49m\u001b[43moptions\u001b[49m\u001b[38;5;241;43m.\u001b[39;49m\u001b[43mget\u001b[49m\u001b[43m(\u001b[49m\u001b[38;5;124;43m\"\u001b[39;49m\u001b[38;5;124;43mcompression\u001b[39;49m\u001b[38;5;124;43m\"\u001b[39;49m\u001b[43m,\u001b[49m\u001b[43m \u001b[49m\u001b[38;5;28;43;01mNone\u001b[39;49;00m\u001b[43m)\u001b[49m\u001b[43m,\u001b[49m\n\u001b[1;32m   1740\u001b[0m \u001b[43m    \u001b[49m\u001b[43mmemory_map\u001b[49m\u001b[38;5;241;43m=\u001b[39;49m\u001b[38;5;28;43mself\u001b[39;49m\u001b[38;5;241;43m.\u001b[39;49m\u001b[43moptions\u001b[49m\u001b[38;5;241;43m.\u001b[39;49m\u001b[43mget\u001b[49m\u001b[43m(\u001b[49m\u001b[38;5;124;43m\"\u001b[39;49m\u001b[38;5;124;43mmemory_map\u001b[39;49m\u001b[38;5;124;43m\"\u001b[39;49m\u001b[43m,\u001b[49m\u001b[43m \u001b[49m\u001b[38;5;28;43;01mFalse\u001b[39;49;00m\u001b[43m)\u001b[49m\u001b[43m,\u001b[49m\n\u001b[1;32m   1741\u001b[0m \u001b[43m    \u001b[49m\u001b[43mis_text\u001b[49m\u001b[38;5;241;43m=\u001b[39;49m\u001b[43mis_text\u001b[49m\u001b[43m,\u001b[49m\n\u001b[1;32m   1742\u001b[0m \u001b[43m    \u001b[49m\u001b[43merrors\u001b[49m\u001b[38;5;241;43m=\u001b[39;49m\u001b[38;5;28;43mself\u001b[39;49m\u001b[38;5;241;43m.\u001b[39;49m\u001b[43moptions\u001b[49m\u001b[38;5;241;43m.\u001b[39;49m\u001b[43mget\u001b[49m\u001b[43m(\u001b[49m\u001b[38;5;124;43m\"\u001b[39;49m\u001b[38;5;124;43mencoding_errors\u001b[39;49m\u001b[38;5;124;43m\"\u001b[39;49m\u001b[43m,\u001b[49m\u001b[43m \u001b[49m\u001b[38;5;124;43m\"\u001b[39;49m\u001b[38;5;124;43mstrict\u001b[39;49m\u001b[38;5;124;43m\"\u001b[39;49m\u001b[43m)\u001b[49m\u001b[43m,\u001b[49m\n\u001b[1;32m   1743\u001b[0m \u001b[43m    \u001b[49m\u001b[43mstorage_options\u001b[49m\u001b[38;5;241;43m=\u001b[39;49m\u001b[38;5;28;43mself\u001b[39;49m\u001b[38;5;241;43m.\u001b[39;49m\u001b[43moptions\u001b[49m\u001b[38;5;241;43m.\u001b[39;49m\u001b[43mget\u001b[49m\u001b[43m(\u001b[49m\u001b[38;5;124;43m\"\u001b[39;49m\u001b[38;5;124;43mstorage_options\u001b[39;49m\u001b[38;5;124;43m\"\u001b[39;49m\u001b[43m,\u001b[49m\u001b[43m \u001b[49m\u001b[38;5;28;43;01mNone\u001b[39;49;00m\u001b[43m)\u001b[49m\u001b[43m,\u001b[49m\n\u001b[1;32m   1744\u001b[0m \u001b[43m\u001b[49m\u001b[43m)\u001b[49m\n\u001b[1;32m   1745\u001b[0m \u001b[38;5;28;01massert\u001b[39;00m \u001b[38;5;28mself\u001b[39m\u001b[38;5;241m.\u001b[39mhandles \u001b[38;5;129;01mis\u001b[39;00m \u001b[38;5;129;01mnot\u001b[39;00m \u001b[38;5;28;01mNone\u001b[39;00m\n\u001b[1;32m   1746\u001b[0m f \u001b[38;5;241m=\u001b[39m \u001b[38;5;28mself\u001b[39m\u001b[38;5;241m.\u001b[39mhandles\u001b[38;5;241m.\u001b[39mhandle\n",
      "File \u001b[0;32m/pbs/throng/training/nantes-m2-rps-exp/miniconda3/envs/qqbar2mumu/lib/python3.9/site-packages/pandas/io/common.py:856\u001b[0m, in \u001b[0;36mget_handle\u001b[0;34m(path_or_buf, mode, encoding, compression, memory_map, is_text, errors, storage_options)\u001b[0m\n\u001b[1;32m    851\u001b[0m \u001b[38;5;28;01melif\u001b[39;00m \u001b[38;5;28misinstance\u001b[39m(handle, \u001b[38;5;28mstr\u001b[39m):\n\u001b[1;32m    852\u001b[0m     \u001b[38;5;66;03m# Check whether the filename is to be opened in binary mode.\u001b[39;00m\n\u001b[1;32m    853\u001b[0m     \u001b[38;5;66;03m# Binary mode does not support 'encoding' and 'newline'.\u001b[39;00m\n\u001b[1;32m    854\u001b[0m     \u001b[38;5;28;01mif\u001b[39;00m ioargs\u001b[38;5;241m.\u001b[39mencoding \u001b[38;5;129;01mand\u001b[39;00m \u001b[38;5;124m\"\u001b[39m\u001b[38;5;124mb\u001b[39m\u001b[38;5;124m\"\u001b[39m \u001b[38;5;129;01mnot\u001b[39;00m \u001b[38;5;129;01min\u001b[39;00m ioargs\u001b[38;5;241m.\u001b[39mmode:\n\u001b[1;32m    855\u001b[0m         \u001b[38;5;66;03m# Encoding\u001b[39;00m\n\u001b[0;32m--> 856\u001b[0m         handle \u001b[38;5;241m=\u001b[39m \u001b[38;5;28;43mopen\u001b[39;49m\u001b[43m(\u001b[49m\n\u001b[1;32m    857\u001b[0m \u001b[43m            \u001b[49m\u001b[43mhandle\u001b[49m\u001b[43m,\u001b[49m\n\u001b[1;32m    858\u001b[0m \u001b[43m            \u001b[49m\u001b[43mioargs\u001b[49m\u001b[38;5;241;43m.\u001b[39;49m\u001b[43mmode\u001b[49m\u001b[43m,\u001b[49m\n\u001b[1;32m    859\u001b[0m \u001b[43m            \u001b[49m\u001b[43mencoding\u001b[49m\u001b[38;5;241;43m=\u001b[39;49m\u001b[43mioargs\u001b[49m\u001b[38;5;241;43m.\u001b[39;49m\u001b[43mencoding\u001b[49m\u001b[43m,\u001b[49m\n\u001b[1;32m    860\u001b[0m \u001b[43m            \u001b[49m\u001b[43merrors\u001b[49m\u001b[38;5;241;43m=\u001b[39;49m\u001b[43merrors\u001b[49m\u001b[43m,\u001b[49m\n\u001b[1;32m    861\u001b[0m \u001b[43m            \u001b[49m\u001b[43mnewline\u001b[49m\u001b[38;5;241;43m=\u001b[39;49m\u001b[38;5;124;43m\"\u001b[39;49m\u001b[38;5;124;43m\"\u001b[39;49m\u001b[43m,\u001b[49m\n\u001b[1;32m    862\u001b[0m \u001b[43m        \u001b[49m\u001b[43m)\u001b[49m\n\u001b[1;32m    863\u001b[0m     \u001b[38;5;28;01melse\u001b[39;00m:\n\u001b[1;32m    864\u001b[0m         \u001b[38;5;66;03m# Binary mode\u001b[39;00m\n\u001b[1;32m    865\u001b[0m         handle \u001b[38;5;241m=\u001b[39m \u001b[38;5;28mopen\u001b[39m(handle, ioargs\u001b[38;5;241m.\u001b[39mmode)\n",
      "\u001b[0;31mFileNotFoundError\u001b[0m: [Errno 2] No such file or directory: '../data/counters.offline.csv'"
     ]
    }
   ],
   "source": [
    "%%time\n",
    "\n",
    "\n",
    "EntriesGen = goodEventsGen = goodTracksGen = goodEntriesGen = JPsiGen = PairsGen = goodGen = 0\n",
    "PDGGen = PDG = LabelGen = Label = []\n",
    "Entries = goodEvents = goodTracks = goodEntries = Pairs = OS = goodOS = LS = goodLS = JPsiEvents = 0\n",
    "numerator = denominator = AxE = 0\n",
    "\n",
    "runs = SAMPLE_RUNS\n",
    "\"\"\"_ = pd.read_csv(\"../data/counters.online.csv\")\n",
    "target_columns = [\"run\", \"duration(s)\"]\n",
    "runDurationWeight = _[target_columns]\n",
    "filtered_runDurationWeight = runDurationWeight[runDurationWeight[\"run\"].isin(runs)]\n",
    "filtered_runDurationWeight = filtered_runDurationWeight.copy()\n",
    "filtered_runDurationWeight[\"weight\"] = filtered_runDurationWeight[\"duration(s)\"] / filtered_runDurationWeight[\"duration(s)\"].max()\"\"\"\n",
    "_ = pd.read_csv(\"../data/counters.offline.csv\")\n",
    "target_columns = [\"run\", \"cmul7all\"]\n",
    "runDurationWeight = _[target_columns]\n",
    "filtered_runDurationWeight = runDurationWeight[runDurationWeight[\"run\"].isin(runs)]\n",
    "filtered_runDurationWeight = filtered_runDurationWeight.copy()\n",
    "filtered_runDurationWeight[\"weight\"] = filtered_runDurationWeight[\"cmul7all\"] / filtered_runDurationWeight[\"cmul7all\"].max()\n",
    "\n",
    "for run, duration, weight in filtered_runDurationWeight.values:\n",
    "    a, b, c, d, e, f, g, h, i, j, k, l, m, n, o, p, q, r, s, t, u, v, w = scan(dataDescription = f\"/pbs/throng/training/nantes-m2-rps-exp/data/run{int(run)}.mc.root:\",\n",
    "                                                                                hMagGen = hMagGen, hPhiGen = hPhiGen, hEtaGen= hEtaGen, hYGen = hYGen, hPtGen = hPtGen, hMassGen = hMassGen, hMass2Gen = hMass2Gen,\n",
    "                                                                                hMagEvents = hMagEvents, hPhiEvents = hPhiEvents, hEtaEvents = hEtaEvents, hYEvents = hYEvents, hPtEvents = hPtEvents, hMassEvents = hMassEvents, hMass_OSMuon = hMass_OSEvents, hMass_LSMuon = hMass_LSEvents,\n",
    "                                                                                #eventSelectorGen = lambda x: ,\n",
    "                                                                                trackSelectorGen = lambda x: (x.code == 443) & ((x.label == 1) | (x.label == 2)),\n",
    "                                                                                #pairSelectorGen = lambda x: (x.rapidity > -2.8) & (x.rapidity < -2.5),# & (x.pt > 6) & (x.pt < 8),\n",
    "                                                                                eventSelectorEvents = lambda x: (x[\"isCMUL\"] == True) & (x[\"isJPsi\"] == True), \n",
    "                                                                                trackSelectorEvents = lambda x: ((x.code == 13) | (x.code == -13)) & ((x.label == 1) | (x.label == 2)) & (x.eta < -2.5) & (x.eta > -4) & (x.thetaAbs < 10) & (x.thetaAbs > 2) & (x.pt > 0.5),\n",
    "                                                                                #pairSelectorEvents = lambda x: (x.rapidity > -2.8) & (x.rapidity < -2.5),# & (x.pt > 6) & (x.pt < 8),\n",
    "                                                                                verbose = True)\n",
    "    \n",
    "    EntriesGen += a\n",
    "    goodEventsGen += b\n",
    "    goodTracksGen += c\n",
    "    goodEntriesGen += d\n",
    "    PairsGen += f\n",
    "    goodGen += g\n",
    "    PDGGen = np.union1d(PDGGen, h)\n",
    "    LabelGen = np.union1d(LabelGen, i)\n",
    "    \n",
    "    Entries += j\n",
    "    goodEvents += k\n",
    "    goodTracks += l\n",
    "    goodEntries += m\n",
    "    Pairs += n\n",
    "    OS += o\n",
    "    goodOS += p\n",
    "    LS += q\n",
    "    goodLS += r\n",
    "    PDG = np.union1d(PDG, s)\n",
    "    Label = np.union1d(Label, t)\n",
    "    \n",
    "    JPsiGen += e\n",
    "    JPsiEvents += v\n",
    "    \n",
    "    numerator += weight * u\n",
    "    denominator += weight\n",
    "    \n",
    "    print(\"run: \", int(run))\n",
    "    print(\"Duration(s): \", int(duration))\n",
    "    print(\"Weight: \", weight)\n",
    "    print(\"-------> AxE: \", u)\n",
    "    print(\"Incertitude stat\", w)\n",
    "    print(\"---------------------------------------------------------------------------------------\")\n",
    "    \n",
    "AxE = numerator / denominator\n",
    "I_stat=0\n",
    "I_stat += w*weight*AxE / denominator\n",
    "\n",
    "\n",
    "print(\"Entries: \", EntriesGen)\n",
    "print(\"Good Events: \", goodEventsGen)\n",
    "print(\"Good Tracks: \", goodTracksGen)\n",
    "print(\"Good Entries: \", goodEntriesGen)\n",
    "print(\"Pairs: \", PairsGen)\n",
    "print(\"Good Pairs: \", goodGen)\n",
    "print(\"PDG: \", PDGGen)\n",
    "print(\"Label: \", LabelGen)\n",
    "print(\"----------------------------\")\n",
    "print(\"Entries: \", Entries)\n",
    "print(\"Good Events: \", goodEvents)\n",
    "print(\"Good Tracks: \", goodTracks)\n",
    "print(\"Good Entries: \", goodEntries)\n",
    "print(\"Pairs: \", Pairs)\n",
    "print(\"OS: \", OS)\n",
    "print(\"Good OS: \", goodOS)\n",
    "print(\"LS: \", LS)\n",
    "print(\"Good LS: \", goodLS)\n",
    "print(\"PDG: \", PDG)\n",
    "print(\"Label: \", Label)\n",
    "print(\"----------------------------\")\n",
    "print(\"J/Psi gen: \", JPsiGen)\n",
    "print(\"J/Psi events: \", JPsiEvents)\n",
    "print(\"-------> AxE: \", AxE)\n",
    "print(\"Incertitude : \", I_stat)\n",
    "print(\"---------------------------------------------------------------------------------------\")"
   ]
  },
  {
   "cell_type": "code",
   "execution_count": 7,
   "id": "51c0aa63-1cd3-4305-9f1c-22713fd65ef2",
   "metadata": {},
   "outputs": [
    {
     "name": "stdout",
     "output_type": "stream",
     "text": [
      "0\n"
     ]
    }
   ],
   "source": [
    "print(AxE)"
   ]
  },
  {
   "cell_type": "code",
   "execution_count": 8,
   "id": "36fc9416-e463-45f8-9b79-967024745fc2",
   "metadata": {},
   "outputs": [
    {
     "name": "stderr",
     "output_type": "stream",
     "text": [
      "/pbs/throng/training/nantes-m2-rps-exp/miniconda3/envs/qqbar2mumu/lib/python3.9/site-packages/mplhep/utils.py:197: RuntimeWarning: All sumw are zero!  Cannot compute meaningful error bars\n",
      "  return np.abs(method_fcn(self.values, variances) - self.values)\n",
      "/pbs/throng/training/nantes-m2-rps-exp/miniconda3/envs/qqbar2mumu/lib/python3.9/site-packages/mplhep/utils.py:197: RuntimeWarning: All sumw are zero!  Cannot compute meaningful error bars\n",
      "  return np.abs(method_fcn(self.values, variances) - self.values)\n",
      "/tmp/ipykernel_268/2991372796.py:3: UserWarning: Data has no positive values, and therefore cannot be log-scaled.\n",
      "  plt.yscale('log')\n"
     ]
    },
    {
     "data": {
      "text/plain": [
       "<matplotlib.legend.Legend at 0x7f1da2cc6fa0>"
      ]
     },
     "execution_count": 8,
     "metadata": {},
     "output_type": "execute_result"
    },
    {
     "data": {
      "image/png": "[encoded data removed]",
      "text/plain": [
       "<Figure size 640x480 with 1 Axes>"
      ]
     },
     "metadata": {},
     "output_type": "display_data"
    }
   ],
   "source": [
    "hMagGen.plot(color = \"blue\", label = \"Gen\")\n",
    "hMagEvents.plot(color = \"red\", label = \"Events\")\n",
    "plt.yscale('log')\n",
    "plt.ylabel(\"# of tracks\")\n",
    "plt.grid(True)\n",
    "plt.legend()"
   ]
  },
  {
   "cell_type": "code",
   "execution_count": 9,
   "id": "4b1fc66b-efce-4377-b605-8c63b73f5e18",
   "metadata": {},
   "outputs": [
    {
     "name": "stderr",
     "output_type": "stream",
     "text": [
      "/pbs/throng/training/nantes-m2-rps-exp/miniconda3/envs/qqbar2mumu/lib/python3.9/site-packages/mplhep/utils.py:197: RuntimeWarning: All sumw are zero!  Cannot compute meaningful error bars\n",
      "  return np.abs(method_fcn(self.values, variances) - self.values)\n",
      "/pbs/throng/training/nantes-m2-rps-exp/miniconda3/envs/qqbar2mumu/lib/python3.9/site-packages/mplhep/utils.py:197: RuntimeWarning: All sumw are zero!  Cannot compute meaningful error bars\n",
      "  return np.abs(method_fcn(self.values, variances) - self.values)\n"
     ]
    },
    {
     "data": {
      "text/plain": [
       "<matplotlib.legend.Legend at 0x7f1da1aa5e50>"
      ]
     },
     "execution_count": 9,
     "metadata": {},
     "output_type": "execute_result"
    },
    {
     "data": {
      "image/png": "[encoded data removed]",
      "text/plain": [
       "<Figure size 640x480 with 1 Axes>"
      ]
     },
     "metadata": {},
     "output_type": "display_data"
    }
   ],
   "source": [
    "hPhiGen.plot(color = \"blue\", label = \"Gen\")\n",
    "hPhiEvents.plot(color = \"red\", label = \"Events\")\n",
    "plt.ylabel(\"# of tracks\")\n",
    "plt.grid(True)\n",
    "plt.legend()"
   ]
  },
  {
   "cell_type": "code",
   "execution_count": 10,
   "id": "3d316a65-7c77-4991-b147-0c0884ae4e93",
   "metadata": {},
   "outputs": [
    {
     "name": "stderr",
     "output_type": "stream",
     "text": [
      "/pbs/throng/training/nantes-m2-rps-exp/miniconda3/envs/qqbar2mumu/lib/python3.9/site-packages/mplhep/utils.py:197: RuntimeWarning: All sumw are zero!  Cannot compute meaningful error bars\n",
      "  return np.abs(method_fcn(self.values, variances) - self.values)\n",
      "/pbs/throng/training/nantes-m2-rps-exp/miniconda3/envs/qqbar2mumu/lib/python3.9/site-packages/mplhep/utils.py:197: RuntimeWarning: All sumw are zero!  Cannot compute meaningful error bars\n",
      "  return np.abs(method_fcn(self.values, variances) - self.values)\n",
      "/tmp/ipykernel_268/1167178274.py:3: UserWarning: Data has no positive values, and therefore cannot be log-scaled.\n",
      "  plt.yscale('log')\n"
     ]
    },
    {
     "data": {
      "text/plain": [
       "<matplotlib.legend.Legend at 0x7f1da19771c0>"
      ]
     },
     "execution_count": 10,
     "metadata": {},
     "output_type": "execute_result"
    },
    {
     "data": {
      "image/png": "[encoded data removed]",
      "text/plain": [
       "<Figure size 640x480 with 1 Axes>"
      ]
     },
     "metadata": {},
     "output_type": "display_data"
    }
   ],
   "source": [
    "hPtGen.plot(color = \"blue\", label = \"Gen\")\n",
    "hPtEvents.plot(color = \"red\", label = \"Events\")\n",
    "plt.yscale('log')\n",
    "plt.ylabel(\"# of tracks\")\n",
    "plt.grid(True)\n",
    "plt.legend()"
   ]
  },
  {
   "cell_type": "code",
   "execution_count": 11,
   "id": "17317a0c-9ba4-4454-b1ff-42fa32f1c95f",
   "metadata": {},
   "outputs": [
    {
     "name": "stderr",
     "output_type": "stream",
     "text": [
      "/pbs/throng/training/nantes-m2-rps-exp/miniconda3/envs/qqbar2mumu/lib/python3.9/site-packages/mplhep/utils.py:197: RuntimeWarning: All sumw are zero!  Cannot compute meaningful error bars\n",
      "  return np.abs(method_fcn(self.values, variances) - self.values)\n",
      "/pbs/throng/training/nantes-m2-rps-exp/miniconda3/envs/qqbar2mumu/lib/python3.9/site-packages/mplhep/utils.py:197: RuntimeWarning: All sumw are zero!  Cannot compute meaningful error bars\n",
      "  return np.abs(method_fcn(self.values, variances) - self.values)\n",
      "/tmp/ipykernel_268/2705531105.py:3: UserWarning: Data has no positive values, and therefore cannot be log-scaled.\n",
      "  plt.yscale('log')\n"
     ]
    },
    {
     "data": {
      "text/plain": [
       "<matplotlib.legend.Legend at 0x7f1da16dfa00>"
      ]
     },
     "execution_count": 11,
     "metadata": {},
     "output_type": "execute_result"
    },
    {
     "data": {
      "image/png": "[encoded data removed]",
      "text/plain": [
       "<Figure size 640x480 with 1 Axes>"
      ]
     },
     "metadata": {},
     "output_type": "display_data"
    }
   ],
   "source": [
    "hEtaGen.plot(color = \"blue\", label = \"Gen\")\n",
    "hEtaEvents.plot(color = \"red\", label = \"Events\")\n",
    "plt.yscale('log')\n",
    "plt.ylabel(\"# of tracks\")\n",
    "plt.grid(True)\n",
    "plt.legend()"
   ]
  },
  {
   "cell_type": "code",
   "execution_count": 12,
   "id": "1b542e3f-3cfd-4c2b-87c5-5bc94abf9a60",
   "metadata": {},
   "outputs": [
    {
     "name": "stderr",
     "output_type": "stream",
     "text": [
      "/pbs/throng/training/nantes-m2-rps-exp/miniconda3/envs/qqbar2mumu/lib/python3.9/site-packages/mplhep/utils.py:197: RuntimeWarning: All sumw are zero!  Cannot compute meaningful error bars\n",
      "  return np.abs(method_fcn(self.values, variances) - self.values)\n",
      "/pbs/throng/training/nantes-m2-rps-exp/miniconda3/envs/qqbar2mumu/lib/python3.9/site-packages/mplhep/utils.py:197: RuntimeWarning: All sumw are zero!  Cannot compute meaningful error bars\n",
      "  return np.abs(method_fcn(self.values, variances) - self.values)\n",
      "/tmp/ipykernel_268/3607888985.py:3: UserWarning: Data has no positive values, and therefore cannot be log-scaled.\n",
      "  plt.yscale('log')\n"
     ]
    },
    {
     "data": {
      "text/plain": [
       "<matplotlib.legend.Legend at 0x7f1da14ac4c0>"
      ]
     },
     "execution_count": 12,
     "metadata": {},
     "output_type": "execute_result"
    },
    {
     "data": {
      "image/png": "[encoded data removed]",
      "text/plain": [
       "<Figure size 640x480 with 1 Axes>"
      ]
     },
     "metadata": {},
     "output_type": "display_data"
    }
   ],
   "source": [
    "hYGen.plot(color = \"blue\", label = \"Gen\")\n",
    "hYEvents.plot(color = \"red\", label = \"Events\")\n",
    "plt.yscale('log')\n",
    "plt.ylabel(\"# of tracks\")\n",
    "plt.grid(True)\n",
    "plt.legend()"
   ]
  },
  {
   "cell_type": "code",
   "execution_count": 13,
   "id": "7aae8ad8-6492-4224-ba04-be7c610ac78f",
   "metadata": {},
   "outputs": [
    {
     "name": "stderr",
     "output_type": "stream",
     "text": [
      "/pbs/throng/training/nantes-m2-rps-exp/miniconda3/envs/qqbar2mumu/lib/python3.9/site-packages/mplhep/utils.py:197: RuntimeWarning: All sumw are zero!  Cannot compute meaningful error bars\n",
      "  return np.abs(method_fcn(self.values, variances) - self.values)\n",
      "/pbs/throng/training/nantes-m2-rps-exp/miniconda3/envs/qqbar2mumu/lib/python3.9/site-packages/mplhep/utils.py:197: RuntimeWarning: All sumw are zero!  Cannot compute meaningful error bars\n",
      "  return np.abs(method_fcn(self.values, variances) - self.values)\n",
      "/tmp/ipykernel_268/2940552818.py:3: UserWarning: Data has no positive values, and therefore cannot be log-scaled.\n",
      "  plt.yscale('log')\n"
     ]
    },
    {
     "data": {
      "text/plain": [
       "<matplotlib.legend.Legend at 0x7f1da126c2b0>"
      ]
     },
     "execution_count": 13,
     "metadata": {},
     "output_type": "execute_result"
    },
    {
     "data": {
      "image/png": "[encoded data removed]",
      "text/plain": [
       "<Figure size 640x480 with 1 Axes>"
      ]
     },
     "metadata": {},
     "output_type": "display_data"
    }
   ],
   "source": [
    "hMassGen.plot(color = \"blue\", label = \"Gen\")\n",
    "hMassEvents.plot(color = \"red\", label = \"Events\")\n",
    "plt.yscale('log')\n",
    "plt.ylabel(\"# of tracks\")\n",
    "plt.grid(True)\n",
    "plt.legend()"
   ]
  },
  {
   "cell_type": "code",
   "execution_count": 14,
   "id": "5b6c4ee3-6398-42f9-ad42-28dd35404848",
   "metadata": {},
   "outputs": [
    {
     "name": "stderr",
     "output_type": "stream",
     "text": [
      "/pbs/throng/training/nantes-m2-rps-exp/miniconda3/envs/qqbar2mumu/lib/python3.9/site-packages/mplhep/utils.py:197: RuntimeWarning: All sumw are zero!  Cannot compute meaningful error bars\n",
      "  return np.abs(method_fcn(self.values, variances) - self.values)\n",
      "/pbs/throng/training/nantes-m2-rps-exp/miniconda3/envs/qqbar2mumu/lib/python3.9/site-packages/mplhep/utils.py:197: RuntimeWarning: All sumw are zero!  Cannot compute meaningful error bars\n",
      "  return np.abs(method_fcn(self.values, variances) - self.values)\n",
      "/tmp/ipykernel_268/1254601997.py:3: UserWarning: Data has no positive values, and therefore cannot be log-scaled.\n",
      "  plt.yscale('log')\n"
     ]
    },
    {
     "name": "stdout",
     "output_type": "stream",
     "text": [
      "0.0\n",
      "0.0\n"
     ]
    },
    {
     "data": {
      "image/png": "[encoded data removed]",
      "text/plain": [
       "<Figure size 640x480 with 1 Axes>"
      ]
     },
     "metadata": {},
     "output_type": "display_data"
    }
   ],
   "source": [
    "hMass2Gen.plot(color = \"blue\", label = \"Gen\")\n",
    "hMass_OSEvents.plot(color = \"red\", label = \"Events\")\n",
    "plt.yscale('log')\n",
    "plt.ylabel(\"# of tracks\")\n",
    "plt.grid(True)\n",
    "plt.legend()\n",
    "\n",
    "print(integral(hMass_OSEvents, 1.5, 5.0))\n",
    "print(integral(hMass2Gen, 1.5, 5.0))"
   ]
  },
  {
   "cell_type": "code",
   "execution_count": 15,
   "id": "5df0c04c-aa4b-4a83-8498-a3c90a080b7a",
   "metadata": {},
   "outputs": [
    {
     "name": "stderr",
     "output_type": "stream",
     "text": [
      "/pbs/throng/training/nantes-m2-rps-exp/miniconda3/envs/qqbar2mumu/lib/python3.9/site-packages/mplhep/utils.py:197: RuntimeWarning: All sumw are zero!  Cannot compute meaningful error bars\n",
      "  return np.abs(method_fcn(self.values, variances) - self.values)\n",
      "/pbs/throng/training/nantes-m2-rps-exp/miniconda3/envs/qqbar2mumu/lib/python3.9/site-packages/mplhep/utils.py:197: RuntimeWarning: All sumw are zero!  Cannot compute meaningful error bars\n",
      "  return np.abs(method_fcn(self.values, variances) - self.values)\n"
     ]
    },
    {
     "data": {
      "text/plain": [
       "<matplotlib.legend.Legend at 0x7f1da0d9d7f0>"
      ]
     },
     "execution_count": 15,
     "metadata": {},
     "output_type": "execute_result"
    },
    {
     "data": {
      "image/png": "[encoded data removed]",
      "text/plain": [
       "<Figure size 640x480 with 1 Axes>"
      ]
     },
     "metadata": {},
     "output_type": "display_data"
    }
   ],
   "source": [
    "hMass2Gen.plot(color = \"blue\", label = \"Gen\")\n",
    "hMass_OSEvents.plot(color = \"red\", label = \"Events\")\n",
    "#plt.yscale('log')\n",
    "plt.ylabel(\"# of tracks\")\n",
    "plt.grid(True)\n",
    "plt.legend()"
   ]
  },
  {
   "cell_type": "code",
   "execution_count": 16,
   "id": "6afe3054-c022-477c-aa08-a40fdc2c9a10",
   "metadata": {},
   "outputs": [
    {
     "ename": "SyntaxError",
     "evalue": "EOL while scanning string literal (258177345.py, line 4)",
     "output_type": "error",
     "traceback": [
      "\u001b[0;36m  Cell \u001b[0;32mIn[16], line 4\u001b[0;36m\u001b[0m\n\u001b[0;31m    \"\"\" Axes abscisses utilisables \"\"\"\"\u001b[0m\n\u001b[0m                                       ^\u001b[0m\n\u001b[0;31mSyntaxError\u001b[0m\u001b[0;31m:\u001b[0m EOL while scanning string literal\n"
     ]
    }
   ],
   "source": [
    "ys_fit = []\n",
    "#xs_ = [-1, 0, 1, 2, 3, 4, 5, 6, 7, 8, 9, 10, 11, 12, 13, 14, 15, 16, 17, 18, 19]\n",
    "#xs_ = [-1, 0, 1, 2, 3, 4, 5, 6, 7, 8, 9]\n",
    "\"\"\" Axes abscisses utilisables \"\"\"\"\n",
    "xs_ = [ 0.,  0.1, 0.2, 0.3, 0.4, 0.5, 0.6, 0.7, 0.8, 0.9, 1.,  1.1, 1.2, 1.3, 1.4, 1.5, 1.6, 1.7,\n",
    " 1.8, 1.9, 2.,  2.1, 2.2, 2.3, 2.4, 2.5, 2.6, 2.7, 2.8, 2.9, 3.,  3.1, 3.2, 3.3, 3.4, 3.5,\n",
    " 3.6, 3.7, 3.8, 3.9, 4.,  4.1, 4.2, 4.3, 4.4, 4.5, 4.6, 4.7, 4.8, 4.9, 5.,  5.1, 5.2, 5.3,\n",
    " 5.4, 5.5, 5.6, 5.7, 5.8, 5.9, 6.,  6.1, 6.2, 6.3, 6.4, 6.5, 6.6, 6.7, 6.8, 6.9, 7.,  7.1,\n",
    " 7.2, 7.3, 7.4, 7.5, 7.6, 7.7, 7.8, 7.9, 8.,  8.1, 8.2, 8.3, 8.4, 8.5, 8.6, 8.7, 8.8, 8.9,\n",
    " 9.,  9.1, 9.2, 9.3, 9.4, 9.5, 9.6, 9.7, 9.8, 9.9]\n",
    "\n",
    "xs_events = [0.5, 0.6, 0.7, 0.8, 0.9, 1.,  1.1, 1.2, 1.3, 1.4, 1.5, 1.6, 1.7,\n",
    " 1.8, 1.9, 2., 2.1, 2.2, 2.3, 2.4, 2.5, 2.6, 2.7, 2.8, 2.9, 3.,  3.1, 3.2, 3.3, 3.4, 3.5,\n",
    " 3.6, 3.7, 3.8, 3.9, 4.,  4.1, 4.2, 4.3, 4.4, 4.5, 4.6, 4.7, 4.8, 4.9, 5.,  5.1, 5.2, 5.3,\n",
    " 5.4, 5.5, 5.6, 5.7, 5.8, 5.9, 6.,  6.1, 6.2, 6.3, 6.4, 6.5, 6.6, 6.7, 6.8, 6.9, 7.,  7.1,\n",
    " 7.2, 7.3, 7.4, 7.5, 7.6, 7.7, 7.8, 7.9, 8.,  8.1, 8.2, 8.3, 8.4, 8.5, 8.6, 8.7, 8.8, 8.9,\n",
    " 9.,  9.1, 9.2, 9.3, 9.4, 9.5, 9.6, 9.7, 9.8, 9.9, 10, 10.1, 10.2, 10.3, 10.4]\n",
    "#def feat(A,x,a,b):    \n",
    " #   return A*x/(1+(x/a)**2)**b\n",
    "\n",
    "\"\"\"Definition de la fonction de fit pour la distribution en impulsion transverse\"\"\"\n",
    "def feat(x, A, a, n, b) :\n",
    "    x=x-b\n",
    "    return A*x*(1 + (a/n)*x*x)**(-n)\n",
    "    \n",
    "\"\"\" Calcul valeur de la fonction pour les paramètres donnés \"\"\"\n",
    "for i in xs_:\n",
    "    ys_fit.append(feat(i, 8.5e4,0.7, 2.8,0))\n",
    "\n",
    "\"\"\" Définition des erreurs \"\"\"\n",
    "y_error = np.array(np.sqrt(hPtEvents))\n",
    "y_error_gen = np.array(np.sqrt(hPtGen))\n",
    "\n",
    "    \n",
    "hPtEvents.plot(color = \"blue\", label = \"no cut\")\n",
    "#hPt_cut.plot(color = \"red\", label = \"cut\")\n",
    "plt.yscale('log')\n",
    "plt.ylabel(\"# of tracks\")\n",
    "plt.grid(True)\n",
    "plt.legend()\n",
    "plt.plot(xs_events, ys_fit,color = \"red\", label = \"fit\")\n",
    "\n",
    "y_error_cut=y_error[10:]\n",
    "y_error_gen_cut = y_error_gen[10:]\n",
    "\n",
    "print(ys_fit)\n",
    "print(y_error_cut)\n",
    "print(y_error_gen_cut)"
   ]
  },
  {
   "cell_type": "code",
   "execution_count": null,
   "id": "083a5220-2c71-46bc-9110-fcd2936f2401",
   "metadata": {},
   "outputs": [],
   "source": [
    "y_error_bis =[]\n",
    "y_error_gen_bis = []\n",
    "\n",
    "\"\"\"certaines erreurs valent 0 ce qui créer des problèmes dans les fits, on ajoute donc une erreur faible qui \n",
    "n'influence pas la précision du résultat\"\"\"\n",
    "\n",
    "for i in y_error_cut :\n",
    "    if i==0 :\n",
    "        y_error_bis.append(0.00000001)\n",
    "    else :\n",
    "        y_error_bis.append(i)\n",
    "        \n",
    "for i in y_error_gen_cut :\n",
    "    if i==0 :\n",
    "        y_error_gen_bis.append(0.00000001)\n",
    "    else :\n",
    "        y_error_gen_bis.append(i)\n",
    "\n",
    "\n",
    "print(y_error_bis)\n",
    "print(y_error_gen_bis)"
   ]
  },
  {
   "cell_type": "code",
   "execution_count": null,
   "id": "557462b2-72aa-45e5-84ed-22e79caeae75",
   "metadata": {},
   "outputs": [],
   "source": [
    "ys_fit_gen = []\n",
    "\n",
    "#augmenter basse la pente, et reduire \n",
    "for i in xs_:\n",
    "    ys_fit_gen.append(feat(i,2.5e5, 0.45, 3.3,0))\n",
    "    i+= 1\n",
    "\n",
    "\n",
    "hPtGen.plot(color = \"blue\", label = \"no cut\")\n",
    "#hPt_cut.plot(color = \"red\", label = \"cut\")\n",
    "plt.yscale('log')\n",
    "plt.ylabel(\"# of tracks\")\n",
    "plt.grid(True)\n",
    "plt.legend()   \n",
    "plt.plot(xs_, ys_fit_gen,color = \"red\", label = \"fit\")"
   ]
  },
  {
   "cell_type": "code",
   "execution_count": null,
   "id": "c74c2662-a4c7-498d-8555-a578a3445748",
   "metadata": {},
   "outputs": [],
   "source": [
    "#print(ys_fit)\n",
    "print(ys_fit)\n",
    "print(ys_fit_gen)\n",
    "print(sum(ys_fit))\n",
    "print(sum(ys_fit_gen))\n",
    "print(sum(ys_fit)/sum(ys_fit_gen))\n",
    "\n",
    "len(ys_fit)\n",
    "test=[]\n",
    "\n",
    "ys_fit.remove(0)\n",
    "ys_fit_gen.remove(0)\n",
    "\n",
    "for i in range(len(ys_fit)):\n",
    "    test.append(ys_fit[i]/ys_fit_gen[i])\n",
    "\n",
    "print(\"TEST : \", test)"
   ]
  },
  {
   "cell_type": "code",
   "execution_count": null,
   "id": "d4b78bfc-f233-461c-8526-00e4f6338cd1",
   "metadata": {},
   "outputs": [],
   "source": [
    "print(len(y_error_bis))\n",
    "print(y_error_bis)\n",
    "print(len(ys_fit))\n",
    "\n",
    "print(type(ys_fit[1]))"
   ]
  },
  {
   "cell_type": "code",
   "execution_count": null,
   "id": "6bbf9ec7-264a-4b61-a056-56c98207b266",
   "metadata": {},
   "outputs": [],
   "source": [
    "\"\"\"################ EVENTS ################\"\"\"\n",
    "ys=hPtEvents.view().tolist()\n",
    "x=list(range(0,100))\n",
    "\n",
    "\"\"\" Centrage des valeurs en x et y par rapport aux bins \"\"\"\n",
    "hPtEvents\n",
    "y,x = hPtEvents[0.5*1j:10*1j].to_numpy() \n",
    "x=x[:-1]+(x[1]-x[0])/2\n",
    "\n",
    "\"\"\" Paramètres de fit des distributions originales générées et de détection \"\"\"\n",
    "#print(y,x)\n",
    "#p0=(3.3*10e5, 0.5)\n",
    "p0_event=(5.5e4,0.35, 3.6,0.5) #events\n",
    "p0_gen=(2.5e5, 0.45, 3.3, 0) #gen\n",
    "ys_bis=ys[10:]\n",
    "xs=xs_[10:]\n",
    "#print(\"len ys_bis: \", len(ys_bis))\n",
    "#print(\"len xs: \", len(xs))\n",
    "#print(\"len ys_error_bis: \", len(y_error_bis))\n",
    "#print(xs)\n",
    "\n",
    "\"\"\" Contraintes appliquées aux paramètres pour obtenir un fit cohérent \"\"\"\n",
    "min=[p0_event[0], p0_event[1]*0.9, p0_event[2]*0.9]\n",
    "max=[p0_event[0]*5, p0_event[1]*1.1, p0_event[2]*1.1]\n",
    "\n",
    "popt, pcov, nfev, fvec, fjac  =curve_fit(feat, xdata=x, ydata = y, sigma = np.sqrt(y), p0 = p0_event, method = 'trf', full_output = True)\n",
    "parametre=[popt, pcov, nfev, fvec, fjac]\n",
    "\n",
    "\n",
    "print(\"popt:\", popt)\n",
    "#print(\"pcov:\", pcov)\n",
    "#print(\"nfev:\", nfev)\n",
    "#print(\"fjac:\", fjac)\n",
    "#print(parametre)\n",
    "\"\"\" Tracer test du fit de la distribution de détection \"\"\"\n",
    "hPtEvents.plot(color = \"blue\", label = \"no cut\")\n",
    "plt.plot(x, feat(x, *popt), color=\"red\", label = \"fit\")\n",
    "plt.yscale('log')\n",
    "#plt.plot(x, feat(x, *p0_event), color=\"green\", label=\"fit la mano\")\n",
    "plt.legend()\n",
    "plt.plot(x,y, \"+k\")\n",
    "#plt.plot(xs_,feat(np.array(xs_), 8.5e4,0.7, 2.8, 0.5))"
   ]
  },
  {
   "cell_type": "code",
   "execution_count": null,
   "id": "8d95c436-092a-487c-ab5d-4cf3e0c5f230",
   "metadata": {},
   "outputs": [],
   "source": [
    "\"\"\"################ GENERTION ################\"\"\"\n",
    "ys_G=hPtGen.view().tolist()\n",
    "x=list(range(0,100))\n",
    "#xs=np.linspace(0, 100, num=100, endpoint=True, retstep=False, dtype=None, axis=0)\n",
    "#print(ys,len(ys))\n",
    "#print(xs, len(xs))\n",
    "\n",
    "\"\"\" Centrage des valeurs en x et y par rapport aux bins \"\"\"\n",
    "hPtGen\n",
    "y,x = hPtGen[0.5*1j:10*1j].to_numpy() \n",
    "x=x[:-1]+(x[1]-x[0])/2\n",
    "\n",
    "\"\"\" Paramètres de fit des distributions originales générées et de détection \"\"\"\n",
    "p0_event=(5.5e4,0.35, 3.6,0.5) #events\n",
    "p0_gen=(2.5e5, 0.45, 3.3, 0) #gen\n",
    "ys_bis=ys[10:]\n",
    "xs=xs_[10:]\n",
    "#print(\"len ys_bis: \", len(ys_bis))\n",
    "#print(\"len xs: \", len(xs))\n",
    "#print(\"len ys_error_bis: \", len(y_error_bis))\n",
    "#print(xs)\n",
    "\"\"\" Contraintes appliquées aux paramètres pour obtenir un fit cohérent \"\"\"\n",
    "min=[p0_gen[0], p0_gen[1]*0.9, p0_gen[2]*0.9]\n",
    "max=[p0_gen[0]*5, p0_gen[1]*1.1, p0_gen[2]*1.1]\n",
    "\n",
    "popt_gen, pcov, nfev, fvec, fjac  =curve_fit(feat, xdata=x, ydata = y, sigma = np.sqrt(y), p0 = p0_gen, method = 'trf', full_output = True)\n",
    "parametre=[popt, pcov, nfev, fvec, fjac]\n",
    "\n",
    "\n",
    "print(\"popt gen:\", popt_gen)\n",
    "#print(\"pcov:\", pcov)\n",
    "#print(\"nfev:\", nfev)\n",
    "#print(\"fjac:\", fjac)\n",
    "#print(parametre)\n",
    "\"\"\" Tracer test du fit de la distribution de génération\"\"\"\n",
    "hPtGen.plot(color = \"blue\", label = \"no cut\")\n",
    "plt.plot(x, feat(x, *popt_gen), color=\"red\", label = \"fit\")\n",
    "plt.yscale('log')\n",
    "#plt.plot(x, feat(x, *p0_event), color=\"green\", label=\"fit la mano\")\n",
    "plt.legend()\n",
    "plt.plot(x,y, \"+k\")\n",
    "#plt.plot(xs_,feat(np.array(xs_), 8.5e4,0.7, 2.8, 0.5))"
   ]
  },
  {
   "cell_type": "code",
   "execution_count": null,
   "id": "a4df03b6-22fc-4f13-89e4-b6454d8cbaf3",
   "metadata": {},
   "outputs": [],
   "source": [
    "\"\"\" Calcul de l'intégrale \"\"\"\n",
    "print(quad(feat, 0, 10, args = (*popt[:4],)))\n",
    "#(7395751.147067841, 0.00038774019293441597)\n",
    "print(89156/0.1)"
   ]
  },
  {
   "cell_type": "code",
   "execution_count": null,
   "id": "f6dcd88b-1a0a-4410-96e3-44df2fbec014",
   "metadata": {},
   "outputs": [],
   "source": [
    "\"\"\" Axe des abscisses \"\"\"\n",
    "x_feat = np.linspace(0.6,10,190)\n",
    "print(x_feat)\n",
    "print(len(x_feat))\n"
   ]
  },
  {
   "cell_type": "code",
   "execution_count": null,
   "id": "35741450-f60a-442d-b297-524fc1cb2a7d",
   "metadata": {},
   "outputs": [],
   "source": [
    "\"\"\" Liste des valeurs issues du fit de la distribution originale \"\"\"\n",
    "feat(x, *popt).view().tolist()\n",
    "y_feat = feat(x, *popt).view().tolist()\n",
    "#print(y_feat)\n",
    "#print(len(y_feat))\n",
    "#print(sum(y_feat))\n",
    "#print(\"Gênes\") \n",
    "feat(x, *popt_gen).view().tolist()\n",
    "y_feat_gen = feat(x, *popt_gen).view().tolist()\n",
    "#print(y_feat_gen)\n",
    "#print(len(y_feat_gen))\n",
    "#print(sum(y_feat_gen))\n",
    "\n",
    "\"\"\"AxE du fit de la distribution originale\"\"\"\n",
    "Axe_deo = []\n",
    "for i in range(190):\n",
    "    Axe_deo.append( y_feat[i]/y_feat_gen[i])\n",
    "    \n",
    "print(\"Axe\", Axe_deo)\n"
   ]
  },
  {
   "cell_type": "code",
   "execution_count": null,
   "id": "1ea5f3a1-ff8a-49cb-8f35-2e4b42e57afb",
   "metadata": {},
   "outputs": [],
   "source": [
    "\"\"\" Tracer des fits des distributions originales et modifiées des events\"\"\"\n",
    "#popt: [8.34737792e+04 6.68811285e-01 2.73597105e+00 4.87838627e-01]\n",
    "\"\"\"\n",
    "A_ = 56690.743\n",
    "a_ = 0.4 #0.4\n",
    "n_ = 3.6 #3.6\n",
    "b_ = 0.5\"\"\"\n",
    "\n",
    "A_ = 53329.33\n",
    "a_ = 0.4 #0.4\n",
    "n_ = 3.1 #3.6\n",
    "b_ = 0.5\n",
    "\n",
    "A_2 = 95596.95\n",
    "a_2 = 0.61\n",
    "n_2 = 5\n",
    "b_2 = 0.48\n",
    "\"\"\"A_2 = 85596.95\n",
    "a_2 = 0.58\n",
    "n_2 = 3.1\n",
    "b_2 = 0.48\"\"\"\n",
    "\n",
    "plt.plot(x, feat(x, A_2, a_2, n_2, b_2), color=\"blue\", label = \"Highdy distribution\")\n",
    "plt.plot(x, feat(x, *popt), color=\"red\", label = \"Original distribution\")\n",
    "plt.plot(x, feat(x, A_, a_, n_, b_), color=\"green\", label = \"Lowrel distribution\")\n",
    "#plt.xlabel(\"Pt\")\n",
    "plt.ylabel(\"N event\")\n",
    "plt.yscale(\"log\")\n",
    "plt.grid()\n",
    "plt.legend()\n",
    "print(\"(a)\", \"    \", \"(b)\")"
   ]
  },
  {
   "cell_type": "code",
   "execution_count": null,
   "id": "9ec65065-2a95-40c1-9158-917f54bc7db5",
   "metadata": {},
   "outputs": [],
   "source": [
    "\"\"\" Tracer des fits des distributions originales et modifiées de génération\"\"\"\n",
    "#popt gen: [3.07735399e+05 6.06249282e-01 2.93363432e+00 1.57792176e-01]\n",
    "\n",
    "\n",
    "A_gen = 238705.36\n",
    "a_gen = 0.51\n",
    "n_gen = 2.6\n",
    "b_gen = 0.20\n",
    "\n",
    "#342495.16 0.55 5 0.13\n",
    "A_gen_2 = 342495.16\n",
    "a_gen_2 = 0.55\n",
    "n_gen_2 = 5\n",
    "b_gen_2 = 0.13\n",
    "\n",
    "plt.plot(x, feat(x, A_gen_2, a_gen_2, n_gen_2, b_gen_2), color=\"blue\", label = \"Highdy distribution\")\n",
    "plt.plot(x, feat(x, *popt_gen), color=\"red\", label = \"Original distribution\")\n",
    "plt.plot(x, feat(x, A_gen, a_gen, n_gen, b_gen), color=\"green\", label = \"Lowrel distribution\")\n",
    "plt.ylabel(\"N event\")\n",
    "plt.yscale(\"log\")\n",
    "plt.grid()\n",
    "plt.legend()"
   ]
  },
  {
   "cell_type": "code",
   "execution_count": null,
   "id": "950fc350-d4c6-4a7e-a772-854f2eafb843",
   "metadata": {},
   "outputs": [],
   "source": [
    "\"\"\"Test de normalisation des distributions modifiées\"\"\"\n",
    "\n",
    "feat(x, A_, a_, n_, b_).view().tolist()\n",
    "y_geo_1 = feat(x, A_, a_, n_, b_).view().tolist()\n",
    "\n",
    "feat(x, A_2, a_2, n_2, b_2).view().tolist()\n",
    "y_geo_2 = feat(x, A_2, a_2, n_2, b_2).view().tolist()\n",
    "\n",
    "\n",
    "feat(x, A_gen, a_gen, n_gen, b_gen).view().tolist()\n",
    "y_geo_gen_1 = feat(x, A_gen, a_gen, n_gen, b_gen).view().tolist()\n",
    "\n",
    "feat(x, A_gen_2, a_gen_2, n_gen_2, b_gen_2).view().tolist()\n",
    "y_geo_gen_2 = feat(x, A_gen_2, a_gen_2, n_gen_2, b_gen_2).view().tolist()\n",
    "\n",
    "\n",
    "print(\"xxxxxxxx========================================= Geogebra Event ==================================================================xxxxxxxxxx\")\n",
    "print(y_geo_1)\n",
    "print(len(y_geo_1))\n",
    "print(sum(y_geo_1))\n",
    "print(\"-----------------------------------------------------------------------------------------------------------------------------------------------\")\n",
    "print(y_geo_2)\n",
    "print(len(y_geo_2))\n",
    "print(sum(y_geo_2))\n",
    "print(\"xxxxxxxx========================================= Geogebra Gen ==================================================================xxxxxxxxxx\")\n",
    "print(y_geo_gen_1)\n",
    "print(len(y_geo_gen_1))\n",
    "print(sum(y_geo_gen_1))\n",
    "print(\"-----------------------------------------------------------------------------------------------------------------------------------------------\")\n",
    "print(y_geo_gen_2)\n",
    "print(len(y_geo_gen_2))\n",
    "print(sum(y_geo_gen_2))"
   ]
  },
  {
   "cell_type": "code",
   "execution_count": null,
   "id": "3958c742-6d62-4a67-9ca0-85a27971640d",
   "metadata": {},
   "outputs": [],
   "source": [
    "\"\"\"Test des valeurs AxE obtenues pour les distributions modifiées\"\"\"\n",
    "Axe_syst_1 = []\n",
    "Axe_syst_2 = []\n",
    "\n",
    "\n",
    "for i in range(190):\n",
    "    Axe_syst_1.append( y_geo_1[i]/y_geo_gen_1[i])\n",
    "    Axe_syst_2.append( y_geo_2[i]/y_geo_gen_2[i])\n",
    "    \n",
    "print(\"xxxxxxxx========================================= Test 1 ==================================================================xxxxxxxxxx\")   \n",
    "print(\"Axe du test 1\", Axe_syst_1)\n",
    "print(\"xxxxxxxx========================================= Test 2 ==================================================================xxxxxxxxxx\")\n",
    "print(\"Axe du test 2\", Axe_syst_2)"
   ]
  },
  {
   "cell_type": "code",
   "execution_count": null,
   "id": "7dfc2cf0-e29f-438b-be1d-03dc0851e4bb",
   "metadata": {},
   "outputs": [],
   "source": [
    "\"\"\"Séparation en intervalles en pt pour le fit de la distribution Lowrel\"\"\"\n",
    "sous_liste1_bas = Axe_syst_1[0:10]\n",
    "sous_listes_bas = Axe_syst_1[10:110]\n",
    "sous_liste_bas_6_8 = Axe_syst_1[110:150]\n",
    "print(sous_liste1_bas, len(sous_liste1_bas))\n",
    "print(sous_listes_bas, len(sous_listes_bas))\n",
    "print(sous_liste_bas_6_8,len(sous_liste_bas_6_8))\n",
    "\n",
    "array1_bas = np.array(sous_liste1_bas)\n",
    "array_last_bas = np.mean(np.array(sous_liste_bas_6_8))\n",
    "taille_sous_liste_bas = len(sous_listes_bas) // 5  # Taille de chaque sous-liste\n",
    "sous_listes_sep_bas = [sous_listes_bas[i:i+taille_sous_liste_bas] for i in range(0, len(sous_listes_bas), taille_sous_liste_bas)]\n",
    "Axe_syst_bas = [np.mean(array1_bas)];\n",
    "\n",
    "for i in sous_listes_sep_bas :\n",
    "    print(\"taille sous liste :\", len(i))\n",
    "    Axe_int = i\n",
    "    array = np.array(Axe_int)\n",
    "    Axe = np.mean(array)\n",
    "    Axe_syst_bas.append(Axe)\n",
    "    \n",
    "Axe_syst_bas.append(array_last_bas)\n",
    "print(Axe_syst_bas, len(Axe_syst_bas))"
   ]
  },
  {
   "cell_type": "code",
   "execution_count": null,
   "id": "8cd44959-4436-47f5-b5c2-91038141d1a9",
   "metadata": {},
   "outputs": [],
   "source": [
    "\"\"\"Séparation en intervalles en pt pour le fit de la distribution Highdy\"\"\"\n",
    "sous_liste1_haut = Axe_syst_2[0:10]\n",
    "sous_listes_haut = Axe_syst_2[10:110]\n",
    "sous_liste_haut_6_8 = Axe_syst_2[110:150]\n",
    "print(sous_liste1_haut, len(sous_liste1_haut))\n",
    "print(sous_listes_haut, len(sous_listes_haut))\n",
    "print(sous_liste_haut_6_8,len(sous_liste_haut_6_8))\n",
    "\n",
    "array1_haut = np.array(sous_liste1_haut)\n",
    "array_last_haut = np.mean(np.array(sous_liste_haut_6_8))\n",
    "taille_sous_liste_haut = len(sous_listes_haut) // 5  # Taille de chaque sous-liste\n",
    "sous_listes_sep_haut = [sous_listes_haut[i:i+taille_sous_liste_haut] for i in range(0, len(sous_listes_haut), taille_sous_liste_haut)]\n",
    "Axe_syst_haut = [np.mean(array1_haut)];\n",
    "\n",
    "for i in sous_listes_sep_haut :\n",
    "    print(\"taille sous liste :\", len(i))\n",
    "    Axe_int = i\n",
    "    array = np.array(Axe_int)\n",
    "    Axe = np.mean(array)\n",
    "    Axe_syst_haut.append(Axe)\n",
    "    \n",
    "Axe_syst_haut.append(array_last_haut)\n",
    "print(Axe_syst_haut, len(Axe_syst_haut))"
   ]
  },
  {
   "cell_type": "code",
   "execution_count": null,
   "id": "3960ac87-d5d3-4e68-ba1c-9fb008e539a4",
   "metadata": {},
   "outputs": [],
   "source": [
    "\"\"\"Séparation en intervalles en pt pour le fit de la distribution originale\"\"\"\n",
    "sous_liste1_deo = Axe_deo[0:10]\n",
    "sous_listes_deo = Axe_deo[10:110]\n",
    "sous_liste_deo_6_8 = Axe_deo[110:150]\n",
    "print(sous_liste1_deo, len(sous_liste1_deo))\n",
    "print(sous_listes_deo, len(sous_listes_deo))\n",
    "print(sous_liste_deo_6_8,len(sous_liste_deo_6_8))\n",
    "\n",
    "array1_deo = np.array(sous_liste1_deo)\n",
    "array_last_deo = np.mean(np.array(sous_liste_deo_6_8))\n",
    "taille_sous_liste_deo = len(sous_listes_deo) // 5  # Taille de chaque sous-liste\n",
    "sous_listes_sep_deo = [sous_listes_deo[i:i+taille_sous_liste_deo] for i in range(0, len(sous_listes_deo), taille_sous_liste_deo)]\n",
    "Axe_syst_deo = [np.mean(array1_deo)];\n",
    "\n",
    "for i in sous_listes_sep_deo :\n",
    "    print(\"taille sous liste :\", len(i))\n",
    "    Axe_int = i\n",
    "    array = np.array(Axe_int)\n",
    "    Axe = np.mean(array)\n",
    "    Axe_syst_deo.append(Axe)\n",
    "    \n",
    "Axe_syst_deo.append(array_last_deo)\n",
    "print(Axe_syst_deo, len(Axe_syst_deo))\n",
    "#0.13119024108960656, 0.2743835628472068, 0.32626889677961574, 0.3339708470450808, 0.335869956060748, 0.33913256994546065, 0.3473240687828443]"
   ]
  },
  {
   "cell_type": "code",
   "execution_count": null,
   "id": "64d47b3d-102d-4850-807e-628839a181d9",
   "metadata": {},
   "outputs": [],
   "source": [
    "#AxE = [0.223130404840281, 0.21689573450226, 0.22067882735739, 0.237399008441708, 0.269284001793196, 0.313557256560439, 0.372811532110231]\n",
    "\"\"\"Distribution \"\"\"\n",
    "\n",
    "delta_bas =[]\n",
    "delta_haut=[]\n",
    "\n",
    "for i in range (len(Axe_syst_deo)) :\n",
    "    delta_bas.append(Axe_syst_deo[i]-Axe_syst_bas[i])\n",
    "    delta_haut.append(Axe_syst_deo[i]-Axe_syst_haut[i])\n",
    "    \n",
    "print(\"delta bas :\", delta_bas)\n",
    "print(\"delta haut :\",delta_haut)\n",
    "print(\"deo\", Axe_syst_deo)\n",
    "print(\"bas\", Axe_syst_bas)\n",
    "print(\"haut\", Axe_syst_haut)"
   ]
  },
  {
   "cell_type": "code",
   "execution_count": null,
   "id": "f0270df6-8484-4a79-ad75-6e2f9d61105b",
   "metadata": {},
   "outputs": [],
   "source": [
    "\"\"\" Calcul de Axe total pour les distributions modifiées et les différences par rapport à la \n",
    "distribution initiale \"\"\"\n",
    "\n",
    "axe_tot_haut = sum(Axe_syst_haut)/len(Axe_syst_haut)\n",
    "print(axe_tot_haut)\n",
    "axe_tot_bas = sum(Axe_syst_bas)/len(Axe_syst_bas)\n",
    "print(axe_tot_bas)\n",
    "axe_tot = sum(Axe_syst_deo)/len(Axe_syst_deo)\n",
    "print(axe_tot)\n",
    "print(\"A - H : \", axe_tot - axe_tot_haut)\n",
    "print(\"A - L : \", axe_tot - axe_tot_bas)\n"
   ]
  },
  {
   "cell_type": "code",
   "execution_count": null,
   "id": "47054623-bfe9-4168-b550-2d7aa9f9bb46",
   "metadata": {},
   "outputs": [],
   "source": []
  }
 ],
 "metadata": {
  "kernelspec": {
   "display_name": "Python 3.9 - M2 RPS EXP",
   "language": "python",
   "name": "nantes-m2-rps-exp"
  },
  "language_info": {
   "codemirror_mode": {
    "name": "ipython",
    "version": 3
   },
   "file_extension": ".py",
   "mimetype": "text/x-python",
   "name": "python",
   "nbconvert_exporter": "python",
   "pygments_lexer": "ipython3",
   "version": "3.9.18"
  }
 },
 "nbformat": 4,
 "nbformat_minor": 5
}
