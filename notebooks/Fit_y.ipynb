{
 "cells": [
  {
   "cell_type": "code",
   "execution_count": 1,
   "id": "77632d4f-66e0-4946-bb68-314f7ad7d9ea",
   "metadata": {},
   "outputs": [
    {
     "name": "stdout",
     "output_type": "stream",
     "text": [
      "uproot version 5.0.12\n",
      "awkward version 2.4.3\n",
      "numpy version 1.25.2\n",
      "matplotlib version 3.8.0\n",
      "hist version 2.7.2\n",
      "vector version 1.1.1\n",
      "pandas version 1.5.3\n"
     ]
    }
   ],
   "source": [
    "import uproot\n",
    "import awkward as ak\n",
    "import numpy as np\n",
    "import matplotlib\n",
    "import matplotlib.pyplot as plt\n",
    "import math\n",
    "import hist\n",
    "import vector\n",
    "import os\n",
    "import subprocess\n",
    "import gc\n",
    "import pandas as pd\n",
    "from scipy.optimize import curve_fit\n",
    "from scipy.integrate import quad\n",
    "print(\"uproot version\", uproot.__version__)\n",
    "print(\"awkward version\", ak.__version__)\n",
    "print(\"numpy version\", np.__version__)\n",
    "print(\"matplotlib version\", matplotlib.__version__)\n",
    "print(\"hist version\", hist.__version__)\n",
    "print(\"vector version\", vector.__version__)\n",
    "#print(\"os version\", os.__version__)\n",
    "#print(\"subprocess version\", subprocess.__version__)\n",
    "#print(\"gc version\", gc.__version__)\n",
    "print(\"pandas version\", pd.__version__)\n",
    "#print(\"scipy.optimize version\", scipy.optimize.__version__)\n",
    "#print(\"scipy.integrate version\", scipy.integrate.__version__)"
   ]
  },
  {
   "cell_type": "code",
   "execution_count": 2,
   "id": "165848a0-8570-4c38-81fb-85331cbc3946",
   "metadata": {},
   "outputs": [
    {
     "data": {
      "text/html": [
       "<html>\n",
       "<div style=\"display:flex; align-items:center;\">\n",
       "<div style=\"width:290px;\">\n",
       "<svg xmlns=\"http://www.w3.org/2000/svg\" viewBox=\"-10 -105 270 120\">\n",
       "<line x1=\"-5\" y1=\"0\" x2=\"255\" y2=\"0\" style=\"fill:none;stroke-width:2;stroke:currentColor\"/>\n",
       "<text text-anchor=\"middle\" x=\"0\" y=\"15\" style=\"fill:currentColor;\">\n",
       "1.5\n",
       "</text>\n",
       "<text text-anchor=\"middle\" x=\"250\" y=\"15\" style=\"fill:currentColor;\">\n",
       "5\n",
       "</text>\n",
       "<text text-anchor=\"middle\" x=\"125.0\" y=\"15\" style=\"fill:currentColor;\">\n",
       "X\n",
       "</text>\n",
       "<polyline points=\"  0,0   0,-100 2.5,-100 2.5,-95.3   5,-95.3   5,-89.4 7.5,-89.4 7.5,-85.6  10,-85.6  10,-81.4 12.5,-81.4 12.5,-76.5  15,-76.5  15,-73.2 17.5,-73.2 17.5,-69.4  20,-69.4  20,-65.7 22.5,-65.7 22.5,-62.7  25,-62.7  25,-59.8 27.5,-59.8 27.5,-56.7  30,-56.7  30,-53.5 32.5,-53.5 32.5,-51  35,-51  35,-48.3 37.5,-48.3 37.5,-45.6  40,-45.6  40,-43.1 42.5,-43.1 42.5,-41  45,-41  45,-39.5 47.5,-39.5 47.5,-37.4  50,-37.4  50,-35.4 52.5,-35.4 52.5,-33.9  55,-33.9  55,-32 57.5,-32 57.5,-30.1  60,-30.1  60,-29.1 62.5,-29.1 62.5,-27.7  65,-27.7  65,-26.5 67.5,-26.5 67.5,-25.1  70,-25.1  70,-24.2 72.5,-24.2 72.5,-23.2  75,-23.2  75,-21.9 77.5,-21.9 77.5,-21.1  80,-21.1  80,-20.5 82.5,-20.5 82.5,-19.5  85,-19.5  85,-18.8 87.5,-18.8 87.5,-18.6  90,-18.6  90,-18 92.5,-18 92.5,-18  95,-18  95,-18.5 97.5,-18.5 97.5,-19.3 100,-19.3 100,-22 102.5,-22 102.5,-25.3 105,-25.3 105,-31.9 107.5,-31.9 107.5,-42.2 110,-42.2 110,-53.7 112.5,-53.7 112.5,-60.5 115,-60.5 115,-56.3 117.5,-56.3 117.5,-42.6 120,-42.6 120,-27.1 122.5,-27.1 122.5,-16.9 125,-16.9 125,-11.7 127.5,-11.7 127.5,-9.4 130,-9.4 130,-8.34 132.5,-8.34 132.5,-7.53 135,-7.53 135,-7.04 137.5,-7.04 137.5,-6.61 140,-6.61 140,-6.5 142.5,-6.5 142.5,-6.16 145,-6.16 145,-6.06 147.5,-6.06 147.5,-6.02 150,-6.02 150,-5.92 152.5,-5.92 152.5,-6.01 155,-6.01 155,-5.8 157.5,-5.8 157.5,-5.57 160,-5.57 160,-5.28 162.5,-5.28 162.5,-4.65 165,-4.65 165,-4.27 167.5,-4.27 167.5,-3.95 170,-3.95 170,-3.89 172.5,-3.89 172.5,-3.75 175,-3.75 175,-3.5 177.5,-3.5 177.5,-3.39 180,-3.39 180,-3.28 182.5,-3.28 182.5,-3.29 185,-3.29 185,-3.15 187.5,-3.15 187.5,-3.03 190,-3.03 190,-3.02 192.5,-3.02 192.5,-2.78 195,-2.78 195,-2.73 197.5,-2.73 197.5,-2.64 200,-2.64 200,-2.55 202.5,-2.55 202.5,-2.48 205,-2.48 205,-2.42 207.5,-2.42 207.5,-2.27 210,-2.27 210,-2.27 212.5,-2.27 212.5,-2.17 215,-2.17 215,-2.06 217.5,-2.06 217.5,-2.03 220,-2.03 220,-1.9 222.5,-1.9 222.5,-1.89 225,-1.89 225,-1.83 227.5,-1.83 227.5,-1.85 230,-1.85 230,-1.74 232.5,-1.74 232.5,-1.71 235,-1.71 235,-1.65 237.5,-1.65 237.5,-1.62 240,-1.62 240,-1.61 242.5,-1.61 242.5,-1.51 245,-1.51 245,-1.53 247.5,-1.53 247.5,-1.4 250,-1.4 250,0\" style=\"fill:none; stroke:currentColor;\"/>\n",
       "</svg>\n",
       "</div>\n",
       "<div style=\"flex=grow:1;\">\n",
       "Regular(100, 1.5, 5, name='$m_{\\\\mu \\\\mu}$', label='X')<br/>\n",
       "<hr style=\"margin-top:.2em; margin-bottom:.2em;\"/>\n",
       "Double() Σ=1907242.0\n",
       "\n",
       "</div>\n",
       "</div>\n",
       "</html>"
      ],
      "text/plain": [
       "Hist(Regular(100, 1.5, 5, name='$m_{\\\\mu \\\\mu}$', label='X'), storage=Double()) # Sum: 1907242.0"
      ]
     },
     "execution_count": 2,
     "metadata": {},
     "output_type": "execute_result"
    }
   ],
   "source": [
    "X = [1.5174999999999998, 1.5525, 1.5875, 1.6225, 1.6574999999999998, 1.6925, 1.7275, 1.7625000000000002, \n",
    "     1.7975, 1.8325, 1.8675000000000002, 1.9025000000000003, 1.9375, 1.9725, 2.0075, 2.0425, 2.0775, 2.1125, \n",
    "     2.1475, 2.1825, 2.2175000000000002, 2.2525, 2.2875, 2.3225, 2.3575, 2.3925, 2.4275, 2.4625, 2.4975, \n",
    "     2.5324999999999998, 2.5675, 2.6025, 2.6375, 2.6725000000000003, 2.7075, 2.7424999999999997, 2.7775, \n",
    "     2.8125, 2.8475, 2.8825000000000003, 2.9175000000000004, 2.9524999999999997, 2.9875, 3.0225, 3.0575, \n",
    "     3.0925, 3.1275, 3.1625, 3.1975, 3.2325, 3.2675, 3.3025, 3.3375, 3.3725000000000005, 3.4074999999999998, \n",
    "     3.4425000000000003, 3.4775, 3.5125, 3.5475, 3.5824999999999996, 3.6174999999999997, 3.6525000000000003, \n",
    "     3.6875, 3.7224999999999997, 3.7575000000000003, 3.7925000000000004, 3.8275, 3.8625, 3.8975, \n",
    "     3.9324999999999997, 3.9675, 4.0024999999999995, 4.0375, 4.0725, 4.1075, 4.1425, 4.1775, 4.2125, \n",
    "     4.2475000000000005, 4.2825, 4.3175, 4.352499999999999, 4.3875, 4.422499999999999, 4.4575, \n",
    "     4.492500000000001, 4.5275, 4.5625, 4.5975, 4.632499999999999, 4.6675, 4.702500000000001, 4.7375, \n",
    "     4.772500000000001, 4.8075, 4.842499999999999, 4.8775, 4.9125, 4.9475, 4.9825]\n",
    "\n",
    "# CMUL + y\n",
    "Y = [81898.0, 78086.0, 73190.0, 70127.0, 66668.0, 62628.0, 59919.0, 56875.0, 53821.0, 51342.0, 48977.0, 46421.0, 43783.0, \n",
    "                 41750.0, 39567.0, 37315.0, 35263.0, 33556.0, 32343.0, 30667.0, 29008.0, 27763.0, 26214.0, 24657.0, 23848.0, 22705.0, \n",
    "                 21726.0, 20570.0, 19859.0, 18978.0, 17906.0, 17301.0, 16759.0, 16000.0, 15369.0, 15237.0, 14775.0, 14780.0, 15125.0, \n",
    "                 15780.0, 18037.0, 20735.0, 26103.0, 34578.0, 43970.0, 49509.0, 46105.0, 34913.0, 22227.0, 13815.0, 9590.0, 7697.0, \n",
    "                 6833.0, 6167.0, 5765.0, 5413.0, 5320.0, 5043.0, 4961.0, 4927.0, 4848.0, 4926.0, 4746.0, 4565.0, 4325.0, 3805.0, 3501.0, \n",
    "                 3235.0, 3185.0, 3072.0, 2864.0, 2776.0, 2688.0, 2693.0, 2581.0, 2480.0, 2470.0, 2277.0, 2235.0, 2161.0, 2089.0, 2031.0, \n",
    "                 1985.0, 1858.0, 1863.0, 1781.0, 1687.0, 1665.0, 1553.0, 1551.0, 1499.0, 1517.0, 1426.0, 1404.0, 1351.0, 1324.0, 1322.0, \n",
    "                 1239.0, 1251.0, 1149.0]\n",
    "\n",
    "vMass_OS = hist.Hist(hist.axis.Regular(bins = 100, start = 1.5, stop = 5, name='$m_{\\mu \\mu}$', label = 'X'))\n",
    "vMass_OS.fill(X, weight = Y)"
   ]
  },
  {
   "cell_type": "code",
   "execution_count": 3,
   "id": "7de12974-2f8d-4e7a-a22e-431de4547d53",
   "metadata": {},
   "outputs": [],
   "source": [
    "def funcVec(x, N, mu, sig, alphaL, nL, alphaR, nR):\n",
    "    AL = ( nL / np.absolute( alphaL ) )**nL * np.exp( -1 * np.absolute( alphaL )**2 / 2 )\n",
    "    AR = ( nR / np.absolute( alphaR ) )**nR * np.exp( -1 * np.absolute( alphaR )**2 / 2 )\n",
    "    BL = nL / np.absolute( alphaL ) - np.absolute( alphaL )\n",
    "    BR = nR / np.absolute( alphaR ) - np.absolute( alphaR )\n",
    "\n",
    "    return np.piecewise(x, \n",
    "                        [( x - mu )/sig < -1 * alphaL, (( x - mu )/sig >= -1 * alphaL) & (( x - mu )/sig <= alphaR).any() , ( x - mu )/sig > alphaR],\n",
    "                        [lambda x: N * AL * (BL - (( x - mu )/sig))**(-nL), lambda x: N * np.exp(-1 * (( x - mu )/sig)**2 / 2), lambda x: N * AR * (BR + ( x - mu )/sig)**(-nR)])\n",
    "\n",
    "def VWG(x, N, mu, alpha, beta):\n",
    "    sigma = alpha + beta*((x-mu)/mu)\n",
    "    return N * np.exp(-(x - mu)**2 / (2*sigma**2))\n",
    "\n",
    "def PR(x, N, a1, b1, b2):\n",
    "    return N * (1 + a1*x) / (b1*x + b2*x)\n",
    "\n",
    "def DE(x, N, alpha, beta1, beta2):\n",
    "    return N * (np.exp(beta1*x) + alpha * np.exp(beta2*x))\n",
    "\n",
    "def fitFunc(x,\n",
    "            N1, mu1, sig1, alphaL1, nL1, alphaR1, nR1,\n",
    "            N2, mu2, sig2, alphaL2, nL2, alphaR2, nR2,\n",
    "            Nbg, a1, a2, a3):\n",
    "    return funcVec(x, N1, mu1, sig1, alphaL1, nL1, alphaR1, nR1) + funcVec(x, N2, mu2, sig2, alphaL2, nL2, alphaR2, nR2) + DE(x, Nbg, a1, a2, a3)"
   ]
  },
  {
   "cell_type": "code",
   "execution_count": 4,
   "id": "fe907a3c-115c-4123-b2b8-5c69353f999b",
   "metadata": {},
   "outputs": [],
   "source": [
    "x_data = np.array(X)\n",
    "y_data = np.array(vMass_OS)\n",
    "y_error = np.array(np.sqrt(vMass_OS))\n",
    "\n",
    "condition = (x_data > 2.0)\n",
    "#condition = True\n",
    "x_filtered = np.ravel(x_data[condition])\n",
    "y_filtered = np.ravel(y_data[condition])\n",
    "y_error_filtered = np.ravel(y_error[condition])\n",
    "\n",
    "x_data = x_filtered\n",
    "y_data = y_filtered\n",
    "y_error = y_error_filtered"
   ]
  },
  {
   "cell_type": "code",
   "execution_count": 5,
   "id": "80e3cdb6-e292-4b9e-8f2a-849d26cec702",
   "metadata": {},
   "outputs": [],
   "source": [
    "p0 = np.array([4.55480661e+04, 3.09865210e+00, 6.61685782e-02, 8.82346075e-01, 3.02220911e+00,\n",
    "               2.02907631e+00, 2.80816984e+00, 1.00000000e+03, 3.69645336e+00, 5.19889713e-02,\n",
    "               1.05368114e+00, 3.30817422e+00, 2.65615253e+00, 2.93595354e+00, 2.27919897e+04,\n",
    "               4.53001147e+01, -5.76132695e-01, -1.64742979e+00])"
   ]
  },
  {
   "cell_type": "code",
   "execution_count": 6,
   "id": "3937be46-4973-42fa-be25-6086f86d1bf4",
   "metadata": {},
   "outputs": [
    {
     "name": "stdout",
     "output_type": "stream",
     "text": [
      "popt: \n",
      " [ 4.18456200e+04  3.09552279e+00  7.14424660e-02  9.71211655e-01\n",
      "  4.84483324e+00  1.78199026e+00  1.41888027e+02  7.82247619e+02\n",
      "  3.72668919e+00  3.79296323e-02 -2.89828330e-01  1.17155333e+02\n",
      "  5.12585350e+00  1.64276716e+02  2.27285697e+04  4.38022704e+01\n",
      " -6.42880566e-01 -1.69023761e+00]\n",
      "pcov: \n",
      " [[ 7.13506784e+04  2.07826378e-02 -8.82512737e-02 -7.59803577e-02\n",
      "  -5.39743821e+01 -9.67714989e+00  1.20970231e+04  7.78371082e+02\n",
      "  -4.09652610e-02  1.56484554e-01  3.29901570e+00  1.59593661e+05\n",
      "  -1.00186463e+07 -9.45020570e-08  2.12432169e+05 -2.11514379e+02\n",
      "  -1.37243004e+00 -2.77136215e+00]\n",
      " [ 2.07826378e-02  2.98399383e-07 -1.65853650e-07 -1.05033324e-05\n",
      "   2.30710158e-04  1.47512431e-06 -7.37019221e-02 -1.83655183e-03\n",
      "   1.15881436e-07 -1.71373802e-07  6.60051521e-06  7.39361905e-01\n",
      "   7.29294045e+00  6.87677914e-14 -7.83129678e-01  1.10273147e-03\n",
      "   5.81102615e-06  6.65726681e-06]\n",
      " [-8.82512737e-02 -1.65853650e-07  4.44573232e-07  1.33506174e-05\n",
      "  -2.73590168e-04  6.01767893e-05 -6.34978676e-01  1.12918261e-03\n",
      "  -3.71443804e-08  3.00113568e-07  1.81913987e-05  1.60952837e+00\n",
      "  -1.92159543e+01 -1.81633436e-13  8.30552299e-01 -1.05022497e-03\n",
      "  -5.87781414e-06 -8.39721973e-06]\n",
      " [-7.59803577e-02 -1.05033324e-05  1.33506174e-05  1.16732227e-03\n",
      "  -3.28956333e-02  1.24256512e-03 -1.32624171e+01  1.65547686e-01\n",
      "  -8.67093753e-06  1.93641850e-05  1.09336433e-04 -4.01756442e+00\n",
      "  -8.77601860e+02 -8.29550713e-12  1.14012013e+02 -1.62974584e-01\n",
      "  -8.51232765e-04 -9.43829412e-04]\n",
      " [-5.39743821e+01  2.30710158e-04 -2.73590168e-04 -3.28956333e-02\n",
      "   1.31737126e+00 -1.58870026e-02  3.30302464e+02 -1.10751853e+01\n",
      "   6.26778633e-04 -1.36488919e-03  1.70248208e-03  1.15353567e+03\n",
      "   6.83039687e+04  6.44805537e-10 -5.71528962e+03  7.86857913e+00\n",
      "   4.20232510e-02  5.04869517e-02]\n",
      " [-9.67714989e+00  1.47512431e-06  6.01767893e-05  1.24256512e-03\n",
      "  -1.58870026e-02  2.96764457e-02 -3.42429207e+02 -1.77455919e-01\n",
      "   1.40502287e-05 -5.59165903e-06  4.69544432e-03  5.93275677e+02\n",
      "   1.06974949e+02  8.59915658e-13  4.37581977e+01 -6.75325673e-02\n",
      "  -3.37994660e-04 -3.08238725e-04]\n",
      " [ 1.20970231e+04 -7.37019221e-02 -6.34978676e-01 -1.32624171e+01\n",
      "   3.30302464e+02 -3.42429207e+02  5.71262118e+06  5.81747116e+03\n",
      "  -5.52152090e-01 -3.39281652e-01 -1.61434886e+02 -1.69339297e+07\n",
      "   4.00486542e+07  3.81098015e-07 -7.10514001e+05  6.58781077e+02\n",
      "   4.44819088e+00  9.89338214e+00]\n",
      " [ 7.78371082e+02 -1.83655183e-03  1.12918261e-03  1.65547686e-01\n",
      "  -1.10751853e+01 -1.77455919e-01  5.81747116e+03  1.35639830e+04\n",
      "   7.98345565e-01 -9.96435842e-01  3.00022676e+00 -2.60420495e+05\n",
      "  -6.18882274e+06 -5.82747330e-08 -1.03060295e+05  2.11515499e+02\n",
      "   9.22845711e-01  1.17024406e-01]\n",
      " [-4.09652610e-02  1.15881436e-07 -3.71443804e-08 -8.67093753e-06\n",
      "   6.26778633e-04  1.40502287e-05 -5.52152090e-01  7.98345565e-01\n",
      "   1.84678347e-04 -1.66220768e-04  1.65863480e-03  2.12880127e+01\n",
      "   4.78319719e+02  4.50336542e-12  9.80263947e+00 -1.88684028e-02\n",
      "  -8.45474116e-05 -2.52548646e-05]\n",
      " [ 1.56484554e-01 -1.71373802e-07  3.00113568e-07  1.93641850e-05\n",
      "  -1.36488919e-03 -5.59165903e-06 -3.39281652e-01 -9.96435842e-01\n",
      "  -1.66220768e-04  2.08147575e-04 -1.70307128e-03 -1.53278339e+01\n",
      "  -1.04718715e+03 -9.86429114e-12 -2.21354302e+01  4.22390498e-02\n",
      "   1.90015058e-04  6.11335553e-05]\n",
      " [ 3.29901570e+00  6.60051521e-06  1.81913987e-05  1.09336433e-04\n",
      "   1.70248208e-03  4.69544432e-03 -1.61434886e+02  3.00022676e+00\n",
      "   1.65863480e-03 -1.70307128e-03  3.94947347e-02  1.78336834e+03\n",
      "   5.44945214e+03  5.10393701e-11  1.17313653e+02 -2.23014533e-01\n",
      "  -1.00291009e-03 -3.36916782e-04]\n",
      " [ 1.59593661e+05  7.39361905e-01  1.60952837e+00 -4.01756442e+00\n",
      "   1.15353567e+03  5.93275677e+02 -1.69339297e+07 -2.60420495e+05\n",
      "   2.12880127e+01 -1.53278339e+01  1.78336834e+03  1.44355460e+08\n",
      "   5.62451774e+08  5.27574772e-06  4.02184940e+06 -1.16362755e+04\n",
      "  -4.41415504e+01  3.32824433e+01]\n",
      " [-1.00186463e+07  7.29294045e+00 -1.92159543e+01 -8.77601860e+02\n",
      "   6.83039687e+04  1.06974949e+02  4.00486542e+07 -6.18882274e+06\n",
      "   4.78319719e+02 -1.04718715e+03  5.44945214e+03  5.62451774e+08\n",
      "   8.13711796e+11  7.66975758e-03  1.73665001e+09 -3.19641084e+06\n",
      "  -1.45874666e+04 -6.12636918e+03]\n",
      " [-9.45020570e-08  6.87677914e-14 -1.81633436e-13 -8.29550713e-12\n",
      "   6.44805537e-10  8.59915658e-13  3.81098015e-07 -5.82747330e-08\n",
      "   4.50336542e-12 -9.86429114e-12  5.10393701e-11  5.27574772e-06\n",
      "   7.66975758e-03  7.22924132e-17  1.63414184e-05 -3.00828781e-08\n",
      "  -1.37273075e-10 -5.75866887e-11]\n",
      " [ 2.12432169e+05 -7.83129678e-01  8.30552299e-01  1.14012013e+02\n",
      "  -5.71528962e+03  4.37581977e+01 -7.10514001e+05 -1.03060295e+05\n",
      "   9.80263947e+00 -2.21354302e+01  1.17313653e+02  4.02184940e+06\n",
      "   1.73665001e+09  1.63414184e-05  1.44200849e+08 -2.33839901e+05\n",
      "  -1.15774870e+03 -8.58521042e+02]\n",
      " [-2.11514379e+02  1.10273147e-03 -1.05022497e-03 -1.62974584e-01\n",
      "   7.86857913e+00 -6.75325673e-02  6.58781077e+02  2.11515499e+02\n",
      "  -1.88684028e-02  4.22390498e-02 -2.23014533e-01 -1.16362755e+04\n",
      "  -3.19641084e+06 -3.00828781e-08 -2.33839901e+05  3.84036072e+02\n",
      "   1.88993089e+00  1.33851357e+00]\n",
      " [-1.37243004e+00  5.81102615e-06 -5.87781414e-06 -8.51232765e-04\n",
      "   4.20232510e-02 -3.37994660e-04  4.44819088e+00  9.22845711e-01\n",
      "  -8.45474116e-05  1.90015058e-04 -1.00291009e-03 -4.41415504e+01\n",
      "  -1.45874666e+04 -1.37273075e-10 -1.15774870e+03  1.88993089e+00\n",
      "   9.33484279e-03  6.75097749e-03]\n",
      " [-2.77136215e+00  6.65726681e-06 -8.39721973e-06 -9.43829412e-04\n",
      "   5.04869517e-02 -3.08238725e-04  9.89338214e+00  1.17024406e-01\n",
      "  -2.52548646e-05  6.11335553e-05 -3.36916782e-04  3.32824433e+01\n",
      "  -6.12636918e+03 -5.75866887e-11 -8.58521042e+02  1.33851357e+00\n",
      "   6.75097749e-03  5.71163535e-03]]\n",
      "residual: \n",
      " {'nfev': 43, 'fvec': array([ 0.88996232,  1.93229466,  2.57639359,  1.95111969, -0.89390893,\n",
      "       -0.68045932, -0.01671641, -1.28127282, -0.23077193,  1.43710149,\n",
      "       -1.19045567, -1.23975122, -1.92423287, -0.94139966, -2.58215769,\n",
      "       -2.57747098, -0.64307793, -1.60699423, -2.47890301, -0.98551669,\n",
      "        0.38828753, -1.20723389,  1.24246998,  1.73794769,  2.0722284 ,\n",
      "        3.73498177, -1.28072785, -0.30108622, -3.26724084, -2.3831012 ,\n",
      "        5.77041263,  3.43570806, -0.73080974, -1.13210722,  1.89419258,\n",
      "       -0.08323135,  0.13402835, -0.08035209, -1.13513602,  0.42999548,\n",
      "        1.06257391,  2.24707219,  0.53650328,  1.82189347,  0.73624084,\n",
      "       -0.6641183 , -1.00989858, -3.08182508, -0.90543186,  2.1356021 ,\n",
      "        0.06854642, -0.14984848,  0.0977453 ,  2.08101168,  0.73232824,\n",
      "        0.61816195,  2.38557967,  2.01632607,  1.73014995, -0.29264124,\n",
      "        0.02630159,  0.22179196, -1.33344775,  0.90505288,  0.11065068,\n",
      "        0.05768248,  0.02995359, -0.24111612, -0.72219198,  0.70285757,\n",
      "       -0.84760563, -0.33050205,  0.56206155, -0.23525873,  1.26592092,\n",
      "        0.03666228,  0.12840681, -1.53078601, -0.35550582, -0.92126082,\n",
      "       -0.62535607, -0.98654622, -1.98919116, -0.74824639, -2.09213304,\n",
      "       -0.18779078])}\n"
     ]
    },
    {
     "name": "stderr",
     "output_type": "stream",
     "text": [
      "/tmp/ipykernel_6149/3209874668.py:3: RuntimeWarning: overflow encountered in scalar power\n",
      "  AR = ( nR / np.absolute( alphaR ) )**nR * np.exp( -1 * np.absolute( alphaR )**2 / 2 )\n",
      "/tmp/ipykernel_6149/3209874668.py:9: RuntimeWarning: invalid value encountered in multiply\n",
      "  [lambda x: N * AL * (BL - (( x - mu )/sig))**(-nL), lambda x: N * np.exp(-1 * (( x - mu )/sig)**2 / 2), lambda x: N * AR * (BR + ( x - mu )/sig)**(-nR)])\n",
      "/tmp/ipykernel_6149/3209874668.py:2: RuntimeWarning: invalid value encountered in scalar power\n",
      "  AL = ( nL / np.absolute( alphaL ) )**nL * np.exp( -1 * np.absolute( alphaL )**2 / 2 )\n",
      "/tmp/ipykernel_6149/3209874668.py:9: RuntimeWarning: invalid value encountered in power\n",
      "  [lambda x: N * AL * (BL - (( x - mu )/sig))**(-nL), lambda x: N * np.exp(-1 * (( x - mu )/sig)**2 / 2), lambda x: N * AR * (BR + ( x - mu )/sig)**(-nR)])\n",
      "/tmp/ipykernel_6149/3209874668.py:2: RuntimeWarning: overflow encountered in scalar power\n",
      "  AL = ( nL / np.absolute( alphaL ) )**nL * np.exp( -1 * np.absolute( alphaL )**2 / 2 )\n",
      "/tmp/ipykernel_6149/3209874668.py:9: RuntimeWarning: overflow encountered in scalar multiply\n",
      "  [lambda x: N * AL * (BL - (( x - mu )/sig))**(-nL), lambda x: N * np.exp(-1 * (( x - mu )/sig)**2 / 2), lambda x: N * AR * (BR + ( x - mu )/sig)**(-nR)])\n"
     ]
    }
   ],
   "source": [
    "popt, pcov, nfev, fvec, fjac = curve_fit(fitFunc, xdata = x_data, ydata = y_data, sigma = y_error, p0 = p0,  method = 'trf', full_output = True)\n",
    "\n",
    "print(\"popt: \\n\", popt) \n",
    "print(\"pcov: \\n\", pcov)\n",
    "print(\"residual: \\n\", nfev)"
   ]
  },
  {
   "cell_type": "code",
   "execution_count": 7,
   "id": "68eca965-475d-4108-8296-09f9a95c99b0",
   "metadata": {},
   "outputs": [
    {
     "data": {
      "image/png": "[encoded data removed]",
      "text/plain": [
       "<Figure size 640x480 with 1 Axes>"
      ]
     },
     "metadata": {},
     "output_type": "display_data"
    }
   ],
   "source": [
    "x_data_fit = np.linspace(min(x_data), max(x_data), len(x_data))\n",
    "plt.errorbar(x_data, y_data, y_error, marker='+', mfc='black', mec='black', ms=2, mew=5, ls='')\n",
    "plt.plot(x_data_fit, fitFunc(x_data_fit, *popt), '-r')\n",
    "plt.plot(x_data_fit, funcVec(x_data_fit, *popt[:7]), '--b')\n",
    "plt.plot(x_data_fit, funcVec(x_data_fit, *popt[7:14]), '--b')\n",
    "plt.plot(x_data_fit, DE(x_data_fit, *popt[14:18]), '--b')\n",
    "plt.yscale('log')\n",
    "plt.ylim(500, 100000)\n",
    "plt.grid(True)"
   ]
  },
  {
   "cell_type": "code",
   "execution_count": 8,
   "id": "095ac343-5a8a-4bb8-9701-e2b9605d37d6",
   "metadata": {},
   "outputs": [
    {
     "name": "stdout",
     "output_type": "stream",
     "text": [
      "(14398.246975090588, 0.00012718746481624014)\n"
     ]
    }
   ],
   "source": [
    "print(quad(fitFunc, 2.7, 3.3, args = (*popt, )))"
   ]
  },
  {
   "cell_type": "code",
   "execution_count": 21,
   "id": "2895dfdc-1164-486e-8a16-166f08f36a25",
   "metadata": {},
   "outputs": [
    {
     "name": "stdout",
     "output_type": "stream",
     "text": [
      "(8736.953599633054, 3.8203367751412005e-05)\n"
     ]
    }
   ],
   "source": [
    "print(quad(funcVec, 0, np.inf, args = (*popt[:7], )))"
   ]
  },
  {
   "cell_type": "code",
   "execution_count": 22,
   "id": "f8f76249-3b2b-4cdf-b8c8-29370c71c86d",
   "metadata": {},
   "outputs": [
    {
     "name": "stdout",
     "output_type": "stream",
     "text": [
      "Signal : 8736.953599633054\n",
      "Bruit : 624507.6268094534\n"
     ]
    }
   ],
   "source": [
    "signal = quad(funcVec, 0, np.inf, args = (*popt[:7], ))[0]\n",
    "bruit = quad(funcVec, 0, np.inf, args = (*popt[7:14], ))[0] + quad(DE, 0, np.inf, args = (*popt[14:18], ))[0]\n",
    "print(\"Signal :\", signal)\n",
    "print(\"Bruit :\", bruit)"
   ]
  },
  {
   "cell_type": "code",
   "execution_count": 23,
   "id": "6194187b-387f-4b4b-9ab7-6c60cd99c23f",
   "metadata": {},
   "outputs": [
    {
     "name": "stdout",
     "output_type": "stream",
     "text": [
      "RSB : 10.97929081028747\n"
     ]
    }
   ],
   "source": [
    "print(\"RSB :\", signal / np.sqrt(signal + bruit))"
   ]
  },
  {
   "cell_type": "code",
   "execution_count": null,
   "id": "5056f01a-56a4-4a0b-85c0-a6f01436448e",
   "metadata": {},
   "outputs": [],
   "source": []
  }
 ],
 "metadata": {
  "kernelspec": {
   "display_name": "Python 3.9 - M2 RPS EXP",
   "language": "python",
   "name": "nantes-m2-rps-exp"
  },
  "language_info": {
   "codemirror_mode": {
    "name": "ipython",
    "version": 3
   },
   "file_extension": ".py",
   "mimetype": "text/x-python",
   "name": "python",
   "nbconvert_exporter": "python",
   "pygments_lexer": "ipython3",
   "version": "3.9.18"
  }
 },
 "nbformat": 4,
 "nbformat_minor": 5
}
