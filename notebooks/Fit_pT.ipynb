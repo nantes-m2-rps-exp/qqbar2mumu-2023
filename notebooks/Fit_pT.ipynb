{
 "cells": [
  {
   "cell_type": "code",
   "execution_count": 1,
   "id": "77632d4f-66e0-4946-bb68-314f7ad7d9ea",
   "metadata": {},
   "outputs": [
    {
     "name": "stdout",
     "output_type": "stream",
     "text": [
      "uproot version 5.0.12\n",
      "awkward version 2.4.3\n",
      "numpy version 1.25.2\n",
      "matplotlib version 3.8.0\n",
      "hist version 2.7.2\n",
      "vector version 1.1.1\n",
      "pandas version 1.5.3\n"
     ]
    }
   ],
   "source": [
    "import uproot\n",
    "import awkward as ak\n",
    "import numpy as np\n",
    "import matplotlib\n",
    "import matplotlib.pyplot as plt\n",
    "import math\n",
    "import hist\n",
    "import vector\n",
    "import os\n",
    "import subprocess\n",
    "import gc\n",
    "import pandas as pd\n",
    "from scipy.optimize import curve_fit\n",
    "from scipy.integrate import quad\n",
    "print(\"uproot version\", uproot.__version__)\n",
    "print(\"awkward version\", ak.__version__)\n",
    "print(\"numpy version\", np.__version__)\n",
    "print(\"matplotlib version\", matplotlib.__version__)\n",
    "print(\"hist version\", hist.__version__)\n",
    "print(\"vector version\", vector.__version__)\n",
    "#print(\"os version\", os.__version__)\n",
    "#print(\"subprocess version\", subprocess.__version__)\n",
    "#print(\"gc version\", gc.__version__)\n",
    "print(\"pandas version\", pd.__version__)\n",
    "#print(\"scipy.optimize version\", scipy.optimize.__version__)\n",
    "#print(\"scipy.integrate version\", scipy.integrate.__version__)"
   ]
  },
  {
   "cell_type": "code",
   "execution_count": 2,
   "id": "165848a0-8570-4c38-81fb-85331cbc3946",
   "metadata": {},
   "outputs": [
    {
     "data": {
      "text/html": [
       "<html>\n",
       "<div style=\"display:flex; align-items:center;\">\n",
       "<div style=\"width:290px;\">\n",
       "<svg xmlns=\"http://www.w3.org/2000/svg\" viewBox=\"-10 -105 270 120\">\n",
       "<line x1=\"-5\" y1=\"0\" x2=\"255\" y2=\"0\" style=\"fill:none;stroke-width:2;stroke:currentColor\"/>\n",
       "<text text-anchor=\"middle\" x=\"0\" y=\"15\" style=\"fill:currentColor;\">\n",
       "1.5\n",
       "</text>\n",
       "<text text-anchor=\"middle\" x=\"250\" y=\"15\" style=\"fill:currentColor;\">\n",
       "5\n",
       "</text>\n",
       "<text text-anchor=\"middle\" x=\"125.0\" y=\"15\" style=\"fill:currentColor;\">\n",
       "X\n",
       "</text>\n",
       "<polyline points=\"  0,0   0,-100 2.5,-100 2.5,-97.9   5,-97.9   5,-93.7 7.5,-93.7 7.5,-91.7  10,-91.7  10,-88.6 12.5,-88.6 12.5,-84.3  15,-84.3  15,-82.1 17.5,-82.1 17.5,-78.8  20,-78.8  20,-75.8 22.5,-75.8 22.5,-73.3  25,-73.3  25,-70.6 27.5,-70.6 27.5,-67.6  30,-67.6  30,-64.4 32.5,-64.4 32.5,-62.3  35,-62.3  35,-59.3 37.5,-59.3 37.5,-56.6  40,-56.6  40,-53.7 42.5,-53.7 42.5,-51.6  45,-51.6  45,-49.8 47.5,-49.8 47.5,-47.7  50,-47.7  50,-45.4 52.5,-45.4 52.5,-43.6  55,-43.6  55,-41.3 57.5,-41.3 57.5,-39.5  60,-39.5  60,-38.1 62.5,-38.1 62.5,-36.5  65,-36.5  65,-35.1 67.5,-35.1 67.5,-33.5  70,-33.5  70,-32.4 72.5,-32.4 72.5,-31.1  75,-31.1  75,-29.7 77.5,-29.7 77.5,-28.7  80,-28.7  80,-27.8 82.5,-27.8 82.5,-26.9  85,-26.9  85,-26 87.5,-26 87.5,-25.7  90,-25.7  90,-25.4 92.5,-25.4 92.5,-25.5  95,-25.5  95,-26.1 97.5,-26.1 97.5,-27.1 100,-27.1 100,-30.7 102.5,-30.7 102.5,-35.2 105,-35.2 105,-43.8 107.5,-43.8 107.5,-57.1 110,-57.1 110,-71.7 112.5,-71.7 112.5,-80.6 115,-80.6 115,-74.9 117.5,-74.9 117.5,-56.9 120,-56.9 120,-36.7 122.5,-36.7 122.5,-23.2 125,-23.2 125,-16.5 127.5,-16.5 127.5,-13.4 130,-13.4 130,-12 132.5,-12 132.5,-10.9 135,-10.9 135,-10.1 137.5,-10.1 137.5,-9.6 140,-9.6 140,-9.34 142.5,-9.34 142.5,-9.08 145,-9.08 145,-8.8 147.5,-8.8 147.5,-8.72 150,-8.72 150,-8.56 152.5,-8.56 152.5,-8.69 155,-8.69 155,-8.27 157.5,-8.27 157.5,-8.03 160,-8.03 160,-7.64 162.5,-7.64 162.5,-6.82 165,-6.82 165,-6.35 167.5,-6.35 167.5,-5.89 170,-5.89 170,-5.73 172.5,-5.73 172.5,-5.63 175,-5.63 175,-5.35 177.5,-5.35 177.5,-5.18 180,-5.18 180,-4.96 182.5,-4.96 182.5,-4.92 185,-4.92 185,-4.65 187.5,-4.65 187.5,-4.51 190,-4.51 190,-4.57 192.5,-4.57 192.5,-4.13 195,-4.13 195,-4.19 197.5,-4.19 197.5,-3.98 200,-3.98 200,-3.87 202.5,-3.87 202.5,-3.85 205,-3.85 205,-3.72 207.5,-3.72 207.5,-3.52 210,-3.52 210,-3.52 212.5,-3.52 212.5,-3.34 215,-3.34 215,-3.22 217.5,-3.22 217.5,-3.2 220,-3.2 220,-2.95 222.5,-2.95 222.5,-2.96 225,-2.96 225,-2.85 227.5,-2.85 227.5,-2.93 230,-2.93 230,-2.7 232.5,-2.7 232.5,-2.76 235,-2.76 235,-2.63 237.5,-2.63 237.5,-2.54 240,-2.54 240,-2.58 242.5,-2.58 242.5,-2.39 245,-2.39 245,-2.47 247.5,-2.47 247.5,-2.27 250,-2.27 250,0\" style=\"fill:none; stroke:currentColor;\"/>\n",
       "</svg>\n",
       "</div>\n",
       "<div style=\"flex=grow:1;\">\n",
       "Regular(100, 1.5, 5, name='$m_{\\\\mu \\\\mu}$', label='X')<br/>\n",
       "<hr style=\"margin-top:.2em; margin-bottom:.2em;\"/>\n",
       "Double() Σ=1891982.0\n",
       "\n",
       "</div>\n",
       "</div>\n",
       "</html>"
      ],
      "text/plain": [
       "Hist(Regular(100, 1.5, 5, name='$m_{\\\\mu \\\\mu}$', label='X'), storage=Double()) # Sum: 1891982.0"
      ]
     },
     "execution_count": 2,
     "metadata": {},
     "output_type": "execute_result"
    }
   ],
   "source": [
    "X = [1.5174999999999998, 1.5525, 1.5875, 1.6225, 1.6574999999999998, 1.6925, 1.7275, 1.7625000000000002, \n",
    "     1.7975, 1.8325, 1.8675000000000002, 1.9025000000000003, 1.9375, 1.9725, 2.0075, 2.0425, 2.0775, 2.1125, \n",
    "     2.1475, 2.1825, 2.2175000000000002, 2.2525, 2.2875, 2.3225, 2.3575, 2.3925, 2.4275, 2.4625, 2.4975, \n",
    "     2.5324999999999998, 2.5675, 2.6025, 2.6375, 2.6725000000000003, 2.7075, 2.7424999999999997, 2.7775, \n",
    "     2.8125, 2.8475, 2.8825000000000003, 2.9175000000000004, 2.9524999999999997, 2.9875, 3.0225, 3.0575, \n",
    "     3.0925, 3.1275, 3.1625, 3.1975, 3.2325, 3.2675, 3.3025, 3.3375, 3.3725000000000005, 3.4074999999999998, \n",
    "     3.4425000000000003, 3.4775, 3.5125, 3.5475, 3.5824999999999996, 3.6174999999999997, 3.6525000000000003, \n",
    "     3.6875, 3.7224999999999997, 3.7575000000000003, 3.7925000000000004, 3.8275, 3.8625, 3.8975, \n",
    "     3.9324999999999997, 3.9675, 4.0024999999999995, 4.0375, 4.0725, 4.1075, 4.1425, 4.1775, 4.2125, \n",
    "     4.2475000000000005, 4.2825, 4.3175, 4.352499999999999, 4.3875, 4.422499999999999, 4.4575, \n",
    "     4.492500000000001, 4.5275, 4.5625, 4.5975, 4.632499999999999, 4.6675, 4.702500000000001, 4.7375, \n",
    "     4.772500000000001, 4.8075, 4.842499999999999, 4.8775, 4.9125, 4.9475, 4.9825]\n",
    "\n",
    "# CMUL + pT\n",
    "Y = [65395.0, 64049.0, 61278.0, 59957.0, 57952.0, 55134.0, 53694.0, 51514.0, 49552.0, 47938.0, 46195.0, 44215.0, 42135.0, 40748.0, \n",
    "               38787.0, 37016.0, 35089.0, 33769.0, 32589.0, 31205.0, 29683.0, 28538.0, 27035.0, 25838.0, 24917.0, 23880.0, 22941.0, 21940.0, \n",
    "               21160.0, 20369.0, 19407.0, 18797.0, 18185.0, 17563.0, 17024.0, 16816.0, 16630.0, 16663.0, 17058.0, 17736.0, 20045.0, 23039.0, \n",
    "               28648.0, 37345.0, 46901.0, 52737.0, 48976.0, 37220.0, 23990.0, 15203.0, 10782.0, 8746.0, 7829.0, 7117.0, 6605.0, 6279.0, 6109.0,\n",
    "               5939.0, 5757.0, 5705.0, 5597.0, 5683.0, 5411.0, 5254.0, 4994.0, 4462.0, 4154.0, 3849.0, 3749.0, 3682.0, 3496.0, 3390.0, 3244.0, \n",
    "               3219.0, 3038.0, 2948.0, 2991.0, 2701.0, 2738.0, 2603.0, 2530.0, 2520.0, 2435.0, 2299.0, 2301.0, 2187.0, 2106.0, 2093.0, 1929.0, \n",
    "               1938.0, 1861.0, 1918.0, 1765.0, 1803.0, 1718.0, 1664.0, 1687.0, 1562.0, 1614.0, 1486.0]\n",
    "\n",
    "vMass_OS = hist.Hist(hist.axis.Regular(bins = 100, start = 1.5, stop = 5, name='$m_{\\mu \\mu}$', label = 'X'))\n",
    "vMass_OS.fill(X, weight = Y)"
   ]
  },
  {
   "cell_type": "code",
   "execution_count": 3,
   "id": "7de12974-2f8d-4e7a-a22e-431de4547d53",
   "metadata": {},
   "outputs": [],
   "source": [
    "def funcVec(x, N, mu, sig, alphaL, nL, alphaR, nR):\n",
    "    AL = ( nL / np.absolute( alphaL ) )**nL * np.exp( -1 * np.absolute( alphaL )**2 / 2 )\n",
    "    AR = ( nR / np.absolute( alphaR ) )**nR * np.exp( -1 * np.absolute( alphaR )**2 / 2 )\n",
    "    BL = nL / np.absolute( alphaL ) - np.absolute( alphaL )\n",
    "    BR = nR / np.absolute( alphaR ) - np.absolute( alphaR )\n",
    "\n",
    "    return np.piecewise(x, \n",
    "                        [( x - mu )/sig < -1 * alphaL, (( x - mu )/sig >= -1 * alphaL) & (( x - mu )/sig <= alphaR).any() , ( x - mu )/sig > alphaR],\n",
    "                        [lambda x: N * AL * (BL - (( x - mu )/sig))**(-nL), lambda x: N * np.exp(-1 * (( x - mu )/sig)**2 / 2), lambda x: N * AR * (BR + ( x - mu )/sig)**(-nR)])\n",
    "\n",
    "def VWG(x, N, mu, alpha, beta):\n",
    "    sigma = alpha + beta*((x-mu)/mu)\n",
    "    return N * np.exp(-(x - mu)**2 / (2*sigma**2))\n",
    "\n",
    "def PR(x, N, a1, b1, b2):\n",
    "    return N * (1 + a1*x) / (b1*x + b2*x)\n",
    "\n",
    "def DE(x, N, alpha, beta1, beta2):\n",
    "    return N * (np.exp(beta1*x) + alpha * np.exp(beta2*x))\n",
    "\n",
    "def fitFunc(x,\n",
    "            N1, mu1, sig1, alphaL1, nL1, alphaR1, nR1,\n",
    "            N2, mu2, sig2, alphaL2, nL2, alphaR2, nR2,\n",
    "            Nbg, a1, a2, a3):\n",
    "    return funcVec(x, N1, mu1, sig1, alphaL1, nL1, alphaR1, nR1) + funcVec(x, N2, mu2, sig2, alphaL2, nL2, alphaR2, nR2) + DE(x, Nbg, a1, a2, a3)"
   ]
  },
  {
   "cell_type": "code",
   "execution_count": 4,
   "id": "fe907a3c-115c-4123-b2b8-5c69353f999b",
   "metadata": {},
   "outputs": [],
   "source": [
    "x_data = np.array(X)\n",
    "y_data = np.array(vMass_OS)\n",
    "y_error = np.array(np.sqrt(vMass_OS))\n",
    "\n",
    "condition = (x_data > 2.0)\n",
    "#condition = True\n",
    "x_filtered = np.ravel(x_data[condition])\n",
    "y_filtered = np.ravel(y_data[condition])\n",
    "y_error_filtered = np.ravel(y_error[condition])\n",
    "\n",
    "x_data = x_filtered\n",
    "y_data = y_filtered\n",
    "y_error = y_error_filtered"
   ]
  },
  {
   "cell_type": "code",
   "execution_count": 5,
   "id": "80e3cdb6-e292-4b9e-8f2a-849d26cec702",
   "metadata": {},
   "outputs": [],
   "source": [
    "p0 = np.array([4.55480661e+04, 3.09865210e+00, 6.61685782e-02, 8.82346075e-01,\n",
    "               3.02220911e+00, 2.02907631e+00, 2.80816984e+00, 1.00000000e+03,\n",
    "               3.69645336e+00, 5.19889713e-02, 1.05368114e+00, 3.30817422e+00,\n",
    "               2.65615253e+00, 2.93595354e+00, 2.27919897e+04, 4.53001147e+01,\n",
    "               -5.76132695e-01, -1.64742979e+00])"
   ]
  },
  {
   "cell_type": "code",
   "execution_count": 6,
   "id": "3937be46-4973-42fa-be25-6086f86d1bf4",
   "metadata": {},
   "outputs": [
    {
     "name": "stdout",
     "output_type": "stream",
     "text": [
      "popt: \n",
      " [ 4.34346001e+04  3.09447591e+00  7.29521704e-02  9.96696169e-01\n",
      "  3.04366213e+00  1.82082157e+00  2.55669142e+01  7.14807206e+02\n",
      "  3.68534012e+00  6.54321063e-02  1.03781632e+00  1.42893686e+02\n",
      "  1.09277059e+01  1.63297285e+02  2.22753488e+04  3.34947479e+01\n",
      " -5.98220438e-01 -1.56101540e+00]\n",
      "pcov: \n",
      " [[ 9.62681763e+04  1.97936871e-02 -9.63174097e-02  8.80274783e-01\n",
      "  -5.13447890e+01 -1.33317795e+01  1.64403491e+03  3.92509356e+03\n",
      "  -1.10908455e-01  4.42290578e-01  1.90291184e+01 -1.58390904e+06\n",
      "   2.78138793e-09 -9.73571792e-09  8.11754505e+05 -8.62367447e+02\n",
      "  -5.69255297e+00 -7.77620893e+00]\n",
      " [ 1.97936871e-02  3.27571213e-07 -1.75906561e-07 -9.79550807e-06\n",
      "   1.02536528e-04  4.12375098e-06 -1.78034208e-03 -2.29023288e-03\n",
      "   1.39856376e-07 -2.48306050e-07 -3.70310065e-05  1.86932272e+00\n",
      "  -2.89714741e-15  1.15644627e-14 -1.24193256e+00  1.49782386e-03\n",
      "   9.31779687e-06  9.30746897e-06]\n",
      " [-9.63174097e-02 -1.75906561e-07  4.74009542e-07  1.32039774e-05\n",
      "  -1.56420695e-04  5.79676480e-05 -2.17800201e-02  7.14172051e-03\n",
      "   2.01713874e-08  6.79986936e-07 -9.16420479e-05  2.25909018e+00\n",
      "  -8.10391520e-15  1.31417627e-14  1.83519757e+00 -2.01006831e-03\n",
      "  -1.30492738e-05 -1.67711974e-05]\n",
      " [ 8.80274783e-01 -9.79550807e-06  1.32039774e-05  1.20785852e-03\n",
      "  -1.71081177e-02  9.96238258e-04 -5.43905485e-01  3.96552731e-01\n",
      "  -1.07241491e-05  3.61801704e-05 -9.06881399e-04 -5.43697286e+01\n",
      "  -1.41911032e-13 -3.77291006e-13  1.99787046e+02 -2.39766679e-01\n",
      "  -1.49254206e-03 -1.52086813e-03]\n",
      " [-5.13447890e+01  1.02536528e-04 -1.56420695e-04 -1.71081177e-02\n",
      "   3.53214742e-01 -3.33121062e-03  8.52756962e+00 -1.29075879e+01\n",
      "   3.88106042e-04 -1.28773835e-03 -1.95185827e-02  3.54918732e+03\n",
      "  -1.39189146e-12  2.26979080e-11 -5.32888812e+03  6.25339415e+00\n",
      "   3.94023663e-02  4.24379287e-02]\n",
      " [-1.33317795e+01  4.12375098e-06  5.79676480e-05  9.96238258e-04\n",
      "  -3.33121062e-03  3.95663498e-02 -1.65162617e+01 -6.46706714e-01\n",
      "   1.46954970e-04 -1.27281641e-04 -7.32927184e-02  3.39191399e+03\n",
      "  -8.38920995e-12  2.04167201e-11  1.56222681e+01 -2.61263725e-02\n",
      "  -1.41102908e-04 -1.37119514e-05]\n",
      " [ 1.64403491e+03 -1.78034208e-03 -2.17800201e-02 -5.43905485e-01\n",
      "   8.52756962e+00 -1.65162617e+01  9.17105221e+03 -3.50611514e+02\n",
      "  -9.58269637e-02  1.15011273e-02  5.88435535e+01 -2.32516818e+06\n",
      "   5.85482769e-09 -1.39762938e-08 -8.57188361e+04  8.12454262e+01\n",
      "   5.63976396e-01  9.73116920e-01]\n",
      " [ 3.92509356e+03 -2.29023288e-03  7.14172051e-03  3.96552731e-01\n",
      "  -1.29075879e+01 -6.46706714e-01 -3.50611514e+02  1.18054160e+04\n",
      "   1.26293110e-01 -5.40670145e-01 -7.50724197e+00 -4.75819270e+05\n",
      "   1.24326546e-09 -2.84901193e-09 -5.03663851e+04  1.35141108e+02\n",
      "   6.48307828e-01 -7.61465643e-01]\n",
      " [-1.10908455e-01  1.39856376e-07  2.01713874e-08 -1.07241491e-05\n",
      "   3.88106042e-04  1.46954970e-04 -9.58269637e-02  1.26293110e-01\n",
      "   1.41096817e-04 -5.78345975e-05 -7.03666656e-03  1.10401481e+02\n",
      "  -2.61190867e-13  6.66563421e-13 -8.09078225e+00  9.15572800e-03\n",
      "   5.84089816e-05  6.89506050e-05]\n",
      " [ 4.42290578e-01 -2.48306050e-07  6.79986936e-07  3.61801704e-05\n",
      "  -1.28773835e-03 -1.27281641e-04  1.15011273e-02 -5.40670145e-01\n",
      "  -5.78345975e-05  1.91491033e-04  8.25848760e-03 -1.36801528e+02\n",
      "   3.62321113e-13 -8.18916233e-13 -1.79791625e+01  3.13689791e-02\n",
      "   1.69637392e-04 -1.46586768e-05]\n",
      " [ 1.90291184e+01 -3.70310065e-05 -9.16420479e-05 -9.06881399e-04\n",
      "  -1.95185827e-02 -7.32927184e-02  5.88435535e+01 -7.50724197e+00\n",
      "  -7.03666656e-03  8.25848760e-03  2.39541873e+00 -5.60511843e+04\n",
      "   1.38612032e-10 -3.37316958e-10 -2.37458585e+02  4.52118650e-01\n",
      "   2.36303003e-03 -7.56783833e-04]\n",
      " [-1.58390904e+06  1.86932272e+00  2.25909018e+00 -5.43697286e+01\n",
      "   3.54918732e+03  3.39191399e+03 -2.32516818e+06 -4.75819270e+05\n",
      "   1.10401481e+02 -1.36801528e+02 -5.60511843e+04  1.79687168e+09\n",
      "  -4.41268416e-06  1.08192611e-05 -1.47183281e+07  1.28194868e+03\n",
      "   5.12067422e+01  3.59158324e+02]\n",
      " [ 2.78138793e-09 -2.89714741e-15 -8.10391520e-15 -1.41911032e-13\n",
      "  -1.39189146e-12 -8.38920995e-12  5.85482769e-09  1.24326546e-09\n",
      "  -2.61190867e-13  3.62321113e-13  1.38612032e-10 -4.41268416e-06\n",
      "   1.13245702e-20 -2.64805499e-20 -3.17118963e-07  4.47569888e-10\n",
      "   2.64731157e-12  1.34143079e-12]\n",
      " [-9.73571792e-09  1.15644627e-14  1.31417627e-14 -3.77291006e-13\n",
      "   2.26979080e-11  2.04167201e-11 -1.39762938e-08 -2.84901193e-09\n",
      "   6.66563421e-13 -8.18916233e-13 -3.37316958e-10  1.08192611e-05\n",
      "  -2.64805499e-20  6.51607702e-20 -1.53002128e-07  8.98942546e-11\n",
      "   8.13829702e-13  2.56723948e-12]\n",
      " [ 8.11754505e+05 -1.24193256e+00  1.83519757e+00  1.99787046e+02\n",
      "  -5.32888812e+03  1.56222681e+01 -8.57188361e+04 -5.03663851e+04\n",
      "  -8.09078225e+00 -1.79791625e+01 -2.37458585e+02 -1.47183281e+07\n",
      "  -3.17118963e-07 -1.53002128e-07  2.55806379e+08 -3.26238054e+05\n",
      "  -2.00753582e+03 -1.61213311e+03]\n",
      " [-8.62367447e+02  1.49782386e-03 -2.01006831e-03 -2.39766679e-01\n",
      "   6.25339415e+00 -2.61263725e-02  8.12454262e+01  1.35141108e+02\n",
      "   9.15572800e-03  3.13689791e-02  4.52118650e-01  1.28194868e+03\n",
      "   4.47569888e-10  8.98942546e-11 -3.26238054e+05  4.19608852e+02\n",
      "   2.57421824e+00  2.00293490e+00]\n",
      " [-5.69255297e+00  9.31779687e-06 -1.30492738e-05 -1.49254206e-03\n",
      "   3.94023663e-02 -1.41102908e-04  5.63976396e-01  6.48307828e-01\n",
      "   5.84089816e-05  1.69637392e-04  2.36303003e-03  5.12067422e+01\n",
      "   2.64731157e-12  8.13829702e-13 -2.00753582e+03  2.57421824e+00\n",
      "   1.58185277e-02  1.24381603e-02]\n",
      " [-7.77620893e+00  9.30746897e-06 -1.67711974e-05 -1.52086813e-03\n",
      "   4.24379287e-02 -1.37119514e-05  9.73116920e-01 -7.61465643e-01\n",
      "   6.89506050e-05 -1.46586768e-05 -7.56783833e-04  3.59158324e+02\n",
      "   1.34143079e-12  2.56723948e-12 -1.61213311e+03  2.00293490e+00\n",
      "   1.24381603e-02  1.09615294e-02]]\n",
      "residual: \n",
      " {'nfev': 42, 'fvec': array([ 2.82151285,  2.45868446,  3.43144169,  1.61740113, -0.55953566,\n",
      "       -1.19990877, -0.61166283, -1.77398946, -0.38283142, -0.38499824,\n",
      "       -1.7029616 , -1.89988932, -2.32101022, -1.91302062, -2.55671521,\n",
      "       -2.69096281, -1.12895489, -1.53319593, -1.34884555, -0.40506721,\n",
      "        0.74767812,  0.37169579,  1.12081328,  1.91833465,  2.35287718,\n",
      "        4.17516   , -0.63206995, -1.33303362, -4.60722796, -1.71714901,\n",
      "        5.46796594,  0.68974799, -3.09399775, -1.98926796,  2.54855635,\n",
      "        0.76715714,  0.1409638 ,  0.03959613, -1.30972209, -0.08950406,\n",
      "        1.18736009,  1.4020318 ,  0.32638815, -0.23556063, -0.08781535,\n",
      "       -0.90151251,  0.18253414, -0.71249084,  1.59770242, -0.11228   ,\n",
      "       -1.92593858,  0.4852468 ,  1.03379845,  2.81784335,  1.9430074 ,\n",
      "        0.78382988,  1.75126638,  1.46743533,  1.97674782,  0.41762563,\n",
      "        1.73299738,  1.48887369, -1.14387195,  2.52304812,  0.03249651,\n",
      "        0.94050785,  0.71184623, -0.71714784, -0.59961382,  0.64432578,\n",
      "       -0.91087476,  0.01102523,  0.31367079, -0.81261425,  1.4728321 ,\n",
      "       -0.09364227,  0.35445171, -2.21878054,  0.05706328, -2.05106561,\n",
      "       -1.24789192, -1.11733305, -2.79338479, -0.86686037, -3.21669272,\n",
      "       -1.10786486])}\n"
     ]
    },
    {
     "name": "stderr",
     "output_type": "stream",
     "text": [
      "/tmp/ipykernel_5938/3209874668.py:3: RuntimeWarning: overflow encountered in scalar power\n",
      "  AR = ( nR / np.absolute( alphaR ) )**nR * np.exp( -1 * np.absolute( alphaR )**2 / 2 )\n",
      "/tmp/ipykernel_5938/3209874668.py:9: RuntimeWarning: invalid value encountered in multiply\n",
      "  [lambda x: N * AL * (BL - (( x - mu )/sig))**(-nL), lambda x: N * np.exp(-1 * (( x - mu )/sig)**2 / 2), lambda x: N * AR * (BR + ( x - mu )/sig)**(-nR)])\n",
      "/tmp/ipykernel_5938/3209874668.py:2: RuntimeWarning: overflow encountered in scalar power\n",
      "  AL = ( nL / np.absolute( alphaL ) )**nL * np.exp( -1 * np.absolute( alphaL )**2 / 2 )\n",
      "/tmp/ipykernel_5938/3209874668.py:9: RuntimeWarning: overflow encountered in scalar multiply\n",
      "  [lambda x: N * AL * (BL - (( x - mu )/sig))**(-nL), lambda x: N * np.exp(-1 * (( x - mu )/sig)**2 / 2), lambda x: N * AR * (BR + ( x - mu )/sig)**(-nR)])\n"
     ]
    }
   ],
   "source": [
    "popt, pcov, nfev, fvec, fjac = curve_fit(fitFunc, xdata = x_data, ydata = y_data, sigma = y_error, p0 = p0,  method = 'trf', full_output = True)\n",
    "\n",
    "print(\"popt: \\n\", popt) \n",
    "print(\"pcov: \\n\", pcov)\n",
    "print(\"residual: \\n\", nfev)"
   ]
  },
  {
   "cell_type": "code",
   "execution_count": 7,
   "id": "68eca965-475d-4108-8296-09f9a95c99b0",
   "metadata": {},
   "outputs": [
    {
     "data": {
      "image/png": "[encoded data removed]",
      "text/plain": [
       "<Figure size 640x480 with 1 Axes>"
      ]
     },
     "metadata": {},
     "output_type": "display_data"
    }
   ],
   "source": [
    "x_data_fit = np.linspace(min(x_data), max(x_data), len(x_data))\n",
    "plt.errorbar(x_data, y_data, y_error, marker='+', mfc='black', mec='black', ms=2, mew=5, ls='')\n",
    "plt.plot(x_data_fit, fitFunc(x_data_fit, *popt), '-r')\n",
    "plt.plot(x_data_fit, funcVec(x_data_fit, *popt[:7]), '--b')\n",
    "plt.plot(x_data_fit, funcVec(x_data_fit, *popt[7:14]), '--b')\n",
    "plt.plot(x_data_fit, DE(x_data_fit, *popt[14:18]), '--b')\n",
    "plt.yscale('log')\n",
    "plt.ylim(100, 100000)\n",
    "plt.grid(True)"
   ]
  },
  {
   "cell_type": "code",
   "execution_count": 8,
   "id": "095ac343-5a8a-4bb8-9701-e2b9605d37d6",
   "metadata": {},
   "outputs": [
    {
     "name": "stdout",
     "output_type": "stream",
     "text": [
      "(15629.641825209714, 3.9773496383864026e-05)\n"
     ]
    }
   ],
   "source": [
    "print(quad(fitFunc, 2.7, 3.3, args = (*popt, )))"
   ]
  },
  {
   "cell_type": "code",
   "execution_count": 12,
   "id": "2895dfdc-1164-486e-8a16-166f08f36a25",
   "metadata": {},
   "outputs": [
    {
     "name": "stdout",
     "output_type": "stream",
     "text": [
      "(9617.890917678671, 3.574336594980049e-05)\n"
     ]
    }
   ],
   "source": [
    "print(quad(funcVec, 0, np.inf, args = (*popt[:7], )))"
   ]
  },
  {
   "cell_type": "code",
   "execution_count": 13,
   "id": "f8f76249-3b2b-4cdf-b8c8-29370c71c86d",
   "metadata": {},
   "outputs": [
    {
     "name": "stdout",
     "output_type": "stream",
     "text": [
      "Signal : 9617.890917678671\n",
      "Bruit : 515324.9362062188\n"
     ]
    }
   ],
   "source": [
    "signal = quad(funcVec, 0, np.inf, args = (*popt[:7], ))[0]\n",
    "bruit = quad(funcVec, 0, np.inf, args = (*popt[7:14], ))[0] + quad(DE, 0, np.inf, args = (*popt[14:18], ))[0]\n",
    "print(\"Signal :\", signal)\n",
    "print(\"Bruit :\", bruit)"
   ]
  },
  {
   "cell_type": "code",
   "execution_count": 14,
   "id": "6194187b-387f-4b4b-9ab7-6c60cd99c23f",
   "metadata": {},
   "outputs": [
    {
     "name": "stdout",
     "output_type": "stream",
     "text": [
      "RSB : 13.274673382003627\n"
     ]
    }
   ],
   "source": [
    "print(\"RSB :\", signal / np.sqrt(signal + bruit))"
   ]
  },
  {
   "cell_type": "code",
   "execution_count": null,
   "id": "5056f01a-56a4-4a0b-85c0-a6f01436448e",
   "metadata": {},
   "outputs": [],
   "source": []
  }
 ],
 "metadata": {
  "kernelspec": {
   "display_name": "Python 3.9 - M2 RPS EXP",
   "language": "python",
   "name": "nantes-m2-rps-exp"
  },
  "language_info": {
   "codemirror_mode": {
    "name": "ipython",
    "version": 3
   },
   "file_extension": ".py",
   "mimetype": "text/x-python",
   "name": "python",
   "nbconvert_exporter": "python",
   "pygments_lexer": "ipython3",
   "version": "3.9.18"
  }
 },
 "nbformat": 4,
 "nbformat_minor": 5
}
