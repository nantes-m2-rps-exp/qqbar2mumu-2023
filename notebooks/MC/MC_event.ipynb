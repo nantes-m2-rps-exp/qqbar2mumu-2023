{
 "cells": [
  {
   "cell_type": "code",
   "execution_count": 179,
   "id": "c37ab757-85cc-466c-aca8-7320a4615ebc",
   "metadata": {},
   "outputs": [
    {
     "name": "stdout",
     "output_type": "stream",
     "text": [
      "uproot version 5.0.12\n",
      "awkward version 2.4.3\n",
      "numpy version 1.25.2\n",
      "matplotlib version 3.8.0\n",
      "hist version 2.7.2\n",
      "vector version 1.1.1\n"
     ]
    }
   ],
   "source": [
    "import uproot\n",
    "import awkward as ak\n",
    "import numpy as np\n",
    "import matplotlib\n",
    "import matplotlib.pyplot as plt\n",
    "import math\n",
    "import hist\n",
    "import vector\n",
    "import os\n",
    "import subprocess\n",
    "import gc\n",
    "print(\"uproot version\", uproot.__version__)\n",
    "print(\"awkward version\", ak.__version__)\n",
    "print(\"numpy version\", np.__version__)\n",
    "print(\"matplotlib version\", matplotlib.__version__)\n",
    "print(\"hist version\", hist.__version__)\n",
    "print(\"vector version\", vector.__version__)\n",
    "#print(\"os version\", os.__version__)\n",
    "#print(\"subprocess version\", subprocess.__version__)\n",
    "#print(\"gc version\", gc.__version__)"
   ]
  },
  {
   "cell_type": "code",
   "execution_count": 163,
   "id": "b66804a3-3175-48ff-b4a2-d63cee227157",
   "metadata": {},
   "outputs": [],
   "source": [
    "vector.register_awkward() "
   ]
  },
  {
   "cell_type": "code",
   "execution_count": 146,
   "id": "7f6d5f43-2e9b-4be8-a1cf-48c65cde81f1",
   "metadata": {},
   "outputs": [],
   "source": [
    "DATATYPE = \"mc\"\n",
    "assert((DATATYPE == \"mc\") or (DATATYPE == \"data\"))\n",
    "BASEDIR = \"/pbs/throng/training/nantes-m2-rps-exp/data\" # basedir where to look for runXXX.DATATYPE.root files\n",
    "IS_MC = True if DATATYPE == \"mc\" else False"
   ]
  },
  {
   "cell_type": "code",
   "execution_count": 147,
   "id": "f1ef7b93-335d-4912-a82a-f5b4ca98ad74",
   "metadata": {},
   "outputs": [],
   "source": [
    "def data_file_path(run,is_mc=IS_MC,dest=BASEDIR):\n",
    "    datatype=\"mc\" if is_mc else \"data\"\n",
    "    print({dest},\"/run\",{run},\".\",{datatype},\".root\")\n",
    "    return f\"{dest}/run{run}.{datatype}.root\""
   ]
  },
  {
   "cell_type": "code",
   "execution_count": 180,
   "id": "00f87251-15ee-4145-8336-37687a876934",
   "metadata": {},
   "outputs": [
    {
     "name": "stdout",
     "output_type": "stream",
     "text": [
      "2\n"
     ]
    }
   ],
   "source": [
    "RUNS = [290323, 290327, 290848, 291361, 291360, 291362, 290853, 290860, 291373, 290374, 290375, 291399,\n",
    "               291400, 290894, 290895, 290404, 291943, 291944, 291948, 291953, 290932, 290423, 291447, 290935, \n",
    "               290425, 290427, 291451, 291453, 291976, 291982, 290456, 290458, 290459, 291482, 291485, 290975, \n",
    "               290980, 290469, 292012, 291002, 291003, 291004, 291005, 290501, 292040, 292060, 292061, 292062, \n",
    "               291041, 290539, 290540, 292075, 292077, 292080, 290549, 290553, 291590, 292106, 292108, 292109, \n",
    "               292115, 290590, 291618, 291622, 291624, 292140, 290612, 292160, 292162, 292163, 292164, 292166, \n",
    "               290632, 291657, 292168, 292192, 290658, 290660, 291690, 291692, 291694, 291698, 291706, 290687, \n",
    "               290692, 290696, 290699, 292242, 292265, 291755, 292269, 292270, 291760, 292273, 292274, 290742, \n",
    "               291769, 291263, 290764, 290766, 291283, 291284, 291285, 291795, 291796, 290776, 291803, 290787]\n",
    "\n",
    "run2=RUNS[0:2]\n",
    "SAMPLE_RUNS = sorted(run2)\n",
    "#SAMPLE_RUNS = sorted(RUNS)\n",
    "print(len(SAMPLE_RUNS))"
   ]
  },
  {
   "cell_type": "code",
   "execution_count": 181,
   "id": "82aeab9a-8af8-491c-bc13-aafa82f40343",
   "metadata": {},
   "outputs": [
    {
     "name": "stdout",
     "output_type": "stream",
     "text": [
      "{'/pbs/throng/training/nantes-m2-rps-exp/data'} /run {290323} . {'mc'} .root\n",
      "name                 | typename                 | interpretation                \n",
      "---------------------+--------------------------+-------------------------------\n",
      "runNumber            | int32_t                  | AsDtype('>i4')\n",
      "xVtx                 | double                   | AsDtype('>f8')\n",
      "yVtx                 | double                   | AsDtype('>f8')\n",
      "zVtx                 | double                   | AsDtype('>f8')\n",
      "isCINT               | bool                     | AsDtype('bool')\n",
      "isCMSL               | bool                     | AsDtype('bool')\n",
      "isCMSH               | bool                     | AsDtype('bool')\n",
      "isCMLL               | bool                     | AsDtype('bool')\n",
      "isCMUL               | bool                     | AsDtype('bool')\n",
      "nMuons               | int32_t                  | AsDtype('>i4')\n",
      "Muon_E               | std::vector<float>       | AsJagged(AsDtype('>f4'), he...\n",
      "Muon_Px              | std::vector<float>       | AsJagged(AsDtype('>f4'), he...\n",
      "Muon_Py              | std::vector<float>       | AsJagged(AsDtype('>f4'), he...\n",
      "Muon_Pz              | std::vector<float>       | AsJagged(AsDtype('>f4'), he...\n",
      "Muon_Charge          | std::vector<int16_t>     | AsJagged(AsDtype('>i2'), he...\n",
      "Muon_thetaAbs        | std::vector<float>       | AsJagged(AsDtype('>f4'), he...\n",
      "Muon_xDCA            | std::vector<double>      | AsJagged(AsDtype('>f8'), he...\n",
      "Muon_yDCA            | std::vector<double>      | AsJagged(AsDtype('>f8'), he...\n",
      "Muon_zDCA            | std::vector<double>      | AsJagged(AsDtype('>f8'), he...\n",
      "Muon_matchedTrgTh... | std::vector<int32_t>     | AsJagged(AsDtype('>i4'), he...\n",
      "Muon_MCHClusterMap   | std::vector<uint32_t>    | AsJagged(AsDtype('>u4'), he...\n",
      "Muon_MTRHitMapTrg    | std::vector<uint32_t>    | AsJagged(AsDtype('>u4'), he...\n",
      "Muon_MTRHitMapTrk    | std::vector<uint32_t>    | AsJagged(AsDtype('>u4'), he...\n",
      "Muon_MCLabel         | std::vector<int32_t>     | AsJagged(AsDtype('>i4'), he...\n",
      "Muon_MCPDGCode       | std::vector<int32_t>     | AsJagged(AsDtype('>i4'), he...\n",
      "name                 | typename                 | interpretation                \n",
      "---------------------+--------------------------+-------------------------------\n",
      "xVtxMC               | double                   | AsDtype('>f8')\n",
      "yVtxMC               | double                   | AsDtype('>f8')\n",
      "zVtxMC               | double                   | AsDtype('>f8')\n",
      "nMuonsGen            | int32_t                  | AsDtype('>i4')\n",
      "Muon_GenE            | std::vector<float>       | AsJagged(AsDtype('>f4'), he...\n",
      "Muon_GenPx           | std::vector<float>       | AsJagged(AsDtype('>f4'), he...\n",
      "Muon_GenPy           | std::vector<float>       | AsJagged(AsDtype('>f4'), he...\n",
      "Muon_GenPz           | std::vector<float>       | AsJagged(AsDtype('>f4'), he...\n",
      "Muon_GenLabel        | std::vector<int32_t>     | AsJagged(AsDtype('>i4'), he...\n",
      "Muon_GenMotherPDG... | std::vector<int32_t>     | AsJagged(AsDtype('>i4'), he...\n"
     ]
    }
   ],
   "source": [
    "file = uproot.open(data_file_path(SAMPLE_RUNS[0],IS_MC))\n",
    "events = file[\"eventsTree\"]\n",
    "events.show()\n",
    "events.num_entries\n",
    "\n",
    "gen = file[\"genTree\"]\n",
    "gen.show()\n"
   ]
  },
  {
   "cell_type": "code",
   "execution_count": 188,
   "id": "bcbe3151-27fe-414b-87fb-87a0b1cc1854",
   "metadata": {},
   "outputs": [],
   "source": [
    "def mag(Px, Py, Pz):\n",
    "    return np.sqrt(Px*Px + Py*Py + Pz*Pz)\n",
    "\n",
    "def rest_mass(E, Px, Py, Pz):\n",
    "    P = mag(Px, Py, Pz)\n",
    "    return np.sqrt(np.abs(E*E - P*P))\n",
    "\n",
    "\n",
    "def getTracks(events):\n",
    "    return ak.zip({\"px\":events[\"Muon_Px\"],\n",
    "                       \"py\":events[\"Muon_Py\"],\n",
    "                       \"pz\":events[\"Muon_Pz\"],\n",
    "                       \"E\":events[\"Muon_E\"],\n",
    "                       \"charge\":events[\"Muon_Charge\"],\n",
    "                       \"thetaAbs\":events[\"Muon_thetaAbs\"],\n",
    "                       \"matched\":events[\"Muon_matchedTrgThreshold\"],\n",
    "                       \"PDGCode\" : events[\"Muon_MCPDGCode\"]},\n",
    "                    with_name='Momentum4D')\n",
    "\n",
    "def getGen(gen):\n",
    "    return ak.zip({\"Muon_Gen_Label\":gen[\"Muon_GenLabel\"],\n",
    "                   \"Mother_PDG_Code\":gen[\"Muon_GenMotherPDGCode\"]},\n",
    "                   with_name='Momentum4D')\n",
    "\n",
    "def scan(dataDescription, \n",
    "              hMag:hist.Hist, hPhi:hist.Hist, hEta:hist.Hist, hPt:hist.Hist, hMass:hist.Hist, hMass_OS:hist.Hist, hMass_LS:hist.Hist,\n",
    "              eventSelector = lambda x:[True]*len(x),\n",
    "              trackSelector = lambda x:[True]*len(x), \n",
    "              genSelector = lambda x:[True]*len(x),\n",
    "              verbose:bool = False):\n",
    "    Entries = goodEntries = 0\n",
    "    for batch in uproot.iterate(dataDescription,\n",
    "                            [\"isCINT\", \"isCMUL\", \"isCMSL\", \"nMuons\", \"Muon_Px\", \"Muon_Py\", \"Muon_Pz\", \"Muon_E\", \"Muon_Charge\", \"Muon_thetaAbs\", \"Muon_matchedTrgThreshold\", \"Muon_MCLabel \", \"Muon_MCPDGCode\"],                                \n",
    "                                report = True):\n",
    "        events = batch[0] # batch[1] is the report info\n",
    "        if len(events) < 1000:\n",
    "            print(\"something is wrong\",batch[1]) # this is a protection for some corrupted input data files \n",
    "            break\n",
    "            \n",
    "        goodEvents = events[eventSelector(events)] \n",
    "        tracks = getTracks(events)\n",
    "        goodTracks = tracks[trackSelector(tracks)]\n",
    "\n",
    "        \n",
    "        hMag.fill(ak.flatten(goodTracks.p))\n",
    "        hPhi.fill(ak.flatten(goodTracks.phi))\n",
    "        hEta.fill(ak.flatten(goodTracks.eta))\n",
    "        hPt.fill(ak.flatten(goodTracks.pt))\n",
    "        hMass.fill(ak.flatten(goodTracks.mass))\n",
    "        \n",
    "        \n",
    "        pairs = ak.combinations(goodTracks, 2)\n",
    "        Px = pairs[\"0\"].px + pairs[\"1\"].px\n",
    "        Py = pairs[\"0\"].py + pairs[\"1\"].py\n",
    "        Pz = pairs[\"0\"].pz + pairs[\"1\"].pz\n",
    "        E = pairs[\"0\"].E + pairs[\"1\"].E\n",
    "        charge = pairs[\"0\"].charge + pairs[\"1\"].charge\n",
    "        \n",
    "        \n",
    "        Pair2 = ak.zip({\"px\":Px,\n",
    "                       \"py\":Py,\n",
    "                       \"pz\":Pz,\n",
    "                       \"E\":E,\n",
    "                       \"charge\":charge},\n",
    "                    with_name='Momentum4D')\n",
    "        \n",
    "        condition = ((pairs[\"0\"].PDGCode==13) & (pairs[\"1\"].PDGCode==-13)) | ((pairs[\"0\"].PDGCode==-13) & (pairs[\"1\"].PDGCode==13))\n",
    "        A=pairs[condition]\n",
    "        Px = A[\"0\"].px + A[\"1\"].px\n",
    "        Py = A[\"0\"].py + A[\"1\"].py\n",
    "        Pz = A[\"0\"].pz + A[\"1\"].pz\n",
    "        E = A[\"0\"].E + A[\"1\"].E\n",
    "        charge = A[\"0\"].charge + A[\"1\"].charge\n",
    "            \n",
    "        pair_muons = ak.zip({\"px\":Px,\n",
    "                             \"py\":Py,\n",
    "                             \"pz\":Pz,\n",
    "                             \"E\":E,\n",
    "                             \"charge\":charge},\n",
    "                        with_name='Momentum4D')\n",
    "        \n",
    "       # labels = [pairs[\"0\"].muon_label , pairs[\"1\"].muon_label]\n",
    "        \n",
    "        #hMass_OS.fill(ak.flatten(Pair2[Pair2.charge==0].mass))\n",
    "        #hMass_LS.fill(ak.flatten(Pair2[Pair2.charge!=0].mass))\n",
    "        hMass_OS.fill(ak.flatten(pair_muons[charge==0].mass))\n",
    "        hMass_LS.fill(ak.flatten(pair_muons[charge!=0].mass))\n",
    "        \n",
    "        \n",
    "        \n",
    "        Entries += len(events)\n",
    "        goodEntries += len(ak.flatten(goodTracks))/2\n",
    "\n",
    "        \n",
    "        if verbose:\n",
    "            print(\"-----------------------------------------------------------\")\n",
    "            print(batch[1], \"\\nEntries: \", Entries, \"\\nJ/Psi: \", int(goodEntries), \"\\nPDG: \", PDG)\n",
    "            gc.collect()\n",
    "    return Entries, goodEntries, PDG"
   ]
  },
  {
   "cell_type": "code",
   "execution_count": 151,
   "id": "edaaaf31-8d5e-4c5c-acfa-5644cef71b05",
   "metadata": {},
   "outputs": [
    {
     "name": "stdout",
     "output_type": "stream",
     "text": [
      "CPU times: user 1.17 ms, sys: 0 ns, total: 1.17 ms\n",
      "Wall time: 1.19 ms\n"
     ]
    }
   ],
   "source": [
    "%%time\n",
    "\n",
    "hMag = hist.Hist(hist.axis.Regular(bins = 100, start = 0, stop = 100, name = '$|p|$'))\n",
    "hPhi = hist.Hist(hist.axis.Regular(bins = 200, start = -22/7, stop = 22/7, name = '$\\phi$'))\n",
    "\n",
    "hEta = hist.Hist(hist.axis.Regular(bins = 100, start = -6, stop = 0, name = '$\\eta$'))\n",
    "hPt = hist.Hist(hist.axis.Regular(bins = 100, start = 0, stop = 100, name = '$p_T$'))\n",
    "hMass = hist.Hist(hist.axis.Regular(bins = 100, start = 0, stop = 0.2, name = '$m_{\\mu}$'))\n",
    "\n",
    "hMass_OS = hist.Hist(hist.axis.Regular(bins = 100, start = 1.5, stop = 5, name = '$m_{\\mu \\mu}$'))\n",
    "hMass_LS = hist.Hist(hist.axis.Regular(bins = 100, start = 1.5, stop = 5, name = '$m_{\\mu \\mu}$'))\n",
    "\n",
    "hMass_OS_cut = hist.Hist(hist.axis.Regular(bins = 100, start = 1.5, stop = 5, name = '$m_{\\mu \\mu}$'))\n",
    "hMass_LS_cut = hist.Hist(hist.axis.Regular(bins = 100, start = 1.5, stop = 5, name = '$m_{\\mu \\mu}$'))\n",
    "\n",
    "hMass_OS_test = hist.Hist(hist.axis.Regular(bins = 100, start = 1.5, stop = 5, name = '$m_{\\mu \\mu}$'))\n",
    "hMass_LS_test = hist.Hist(hist.axis.Regular(bins = 100, start = 1.5, stop = 5, name = '$m_{\\mu \\mu}$'))\n"
   ]
  },
  {
   "cell_type": "code",
   "execution_count": 189,
   "id": "78522939-6a98-4f5d-9c26-589261409216",
   "metadata": {},
   "outputs": [
    {
     "name": "stdout",
     "output_type": "stream",
     "text": [
      "-----------------------------------------------------------\n",
      "<Report start=0 stop=70000 source='/pbs/throng/training/nantes-m2-rps-exp/data/run290323.mc.root:/eventsTree;1'> \n",
      "Entries:  70000 \n",
      "J/Psi:  7349 \n",
      "PDG:  []\n",
      "-----------------------------------------------------------\n",
      "<Report start=0 stop=6000 source='/pbs/throng/training/nantes-m2-rps-exp/data/run290327.mc.root:/eventsTree;1'> \n",
      "Entries:  6000 \n",
      "J/Psi:  637 \n",
      "PDG:  []\n",
      "----------------------------------------------------------- \n",
      "Entries:  76000 \n",
      "J/Psi:  7986 \n",
      "PDG:  []\n",
      "15336.0\n",
      "[7349, 637]\n",
      "2\n"
     ]
    }
   ],
   "source": [
    "PDG = []\n",
    "NTotalJPsi =0\n",
    "NJPsi=[]\n",
    "Entries=0\n",
    "goodEntries =0\n",
    "for run in SAMPLE_RUNS:\n",
    "    a, b, c = scan(dataDescription = f\"/pbs/throng/training/nantes-m2-rps-exp/data/run{run}.mc.root:eventsTree\",\n",
    "          hMag = hMag, hPhi = hPhi, hEta = hEta, hPt = hPt, hMass = hMass, hMass_OS = hMass_OS_test, hMass_LS = hMass_LS_test,\n",
    "          eventSelector = lambda x: x[\"isCMUL\"] == True, \n",
    "          trackSelector = lambda x: (((x.thetaAbs < 3) & (x.eta > -4)) & (x.eta < -2.5)), verbose = True)\n",
    "    Entries += a;\n",
    "    goodEntries += b;\n",
    "    NJPsi.append(int(b))\n",
    "    NTotalJPsi += goodEntries\n",
    "    \n",
    "    #print(a,b)\n",
    "print(\"-----------------------------------------------------------\", \"\\nEntries: \", Entries, \"\\nJ/Psi: \", int(goodEntries), \"\\nPDG: \", PDG)\n",
    "print(NTotalJPsi)\n",
    "print(NJPsi)\n",
    "print(len(NJPsi))\n"
   ]
  },
  {
   "cell_type": "code",
   "execution_count": null,
   "id": "a081d47f-b0aa-4f71-a1f4-9c2cb814d263",
   "metadata": {},
   "outputs": [],
   "source": [
    "\"\"\"[7349, 637, 4147, 2115, 8523, 3198, 8423, 3131, 2102, 2088, \n",
    "15879, 9487, 11735, 5374, 4273, 7338, 5301, 8440, 3151, 2105, \n",
    "726, 8461, 8532, 11723, 5300, 4182, 7378, 3145, 4222, 4183, \n",
    "4207, 9496, 5230, 15709, 3185, 1041, 5318, 3176, 7387, 2131, \n",
    "10509, 7343, 10656, 3142, 12699, 17155, 4626, 8059, 2324, 10275, \n",
    "2300, 8033, 2318, 4589, 4552, 5696, 4493, 14568, 9202, 2261, \n",
    "7357, 4285, 3254, 6296, 5300, 2109, 4342, 4317, 4297, 7464, \n",
    "6312, 219, 7375, 1048, 2116, 3198, 7420, 5348, 9583, 13760, \n",
    "7471, 5279, 6387, 8435, 6379, 4223, 12685, 7446, 3168, 5306, \n",
    "4321, 4243, 3070, 10572, 729, 13890, 810, 5310, 824, 4146, \n",
    "6388, 824, 3190, 3173, 973, 4204, 10743, 4188]\"\"\""
   ]
  },
  {
   "cell_type": "code",
   "execution_count": null,
   "id": "b7c8f129-e05c-49a7-8fc7-fd7a1173b4f9",
   "metadata": {},
   "outputs": [],
   "source": [
    "hMag.plot(color = \"blue\", label = \"no cut\")\n",
    "plt.yscale('log')\n",
    "plt.grid(True)\n",
    "plt.legend()"
   ]
  },
  {
   "cell_type": "code",
   "execution_count": null,
   "id": "7c0e9f8e-134c-46e3-801a-e85842027778",
   "metadata": {},
   "outputs": [],
   "source": [
    "hMass_OS.plot(color = \"blue\", label = \"no cut\")\n",
    "#hMass_cut.plot(color = \"red\", label = \"cut\")\n",
    "plt.yscale('log')\n",
    "plt.ylabel(\"# of tracks\")\n",
    "plt.grid(True)\n",
    "plt.legend()"
   ]
  }
 ],
 "metadata": {
  "kernelspec": {
   "display_name": "Python 3.9 - M2 RPS EXP",
   "language": "python",
   "name": "nantes-m2-rps-exp"
  },
  "language_info": {
   "codemirror_mode": {
    "name": "ipython",
    "version": 3
   },
   "file_extension": ".py",
   "mimetype": "text/x-python",
   "name": "python",
   "nbconvert_exporter": "python",
   "pygments_lexer": "ipython3",
   "version": "3.9.18"
  }
 },
 "nbformat": 4,
 "nbformat_minor": 5
}
