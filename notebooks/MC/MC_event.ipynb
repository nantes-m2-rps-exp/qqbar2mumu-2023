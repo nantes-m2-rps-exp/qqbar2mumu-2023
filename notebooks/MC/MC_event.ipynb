{
 "cells": [
  {
   "cell_type": "code",
   "execution_count": 14,
   "id": "c37ab757-85cc-466c-aca8-7320a4615ebc",
   "metadata": {},
   "outputs": [
    {
     "name": "stdout",
     "output_type": "stream",
     "text": [
      "uproot version 5.0.12\n",
      "awkward version 2.4.3\n",
      "numpy version 1.25.2\n",
      "matplotlib version 3.8.0\n",
      "hist version 2.7.2\n",
      "vector version 1.1.1\n"
     ]
    }
   ],
   "source": [
    "import uproot\n",
    "import awkward as ak\n",
    "import numpy as np\n",
    "import matplotlib\n",
    "import matplotlib.pyplot as plt\n",
    "import math\n",
    "import hist\n",
    "import vector\n",
    "import os\n",
    "import subprocess\n",
    "import gc\n",
    "print(\"uproot version\", uproot.__version__)\n",
    "print(\"awkward version\", ak.__version__)\n",
    "print(\"numpy version\", np.__version__)\n",
    "print(\"matplotlib version\", matplotlib.__version__)\n",
    "print(\"hist version\", hist.__version__)\n",
    "print(\"vector version\", vector.__version__)\n",
    "#print(\"os version\", os.__version__)\n",
    "#print(\"subprocess version\", subprocess.__version__)\n",
    "#print(\"gc version\", gc.__version__)"
   ]
  },
  {
   "cell_type": "code",
   "execution_count": 15,
   "id": "b66804a3-3175-48ff-b4a2-d63cee227157",
   "metadata": {},
   "outputs": [],
   "source": [
    "vector.register_awkward() "
   ]
  },
  {
   "cell_type": "code",
   "execution_count": 16,
   "id": "7f6d5f43-2e9b-4be8-a1cf-48c65cde81f1",
   "metadata": {},
   "outputs": [],
   "source": [
    "DATATYPE = \"mc\"\n",
    "assert((DATATYPE == \"mc\") or (DATATYPE == \"data\"))\n",
    "BASEDIR = \"/pbs/throng/training/nantes-m2-rps-exp/data\" # basedir where to look for runXXX.DATATYPE.root files\n",
    "IS_MC = True if DATATYPE == \"mc\" else False"
   ]
  },
  {
   "cell_type": "code",
   "execution_count": 17,
   "id": "f1ef7b93-335d-4912-a82a-f5b4ca98ad74",
   "metadata": {},
   "outputs": [],
   "source": [
    "def data_file_path(run,is_mc=IS_MC,dest=BASEDIR):\n",
    "    datatype=\"mc\" if is_mc else \"data\"\n",
    "    print({dest},\"/run\",{run},\".\",{datatype},\".root\")\n",
    "    return f\"{dest}/run{run}.{datatype}.root\""
   ]
  },
  {
   "cell_type": "code",
   "execution_count": 18,
   "id": "00f87251-15ee-4145-8336-37687a876934",
   "metadata": {},
   "outputs": [],
   "source": [
    "SAMPLE_RUNS = [290860, 291694, 291399]"
   ]
  },
  {
   "cell_type": "code",
   "execution_count": 19,
   "id": "82aeab9a-8af8-491c-bc13-aafa82f40343",
   "metadata": {},
   "outputs": [
    {
     "name": "stdout",
     "output_type": "stream",
     "text": [
      "{'/pbs/throng/training/nantes-m2-rps-exp/data'} /run {290860} . {'mc'} .root\n",
      "name                 | typename                 | interpretation                \n",
      "---------------------+--------------------------+-------------------------------\n",
      "runNumber            | int32_t                  | AsDtype('>i4')\n",
      "xVtx                 | double                   | AsDtype('>f8')\n",
      "yVtx                 | double                   | AsDtype('>f8')\n",
      "zVtx                 | double                   | AsDtype('>f8')\n",
      "isCINT               | bool                     | AsDtype('bool')\n",
      "isCMSL               | bool                     | AsDtype('bool')\n",
      "isCMSH               | bool                     | AsDtype('bool')\n",
      "isCMLL               | bool                     | AsDtype('bool')\n",
      "isCMUL               | bool                     | AsDtype('bool')\n",
      "nMuons               | int32_t                  | AsDtype('>i4')\n",
      "Muon_E               | std::vector<float>       | AsJagged(AsDtype('>f4'), he...\n",
      "Muon_Px              | std::vector<float>       | AsJagged(AsDtype('>f4'), he...\n",
      "Muon_Py              | std::vector<float>       | AsJagged(AsDtype('>f4'), he...\n",
      "Muon_Pz              | std::vector<float>       | AsJagged(AsDtype('>f4'), he...\n",
      "Muon_Charge          | std::vector<int16_t>     | AsJagged(AsDtype('>i2'), he...\n",
      "Muon_thetaAbs        | std::vector<float>       | AsJagged(AsDtype('>f4'), he...\n",
      "Muon_xDCA            | std::vector<double>      | AsJagged(AsDtype('>f8'), he...\n",
      "Muon_yDCA            | std::vector<double>      | AsJagged(AsDtype('>f8'), he...\n",
      "Muon_zDCA            | std::vector<double>      | AsJagged(AsDtype('>f8'), he...\n",
      "Muon_matchedTrgTh... | std::vector<int32_t>     | AsJagged(AsDtype('>i4'), he...\n",
      "Muon_MCHClusterMap   | std::vector<uint32_t>    | AsJagged(AsDtype('>u4'), he...\n",
      "Muon_MTRHitMapTrg    | std::vector<uint32_t>    | AsJagged(AsDtype('>u4'), he...\n",
      "Muon_MTRHitMapTrk    | std::vector<uint32_t>    | AsJagged(AsDtype('>u4'), he...\n",
      "Muon_MCLabel         | std::vector<int32_t>     | AsJagged(AsDtype('>i4'), he...\n",
      "Muon_MCPDGCode       | std::vector<int32_t>     | AsJagged(AsDtype('>i4'), he...\n"
     ]
    },
    {
     "data": {
      "text/plain": [
       "150000"
      ]
     },
     "execution_count": 19,
     "metadata": {},
     "output_type": "execute_result"
    }
   ],
   "source": [
    "file = uproot.open(data_file_path(SAMPLE_RUNS[0],IS_MC))\n",
    "events = file[\"eventsTree\"]\n",
    "events.show()\n",
    "events.num_entries"
   ]
  },
  {
   "cell_type": "code",
   "execution_count": 20,
   "id": "bcbe3151-27fe-414b-87fb-87a0b1cc1854",
   "metadata": {},
   "outputs": [],
   "source": [
    "def mag(Px, Py, Pz):\n",
    "    return np.sqrt(Px*Px + Py*Py + Pz*Pz)\n",
    "\n",
    "def rest_mass(E, Px, Py, Pz):\n",
    "    P = mag(Px, Py, Pz)\n",
    "    return np.sqrt(np.abs(E*E - P*P))\n",
    "\n",
    "\n",
    "def getTracks(events):\n",
    "    return ak.zip({\"px\":events[\"Muon_Px\"],\n",
    "                       \"py\":events[\"Muon_Py\"],\n",
    "                       \"pz\":events[\"Muon_Pz\"],\n",
    "                       \"E\":events[\"Muon_E\"],\n",
    "                       \"charge\":events[\"Muon_Charge\"],\n",
    "                       \"thetaAbs\":events[\"Muon_thetaAbs\"],\n",
    "                       \"matched\":events[\"Muon_matchedTrgThreshold\"]},\n",
    "                    with_name='Momentum4D')\n",
    "\n",
    "\n",
    "def scan(dataDescription, \n",
    "              hMag:hist.Hist, hPhi:hist.Hist, hEta:hist.Hist, hPt:hist.Hist, hMass:hist.Hist, hMass_OS:hist.Hist, hMass_LS:hist.Hist,\n",
    "              eventSelector = lambda x:[True]*len(x),\n",
    "              trackSelector = lambda x:[True]*len(x), \n",
    "              verbose:bool = False):\n",
    "    \"\"\" Loop over data to fill the invariant mass histogram.\n",
    "        \n",
    "        :param: dataDescription: is anything uproot.iterate can take.\n",
    "                typical something like run*.data.root:eventsTree in our case\n",
    "        :param: eventSelector: returns an array of bool from an array of events\n",
    "        :param: trackSelector: returns an array of bool from an array of tracks\n",
    "        print(dir(vector.backends.awkward.MomentumArray4D))\n",
    "    \"\"\"\n",
    "    \n",
    "    for batch in uproot.iterate(dataDescription,\n",
    "                                [\"isCINT\", \"isCMUL\", \"isCMSL\", \"nMuons\", \"Muon_Px\", \"Muon_Py\", \"Muon_Pz\", \"Muon_E\", \"Muon_Charge\", \"Muon_thetaAbs\", \"Muon_matchedTrgThreshold\"],                                \n",
    "                                report = True):\n",
    "        events = batch[0] # batch[1] is the report info\n",
    "        if len(events) < 1000:\n",
    "            print(\"something is wrong\",batch[1]) # this is a protection for some corrupted input data files \n",
    "            break\n",
    "            \n",
    "        goodEvents = events[eventSelector(events)] \n",
    "        \n",
    "        tracks = getTracks(events)\n",
    "        goodTracks = tracks[trackSelector(tracks)]\n",
    "        #goodTracks.show()\n",
    "    \n",
    "        hMag.fill(ak.flatten(goodTracks.p))\n",
    "        hPhi.fill(ak.flatten(goodTracks.phi))\n",
    "        hEta.fill(ak.flatten(goodTracks.eta))\n",
    "        hPt.fill(ak.flatten(goodTracks.pt))\n",
    "        hMass.fill(ak.flatten(goodTracks.mass))\n",
    "\n",
    "        \n",
    "        pairs = ak.combinations(goodTracks, 2)\n",
    "        \n",
    "        Px = pairs[\"0\"].px + pairs[\"1\"].px\n",
    "        Py = pairs[\"0\"].py + pairs[\"1\"].py\n",
    "        Pz = pairs[\"0\"].pz + pairs[\"1\"].pz\n",
    "        E = pairs[\"0\"].E + pairs[\"1\"].E\n",
    "        charge = pairs[\"0\"].charge + pairs[\"1\"].charge\n",
    "        \n",
    "        Pair2 = ak.zip({\"px\":Px,\n",
    "                       \"py\":Py,\n",
    "                       \"pz\":Pz,\n",
    "                       \"E\":E,\n",
    "                       \"charge\":charge},\n",
    "                    with_name='Momentum4D')\n",
    "        \n",
    "        hMass_OS.fill(ak.flatten(Pair2[Pair2.charge==0].mass))\n",
    "        \n",
    "        \"\"\"\n",
    "        # Calcul de la masse invariante pour OS\n",
    "        condition = (charge == 0)\n",
    "        Pxsel = Px[condition] \n",
    "        Pysel = Py[condition]\n",
    "        Pzsel = Pz[condition]\n",
    "        Esel = E[condition]\n",
    "        \n",
    "        #mass_OS = rest_mass(Esel, Pxsel, Pysel, Pzsel)\n",
    "        #hMass_OS.fill(ak.flatten(mass_OS))\n",
    "        \n",
    "        \n",
    "        # Calcul de la masse invariante pour LS\n",
    "        condition = (charge != 0)\n",
    "        Pxsel = Px[condition] \n",
    "        Pysel = Py[condition]\n",
    "        Pzsel = Pz[condition]\n",
    "        Esel = E[condition]\n",
    "        \n",
    "        #mass_LS = rest_mass(Esel, Pxsel, Pysel, Pzsel)\n",
    "        #hMass_LS.fill(ak.flatten(mass_LS))\"\"\"\n",
    "        \n",
    "        if verbose:\n",
    "            print(batch[1])\n",
    "        gc.collect()"
   ]
  },
  {
   "cell_type": "code",
   "execution_count": 21,
   "id": "edaaaf31-8d5e-4c5c-acfa-5644cef71b05",
   "metadata": {},
   "outputs": [
    {
     "name": "stdout",
     "output_type": "stream",
     "text": [
      "CPU times: user 961 ms, sys: 19.4 ms, total: 980 ms\n",
      "Wall time: 979 ms\n"
     ]
    },
    {
     "data": {
      "text/plain": [
       "'scan(dataDescription = f\"{BASEDIR}/run{SAMPLE_RUNS[0]}.{DATATYPE}.root:eventsTree\",\\n          hMag = hMag, hPhi = hPhi, hEta = hEta, hPt = hPt, hMass = hMass, hMass_OS = hMass_OS_test, hMass_LS = hMass_LS_test,\\n          eventSelector = lambda x: x[\"isCMUL\"] == True,\\n          trackSelector = lambda x: (((x.pt > 2) & (x.pt < 3)) & ((x.eta > -4) & (x.eta < -2.5))) )'"
      ]
     },
     "execution_count": 21,
     "metadata": {},
     "output_type": "execute_result"
    }
   ],
   "source": [
    "%%time\n",
    "\n",
    "hMag = hist.Hist(hist.axis.Regular(bins = 100, start = 0, stop = 100, name = '$|p|$'))\n",
    "hPhi = hist.Hist(hist.axis.Regular(bins = 200, start = -22/7, stop = 22/7, name = '$\\phi$'))\n",
    "\n",
    "hEta = hist.Hist(hist.axis.Regular(bins = 100, start = -6, stop = 0, name = '$\\eta$'))\n",
    "hPt = hist.Hist(hist.axis.Regular(bins = 100, start = 0, stop = 100, name = '$p_T$'))\n",
    "hMass = hist.Hist(hist.axis.Regular(bins = 100, start = 0, stop = 0.2, name = '$m_{\\mu}$'))\n",
    "\n",
    "hMass_OS = hist.Hist(hist.axis.Regular(bins = 100, start = 1.5, stop = 5, name = '$m_{\\mu \\mu}$'))\n",
    "hMass_LS = hist.Hist(hist.axis.Regular(bins = 100, start = 1.5, stop = 5, name = '$m_{\\mu \\mu}$'))\n",
    "\n",
    "hMass_OS_cut = hist.Hist(hist.axis.Regular(bins = 100, start = 1.5, stop = 5, name = '$m_{\\mu \\mu}$'))\n",
    "hMass_LS_cut = hist.Hist(hist.axis.Regular(bins = 100, start = 1.5, stop = 5, name = '$m_{\\mu \\mu}$'))\n",
    "\n",
    "hMass_OS_test = hist.Hist(hist.axis.Regular(bins = 100, start = 1.5, stop = 5, name = '$m_{\\mu \\mu}$'))\n",
    "hMass_LS_test = hist.Hist(hist.axis.Regular(bins = 100, start = 1.5, stop = 5, name = '$m_{\\mu \\mu}$'))\n",
    "\n",
    "\n",
    "scan(dataDescription = f\"{BASEDIR}/run{SAMPLE_RUNS[0]}.{DATATYPE}.root:eventsTree\",\n",
    "          hMag = hMag, hPhi = hPhi, hEta = hEta, hPt = hPt, hMass = hMass, hMass_OS = hMass_OS, hMass_LS = hMass_LS)\n",
    "\n",
    "\"\"\"scan(dataDescription = f\"{BASEDIR}/run{SAMPLE_RUNS[0]}.{DATATYPE}.root:eventsTree\",\n",
    "          hMag = hMag, hPhi = hPhi, hEta = hEta, hPt = hPt, hMass = hMass, hMass_OS = hMass_OS_test, hMass_LS = hMass_LS_test,\n",
    "          eventSelector = lambda x: x[\"isCMUL\"] == True,\n",
    "          trackSelector = lambda x: (((x.pt > 2) & (x.pt < 3)) & ((x.eta > -4) & (x.eta < -2.5))) )\"\"\""
   ]
  },
  {
   "cell_type": "code",
   "execution_count": 22,
   "id": "311e5227-7abf-47db-8ae8-4ae019687f7d",
   "metadata": {},
   "outputs": [
    {
     "name": "stderr",
     "output_type": "stream",
     "text": [
      "/pbs/throng/training/nantes-m2-rps-exp/miniconda3/envs/qqbar2mumu/lib/python3.9/site-packages/mplhep/utils.py:197: RuntimeWarning: All sumw are zero!  Cannot compute meaningful error bars\n",
      "  return np.abs(method_fcn(self.values, variances) - self.values)\n"
     ]
    },
    {
     "data": {
      "text/plain": [
       "<matplotlib.legend.Legend at 0x7febd02421c0>"
      ]
     },
     "execution_count": 22,
     "metadata": {},
     "output_type": "execute_result"
    },
    {
     "data": {
      "image/png": "[encoded data removed]",
      "text/plain": [
       "<Figure size 640x480 with 1 Axes>"
      ]
     },
     "metadata": {},
     "output_type": "display_data"
    }
   ],
   "source": [
    "hMass_OS.plot(color = \"blue\", label = \"no cut\")\n",
    "hMass_OS_cut.plot(color = \"red\", label = \"cut\")\n",
    "plt.yscale('log')\n",
    "plt.grid(True)\n",
    "plt.legend()"
   ]
  },
  {
   "cell_type": "code",
   "execution_count": 23,
   "id": "78522939-6a98-4f5d-9c26-589261409216",
   "metadata": {},
   "outputs": [
    {
     "name": "stderr",
     "output_type": "stream",
     "text": [
      "/pbs/throng/training/nantes-m2-rps-exp/miniconda3/envs/qqbar2mumu/lib/python3.9/site-packages/mplhep/utils.py:197: RuntimeWarning: All sumw are zero!  Cannot compute meaningful error bars\n",
      "  return np.abs(method_fcn(self.values, variances) - self.values)\n",
      "/pbs/throng/training/nantes-m2-rps-exp/miniconda3/envs/qqbar2mumu/lib/python3.9/site-packages/mplhep/utils.py:197: RuntimeWarning: All sumw are zero!  Cannot compute meaningful error bars\n",
      "  return np.abs(method_fcn(self.values, variances) - self.values)\n",
      "/tmp/ipykernel_199/2028320395.py:3: UserWarning: Data has no positive values, and therefore cannot be log-scaled.\n",
      "  plt.yscale('log')\n"
     ]
    },
    {
     "data": {
      "text/plain": [
       "<matplotlib.legend.Legend at 0x7febd24499d0>"
      ]
     },
     "execution_count": 23,
     "metadata": {},
     "output_type": "execute_result"
    },
    {
     "data": {
      "image/png": "[encoded data removed]",
      "text/plain": [
       "<Figure size 640x480 with 1 Axes>"
      ]
     },
     "metadata": {},
     "output_type": "display_data"
    }
   ],
   "source": [
    "hMass_LS.plot(color = \"blue\", label = \"no cut\")\n",
    "hMass_LS_cut.plot(color = \"red\", label = \"cut\")\n",
    "plt.yscale('log')\n",
    "plt.grid(True)\n",
    "plt.legend()"
   ]
  },
  {
   "cell_type": "code",
   "execution_count": 24,
   "id": "b7c8f129-e05c-49a7-8fc7-fd7a1173b4f9",
   "metadata": {},
   "outputs": [
    {
     "data": {
      "text/plain": [
       "<matplotlib.legend.Legend at 0x7febce8a2160>"
      ]
     },
     "execution_count": 24,
     "metadata": {},
     "output_type": "execute_result"
    },
    {
     "data": {
      "image/png": "[encoded data removed]",
      "text/plain": [
       "<Figure size 640x480 with 1 Axes>"
      ]
     },
     "metadata": {},
     "output_type": "display_data"
    }
   ],
   "source": [
    "hMag.plot(color = \"blue\", label = \"no cut\")\n",
    "plt.yscale('log')\n",
    "plt.grid(True)\n",
    "plt.legend()"
   ]
  },
  {
   "cell_type": "code",
   "execution_count": 29,
   "id": "7c0e9f8e-134c-46e3-801a-e85842027778",
   "metadata": {},
   "outputs": [
    {
     "name": "stdout",
     "output_type": "stream",
     "text": [
      "[     4      6      9 ... 149989 149993 149996]\n",
      "36813\n"
     ]
    }
   ],
   "source": [
    "m = events.arrays([\"nMuons\",\"Muon_Px\",\"Muon_Py\",\"Muon_Pz\",\"Muon_Charge\"],how=\"zip\",entry_stop=150000)\n",
    "dimuons = [m['nMuons']==2]\n",
    "X=np.arange(150000)[m['nMuons']==2]\n",
    "\n",
    "print(X)\n",
    "print(len(X))\n",
    "\n",
    "dimuons_charge = [m['Muon_Charge']]\n",
    "\n",
    "    "
   ]
  }
 ],
 "metadata": {
  "kernelspec": {
   "display_name": "Python 3.9 - M2 RPS EXP",
   "language": "python",
   "name": "nantes-m2-rps-exp"
  },
  "language_info": {
   "codemirror_mode": {
    "name": "ipython",
    "version": 3
   },
   "file_extension": ".py",
   "mimetype": "text/x-python",
   "name": "python",
   "nbconvert_exporter": "python",
   "pygments_lexer": "ipython3",
   "version": "3.9.18"
  }
 },
 "nbformat": 4,
 "nbformat_minor": 5
}
