{
 "cells": [
  {
   "cell_type": "code",
   "execution_count": 9,
   "id": "f34f1ffa-731a-44f0-86f4-1dba72d84e85",
   "metadata": {},
   "outputs": [
    {
     "name": "stdout",
     "output_type": "stream",
     "text": [
      "uproot version 5.0.12\n",
      "awkward version 2.4.3\n",
      "numpy version 1.25.2\n",
      "matplotlib version 3.8.0\n",
      "hist version 2.7.2\n",
      "vector version 1.1.1\n"
     ]
    }
   ],
   "source": [
    "import uproot\n",
    "import awkward as ak\n",
    "import numpy as np\n",
    "import matplotlib\n",
    "import matplotlib.pyplot as plt\n",
    "import math\n",
    "import hist\n",
    "import vector\n",
    "import csv\n",
    "import os\n",
    "import subprocess\n",
    "import gc\n",
    "print(\"uproot version\",uproot.__version__)\n",
    "print(\"awkward version\",ak.__version__)\n",
    "print(\"numpy version\",np.__version__)\n",
    "print(\"matplotlib version\",matplotlib.__version__)\n",
    "print(\"hist version\",hist.__version__)\n",
    "print(\"vector version\",vector.__version__)"
   ]
  },
  {
   "cell_type": "code",
   "execution_count": 3,
   "id": "f96ecddd-b465-4d2d-9f02-06f1536966a3",
   "metadata": {},
   "outputs": [
    {
     "name": "stdout",
     "output_type": "stream",
     "text": [
      "[290222, 290223, 290254, 290293, 290297, 290300, 290323, 290324, 290327, 290350, 290374, 290375, 290401, 290404, 290411, 290418, 290420, 290421, 290423, 290425, 290427, 290428, 290456, 290458, 290459, 290467, 290469, 290499, 290501, 290538, 290539, 290540, 290544, 290549, 290550, 290553, 290590, 290612, 290613, 290614, 290615, 290627, 290632, 290645, 290658, 290660, 290665, 290687, 290692, 290696, 290699, 290721, 290742, 290764, 290766, 290769, 290774, 290776, 290787, 290790, 290848, 290853, 290860, 290862, 290892, 290894, 290895, 290932, 290935, 290943, 290944, 290948, 290975, 290976, 290979, 290980, 291002, 291003, 291004, 291005, 291006, 291035, 291037, 291041, 291065, 291066, 291100, 291110, 291263, 291265, 291282, 291283, 291284, 291285, 291286, 291360, 291361, 291362, 291363, 291373, 291375, 291397, 291399, 291400, 291402, 291416, 291417, 291419, 291420, 291446, 291447, 291451, 291453, 291456, 291457, 291481, 291482, 291484, 291485, 291590, 291614, 291615, 291618, 291622, 291624, 291625, 291626, 291657, 291661, 291665, 291690, 291692, 291694, 291697, 291698, 291706, 291729, 291755, 291756, 291760, 291769, 291795, 291796, 291803, 291942, 291943, 291944, 291945, 291948, 291953, 291976, 291982, 292012, 292040, 292060, 292061, 292062, 292075, 292077, 292080, 292081, 292106, 292107, 292108, 292109, 292114, 292115, 292140, 292160, 292161, 292162, 292163, 292164, 292166, 292167, 292168, 292192, 292240, 292241, 292242, 292265, 292269, 292270, 292273, 292274, 292298, 292397]\n"
     ]
    }
   ],
   "source": [
    "csv_file_path = '../data/counters.online.csv'\n",
    "run=[]\n",
    "with open(csv_file_path, newline='') as csvfile :\n",
    "    csv_reader = csv.DictReader(csvfile)\n",
    "    for row in csv_reader:\n",
    "        run.append(row['run'])\n",
    "    \n",
    "print([int(r) for r in run])"
   ]
  },
  {
   "cell_type": "code",
   "execution_count": 4,
   "id": "fa4cf519-d356-4727-83bd-662a16831c94",
   "metadata": {},
   "outputs": [],
   "source": [
    "#for r in run :\n",
    "    #!ls -alh /pbs/throng/training/nantes-m2-rps-exp/data/*290222*\n",
    "    #!ls -alh /pbs/throng/training/nantes-m2-rps-exp/data/*291223*\n",
    "    #!ls -alh /pbs/throng/training/nantes-m2-rps-exp/data/*292242*"
   ]
  },
  {
   "cell_type": "code",
   "execution_count": 10,
   "id": "381c5aca-3013-4541-a213-6cbd23b5db51",
   "metadata": {},
   "outputs": [],
   "source": [
    "vector.register_awkward() \n",
    "DATATYPE=\"mc\"\n",
    "assert((DATATYPE==\"mc\")  or (DATATYPE==\"data\"))\n",
    "BASEDIR=\"/pbs/throng/training/nantes-m2-rps-exp/data\" # basedir where to look for runXXX.DATATYPE.root files\n",
    "IS_MC=True if DATATYPE==\"mc\" else False\n",
    "\n",
    "def data_file_path(run,is_mc=IS_MC,dest=BASEDIR):\n",
    "    datatype=\"mc\" if is_mc else \"data\"\n",
    "    print({dest},\"/run\",{run},\".\",{datatype},\".root\")\n",
    "    return f\"{dest}/run{run}.{datatype}.root\" ;\n",
    "\n",
    "#import pandas\n",
    "#l1 = pandas.read_csv('../data/counters.offline.csv')['run']\n",
    "#l2 = [int(e) for e in os.popen(\"ls /pbs/throng/training/nantes-m2-rps-exp/data/ | grep 'mc' | cut -c 4-9\").read().split('\\n')[0:-2]]\n",
    "#print(len(l2))\n",
    "#print(l2) "
   ]
  },
  {
   "cell_type": "code",
   "execution_count": 22,
   "id": "47ab8e7c-12b0-4f43-b064-f792782cd409",
   "metadata": {},
   "outputs": [
    {
     "name": "stdout",
     "output_type": "stream",
     "text": [
      "{'/pbs/throng/training/nantes-m2-rps-exp/data'} /run {290323} . {'mc'} .root\n",
      "{'/pbs/throng/training/nantes-m2-rps-exp/data'} /run {290327} . {'mc'} .root\n",
      "{'/pbs/throng/training/nantes-m2-rps-exp/data'} /run {290374} . {'mc'} .root\n",
      "{'/pbs/throng/training/nantes-m2-rps-exp/data'} /run {290375} . {'mc'} .root\n",
      "{'/pbs/throng/training/nantes-m2-rps-exp/data'} /run {290404} . {'mc'} .root\n"
     ]
    },
    {
     "ename": "FieldNotFoundError",
     "evalue": "no field 'Muon_GenMotherPDGCode' in record with 2 fields\n\nThis error occurred while attempting to slice\n\n    <Array [{nMuonsGen: 2, Muon: ..., ...}, ...] type='80000 * {nMuonsGen: ...'>\n\nwith\n\n    'Muon_GenMotherPDGCode'",
     "output_type": "error",
     "traceback": [
      "\u001b[0;31m---------------------------------------------------------------------------\u001b[0m",
      "\u001b[0;31mFieldNotFoundError\u001b[0m                        Traceback (most recent call last)",
      "File \u001b[0;32m/pbs/throng/training/nantes-m2-rps-exp/miniconda3/envs/qqbar2mumu/lib/python3.9/site-packages/awkward/highlevel.py:1014\u001b[0m, in \u001b[0;36mArray.__getitem__\u001b[0;34m(self, where)\u001b[0m\n\u001b[1;32m   1012\u001b[0m \u001b[38;5;28;01mwith\u001b[39;00m ak\u001b[38;5;241m.\u001b[39m_errors\u001b[38;5;241m.\u001b[39mSlicingErrorContext(\u001b[38;5;28mself\u001b[39m, where):\n\u001b[1;32m   1013\u001b[0m     \u001b[38;5;28;01mreturn\u001b[39;00m wrap_layout(\n\u001b[0;32m-> 1014\u001b[0m         prepare_layout(\u001b[38;5;28;43mself\u001b[39;49m\u001b[38;5;241;43m.\u001b[39;49m\u001b[43m_layout\u001b[49m\u001b[43m[\u001b[49m\u001b[43mwhere\u001b[49m\u001b[43m]\u001b[49m), \u001b[38;5;28mself\u001b[39m\u001b[38;5;241m.\u001b[39m_behavior, allow_other\u001b[38;5;241m=\u001b[39m\u001b[38;5;28;01mTrue\u001b[39;00m\n\u001b[1;32m   1015\u001b[0m     )\n",
      "File \u001b[0;32m/pbs/throng/training/nantes-m2-rps-exp/miniconda3/envs/qqbar2mumu/lib/python3.9/site-packages/awkward/contents/content.py:519\u001b[0m, in \u001b[0;36mContent.__getitem__\u001b[0;34m(self, where)\u001b[0m\n\u001b[1;32m    518\u001b[0m \u001b[38;5;28;01mdef\u001b[39;00m \u001b[38;5;21m__getitem__\u001b[39m(\u001b[38;5;28mself\u001b[39m, where):\n\u001b[0;32m--> 519\u001b[0m     \u001b[38;5;28;01mreturn\u001b[39;00m \u001b[38;5;28;43mself\u001b[39;49m\u001b[38;5;241;43m.\u001b[39;49m\u001b[43m_getitem\u001b[49m\u001b[43m(\u001b[49m\u001b[43mwhere\u001b[49m\u001b[43m)\u001b[49m\n",
      "File \u001b[0;32m/pbs/throng/training/nantes-m2-rps-exp/miniconda3/envs/qqbar2mumu/lib/python3.9/site-packages/awkward/contents/content.py:536\u001b[0m, in \u001b[0;36mContent._getitem\u001b[0;34m(self, where)\u001b[0m\n\u001b[1;32m    535\u001b[0m \u001b[38;5;28;01melif\u001b[39;00m \u001b[38;5;28misinstance\u001b[39m(where, \u001b[38;5;28mstr\u001b[39m):\n\u001b[0;32m--> 536\u001b[0m     \u001b[38;5;28;01mreturn\u001b[39;00m \u001b[38;5;28;43mself\u001b[39;49m\u001b[38;5;241;43m.\u001b[39;49m\u001b[43m_getitem_field\u001b[49m\u001b[43m(\u001b[49m\u001b[43mwhere\u001b[49m\u001b[43m)\u001b[49m\n\u001b[1;32m    538\u001b[0m \u001b[38;5;28;01melif\u001b[39;00m where \u001b[38;5;129;01mis\u001b[39;00m np\u001b[38;5;241m.\u001b[39mnewaxis:\n",
      "File \u001b[0;32m/pbs/throng/training/nantes-m2-rps-exp/miniconda3/envs/qqbar2mumu/lib/python3.9/site-packages/awkward/contents/recordarray.py:473\u001b[0m, in \u001b[0;36mRecordArray._getitem_field\u001b[0;34m(self, where, only_fields)\u001b[0m\n\u001b[1;32m    472\u001b[0m \u001b[38;5;28;01mif\u001b[39;00m \u001b[38;5;28mlen\u001b[39m(only_fields) \u001b[38;5;241m==\u001b[39m \u001b[38;5;241m0\u001b[39m:\n\u001b[0;32m--> 473\u001b[0m     \u001b[38;5;28;01mreturn\u001b[39;00m \u001b[38;5;28;43mself\u001b[39;49m\u001b[38;5;241;43m.\u001b[39;49m\u001b[43mcontent\u001b[49m\u001b[43m(\u001b[49m\u001b[43mwhere\u001b[49m\u001b[43m)\u001b[49m\n\u001b[1;32m    475\u001b[0m \u001b[38;5;28;01melse\u001b[39;00m:\n",
      "File \u001b[0;32m/pbs/throng/training/nantes-m2-rps-exp/miniconda3/envs/qqbar2mumu/lib/python3.9/site-packages/awkward/contents/recordarray.py:412\u001b[0m, in \u001b[0;36mRecordArray.content\u001b[0;34m(self, index_or_field)\u001b[0m\n\u001b[1;32m    411\u001b[0m \u001b[38;5;28;01mdef\u001b[39;00m \u001b[38;5;21mcontent\u001b[39m(\u001b[38;5;28mself\u001b[39m, index_or_field: \u001b[38;5;28mstr\u001b[39m \u001b[38;5;241m|\u001b[39m SupportsIndex) \u001b[38;5;241m-\u001b[39m\u001b[38;5;241m>\u001b[39m Content:\n\u001b[0;32m--> 412\u001b[0m     out \u001b[38;5;241m=\u001b[39m \u001b[38;5;28;43mself\u001b[39;49m\u001b[38;5;241;43m.\u001b[39;49m\u001b[43mform_cls\u001b[49m\u001b[38;5;241;43m.\u001b[39;49m\u001b[43mcontent\u001b[49m\u001b[43m(\u001b[49m\u001b[38;5;28;43mself\u001b[39;49m\u001b[43m,\u001b[49m\u001b[43m \u001b[49m\u001b[43mindex_or_field\u001b[49m\u001b[43m)\u001b[49m\n\u001b[1;32m    413\u001b[0m     \u001b[38;5;28;01mif\u001b[39;00m (\n\u001b[1;32m    414\u001b[0m         \u001b[38;5;28mself\u001b[39m\u001b[38;5;241m.\u001b[39m_length \u001b[38;5;129;01mis\u001b[39;00m unknown_length\n\u001b[1;32m    415\u001b[0m         \u001b[38;5;129;01mor\u001b[39;00m out\u001b[38;5;241m.\u001b[39mlength \u001b[38;5;129;01mis\u001b[39;00m unknown_length\n\u001b[1;32m    416\u001b[0m         \u001b[38;5;129;01mor\u001b[39;00m out\u001b[38;5;241m.\u001b[39mlength \u001b[38;5;241m==\u001b[39m \u001b[38;5;28mself\u001b[39m\u001b[38;5;241m.\u001b[39m_length\n\u001b[1;32m    417\u001b[0m     ):\n",
      "File \u001b[0;32m/pbs/throng/training/nantes-m2-rps-exp/miniconda3/envs/qqbar2mumu/lib/python3.9/site-packages/awkward/forms/recordform.py:144\u001b[0m, in \u001b[0;36mRecordForm.content\u001b[0;34m(self, index_or_field)\u001b[0m\n\u001b[1;32m    143\u001b[0m \u001b[38;5;28;01melif\u001b[39;00m \u001b[38;5;28misinstance\u001b[39m(index_or_field, \u001b[38;5;28mstr\u001b[39m):\n\u001b[0;32m--> 144\u001b[0m     index \u001b[38;5;241m=\u001b[39m \u001b[38;5;28;43mself\u001b[39;49m\u001b[38;5;241;43m.\u001b[39;49m\u001b[43mfield_to_index\u001b[49m\u001b[43m(\u001b[49m\u001b[43mindex_or_field\u001b[49m\u001b[43m)\u001b[49m\n\u001b[1;32m    145\u001b[0m \u001b[38;5;28;01melse\u001b[39;00m:\n",
      "File \u001b[0;32m/pbs/throng/training/nantes-m2-rps-exp/miniconda3/envs/qqbar2mumu/lib/python3.9/site-packages/awkward/contents/recordarray.py:406\u001b[0m, in \u001b[0;36mRecordArray.field_to_index\u001b[0;34m(self, field)\u001b[0m\n\u001b[1;32m    405\u001b[0m \u001b[38;5;28;01mdef\u001b[39;00m \u001b[38;5;21mfield_to_index\u001b[39m(\u001b[38;5;28mself\u001b[39m, field: \u001b[38;5;28mstr\u001b[39m) \u001b[38;5;241m-\u001b[39m\u001b[38;5;241m>\u001b[39m SupportsIndex:\n\u001b[0;32m--> 406\u001b[0m     \u001b[38;5;28;01mreturn\u001b[39;00m \u001b[38;5;28;43mself\u001b[39;49m\u001b[38;5;241;43m.\u001b[39;49m\u001b[43mform_cls\u001b[49m\u001b[38;5;241;43m.\u001b[39;49m\u001b[43mfield_to_index\u001b[49m\u001b[43m(\u001b[49m\u001b[38;5;28;43mself\u001b[39;49m\u001b[43m,\u001b[49m\u001b[43m \u001b[49m\u001b[43mfield\u001b[49m\u001b[43m)\u001b[49m\n",
      "File \u001b[0;32m/pbs/throng/training/nantes-m2-rps-exp/miniconda3/envs/qqbar2mumu/lib/python3.9/site-packages/awkward/forms/recordform.py:125\u001b[0m, in \u001b[0;36mRecordForm.field_to_index\u001b[0;34m(self, field)\u001b[0m\n\u001b[1;32m    124\u001b[0m         \u001b[38;5;28;01mreturn\u001b[39;00m i\n\u001b[0;32m--> 125\u001b[0m \u001b[38;5;28;01mraise\u001b[39;00m FieldNotFoundError(\n\u001b[1;32m    126\u001b[0m     \u001b[38;5;124mf\u001b[39m\u001b[38;5;124m\"\u001b[39m\u001b[38;5;124mno field \u001b[39m\u001b[38;5;132;01m{\u001b[39;00mfield\u001b[38;5;132;01m!r}\u001b[39;00m\u001b[38;5;124m in record with \u001b[39m\u001b[38;5;132;01m{\u001b[39;00m\u001b[38;5;28mlen\u001b[39m(\u001b[38;5;28mself\u001b[39m\u001b[38;5;241m.\u001b[39m_contents)\u001b[38;5;132;01m}\u001b[39;00m\u001b[38;5;124m fields\u001b[39m\u001b[38;5;124m\"\u001b[39m\n\u001b[1;32m    127\u001b[0m )\n",
      "\u001b[0;31mFieldNotFoundError\u001b[0m: no field 'Muon_GenMotherPDGCode' in record with 2 fields",
      "\nThe above exception was the direct cause of the following exception:\n",
      "\u001b[0;31mFieldNotFoundError\u001b[0m                        Traceback (most recent call last)",
      "Cell \u001b[0;32mIn[22], line 33\u001b[0m\n\u001b[1;32m     31\u001b[0m \u001b[38;5;66;03m#print(g)\u001b[39;00m\n\u001b[1;32m     32\u001b[0m ak\u001b[38;5;241m.\u001b[39mArray(g)\n\u001b[0;32m---> 33\u001b[0m \u001b[38;5;28mprint\u001b[39m(ak\u001b[38;5;241m.\u001b[39msum(\u001b[43mg\u001b[49m\u001b[43m[\u001b[49m\u001b[38;5;124;43m\"\u001b[39;49m\u001b[38;5;124;43mMuon_GenMotherPDGCode\u001b[39;49m\u001b[38;5;124;43m\"\u001b[39;49m\u001b[43m]\u001b[49m\u001b[38;5;241m==\u001b[39m\u001b[38;5;241m443\u001b[39m))\n",
      "File \u001b[0;32m/pbs/throng/training/nantes-m2-rps-exp/miniconda3/envs/qqbar2mumu/lib/python3.9/site-packages/awkward/highlevel.py:1013\u001b[0m, in \u001b[0;36mArray.__getitem__\u001b[0;34m(self, where)\u001b[0m\n\u001b[1;32m    584\u001b[0m \u001b[38;5;250m\u001b[39m\u001b[38;5;124;03m\"\"\"\u001b[39;00m\n\u001b[1;32m    585\u001b[0m \u001b[38;5;124;03mArgs:\u001b[39;00m\n\u001b[1;32m    586\u001b[0m \u001b[38;5;124;03m    where (many types supported; see below): Index of positions to\u001b[39;00m\n\u001b[0;32m   (...)\u001b[0m\n\u001b[1;32m   1010\u001b[0m \u001b[38;5;124;03mhave the same dimension as the array being indexed.\u001b[39;00m\n\u001b[1;32m   1011\u001b[0m \u001b[38;5;124;03m\"\"\"\u001b[39;00m\n\u001b[1;32m   1012\u001b[0m \u001b[38;5;28;01mwith\u001b[39;00m ak\u001b[38;5;241m.\u001b[39m_errors\u001b[38;5;241m.\u001b[39mSlicingErrorContext(\u001b[38;5;28mself\u001b[39m, where):\n\u001b[0;32m-> 1013\u001b[0m     \u001b[38;5;28;01mreturn\u001b[39;00m wrap_layout(\n\u001b[1;32m   1014\u001b[0m         prepare_layout(\u001b[38;5;28mself\u001b[39m\u001b[38;5;241m.\u001b[39m_layout[where]), \u001b[38;5;28mself\u001b[39m\u001b[38;5;241m.\u001b[39m_behavior, allow_other\u001b[38;5;241m=\u001b[39m\u001b[38;5;28;01mTrue\u001b[39;00m\n\u001b[1;32m   1015\u001b[0m     )\n",
      "File \u001b[0;32m/pbs/throng/training/nantes-m2-rps-exp/miniconda3/envs/qqbar2mumu/lib/python3.9/site-packages/awkward/_errors.py:67\u001b[0m, in \u001b[0;36mErrorContext.__exit__\u001b[0;34m(self, exception_type, exception_value, traceback)\u001b[0m\n\u001b[1;32m     60\u001b[0m \u001b[38;5;28;01mtry\u001b[39;00m:\n\u001b[1;32m     61\u001b[0m     \u001b[38;5;66;03m# Handle caught exception\u001b[39;00m\n\u001b[1;32m     62\u001b[0m     \u001b[38;5;28;01mif\u001b[39;00m (\n\u001b[1;32m     63\u001b[0m         exception_type \u001b[38;5;129;01mis\u001b[39;00m \u001b[38;5;129;01mnot\u001b[39;00m \u001b[38;5;28;01mNone\u001b[39;00m\n\u001b[1;32m     64\u001b[0m         \u001b[38;5;129;01mand\u001b[39;00m \u001b[38;5;28missubclass\u001b[39m(exception_type, \u001b[38;5;167;01mException\u001b[39;00m)\n\u001b[1;32m     65\u001b[0m         \u001b[38;5;129;01mand\u001b[39;00m \u001b[38;5;28mself\u001b[39m\u001b[38;5;241m.\u001b[39mprimary() \u001b[38;5;129;01mis\u001b[39;00m \u001b[38;5;28mself\u001b[39m\n\u001b[1;32m     66\u001b[0m     ):\n\u001b[0;32m---> 67\u001b[0m         \u001b[38;5;28;43mself\u001b[39;49m\u001b[38;5;241;43m.\u001b[39;49m\u001b[43mhandle_exception\u001b[49m\u001b[43m(\u001b[49m\u001b[43mexception_type\u001b[49m\u001b[43m,\u001b[49m\u001b[43m \u001b[49m\u001b[43mexception_value\u001b[49m\u001b[43m)\u001b[49m\n\u001b[1;32m     68\u001b[0m \u001b[38;5;28;01mfinally\u001b[39;00m:\n\u001b[1;32m     69\u001b[0m     \u001b[38;5;66;03m# `_kwargs` may hold cyclic references, that we really want to avoid\u001b[39;00m\n\u001b[1;32m     70\u001b[0m     \u001b[38;5;66;03m# as this can lead to large buffers remaining in memory for longer than absolutely necessary\u001b[39;00m\n\u001b[1;32m     71\u001b[0m     \u001b[38;5;66;03m# Let's just clear this, now.\u001b[39;00m\n\u001b[1;32m     72\u001b[0m     \u001b[38;5;28mself\u001b[39m\u001b[38;5;241m.\u001b[39m_kwargs\u001b[38;5;241m.\u001b[39mclear()\n",
      "File \u001b[0;32m/pbs/throng/training/nantes-m2-rps-exp/miniconda3/envs/qqbar2mumu/lib/python3.9/site-packages/awkward/_errors.py:82\u001b[0m, in \u001b[0;36mErrorContext.handle_exception\u001b[0;34m(self, cls, exception)\u001b[0m\n\u001b[1;32m     80\u001b[0m     \u001b[38;5;28mself\u001b[39m\u001b[38;5;241m.\u001b[39mdecorate_exception(\u001b[38;5;28mcls\u001b[39m, exception)\n\u001b[1;32m     81\u001b[0m \u001b[38;5;28;01melse\u001b[39;00m:\n\u001b[0;32m---> 82\u001b[0m     \u001b[38;5;28;01mraise\u001b[39;00m \u001b[38;5;28mself\u001b[39m\u001b[38;5;241m.\u001b[39mdecorate_exception(\u001b[38;5;28mcls\u001b[39m, exception)\n",
      "\u001b[0;31mFieldNotFoundError\u001b[0m: no field 'Muon_GenMotherPDGCode' in record with 2 fields\n\nThis error occurred while attempting to slice\n\n    <Array [{nMuonsGen: 2, Muon: ..., ...}, ...] type='80000 * {nMuonsGen: ...'>\n\nwith\n\n    'Muon_GenMotherPDGCode'"
     ]
    }
   ],
   "source": [
    "SAMPLE_RUNS=[290323, 290327, 290374, 290375, 290404, 290420, 290421, 290423, 290425, 290427,  290456, 290458, 290459, 290469, 290501, 290539, 290540, 290549, 290553, 290590, 290612, 290632, 290658, 290660, 290687, 290692, 290696, 290699, 290742, 290764, 290766, 290776, 290787, 290848, 290853, 290860, 290894, 290895, 290932, 290935, 290975, 290980, 291002, 291003, 291004, 291005, 291041, 291263, 291283, 291284, 291285, 291360, 291361, 291362, 291373, 291399, 291400, 291447, 291451, 291453, 291482, 291485, 291590, 291618, 291622, 291624, 291657, 291690, 291692, 291694, 291698, 291706, 291755, 291760, 291769, 291795, 291796, 291803, 291943, 291944, 291948, 291953, 291976, 291982, 292012, 292040, 292060, 292061, 292062, 292075, 292077, 292080, 292106, 292108, 292109, 292115, 292140, 292160, 292162, 292163, 292164, 292166, 292168, 292192, 292242, 292265, 292269, 292270, 292273, 292274]\n",
    "\n",
    "JPsiGen=[]\n",
    "Psi2SGen=[]\n",
    "\n",
    "for i in SAMPLE_RUNS[0:5] :\n",
    "    nofJPsiGen=0\n",
    "    nofPsi2SGen=0\n",
    "    nofEvents =0\n",
    "    nofTracks=0\n",
    "    file = uproot.open(data_file_path(i,IS_MC));\n",
    "    events = file[\"eventsTree\"]\n",
    "    gen=file[\"genTree\"]\n",
    "    g= gen.arrays([\"nMuonsGen\", \"Muon_GenE\", \"Muon_GenPx\",\"Muon_GenPy\",\"Muon_GenPz\", \"Muon_GenLabel\", \"Muon_GenMotherPDGCode\"], how=\"zip\", entry_stop=150000)\n",
    "\n",
    "    m = events.arrays([\"nMuons\",\"Muon_Px\",\"Muon_Py\",\"Muon_Pz\",\"Muon_Charge\"],how=\"zip\",entry_stop=150000)\n",
    "    \"\"\"for event in g :\n",
    "        nofEvents+=1\n",
    "        tracks = event[\"Muon\"].to_list()\n",
    "        for t in tracks:\n",
    "            nofTracks+=1\n",
    "            if t[\"GenMotherPDGCode\"]==443 :\n",
    "                nofJPsiGen +=1\n",
    "            if t[\"GenMotherPDGCode\"]== 100443 :\n",
    "                nofPsi2SGen +=1\n",
    "        print(nofJPsiGen + nofPsi2SGen)\n",
    "        print(nofTracks)\n",
    "        JPsiGen.append(nofJPsiGen)\n",
    "        Psi2SGen.append(nofPsi2SGen)\"\"\"\n",
    "        \n",
    "#print(g)\n",
    "ak.Array(g)\n",
    "print(ak.sum(ak.Array(g)[\"Muon_GenMotherPDGCode\"]==443))\n",
    "        \n",
    "    \n",
    "#file = uproot.open(\"/pbs/throng/training/nantes-m2-rps-exp/data/run290860.mc.root\")"
   ]
  },
  {
   "cell_type": "code",
   "execution_count": null,
   "id": "15b3889a-d602-4c95-bf0a-a796c98c7689",
   "metadata": {},
   "outputs": [],
   "source": []
  },
  {
   "cell_type": "code",
   "execution_count": null,
   "id": "9ca7fd04-7f84-4d13-a03c-afb9fae513f5",
   "metadata": {},
   "outputs": [],
   "source": [
    "\n"
   ]
  },
  {
   "cell_type": "code",
   "execution_count": 7,
   "id": "47150cd7-3a5a-4a27-8b81-b79e222fd4d3",
   "metadata": {},
   "outputs": [
    {
     "data": {
      "image/png": "[encoded data removed]",
      "text/plain": [
       "<Figure size 640x480 with 1 Axes>"
      ]
     },
     "metadata": {},
     "output_type": "display_data"
    }
   ],
   "source": [
    "    plt.hist(g.nMuonsGen,bins=[0,1,2,3,4,5,6,7,8,9,10]) #nbr muons par event\n",
    "    plt.yscale(\"log\")"
   ]
  },
  {
   "cell_type": "code",
   "execution_count": 8,
   "id": "24a02293-0da9-45fa-8b17-12aa4891cb77",
   "metadata": {},
   "outputs": [
    {
     "name": "stdout",
     "output_type": "stream",
     "text": [
      "40000 80000 26733.0 13267.0\n",
      "40000.0\n"
     ]
    }
   ],
   "source": [
    "nofTracks=0 # il est toujours utile de compter ...\n",
    "nofEvents=0 # \n",
    "nofJPsiGen=0\n",
    "nofJPsi2SGen=0\n",
    "for event in g :\n",
    "    nofEvents+=1\n",
    "    tracks = event[\"Muon\"].to_list()\n",
    "    for t in tracks:\n",
    "        nofTracks+=1\n",
    "        if t[\"GenMotherPDGCode\"]==443 :\n",
    "            nofJPsiGen +=1\n",
    "        if t[\"GenMotherPDGCode\"]== 100443 :\n",
    "            nofJPsi2SGen +=1\n",
    "        \n",
    "print(nofEvents, nofTracks, nofJPsiGen/2, nofJPsi2SGen/2)\n",
    "print(nofJPsiGen/2 + nofJPsi2SGen/2)"
   ]
  },
  {
   "cell_type": "code",
   "execution_count": null,
   "id": "87dff600-703f-46e7-829a-2c817b73fb61",
   "metadata": {},
   "outputs": [],
   "source": [
    "\n",
    "\n",
    "\n",
    "\n",
    "\n",
    "\n"
   ]
  }
 ],
 "metadata": {
  "kernelspec": {
   "display_name": "Python 3.9 - M2 RPS EXP",
   "language": "python",
   "name": "nantes-m2-rps-exp"
  },
  "language_info": {
   "codemirror_mode": {
    "name": "ipython",
    "version": 3
   },
   "file_extension": ".py",
   "mimetype": "text/x-python",
   "name": "python",
   "nbconvert_exporter": "python",
   "pygments_lexer": "ipython3",
   "version": "3.9.18"
  }
 },
 "nbformat": 4,
 "nbformat_minor": 5
}
