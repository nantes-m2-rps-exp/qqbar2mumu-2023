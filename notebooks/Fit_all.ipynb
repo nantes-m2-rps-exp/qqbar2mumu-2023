{
 "cells": [
  {
   "cell_type": "code",
   "execution_count": 1,
   "id": "77632d4f-66e0-4946-bb68-314f7ad7d9ea",
   "metadata": {},
   "outputs": [
    {
     "name": "stdout",
     "output_type": "stream",
     "text": [
      "uproot version 5.0.12\n",
      "awkward version 2.4.3\n",
      "numpy version 1.25.2\n",
      "matplotlib version 3.8.0\n",
      "hist version 2.7.2\n",
      "vector version 1.1.1\n",
      "pandas version 1.5.3\n"
     ]
    }
   ],
   "source": [
    "import uproot\n",
    "import awkward as ak\n",
    "import numpy as np\n",
    "import matplotlib\n",
    "import matplotlib.pyplot as plt\n",
    "import math\n",
    "import hist\n",
    "import vector\n",
    "import os\n",
    "import subprocess\n",
    "import gc\n",
    "import pandas as pd\n",
    "from scipy.optimize import curve_fit\n",
    "from scipy.integrate import quad\n",
    "print(\"uproot version\", uproot.__version__)\n",
    "print(\"awkward version\", ak.__version__)\n",
    "print(\"numpy version\", np.__version__)\n",
    "print(\"matplotlib version\", matplotlib.__version__)\n",
    "print(\"hist version\", hist.__version__)\n",
    "print(\"vector version\", vector.__version__)\n",
    "#print(\"os version\", os.__version__)\n",
    "#print(\"subprocess version\", subprocess.__version__)\n",
    "#print(\"gc version\", gc.__version__)\n",
    "print(\"pandas version\", pd.__version__)\n",
    "#print(\"scipy.optimize version\", scipy.optimize.__version__)\n",
    "#print(\"scipy.integrate version\", scipy.integrate.__version__)"
   ]
  },
  {
   "cell_type": "code",
   "execution_count": 2,
   "id": "165848a0-8570-4c38-81fb-85331cbc3946",
   "metadata": {},
   "outputs": [
    {
     "data": {
      "text/html": [
       "<html>\n",
       "<div style=\"display:flex; align-items:center;\">\n",
       "<div style=\"width:290px;\">\n",
       "<svg xmlns=\"http://www.w3.org/2000/svg\" viewBox=\"-10 -105 270 120\">\n",
       "<line x1=\"-5\" y1=\"0\" x2=\"255\" y2=\"0\" style=\"fill:none;stroke-width:2;stroke:currentColor\"/>\n",
       "<text text-anchor=\"middle\" x=\"0\" y=\"15\" style=\"fill:currentColor;\">\n",
       "1.5\n",
       "</text>\n",
       "<text text-anchor=\"middle\" x=\"250\" y=\"15\" style=\"fill:currentColor;\">\n",
       "5\n",
       "</text>\n",
       "<text text-anchor=\"middle\" x=\"125.0\" y=\"15\" style=\"fill:currentColor;\">\n",
       "X\n",
       "</text>\n",
       "<polyline points=\"  0,0   0,-100 2.5,-100 2.5,-97.8   5,-97.8   5,-93.3 7.5,-93.3 7.5,-91.2  10,-91.2  10,-88.2 12.5,-88.2 12.5,-83.9  15,-83.9  15,-81.6 17.5,-81.6 17.5,-78.2  20,-78.2  20,-75.1 22.5,-75.1 22.5,-72.4  25,-72.4  25,-69.9 27.5,-69.9 27.5,-66.7  30,-66.7  30,-63.9 32.5,-63.9 32.5,-61.3  35,-61.3  35,-58.6 37.5,-58.6 37.5,-55.6  40,-55.6  40,-52.7 42.5,-52.7 42.5,-50.7  45,-50.7  45,-49 47.5,-49 47.5,-46.8  50,-46.8  50,-44.5 52.5,-44.5 52.5,-42.8  55,-42.8  55,-40.5 57.5,-40.5 57.5,-38.5  60,-38.5  60,-37.3 62.5,-37.3 62.5,-35.6  65,-35.6  65,-34.2 67.5,-34.2 67.5,-32.6  70,-32.6  70,-31.4 72.5,-31.4 72.5,-30.2  75,-30.2  75,-28.5 77.5,-28.5 77.5,-27.6  80,-27.6  80,-26.8 82.5,-26.8 82.5,-25.6  85,-25.6  85,-24.9 87.5,-24.9 87.5,-24.6  90,-24.6  90,-23.9 92.5,-23.9 92.5,-24.1  95,-24.1  95,-24.7 97.5,-24.7 97.5,-25.9 100,-25.9 100,-29.8 102.5,-29.8 102.5,-34.6 105,-34.6 105,-43.9 107.5,-43.9 107.5,-58.6 110,-58.6 110,-74.8 112.5,-74.8 112.5,-84.5 115,-84.5 115,-78.6 117.5,-78.6 117.5,-59.4 120,-59.4 120,-37.6 122.5,-37.6 122.5,-23.2 125,-23.2 125,-16 127.5,-16 127.5,-12.7 130,-12.7 130,-11.3 132.5,-11.3 132.5,-10.2 135,-10.2 135,-9.52 137.5,-9.52 137.5,-8.93 140,-8.93 140,-8.79 142.5,-8.79 142.5,-8.38 145,-8.38 145,-8.23 147.5,-8.23 147.5,-8.16 150,-8.16 150,-8.05 152.5,-8.05 152.5,-8.24 155,-8.24 155,-7.92 157.5,-7.92 157.5,-7.58 160,-7.58 160,-7.2 162.5,-7.2 162.5,-6.32 165,-6.32 165,-5.8 167.5,-5.8 167.5,-5.38 170,-5.38 170,-5.32 172.5,-5.32 172.5,-5.11 175,-5.11 175,-4.8 177.5,-4.8 177.5,-4.65 180,-4.65 180,-4.5 182.5,-4.5 182.5,-4.48 185,-4.48 185,-4.31 187.5,-4.31 187.5,-4.12 190,-4.12 190,-4.11 192.5,-4.11 192.5,-3.8 195,-3.8 195,-3.72 197.5,-3.72 197.5,-3.61 200,-3.61 200,-3.49 202.5,-3.49 202.5,-3.41 205,-3.41 205,-3.29 207.5,-3.29 207.5,-3.1 210,-3.1 210,-3.11 212.5,-3.11 212.5,-2.96 215,-2.96 215,-2.82 217.5,-2.82 217.5,-2.78 220,-2.78 220,-2.6 222.5,-2.6 222.5,-2.61 225,-2.61 225,-2.51 227.5,-2.51 227.5,-2.52 230,-2.52 230,-2.4 232.5,-2.4 232.5,-2.36 235,-2.36 235,-2.27 237.5,-2.27 237.5,-2.22 240,-2.22 240,-2.2 242.5,-2.2 242.5,-2.06 245,-2.06 245,-2.1 247.5,-2.1 247.5,-1.93 250,-1.93 250,0\" style=\"fill:none; stroke:currentColor;\"/>\n",
       "</svg>\n",
       "</div>\n",
       "<div style=\"flex=grow:1;\">\n",
       "Regular(100, 1.5, 5, name='$m_{\\\\mu \\\\mu}$', label='X')<br/>\n",
       "<hr style=\"margin-top:.2em; margin-bottom:.2em;\"/>\n",
       "Double() Σ=1650055.0\n",
       "\n",
       "</div>\n",
       "</div>\n",
       "</html>"
      ],
      "text/plain": [
       "Hist(Regular(100, 1.5, 5, name='$m_{\\\\mu \\\\mu}$', label='X'), storage=Double()) # Sum: 1650055.0"
      ]
     },
     "execution_count": 2,
     "metadata": {},
     "output_type": "execute_result"
    }
   ],
   "source": [
    "X = [1.5174999999999998, 1.5525, 1.5875, 1.6225, 1.6574999999999998, 1.6925, 1.7275, 1.7625000000000002, \n",
    "     1.7975, 1.8325, 1.8675000000000002, 1.9025000000000003, 1.9375, 1.9725, 2.0075, 2.0425, 2.0775, 2.1125, \n",
    "     2.1475, 2.1825, 2.2175000000000002, 2.2525, 2.2875, 2.3225, 2.3575, 2.3925, 2.4275, 2.4625, 2.4975, \n",
    "     2.5324999999999998, 2.5675, 2.6025, 2.6375, 2.6725000000000003, 2.7075, 2.7424999999999997, 2.7775, \n",
    "     2.8125, 2.8475, 2.8825000000000003, 2.9175000000000004, 2.9524999999999997, 2.9875, 3.0225, 3.0575, \n",
    "     3.0925, 3.1275, 3.1625, 3.1975, 3.2325, 3.2675, 3.3025, 3.3375, 3.3725000000000005, 3.4074999999999998, \n",
    "     3.4425000000000003, 3.4775, 3.5125, 3.5475, 3.5824999999999996, 3.6174999999999997, 3.6525000000000003, \n",
    "     3.6875, 3.7224999999999997, 3.7575000000000003, 3.7925000000000004, 3.8275, 3.8625, 3.8975, \n",
    "     3.9324999999999997, 3.9675, 4.0024999999999995, 4.0375, 4.0725, 4.1075, 4.1425, 4.1775, 4.2125, \n",
    "     4.2475000000000005, 4.2825, 4.3175, 4.352499999999999, 4.3875, 4.422499999999999, 4.4575, \n",
    "     4.492500000000001, 4.5275, 4.5625, 4.5975, 4.632499999999999, 4.6675, 4.702500000000001, 4.7375, \n",
    "     4.772500000000001, 4.8075, 4.842499999999999, 4.8775, 4.9125, 4.9475, 4.9825]\n",
    "\n",
    "# CMUL\n",
    "Y = [57896.0, 56599.0, 53995.0, 52793.0, 51047.0, 48582.0, 47270.0, 45285.0, 43507.0, 41936.0, 40474.0, 38644.0, \n",
    "                    36985.0, 35506.0, 33903.0, 32203.0, 30526.0, 29337.0, 28391.0, 27104.0, 25745.0, 24765.0, 23450.0, 22278.0, \n",
    "                    21580.0, 20615.0, 19777.0, 18892.0, 18192.0, 17468.0, 16507.0, 16004.0, 15516.0, 14849.0, 14401.0, 14229.0, \n",
    "                    13849.0, 13946.0, 14304.0, 14977.0, 17259.0, 20012.0, 25442.0, 33907.0, 43314.0, 48903.0, 45509.0, 34395.0, \n",
    "                    21777.0, 13409.0, 9238.0, 7356.0, 6559.0, 5897.0, 5510.0, 5173.0, 5087.0, 4850.0, 4766.0, 4727.0, 4662.0, \n",
    "                    4768.0, 4585.0, 4391.0, 4171.0, 3659.0, 3360.0, 3113.0, 3081.0, 2957.0, 2778.0, 2691.0, 2606.0, 2591.0, \n",
    "                    2495.0, 2383.0, 2380.0, 2199.0, 2155.0, 2089.0, 2020.0, 1974.0, 1905.0, 1796.0, 1798.0, 1716.0, 1631.0, \n",
    "                    1608.0, 1504.0, 1511.0, 1452.0, 1461.0, 1387.0, 1365.0, 1312.0, 1284.0, 1275.0, 1194.0, 1214.0, 1117.0]\n",
    "\n",
    "vMass_OS = hist.Hist(hist.axis.Regular(bins = 100, start = 1.5, stop = 5, name='$m_{\\mu \\mu}$', label = 'X'))\n",
    "vMass_OS.fill(X, weight = Y)"
   ]
  },
  {
   "cell_type": "code",
   "execution_count": 3,
   "id": "7de12974-2f8d-4e7a-a22e-431de4547d53",
   "metadata": {},
   "outputs": [],
   "source": [
    "def funcVec(x, N, mu, sig, alphaL, nL, alphaR, nR):\n",
    "    AL = ( nL / np.absolute( alphaL ) )**nL * np.exp( -1 * np.absolute( alphaL )**2 / 2 )\n",
    "    AR = ( nR / np.absolute( alphaR ) )**nR * np.exp( -1 * np.absolute( alphaR )**2 / 2 )\n",
    "    BL = nL / np.absolute( alphaL ) - np.absolute( alphaL )\n",
    "    BR = nR / np.absolute( alphaR ) - np.absolute( alphaR )\n",
    "\n",
    "    return np.piecewise(x, \n",
    "                        [( x - mu )/sig < -1 * alphaL, (( x - mu )/sig >= -1 * alphaL) & (( x - mu )/sig <= alphaR).any() , ( x - mu )/sig > alphaR],\n",
    "                        [lambda x: N * AL * (BL - (( x - mu )/sig))**(-nL), lambda x: N * np.exp(-1 * (( x - mu )/sig)**2 / 2), lambda x: N * AR * (BR + ( x - mu )/sig)**(-nR)])\n",
    "\n",
    "def VWG(x, N, mu, alpha, beta):\n",
    "    sigma = alpha + beta*((x-mu)/mu)\n",
    "    return N * np.exp(-(x - mu)**2 / (2*sigma**2))\n",
    "\n",
    "def PR(x, N, a1, b1, b2):\n",
    "    return N * (1 + a1*x) / (b1*x + b2*x)\n",
    "\n",
    "def DE(x, N, alpha, beta1, beta2):\n",
    "    return N * (np.exp(beta1*x) + alpha * np.exp(beta2*x))\n",
    "\n",
    "def fitFunc(x,\n",
    "            N1, mu1, sig1, alphaL1, nL1, alphaR1, nR1,\n",
    "            N2, mu2, sig2, alphaL2, nL2, alphaR2, nR2,\n",
    "            Nbg, a1, a2, a3):\n",
    "    return funcVec(x, N1, mu1, sig1, alphaL1, nL1, alphaR1, nR1) + funcVec(x, N2, mu2, sig2, alphaL2, nL2, alphaR2, nR2) + DE(x, Nbg, a1, a2, a3)"
   ]
  },
  {
   "cell_type": "code",
   "execution_count": 7,
   "id": "fe907a3c-115c-4123-b2b8-5c69353f999b",
   "metadata": {},
   "outputs": [],
   "source": [
    "x_data = np.array(X)\n",
    "y_data = np.array(vMass_OS)\n",
    "y_error = np.array(np.sqrt(vMass_OS))\n",
    "\n",
    "condition = (x_data > 2.0)\n",
    "#condition = True\n",
    "x_filtered = np.ravel(x_data[condition])\n",
    "y_filtered = np.ravel(y_data[condition])\n",
    "y_error_filtered = np.ravel(y_error[condition])\n",
    "\n",
    "x_data = x_filtered\n",
    "y_data = y_filtered\n",
    "y_error = y_error_filtered"
   ]
  },
  {
   "cell_type": "code",
   "execution_count": 8,
   "id": "80e3cdb6-e292-4b9e-8f2a-849d26cec702",
   "metadata": {},
   "outputs": [],
   "source": [
    "p0 = np.array([4.34346001e+04, 3.09447591e+00, 7.29521704e-02, 9.96696169e-01,\n",
    "               3.04366213e+00, 1.82082157e+00, 2.55669142e+01, 7.14807206e+02,\n",
    "               3.68534012e+00, 6.54321063e-02, 1.03781632e+00, 1.42893686e+02,\n",
    "               1.09277059e+01, 1.63297285e+02, 2.22753488e+04, 3.34947479e+01,\n",
    "               -5.98220438e-01, -1.56101540e+00])"
   ]
  },
  {
   "cell_type": "code",
   "execution_count": 9,
   "id": "3937be46-4973-42fa-be25-6086f86d1bf4",
   "metadata": {},
   "outputs": [
    {
     "name": "stdout",
     "output_type": "stream",
     "text": [
      "popt: \n",
      " [ 4.34346001e+04  3.09632760e+00  6.95507089e-02  1.00119124e+00\n",
      "  3.04424610e+00  1.82007607e+00  2.55669130e+01  7.14807206e+02\n",
      "  3.68534250e+00  6.50579177e-02  1.03781446e+00  1.42893686e+02\n",
      "  1.09277059e+01  1.63297285e+02  2.22753488e+04  3.34939411e+01\n",
      " -6.44269481e-01 -1.63043941e+00]\n",
      "pcov: \n",
      " [[ 1.91493623e+05  3.98026150e-02 -2.06904922e-01  1.02667062e+00\n",
      "  -8.07662089e+01 -2.87597880e+01  4.29291544e+03  6.15565611e+03\n",
      "  -1.81528645e-01  7.18795797e-01  3.79553777e+01 -2.76674801e+06\n",
      "  -2.48662228e-09  9.47996866e-09  1.10656938e+06 -1.02954015e+03\n",
      "  -7.55330713e+00 -1.29023193e+01]\n",
      " [ 3.98026150e-02  6.78078361e-07 -3.96154134e-07 -2.40034985e-05\n",
      "   2.47359752e-04  1.06930096e-06 -4.22410757e-04 -5.00076899e-03\n",
      "   2.58590062e-07 -5.30382434e-07 -5.52850629e-05  3.09995786e+00\n",
      "   3.57863346e-15 -1.03200957e-14 -2.85160598e+00  3.29759833e-03\n",
      "   2.14717208e-05  2.38496323e-05]\n",
      " [-2.06904922e-01 -3.96154134e-07  9.85706464e-07  3.11231868e-05\n",
      "  -3.32408762e-04  1.26226937e-04 -4.31240597e-02  1.25375758e-02\n",
      "   2.45646630e-09  1.19065652e-06 -1.51066947e-04  3.35181887e+00\n",
      "   6.15930047e-16 -1.23762113e-14  3.46899312e+00 -3.59385870e-03\n",
      "  -2.47746045e-05 -3.52375467e-05]\n",
      " [ 1.02667062e+00 -2.40034985e-05  3.11231868e-05  2.75418339e-03\n",
      "  -3.61036386e-02  2.64974708e-03 -1.22435306e+00  7.62115946e-01\n",
      "  -2.12621775e-05  7.05174047e-05 -1.44062054e-03 -1.20275870e+02\n",
      "  -2.89638451e-13  3.44195689e-13  4.13367275e+02 -4.76203242e-01\n",
      "  -3.10408340e-03 -3.49277506e-03]\n",
      " [-8.07662089e+01  2.47359752e-04 -3.32408762e-04 -3.61036386e-02\n",
      "   6.61246103e-01 -1.37941227e-02  1.69049783e+01 -2.15517947e+01\n",
      "   6.64045970e-04 -2.18672531e-03 -4.10183394e-02  6.27706036e+03\n",
      "   9.07394697e-12 -2.02189224e-11 -9.43245814e+03  1.05642584e+01\n",
      "   7.00052942e-02  8.37886303e-02]\n",
      " [-2.87597880e+01  1.06930096e-06  1.26226937e-04  2.64974708e-03\n",
      "  -1.37941227e-02  7.25440893e-02 -2.83021853e+01 -6.27714819e-01\n",
      "   2.17746175e-04 -1.80055653e-04 -1.18708905e-01  5.11457631e+03\n",
      "   3.50607867e-12 -1.79233730e-11  1.21080623e+02 -1.54340023e-01\n",
      "  -9.54180783e-04 -8.09661674e-04]\n",
      " [ 4.29291544e+03 -4.22410757e-04 -4.31240597e-02 -1.22435306e+00\n",
      "   1.69049783e+01 -2.83021853e+01  1.48925446e+04 -8.17389546e+02\n",
      "  -1.40503165e-01 -2.39398977e-03  9.10260858e+01 -3.36022743e+06\n",
      "  -2.27628874e-09  1.17855496e-08 -1.32035506e+05  1.01319010e+02\n",
      "   8.27390565e-01  1.87372805e+00]\n",
      " [ 6.15565611e+03 -5.00076899e-03  1.25375758e-02  7.62115946e-01\n",
      "  -2.15517947e+01 -6.27714819e-01 -8.17389546e+02  2.05052849e+04\n",
      "   2.26905672e-01 -9.54190300e-01 -1.35887070e+01 -7.70939594e+05\n",
      "  -4.39085111e-10  2.73697301e-09 -2.07186387e+05  4.05587766e+02\n",
      "   2.10420511e+00 -8.07210227e-01]\n",
      " [-1.81528645e-01  2.58590062e-07  2.45646630e-09 -2.12621775e-05\n",
      "   6.64045970e-04  2.17746175e-04 -1.40503165e-01  2.26905672e-01\n",
      "   2.44657453e-04 -1.01865689e-04 -1.23174942e-02  1.84886889e+02\n",
      "   1.34695035e-13 -6.44971459e-13 -1.19066884e+01  1.22896003e-02\n",
      "   8.44428343e-05  1.20545801e-04]\n",
      " [ 7.18795797e-01 -5.30382434e-07  1.19065652e-06  7.05174047e-05\n",
      "  -2.18672531e-03 -1.80055653e-04 -2.39398977e-03 -9.54190300e-01\n",
      "  -1.01865689e-04  3.29037217e-04  1.44870093e-02 -2.34866191e+02\n",
      "  -1.40600524e-13  8.30712025e-13 -4.58629792e+01  7.49963486e-02\n",
      "   4.16151764e-04  4.55172916e-05]\n",
      " [ 3.79553777e+01 -5.52850629e-05 -1.51066947e-04 -1.44062054e-03\n",
      "  -4.10183394e-02 -1.18708905e-01  9.10260858e+01 -1.35887070e+01\n",
      "  -1.23174942e-02  1.44870093e-02  4.05894809e+00 -9.11551673e+04\n",
      "  -6.31693438e-11  3.19207587e-10 -6.86461078e+02  1.23865917e+00\n",
      "   6.58001764e-03 -1.04414481e-03]\n",
      " [-2.76674801e+06  3.09995786e+00  3.35181887e+00 -1.20275870e+02\n",
      "   6.27706036e+03  5.11457631e+03 -3.36022743e+06 -7.70939594e+05\n",
      "   1.84886889e+02 -2.34866191e+02 -9.11551673e+04  2.80093840e+09\n",
      "   1.95003252e-06 -9.80503749e-06  3.73210090e+06 -4.37241172e+04\n",
      "  -1.56384628e+02  5.64943120e+02]\n",
      " [-2.48662228e-09  3.57863346e-15  6.15930047e-16 -2.89638451e-13\n",
      "   9.07394697e-12  3.50607867e-12 -2.27628874e-09 -4.39085111e-10\n",
      "   1.34695035e-13 -1.40600524e-13 -6.31693438e-11  1.95003252e-06\n",
      "   1.48381256e-21 -6.77914025e-21 -2.50988199e-07  2.88413669e-10\n",
      "   1.90962100e-12  2.08665058e-12]\n",
      " [ 9.47996866e-09 -1.03200957e-14 -1.23762113e-14  3.44195689e-13\n",
      "  -2.02189224e-11 -1.79233730e-11  1.17855496e-08  2.73697301e-09\n",
      "  -6.44971459e-13  8.30712025e-13  3.19207587e-10 -9.80503749e-06\n",
      "  -6.77914025e-21  3.43414191e-20 -1.07907617e-07  2.72340443e-10\n",
      "   1.30245739e-12 -1.34471760e-12]\n",
      " [ 1.10656938e+06 -2.85160598e+00  3.46899312e+00  4.13367275e+02\n",
      "  -9.43245814e+03  1.21080623e+02 -1.32035506e+05 -2.07186387e+05\n",
      "  -1.19066884e+01 -4.58629792e+01 -6.86461078e+02  3.73210090e+06\n",
      "  -2.50988199e-07 -1.07907617e-07  5.09622456e+08 -6.40913332e+05\n",
      "  -4.05688982e+03 -3.40114747e+03]\n",
      " [-1.02954015e+03  3.29759833e-03 -3.59385870e-03 -4.76203242e-01\n",
      "   1.05642584e+01 -1.54340023e-01  1.01319010e+02  4.05587766e+02\n",
      "   1.22896003e-02  7.49963486e-02  1.23865917e+00 -4.37241172e+04\n",
      "   2.88413669e-10  2.72340443e-10 -6.40913332e+05  8.15330799e+02\n",
      "   5.13496382e+00  4.13874945e+00]\n",
      " [-7.55330713e+00  2.14717208e-05 -2.47746045e-05 -3.10408340e-03\n",
      "   7.00052942e-02 -9.54180783e-04  8.27390565e-01  2.10420511e+00\n",
      "   8.44428343e-05  4.16151764e-04  6.58001764e-03 -1.56384628e+02\n",
      "   1.90962100e-12  1.30245739e-12 -4.05688982e+03  5.13496382e+00\n",
      "   3.24322073e-02  2.65733502e-02]\n",
      " [-1.29023193e+01  2.38496323e-05 -3.52375467e-05 -3.49277506e-03\n",
      "   8.37886303e-02 -8.09661674e-04  1.87372805e+00 -8.07210227e-01\n",
      "   1.20545801e-04  4.55172916e-05 -1.04414481e-03  5.64943120e+02\n",
      "   2.08665058e-12 -1.34471760e-12 -3.40114747e+03  4.13874945e+00\n",
      "   2.65733502e-02  2.47816236e-02]]\n",
      "residual: \n",
      " {'nfev': 25, 'fvec': array([ 3.25774928e+00,  3.38223012e+00,  3.90625839e+00,  2.08316549e+00,\n",
      "       -7.68263883e-01, -1.19241280e+00, -7.26066715e-01, -2.18862201e+00,\n",
      "       -1.10460698e+00, -4.78506972e-01, -2.61789729e+00, -2.57367506e+00,\n",
      "       -2.99867160e+00, -2.67692304e+00, -3.26456129e+00, -3.24582630e+00,\n",
      "       -9.25149739e-01, -1.59004407e+00, -1.82004222e+00,  6.56327432e-02,\n",
      "        9.95950518e-01,  6.12055440e-01,  3.28481582e+00,  3.62952176e+00,\n",
      "        4.19082846e+00,  5.66867360e+00, -2.91396990e-01, -6.95047215e-01,\n",
      "       -4.95798649e+00, -2.93659845e+00,  9.91226319e+00,  1.05061128e+01,\n",
      "        6.08180279e+00,  2.32888953e+00,  1.36869671e+00, -2.92154595e+00,\n",
      "       -2.60798508e+00, -1.84364107e+00, -2.97322989e+00, -1.06363947e+00,\n",
      "       -4.31529936e-01,  6.66145256e-01, -1.07069470e+00, -1.87482485e-01,\n",
      "       -9.12802153e-01, -1.50189219e+00, -4.67825417e-01, -1.24857047e+00,\n",
      "        3.99682972e-01, -5.10031906e-01, -2.71816813e+00, -7.34545938e-03,\n",
      "        8.89490760e-01,  2.28653764e+00,  5.06511126e-01,  6.77716079e-01,\n",
      "        2.04906324e+00,  1.77750867e+00,  1.54531012e+00, -4.45679183e-03,\n",
      "        1.13279924e-01,  6.42150724e-01, -9.90967597e-01,  1.13892457e+00,\n",
      "        4.61847155e-01,  3.19294232e-01,  3.05273430e-01, -1.64773438e-01,\n",
      "       -6.10316152e-02,  1.05156490e+00, -3.95167953e-01,  1.99391392e-01,\n",
      "        9.53409052e-01,  2.21295224e-01,  1.60571058e+00,  1.69918197e-01,\n",
      "        4.92995672e-01, -9.22734380e-01, -1.24598842e-01, -6.60468739e-01,\n",
      "       -3.20940805e-01, -6.24519511e-01, -1.42062306e+00, -1.65836901e-01,\n",
      "       -1.73491178e+00,  9.16560737e-02])}\n"
     ]
    },
    {
     "name": "stderr",
     "output_type": "stream",
     "text": [
      "/tmp/ipykernel_5977/3209874668.py:2: RuntimeWarning: overflow encountered in scalar power\n",
      "  AL = ( nL / np.absolute( alphaL ) )**nL * np.exp( -1 * np.absolute( alphaL )**2 / 2 )\n",
      "/tmp/ipykernel_5977/3209874668.py:9: RuntimeWarning: invalid value encountered in multiply\n",
      "  [lambda x: N * AL * (BL - (( x - mu )/sig))**(-nL), lambda x: N * np.exp(-1 * (( x - mu )/sig)**2 / 2), lambda x: N * AR * (BR + ( x - mu )/sig)**(-nR)])\n",
      "/tmp/ipykernel_5977/3209874668.py:9: RuntimeWarning: overflow encountered in scalar multiply\n",
      "  [lambda x: N * AL * (BL - (( x - mu )/sig))**(-nL), lambda x: N * np.exp(-1 * (( x - mu )/sig)**2 / 2), lambda x: N * AR * (BR + ( x - mu )/sig)**(-nR)])\n"
     ]
    }
   ],
   "source": [
    "popt, pcov, nfev, fvec, fjac = curve_fit(fitFunc, xdata = x_data, ydata = y_data, sigma = y_error, p0 = p0,  method = 'trf', full_output = True)\n",
    "\n",
    "print(\"popt: \\n\", popt) \n",
    "print(\"pcov: \\n\", pcov)\n",
    "print(\"residual: \\n\", nfev)"
   ]
  },
  {
   "cell_type": "code",
   "execution_count": 10,
   "id": "68eca965-475d-4108-8296-09f9a95c99b0",
   "metadata": {},
   "outputs": [
    {
     "data": {
      "image/png": "[encoded data removed]",
      "text/plain": [
       "<Figure size 640x480 with 1 Axes>"
      ]
     },
     "metadata": {},
     "output_type": "display_data"
    }
   ],
   "source": [
    "x_data_fit = np.linspace(min(x_data), max(x_data), len(x_data))\n",
    "plt.errorbar(x_data, y_data, y_error, marker='+', mfc='black', mec='black', ms=2, mew=5, ls='')\n",
    "plt.plot(x_data_fit, fitFunc(x_data_fit, *popt), '-r')\n",
    "plt.plot(x_data_fit, funcVec(x_data_fit, *popt[:7]), '--b')\n",
    "plt.plot(x_data_fit, funcVec(x_data_fit, *popt[7:14]), '--b')\n",
    "plt.plot(x_data_fit, DE(x_data_fit, *popt[14:18]), '--b')\n",
    "plt.yscale('log')\n",
    "plt.ylim(100, 100000)\n",
    "plt.grid(True)"
   ]
  },
  {
   "cell_type": "code",
   "execution_count": 11,
   "id": "095ac343-5a8a-4bb8-9701-e2b9605d37d6",
   "metadata": {},
   "outputs": [
    {
     "name": "stdout",
     "output_type": "stream",
     "text": [
      "(14155.189981037975, 0.00012893521096531135)\n"
     ]
    }
   ],
   "source": [
    "print(quad(fitFunc, 2.7, 3.3, args = (*popt, )))"
   ]
  },
  {
   "cell_type": "code",
   "execution_count": 22,
   "id": "2895dfdc-1164-486e-8a16-166f08f36a25",
   "metadata": {},
   "outputs": [
    {
     "name": "stdout",
     "output_type": "stream",
     "text": [
      "(9154.236599674789, 6.53521524740879e-05)\n"
     ]
    }
   ],
   "source": [
    "print(quad(funcVec, 0, np.inf, args = (*popt[:7], )))"
   ]
  },
  {
   "cell_type": "code",
   "execution_count": 23,
   "id": "f8f76249-3b2b-4cdf-b8c8-29370c71c86d",
   "metadata": {},
   "outputs": [
    {
     "name": "stdout",
     "output_type": "stream",
     "text": [
      "Signal : 9154.236599674789\n",
      "Bruit : 492300.1293069265\n"
     ]
    }
   ],
   "source": [
    "signal = quad(funcVec, 0, np.inf, args = (*popt[:7], ))[0]\n",
    "bruit = quad(funcVec, 0, np.inf, args = (*popt[7:14], ))[0] + quad(DE, 0, np.inf, args = (*popt[14:18], ))[0]\n",
    "print(\"Signal :\", signal)\n",
    "print(\"Bruit :\", bruit)"
   ]
  },
  {
   "cell_type": "code",
   "execution_count": 24,
   "id": "6194187b-387f-4b4b-9ab7-6c60cd99c23f",
   "metadata": {},
   "outputs": [
    {
     "name": "stdout",
     "output_type": "stream",
     "text": [
      "RSB : 12.927258240673819\n"
     ]
    }
   ],
   "source": [
    "print(\"RSB :\", signal / np.sqrt(signal + bruit))"
   ]
  },
  {
   "cell_type": "code",
   "execution_count": null,
   "id": "5056f01a-56a4-4a0b-85c0-a6f01436448e",
   "metadata": {},
   "outputs": [],
   "source": []
  }
 ],
 "metadata": {
  "kernelspec": {
   "display_name": "Python 3.9 - M2 RPS EXP",
   "language": "python",
   "name": "nantes-m2-rps-exp"
  },
  "language_info": {
   "codemirror_mode": {
    "name": "ipython",
    "version": 3
   },
   "file_extension": ".py",
   "mimetype": "text/x-python",
   "name": "python",
   "nbconvert_exporter": "python",
   "pygments_lexer": "ipython3",
   "version": "3.9.18"
  }
 },
 "nbformat": 4,
 "nbformat_minor": 5
}
