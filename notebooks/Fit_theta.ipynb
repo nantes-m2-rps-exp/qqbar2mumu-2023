{
 "cells": [
  {
   "cell_type": "code",
   "execution_count": 1,
   "id": "77632d4f-66e0-4946-bb68-314f7ad7d9ea",
   "metadata": {},
   "outputs": [
    {
     "name": "stdout",
     "output_type": "stream",
     "text": [
      "uproot version 5.0.12\n",
      "awkward version 2.4.3\n",
      "numpy version 1.25.2\n",
      "matplotlib version 3.8.0\n",
      "hist version 2.7.2\n",
      "vector version 1.1.1\n",
      "pandas version 1.5.3\n"
     ]
    }
   ],
   "source": [
    "import uproot\n",
    "import awkward as ak\n",
    "import numpy as np\n",
    "import matplotlib\n",
    "import matplotlib.pyplot as plt\n",
    "import math\n",
    "import hist\n",
    "import vector\n",
    "import os\n",
    "import subprocess\n",
    "import gc\n",
    "import pandas as pd\n",
    "from scipy.optimize import curve_fit\n",
    "from scipy.integrate import quad\n",
    "print(\"uproot version\", uproot.__version__)\n",
    "print(\"awkward version\", ak.__version__)\n",
    "print(\"numpy version\", np.__version__)\n",
    "print(\"matplotlib version\", matplotlib.__version__)\n",
    "print(\"hist version\", hist.__version__)\n",
    "print(\"vector version\", vector.__version__)\n",
    "#print(\"os version\", os.__version__)\n",
    "#print(\"subprocess version\", subprocess.__version__)\n",
    "#print(\"gc version\", gc.__version__)\n",
    "print(\"pandas version\", pd.__version__)\n",
    "#print(\"scipy.optimize version\", scipy.optimize.__version__)\n",
    "#print(\"scipy.integrate version\", scipy.integrate.__version__)"
   ]
  },
  {
   "cell_type": "code",
   "execution_count": 2,
   "id": "165848a0-8570-4c38-81fb-85331cbc3946",
   "metadata": {},
   "outputs": [
    {
     "data": {
      "text/html": [
       "<html>\n",
       "<div style=\"display:flex; align-items:center;\">\n",
       "<div style=\"width:290px;\">\n",
       "<svg xmlns=\"http://www.w3.org/2000/svg\" viewBox=\"-10 -105 270 120\">\n",
       "<line x1=\"-5\" y1=\"0\" x2=\"255\" y2=\"0\" style=\"fill:none;stroke-width:2;stroke:currentColor\"/>\n",
       "<text text-anchor=\"middle\" x=\"0\" y=\"15\" style=\"fill:currentColor;\">\n",
       "1.5\n",
       "</text>\n",
       "<text text-anchor=\"middle\" x=\"250\" y=\"15\" style=\"fill:currentColor;\">\n",
       "5\n",
       "</text>\n",
       "<text text-anchor=\"middle\" x=\"125.0\" y=\"15\" style=\"fill:currentColor;\">\n",
       "X\n",
       "</text>\n",
       "<polyline points=\"  0,0   0,-100 2.5,-100 2.5,-95.4   5,-95.4   5,-89.5 7.5,-89.5 7.5,-85.9  10,-85.9  10,-81.6 12.5,-81.6 12.5,-76.8  15,-76.8  15,-73.5 17.5,-73.5 17.5,-69.9  20,-69.9  20,-66.1 22.5,-66.1 22.5,-63.1  25,-63.1  25,-60.3 27.5,-60.3 27.5,-57.2  30,-57.2  30,-53.9 32.5,-53.9 32.5,-51.6  35,-51.6  35,-48.8 37.5,-48.8 37.5,-46.2  40,-46.2  40,-43.8 42.5,-43.8 42.5,-41.6  45,-41.6  45,-40.1 47.5,-40.1 47.5,-38.1  50,-38.1  50,-36 52.5,-36 52.5,-34.5  55,-34.5  55,-32.6 57.5,-32.6 57.5,-30.8  60,-30.8  60,-29.8 62.5,-29.8 62.5,-28.4  65,-28.4  65,-27.2 67.5,-27.2 67.5,-25.8  70,-25.8  70,-25 72.5,-25 72.5,-23.9  75,-23.9  75,-22.6 77.5,-22.6 77.5,-21.9  80,-21.9  80,-21.1 82.5,-21.1 82.5,-20.3  85,-20.3  85,-19.6 87.5,-19.6 87.5,-19.3  90,-19.3  90,-19 92.5,-19 92.5,-19  95,-19  95,-19.4 97.5,-19.4 97.5,-20.1 100,-20.1 100,-22.7 102.5,-22.7 102.5,-26 105,-26 105,-32.2 107.5,-32.2 107.5,-42.1 110,-42.1 110,-52.9 112.5,-52.9 112.5,-59.4 115,-59.4 115,-55.1 117.5,-55.1 117.5,-41.9 120,-41.9 120,-27 122.5,-27 122.5,-17 125,-17 125,-12 127.5,-12 127.5,-9.8 130,-9.8 130,-8.73 132.5,-8.73 132.5,-7.91 135,-7.91 135,-7.41 137.5,-7.41 137.5,-7.03 140,-7.03 140,-6.81 142.5,-6.81 142.5,-6.52 145,-6.52 145,-6.37 147.5,-6.37 147.5,-6.33 150,-6.33 150,-6.23 152.5,-6.23 152.5,-6.3 155,-6.3 155,-6.04 157.5,-6.04 157.5,-5.86 160,-5.86 160,-5.51 162.5,-5.51 162.5,-4.91 165,-4.91 165,-4.6 167.5,-4.6 167.5,-4.22 170,-4.22 170,-4.1 172.5,-4.1 172.5,-4.08 175,-4.08 175,-3.8 177.5,-3.8 177.5,-3.67 180,-3.67 180,-3.52 182.5,-3.52 182.5,-3.53 185,-3.53 185,-3.36 187.5,-3.36 187.5,-3.23 190,-3.23 190,-3.25 192.5,-3.25 192.5,-2.94 195,-2.94 195,-2.99 197.5,-2.99 197.5,-2.84 200,-2.84 200,-2.75 202.5,-2.75 202.5,-2.7 205,-2.7 205,-2.65 207.5,-2.65 207.5,-2.49 210,-2.49 210,-2.5 212.5,-2.5 212.5,-2.36 215,-2.36 215,-2.25 217.5,-2.25 217.5,-2.23 220,-2.23 220,-2.08 222.5,-2.08 222.5,-2.06 225,-2.06 225,-1.98 227.5,-1.98 227.5,-2.03 230,-2.03 230,-1.91 232.5,-1.91 232.5,-1.9 235,-1.9 235,-1.82 237.5,-1.82 237.5,-1.77 240,-1.77 240,-1.79 242.5,-1.79 242.5,-1.66 245,-1.66 245,-1.7 247.5,-1.7 247.5,-1.55 250,-1.55 250,0\" style=\"fill:none; stroke:currentColor;\"/>\n",
       "</svg>\n",
       "</div>\n",
       "<div style=\"flex=grow:1;\">\n",
       "Regular(100, 1.5, 5, name='$m_{\\\\mu \\\\mu}$', label='X')<br/>\n",
       "<hr style=\"margin-top:.2em; margin-bottom:.2em;\"/>\n",
       "Double() Σ=2097412.0\n",
       "\n",
       "</div>\n",
       "</div>\n",
       "</html>"
      ],
      "text/plain": [
       "Hist(Regular(100, 1.5, 5, name='$m_{\\\\mu \\\\mu}$', label='X'), storage=Double()) # Sum: 2097412.0"
      ]
     },
     "execution_count": 2,
     "metadata": {},
     "output_type": "execute_result"
    }
   ],
   "source": [
    "X = [1.5174999999999998, 1.5525, 1.5875, 1.6225, 1.6574999999999998, 1.6925, 1.7275, 1.7625000000000002, \n",
    "     1.7975, 1.8325, 1.8675000000000002, 1.9025000000000003, 1.9375, 1.9725, 2.0075, 2.0425, 2.0775, 2.1125, \n",
    "     2.1475, 2.1825, 2.2175000000000002, 2.2525, 2.2875, 2.3225, 2.3575, 2.3925, 2.4275, 2.4625, 2.4975, \n",
    "     2.5324999999999998, 2.5675, 2.6025, 2.6375, 2.6725000000000003, 2.7075, 2.7424999999999997, 2.7775, \n",
    "     2.8125, 2.8475, 2.8825000000000003, 2.9175000000000004, 2.9524999999999997, 2.9875, 3.0225, 3.0575, \n",
    "     3.0925, 3.1275, 3.1625, 3.1975, 3.2325, 3.2675, 3.3025, 3.3375, 3.3725000000000005, 3.4074999999999998, \n",
    "     3.4425000000000003, 3.4775, 3.5125, 3.5475, 3.5824999999999996, 3.6174999999999997, 3.6525000000000003, \n",
    "     3.6875, 3.7224999999999997, 3.7575000000000003, 3.7925000000000004, 3.8275, 3.8625, 3.8975, \n",
    "     3.9324999999999997, 3.9675, 4.0024999999999995, 4.0375, 4.0725, 4.1075, 4.1425, 4.1775, 4.2125, \n",
    "     4.2475000000000005, 4.2825, 4.3175, 4.352499999999999, 4.3875, 4.422499999999999, 4.4575, \n",
    "     4.492500000000001, 4.5275, 4.5625, 4.5975, 4.632499999999999, 4.6675, 4.702500000000001, 4.7375, \n",
    "     4.772500000000001, 4.8075, 4.842499999999999, 4.8775, 4.9125, 4.9475, 4.9825]\n",
    "\n",
    "# CMUL + theta\n",
    "Y = [88795.0, 84721.0, 79486.0, 76289.0, 72422.0, 68157.0, 65304.0, 62099.0, 58727.0, 56057.0, 53542.0, 50775.0, 47869.0, 45857.0, 43344.0, \n",
    "                  41062.0, 38913.0, 36983.0, 35582.0, 33862.0, 31951.0, 30598.0, 28916.0, 27368.0, 26420.0, 25216.0, 24113.0, 22918.0, 22222.0, 21192.0, \n",
    "                  20080.0, 19423.0, 18757.0, 18038.0, 17420.0, 17131.0, 16867.0, 16835.0, 17203.0, 17826.0, 20154.0, 23053.0, 28633.0, 37356.0, 46940.0, \n",
    "                  52738.0, 48964.0, 37203.0, 23939.0, 15095.0, 10681.0, 8700.0, 7754.0, 7026.0, 6576.0, 6243.0, 6045.0, 5791.0, 5656.0, 5625.0, 5530.0, \n",
    "                  5590.0, 5364.0, 5200.0, 4897.0, 4357.0, 4086.0, 3748.0, 3642.0, 3623.0, 3371.0, 3261.0, 3122.0, 3134.0, 2980.0, 2867.0, 2883.0, 2613.0, \n",
    "                  2659.0, 2521.0, 2443.0, 2398.0, 2349.0, 2210.0, 2224.0, 2096.0, 2001.0, 1979.0, 1845.0, 1831.0, 1759.0, 1802.0, 1694.0, 1683.0, 1614.0, \n",
    "                  1569.0, 1592.0, 1473.0, 1513.0, 1377.0]\n",
    "\n",
    "vMass_OS = hist.Hist(hist.axis.Regular(bins = 100, start = 1.5, stop = 5, name='$m_{\\mu \\mu}$', label = 'X'))\n",
    "vMass_OS.fill(X, weight = Y)"
   ]
  },
  {
   "cell_type": "code",
   "execution_count": 3,
   "id": "7de12974-2f8d-4e7a-a22e-431de4547d53",
   "metadata": {},
   "outputs": [],
   "source": [
    "def funcVec(x, N, mu, sig, alphaL, nL, alphaR, nR):\n",
    "    AL = ( nL / np.absolute( alphaL ) )**nL * np.exp( -1 * np.absolute( alphaL )**2 / 2 )\n",
    "    AR = ( nR / np.absolute( alphaR ) )**nR * np.exp( -1 * np.absolute( alphaR )**2 / 2 )\n",
    "    BL = nL / np.absolute( alphaL ) - np.absolute( alphaL )\n",
    "    BR = nR / np.absolute( alphaR ) - np.absolute( alphaR )\n",
    "\n",
    "    return np.piecewise(x, \n",
    "                        [( x - mu )/sig < -1 * alphaL, (( x - mu )/sig >= -1 * alphaL) & (( x - mu )/sig <= alphaR).any() , ( x - mu )/sig > alphaR],\n",
    "                        [lambda x: N * AL * (BL - (( x - mu )/sig))**(-nL), lambda x: N * np.exp(-1 * (( x - mu )/sig)**2 / 2), lambda x: N * AR * (BR + ( x - mu )/sig)**(-nR)])\n",
    "\n",
    "def VWG(x, N, mu, alpha, beta):\n",
    "    sigma = alpha + beta*((x-mu)/mu)\n",
    "    return N * np.exp(-(x - mu)**2 / (2*sigma**2))\n",
    "\n",
    "def PR(x, N, a1, b1, b2):\n",
    "    return N * (1 + a1*x) / (b1*x + b2*x)\n",
    "\n",
    "def DE(x, N, alpha, beta1, beta2):\n",
    "    return N * (np.exp(beta1*x) + alpha * np.exp(beta2*x))\n",
    "\n",
    "def fitFunc(x,\n",
    "            N1, mu1, sig1, alphaL1, nL1, alphaR1, nR1,\n",
    "            N2, mu2, sig2, alphaL2, nL2, alphaR2, nR2,\n",
    "            Nbg, a1, a2, a3):\n",
    "    return funcVec(x, N1, mu1, sig1, alphaL1, nL1, alphaR1, nR1) + funcVec(x, N2, mu2, sig2, alphaL2, nL2, alphaR2, nR2) + DE(x, Nbg, a1, a2, a3)"
   ]
  },
  {
   "cell_type": "code",
   "execution_count": 4,
   "id": "fe907a3c-115c-4123-b2b8-5c69353f999b",
   "metadata": {},
   "outputs": [],
   "source": [
    "x_data = np.array(X)\n",
    "y_data = np.array(vMass_OS)\n",
    "y_error = np.array(np.sqrt(vMass_OS))\n",
    "\n",
    "condition = (x_data > 2.0)\n",
    "#condition = True\n",
    "x_filtered = np.ravel(x_data[condition])\n",
    "y_filtered = np.ravel(y_data[condition])\n",
    "y_error_filtered = np.ravel(y_error[condition])\n",
    "\n",
    "x_data = x_filtered\n",
    "y_data = y_filtered\n",
    "y_error = y_error_filtered"
   ]
  },
  {
   "cell_type": "code",
   "execution_count": 5,
   "id": "80e3cdb6-e292-4b9e-8f2a-849d26cec702",
   "metadata": {},
   "outputs": [],
   "source": [
    "p0 = np.array([4.55480661e+04, 3.09865210e+00, 6.61685782e-02, 8.82346075e-01, 3.02220911e+00,\n",
    "               2.02907631e+00, 2.80816984e+00, 1.00000000e+03, 3.69645336e+00, 5.19889713e-02,\n",
    "               1.05368114e+00, 3.30817422e+00, 2.65615253e+00, 2.93595354e+00, 2.27919897e+04,\n",
    "               4.53001147e+01, -5.76132695e-01, -1.64742979e+00])"
   ]
  },
  {
   "cell_type": "code",
   "execution_count": 6,
   "id": "3937be46-4973-42fa-be25-6086f86d1bf4",
   "metadata": {},
   "outputs": [
    {
     "name": "stderr",
     "output_type": "stream",
     "text": [
      "/tmp/ipykernel_6112/3209874668.py:3: RuntimeWarning: overflow encountered in scalar power\n",
      "  AR = ( nR / np.absolute( alphaR ) )**nR * np.exp( -1 * np.absolute( alphaR )**2 / 2 )\n",
      "/tmp/ipykernel_6112/3209874668.py:9: RuntimeWarning: invalid value encountered in multiply\n",
      "  [lambda x: N * AL * (BL - (( x - mu )/sig))**(-nL), lambda x: N * np.exp(-1 * (( x - mu )/sig)**2 / 2), lambda x: N * AR * (BR + ( x - mu )/sig)**(-nR)])\n",
      "/tmp/ipykernel_6112/3209874668.py:2: RuntimeWarning: invalid value encountered in scalar power\n",
      "  AL = ( nL / np.absolute( alphaL ) )**nL * np.exp( -1 * np.absolute( alphaL )**2 / 2 )\n",
      "/tmp/ipykernel_6112/3209874668.py:9: RuntimeWarning: invalid value encountered in power\n",
      "  [lambda x: N * AL * (BL - (( x - mu )/sig))**(-nL), lambda x: N * np.exp(-1 * (( x - mu )/sig)**2 / 2), lambda x: N * AR * (BR + ( x - mu )/sig)**(-nR)])\n",
      "/tmp/ipykernel_6112/3209874668.py:2: RuntimeWarning: overflow encountered in scalar power\n",
      "  AL = ( nL / np.absolute( alphaL ) )**nL * np.exp( -1 * np.absolute( alphaL )**2 / 2 )\n"
     ]
    },
    {
     "name": "stdout",
     "output_type": "stream",
     "text": [
      "popt: \n",
      " [ 4.32441726e+04  3.09538814e+00  7.17640820e-02  8.99895061e-01\n",
      "  8.27042660e+00  1.82636536e+00  7.81543595e+01  7.64045997e+02\n",
      "  3.68667982e+00  7.00151287e-02  8.35931104e+00  1.54245239e+02\n",
      "  1.20525949e+01  6.97898090e+01  1.63243711e+03  4.71855219e+02\n",
      " -1.22641409e-01 -1.45126067e+00]\n",
      "pcov: \n",
      " [[ 4.63682646e+04  1.59313048e-02 -5.50070661e-02 -1.21316269e-02\n",
      "  -9.76140720e+01 -5.63674465e+00 -9.05181063e+02  9.52678351e+02\n",
      "  -6.22378705e-02  1.69640669e-01  2.89176474e-11 -2.20744238e-12\n",
      "   2.87502648e-13 -8.19017413e-12  3.66806073e+04 -9.49411942e+03\n",
      "  -3.99113589e+00 -1.33371049e+00]\n",
      " [ 1.59313048e-02  2.28223332e-07 -1.56757783e-07 -8.25685371e-06\n",
      "   4.70168365e-04 -7.20557951e-06  2.40921896e-02 -1.23107060e-03\n",
      "   9.05292159e-08 -1.93882324e-07  4.65341424e-17 -1.41098238e-19\n",
      "   7.55379997e-19  1.91023985e-17 -7.47744406e-02  1.97623132e-02\n",
      "   8.32616727e-06  2.35195096e-06]\n",
      " [-5.50070661e-02 -1.56757783e-07  3.04032816e-07  9.82790262e-06\n",
      "  -5.90023724e-04  3.90779466e-05 -1.11506106e-01  3.58175791e-03\n",
      "  -1.46249655e-07  5.17597676e-07 -2.73725229e-16  1.14093661e-17\n",
      "  -5.25795387e-18 -4.04878199e-17  1.19181146e-01 -3.08198998e-02\n",
      "  -1.29219684e-05 -4.39466111e-06]\n",
      " [-1.21316269e-02 -8.25685371e-06  9.82790262e-06  7.16892707e-04\n",
      "  -5.36975078e-02  1.06775326e-03 -4.00575704e+00  1.69486758e-01\n",
      "  -1.05309724e-05  2.59360133e-05 -7.69823910e-15  1.72468330e-16\n",
      "  -1.52639072e-16 -2.38709514e-15  8.62283885e+00 -2.27007167e+00\n",
      "  -9.54814781e-04 -2.80511207e-04]\n",
      " [-9.76140720e+01  4.70168365e-04 -5.90023724e-04 -5.36975078e-02\n",
      "   5.62820765e+00 -6.79825613e-02  4.31617909e+02 -2.48599360e+01\n",
      "   1.64596930e-03 -3.97463160e-03  6.83619337e-13 -8.09069583e-16\n",
      "   1.36232836e-14  3.31216409e-13 -1.27594896e+03  3.35185755e+02\n",
      "   1.41136385e-01  4.19714875e-02]\n",
      " [-5.63674465e+00 -7.20557951e-06  3.90779466e-05  1.06775326e-03\n",
      "  -6.79825613e-02  2.08496733e-02 -6.49739269e+01  7.46618264e-01\n",
      "   1.37099203e-05  5.27537856e-05 -1.65028056e-13  8.99399374e-15\n",
      "  -3.48642403e-15 -1.15654193e-14  1.17356168e+01 -2.92090495e+00\n",
      "  -1.20981756e-03 -5.46109345e-04]\n",
      " [-9.05181063e+02  2.40921896e-02 -1.11506106e-01 -4.00575704e+00\n",
      "   4.31617909e+02 -6.49739269e+01  2.78060277e+05 -5.76614160e+03\n",
      "   5.73964689e-02 -6.61237361e-01  6.79492188e-10 -3.58658525e-11\n",
      "   1.44880970e-11  6.06627494e-11 -1.02369910e+05  2.55152585e+04\n",
      "   1.05907074e+01  4.70661023e+00]\n",
      " [ 9.52678351e+02 -1.23107060e-03  3.58175791e-03  1.69486758e-01\n",
      "  -2.48599360e+01  7.46618264e-01 -5.76614160e+03  4.83173443e+03\n",
      "  -1.06378603e-02 -1.77956488e-01 -1.26226989e-11  1.30223126e-12\n",
      "  -3.10390442e-13 -1.13334819e-12  1.47551983e+03 -2.16749355e+02\n",
      "  -7.03353268e-02 -2.19298265e-01]\n",
      " [-6.22378705e-02  9.05292159e-08 -1.46249655e-07 -1.05309724e-05\n",
      "   1.64596930e-03  1.37099203e-05  5.73964689e-02 -1.06378603e-02\n",
      "   4.83408835e-05 -5.99164076e-06 -9.63258052e-17  2.76458687e-17\n",
      "  -2.65898455e-18  1.63557920e-16 -7.33320923e-01  1.91748116e-01\n",
      "   8.05968393e-05  2.46594074e-05]\n",
      " [ 1.69640669e-01 -1.93882324e-07  5.17597676e-07  2.59360133e-05\n",
      "  -3.97463160e-03  5.27537856e-05 -6.61237361e-01 -1.77956488e-01\n",
      "  -5.99164076e-06  5.93384496e-05 -1.62327093e-15  6.61012574e-17\n",
      "  -3.48532991e-17 -1.23352662e-16  1.48223731e-01 -9.99232304e-03\n",
      "  -8.59386126e-07 -3.38550114e-05]\n",
      " [ 2.89176474e-11  4.65341424e-17 -2.73725229e-16 -7.69823910e-15\n",
      "   6.83619337e-13 -1.65028056e-13  6.79492188e-10 -1.26226989e-11\n",
      "  -9.63258052e-17 -1.62327093e-15  1.75657708e-24 -1.01892077e-25\n",
      "   3.76560105e-26  8.82910505e-26  3.18888294e-11 -1.33711893e-11\n",
      "  -6.54818277e-15  4.03424034e-15]\n",
      " [-2.20744238e-12 -1.41098238e-19  1.14093661e-17  1.72468330e-16\n",
      "  -8.09069583e-16  8.99399374e-15 -3.58658525e-11  1.30223126e-12\n",
      "   2.76458687e-17  6.61012574e-17 -1.01892077e-25  7.00189736e-27\n",
      "  -2.23372358e-27  1.92617866e-27 -3.27575292e-11  9.09147338e-12\n",
      "   3.94378734e-15  5.66077333e-16]\n",
      " [ 2.87502648e-13  7.55379997e-19 -5.25795387e-18 -1.52639072e-16\n",
      "   1.36232836e-14 -3.48642403e-15  1.44880970e-11 -3.10390442e-13\n",
      "  -2.65898455e-18 -3.48532991e-17  3.76560105e-26 -2.23372358e-27\n",
      "   8.12263119e-28  1.62452624e-27  1.90785151e-12 -6.19679857e-13\n",
      "  -2.83831857e-16  5.85226649e-17]\n",
      " [-8.19017413e-12  1.91023985e-17 -4.04878199e-17 -2.38709514e-15\n",
      "   3.31216409e-13 -1.15654193e-14  6.06627494e-11 -1.13334819e-12\n",
      "   1.63557920e-16 -1.23352662e-16  8.82910505e-26  1.92617866e-27\n",
      "   1.62452624e-27  5.43969870e-26 -2.16397602e-10  5.78021515e-11\n",
      "   2.47066244e-14  6.02717037e-15]\n",
      " [ 3.66806073e+04 -7.47744406e-02  1.19181146e-01  8.62283885e+00\n",
      "  -1.27594896e+03  1.17356168e+01 -1.02369910e+05  1.47551983e+03\n",
      "  -7.33320923e-01  1.48223731e-01  3.18888294e-11 -3.27575292e-11\n",
      "   1.90785151e-12 -2.16397602e-10  9.52663006e+05 -2.55671241e+05\n",
      "  -1.09490682e+02 -2.53107329e+01]\n",
      " [-9.49411942e+03  1.97623132e-02 -3.08198998e-02 -2.27007167e+00\n",
      "   3.35185755e+02 -2.92090495e+00  2.55152585e+04 -2.16749355e+02\n",
      "   1.91748116e-01 -9.99232304e-03 -1.33711893e-11  9.09147338e-12\n",
      "  -6.19679857e-13  5.78021515e-11 -2.55671241e+05  6.86987156e+04\n",
      "   2.94345977e+01  6.71258122e+00]\n",
      " [-3.99113589e+00  8.32616727e-06 -1.29219684e-05 -9.54814781e-04\n",
      "   1.41136385e-01 -1.20981756e-03  1.05907074e+01 -7.03353268e-02\n",
      "   8.05968393e-05 -8.59386126e-07 -6.54818277e-15  3.94378734e-15\n",
      "  -2.83831857e-16  2.47066244e-14 -1.09490682e+02  2.94345977e+01\n",
      "   1.26237044e-02  2.85885490e-03]\n",
      " [-1.33371049e+00  2.35195096e-06 -4.39466111e-06 -2.80511207e-04\n",
      "   4.19714875e-02 -5.46109345e-04  4.70661023e+00 -2.19298265e-01\n",
      "   2.46594074e-05 -3.38550114e-05  4.03424034e-15  5.66077333e-16\n",
      "   5.85226649e-17  6.02717037e-15 -2.53107329e+01  6.71258122e+00\n",
      "   2.85885490e-03  7.51249298e-04]]\n",
      "residual: \n",
      " {'nfev': 141, 'fvec': array([-1.13735204e+00, -1.43016144e-01,  7.55018393e-01,  1.07126195e+00,\n",
      "       -9.14043257e-01, -7.75681353e-01,  9.11676774e-01, -4.64025100e-02,\n",
      "        1.33813958e+00,  2.44092662e+00,  3.19365737e-01,  1.60799279e-01,\n",
      "       -2.19594225e-01,  4.28706692e-01, -1.80255342e+00, -1.38079511e+00,\n",
      "        1.30505864e-01, -1.02240127e+00, -1.54846799e+00, -9.95944604e-01,\n",
      "       -3.19829727e-01, -1.03727333e+00, -4.99871375e-01,  2.58349743e-01,\n",
      "        7.70151417e-01,  3.41222481e+00, -5.26221067e-01,  6.56563744e-01,\n",
      "       -2.17915732e+00, -3.28281103e+00,  4.20827317e+00,  1.08171175e+00,\n",
      "       -2.24096259e+00, -1.78879437e+00,  2.03036515e+00,  5.47203121e-01,\n",
      "        1.99806434e-01, -2.16125942e-01, -1.05582751e+00,  4.51529002e-01,\n",
      "        9.18079173e-01,  1.01519706e+00, -1.27895384e-04,  2.64283808e-01,\n",
      "       -2.06861320e-01, -8.79615359e-01,  3.95939485e-01, -3.52393714e-01,\n",
      "        1.23576502e+00, -3.40453645e-01, -1.57404526e+00,  7.23832187e-01,\n",
      "        2.55635087e-01,  2.18738714e+00,  1.17368819e+00, -9.04668411e-01,\n",
      "        1.12167047e+00,  8.78111344e-01,  1.25887122e+00, -9.78047733e-01,\n",
      "       -1.54522126e-01,  3.77985163e-02, -2.07901359e+00,  1.27867698e+00,\n",
      "       -1.34252599e+00, -3.11096133e-01, -3.64586557e-01, -1.01340565e+00,\n",
      "       -1.51906474e+00, -8.91677419e-02, -1.79178282e+00, -4.30443881e-01,\n",
      "        3.36069814e-01, -4.59128760e-01,  1.36848745e+00,  4.79555291e-01,\n",
      "        1.01733574e+00, -1.12828102e+00,  3.57610829e-01, -4.28944418e-01,\n",
      "        2.50290256e-01,  3.93313679e-01, -1.13075257e+00,  9.86956939e-01,\n",
      "       -9.38772884e-01,  1.79529420e+00])}\n"
     ]
    }
   ],
   "source": [
    "popt, pcov, nfev, fvec, fjac = curve_fit(fitFunc, xdata = x_data, ydata = y_data, sigma = y_error, p0 = p0,  method = 'trf', full_output = True)\n",
    "\n",
    "print(\"popt: \\n\", popt) \n",
    "print(\"pcov: \\n\", pcov)\n",
    "print(\"residual: \\n\", nfev)"
   ]
  },
  {
   "cell_type": "code",
   "execution_count": 7,
   "id": "68eca965-475d-4108-8296-09f9a95c99b0",
   "metadata": {},
   "outputs": [
    {
     "data": {
      "image/png": "[encoded data removed]",
      "text/plain": [
       "<Figure size 640x480 with 1 Axes>"
      ]
     },
     "metadata": {},
     "output_type": "display_data"
    }
   ],
   "source": [
    "x_data_fit = np.linspace(min(x_data), max(x_data), len(x_data))\n",
    "plt.errorbar(x_data, y_data, y_error, marker='+', mfc='black', mec='black', ms=2, mew=5, ls='')\n",
    "plt.plot(x_data_fit, fitFunc(x_data_fit, *popt), '-r')\n",
    "plt.plot(x_data_fit, funcVec(x_data_fit, *popt[:7]), '--b')\n",
    "plt.plot(x_data_fit, funcVec(x_data_fit, *popt[7:14]), '--b')\n",
    "plt.plot(x_data_fit, DE(x_data_fit, *popt[14:18]), '--b')\n",
    "plt.yscale('log')\n",
    "plt.ylim(500, 100000)\n",
    "plt.grid(True)"
   ]
  },
  {
   "cell_type": "code",
   "execution_count": 8,
   "id": "095ac343-5a8a-4bb8-9701-e2b9605d37d6",
   "metadata": {},
   "outputs": [
    {
     "name": "stdout",
     "output_type": "stream",
     "text": [
      "(15646.459681085485, 0.0001788848109633372)\n"
     ]
    }
   ],
   "source": [
    "print(quad(fitFunc, 2.7, 3.3, args = (*popt, )))"
   ]
  },
  {
   "cell_type": "code",
   "execution_count": 15,
   "id": "2895dfdc-1164-486e-8a16-166f08f36a25",
   "metadata": {},
   "outputs": [
    {
     "name": "stdout",
     "output_type": "stream",
     "text": [
      "(9024.773790048459, 0.00011654876741586519)\n"
     ]
    }
   ],
   "source": [
    "print(quad(funcVec, 0, np.inf, args = (*popt[:7], )))"
   ]
  },
  {
   "cell_type": "code",
   "execution_count": 16,
   "id": "f8f76249-3b2b-4cdf-b8c8-29370c71c86d",
   "metadata": {},
   "outputs": [
    {
     "name": "stdout",
     "output_type": "stream",
     "text": [
      "Signal : 9024.773790048459\n",
      "Bruit : 544206.711510386\n"
     ]
    }
   ],
   "source": [
    "signal = quad(funcVec, 0, np.inf, args = (*popt[:7], ))[0]\n",
    "bruit = quad(funcVec, 0, np.inf, args = (*popt[7:14], ))[0] + quad(DE, 0, np.inf, args = (*popt[14:18], ))[0]\n",
    "print(\"Signal :\", signal)\n",
    "print(\"Bruit :\", bruit)"
   ]
  },
  {
   "cell_type": "code",
   "execution_count": 17,
   "id": "6194187b-387f-4b4b-9ab7-6c60cd99c23f",
   "metadata": {},
   "outputs": [
    {
     "name": "stdout",
     "output_type": "stream",
     "text": [
      "RSB : 12.133410211484954\n"
     ]
    }
   ],
   "source": [
    "print(\"RSB :\", signal / np.sqrt(signal + bruit))"
   ]
  },
  {
   "cell_type": "code",
   "execution_count": null,
   "id": "5056f01a-56a4-4a0b-85c0-a6f01436448e",
   "metadata": {},
   "outputs": [],
   "source": []
  }
 ],
 "metadata": {
  "kernelspec": {
   "display_name": "Python 3.9 - M2 RPS EXP",
   "language": "python",
   "name": "nantes-m2-rps-exp"
  },
  "language_info": {
   "codemirror_mode": {
    "name": "ipython",
    "version": 3
   },
   "file_extension": ".py",
   "mimetype": "text/x-python",
   "name": "python",
   "nbconvert_exporter": "python",
   "pygments_lexer": "ipython3",
   "version": "3.9.18"
  }
 },
 "nbformat": 4,
 "nbformat_minor": 5
}
