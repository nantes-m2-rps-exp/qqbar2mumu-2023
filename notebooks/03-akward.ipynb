{
 "cells": [
  {
   "cell_type": "markdown",
   "id": "15f97d7c-da15-481b-b354-6e66be0628c5",
   "metadata": {},
   "source": [
    "# 1- Introduction"
   ]
  },
  {
   "cell_type": "markdown",
   "id": "7e56b0df-cbf6-452b-b919-4023ad44392c",
   "metadata": {},
   "source": [
    "In this notebook, we will demonstrate how to use the akward table and how to build selector efficiently using lambda's in python"
   ]
  },
  {
   "cell_type": "code",
   "execution_count": 294,
   "id": "943c4485-fcb0-4000-a413-49d81eb3b9dc",
   "metadata": {},
   "outputs": [],
   "source": [
    "import uproot\n",
    "import awkward as ak\n",
    "import numpy as np\n",
    "import math\n",
    "import hist\n",
    "import matplotlib.pyplot as plt\n",
    "import os\n",
    "import subprocess\n",
    "import vector\n",
    "import gc"
   ]
  },
  {
   "cell_type": "markdown",
   "id": "cbaf2d66-96c7-4ca2-b91e-bdb34f06c097",
   "metadata": {},
   "source": [
    "First we need to identify the akward table as vectors"
   ]
  },
  {
   "cell_type": "code",
   "execution_count": 295,
   "id": "cbd5f867-ee55-417f-b59f-874318cd52bb",
   "metadata": {},
   "outputs": [],
   "source": [
    "vector.register_awkward() "
   ]
  },
  {
   "cell_type": "markdown",
   "id": "47902ff2-1d02-4382-b94a-58b9f041f3e3",
   "metadata": {},
   "source": [
    "We then collect the data (either MC or real data)"
   ]
  },
  {
   "cell_type": "code",
   "execution_count": 296,
   "id": "10f3e0ea-d515-42ef-a2af-25819fd9864f",
   "metadata": {},
   "outputs": [],
   "source": [
    "DATATYPE=\"mc\"\n",
    "assert((DATATYPE==\"mc\") or (DATATYPE==\"data\"))\n",
    "BASEDIR=\"/pbs/throng/training/nantes-m2-rps-exp/data\" # basedir where to look for runXXX.DATATYPE.root files\n",
    "IS_MC=True if DATATYPE==\"mc\" else False"
   ]
  },
  {
   "cell_type": "code",
   "execution_count": 297,
   "id": "1bc2367c-343a-4846-953c-84466d08fd10",
   "metadata": {},
   "outputs": [],
   "source": [
    "def data_file_path(run,is_mc=IS_MC,dest=BASEDIR):\n",
    "    datatype=\"mc\" if is_mc else \"data\"\n",
    "    print({dest},\"/run\",{run},\".\",{datatype},\".root\")\n",
    "    return f\"{dest}/run{run}.{datatype}.root\""
   ]
  },
  {
   "cell_type": "code",
   "execution_count": 298,
   "id": "cadaaaf3-b071-49f1-9cbb-50b9aa372282",
   "metadata": {},
   "outputs": [],
   "source": [
    "SAMPLE_RUNS=[291694,291399]"
   ]
  },
  {
   "cell_type": "markdown",
   "id": "9bc53cbc-6ce1-40fc-aa63-1a1fcacb81df",
   "metadata": {},
   "source": [
    "Let's now open the root file and print the content"
   ]
  },
  {
   "cell_type": "code",
   "execution_count": 299,
   "id": "a8bf2254-ba68-4e89-84c0-1f5691035287",
   "metadata": {},
   "outputs": [
    {
     "name": "stdout",
     "output_type": "stream",
     "text": [
      "{'/pbs/throng/training/nantes-m2-rps-exp/data'} /run {291694} . {'mc'} .root\n",
      "name                 | typename                 | interpretation                \n",
      "---------------------+--------------------------+-------------------------------\n",
      "runNumber            | int32_t                  | AsDtype('>i4')\n",
      "xVtx                 | double                   | AsDtype('>f8')\n",
      "yVtx                 | double                   | AsDtype('>f8')\n",
      "zVtx                 | double                   | AsDtype('>f8')\n",
      "isCINT               | bool                     | AsDtype('bool')\n",
      "isCMSL               | bool                     | AsDtype('bool')\n",
      "isCMSH               | bool                     | AsDtype('bool')\n",
      "isCMLL               | bool                     | AsDtype('bool')\n",
      "isCMUL               | bool                     | AsDtype('bool')\n",
      "nMuons               | int32_t                  | AsDtype('>i4')\n",
      "Muon_E               | std::vector<float>       | AsJagged(AsDtype('>f4'), he...\n",
      "Muon_Px              | std::vector<float>       | AsJagged(AsDtype('>f4'), he...\n",
      "Muon_Py              | std::vector<float>       | AsJagged(AsDtype('>f4'), he...\n",
      "Muon_Pz              | std::vector<float>       | AsJagged(AsDtype('>f4'), he...\n",
      "Muon_Charge          | std::vector<int16_t>     | AsJagged(AsDtype('>i2'), he...\n",
      "Muon_thetaAbs        | std::vector<float>       | AsJagged(AsDtype('>f4'), he...\n",
      "Muon_xDCA            | std::vector<double>      | AsJagged(AsDtype('>f8'), he...\n",
      "Muon_yDCA            | std::vector<double>      | AsJagged(AsDtype('>f8'), he...\n",
      "Muon_zDCA            | std::vector<double>      | AsJagged(AsDtype('>f8'), he...\n",
      "Muon_matchedTrgTh... | std::vector<int32_t>     | AsJagged(AsDtype('>i4'), he...\n",
      "Muon_MCHClusterMap   | std::vector<uint32_t>    | AsJagged(AsDtype('>u4'), he...\n",
      "Muon_MTRHitMapTrg    | std::vector<uint32_t>    | AsJagged(AsDtype('>u4'), he...\n",
      "Muon_MTRHitMapTrk    | std::vector<uint32_t>    | AsJagged(AsDtype('>u4'), he...\n",
      "Muon_MCLabel         | std::vector<int32_t>     | AsJagged(AsDtype('>i4'), he...\n",
      "Muon_MCPDGCode       | std::vector<int32_t>     | AsJagged(AsDtype('>i4'), he...\n",
      "name                 | typename                 | interpretation                \n",
      "---------------------+--------------------------+-------------------------------\n",
      "xVtxMC               | double                   | AsDtype('>f8')\n",
      "yVtxMC               | double                   | AsDtype('>f8')\n",
      "zVtxMC               | double                   | AsDtype('>f8')\n",
      "nMuonsGen            | int32_t                  | AsDtype('>i4')\n",
      "Muon_GenE            | std::vector<float>       | AsJagged(AsDtype('>f4'), he...\n",
      "Muon_GenPx           | std::vector<float>       | AsJagged(AsDtype('>f4'), he...\n",
      "Muon_GenPy           | std::vector<float>       | AsJagged(AsDtype('>f4'), he...\n",
      "Muon_GenPz           | std::vector<float>       | AsJagged(AsDtype('>f4'), he...\n",
      "Muon_GenLabel        | std::vector<int32_t>     | AsJagged(AsDtype('>i4'), he...\n",
      "Muon_GenMotherPDG... | std::vector<int32_t>     | AsJagged(AsDtype('>i4'), he...\n"
     ]
    }
   ],
   "source": [
    "file = uproot.open(data_file_path(SAMPLE_RUNS[0],IS_MC))\n",
    "events = file[\"eventsTree\"]\n",
    "eventsGen = file[\"genTree\"]\n",
    "events.show()\n",
    "eventsGen.show()"
   ]
  },
  {
   "cell_type": "markdown",
   "id": "1e3fa135-5bb6-4979-9dca-6281e21ceb07",
   "metadata": {},
   "source": [
    "We will just print here the number of entries (events) in the file for the record"
   ]
  },
  {
   "cell_type": "code",
   "execution_count": 300,
   "id": "cad12c86-befd-446d-9739-463559276a31",
   "metadata": {},
   "outputs": [
    {
     "name": "stdout",
     "output_type": "stream",
     "text": [
      "40000\n",
      "40000\n"
     ]
    }
   ],
   "source": [
    "print(events.num_entries)\n",
    "print(eventsGen.num_entries)"
   ]
  },
  {
   "cell_type": "markdown",
   "id": "a4c1938d-76cb-40be-b9d3-5967f6b75e6c",
   "metadata": {},
   "source": [
    "# 2- 4-momentum vector with akward and selectors"
   ]
  },
  {
   "cell_type": "markdown",
   "id": "06ef45ae-f19e-44ac-a6f1-365774e2049b",
   "metadata": {},
   "source": [
    "It is possible to build akward table as a 4-momentum vector. To do that, you need to use the \"zip\" method whith px, py, pz and E as its 4 first members. You also need to call this table with the following specific name \"Momentum4D\"\n",
    "\n",
    "This allow you in the following to get the kinematics of your tracks quite easily by calling:\n",
    "- .p, .px, .py, .pz, .pt, ... for the momentum\n",
    "- .eta for the pseudo-rapidity\n",
    "- ...\n",
    "\n",
    "Indeed, you can also add more information to the akward table after defining the first 4 members of the table (as you can see below)"
   ]
  },
  {
   "cell_type": "markdown",
   "id": "6e87dd6a-b51f-4874-868d-25807d5f6e5a",
   "metadata": {},
   "source": [
    "We are here implementing a \"getTracks\" function that will be use in the following to select tracks. See here:"
   ]
  },
  {
   "cell_type": "code",
   "execution_count": 301,
   "id": "48e2f3ae-8300-462d-b6e0-10f8dc308068",
   "metadata": {},
   "outputs": [],
   "source": [
    "def getTracks(events):\n",
    "    return ak.zip({\"px\":events[\"Muon_Px\"],\n",
    "                       \"py\":events[\"Muon_Py\"],\n",
    "                       \"pz\":events[\"Muon_Pz\"],\n",
    "                       \"E\":events[\"Muon_E\"],\n",
    "                       \"charge\":events[\"Muon_Charge\"],\n",
    "                       \"thetaAbs\":events[\"Muon_thetaAbs\"],\n",
    "                       \"matched\":events[\"Muon_matchedTrgThreshold\"],\n",
    "                       \"n\":events[\"nMuons\"]},\n",
    "                    with_name='Momentum4D')\n",
    "\n",
    "def getTracksGen(events):\n",
    "    return ak.zip({\"px\":events[\"Muon_GenPx\"],\n",
    "                    \"py\":events[\"Muon_GenPy\"],\n",
    "                    \"pz\":events[\"Muon_GenPz\"],\n",
    "                    \"E\":events[\"Muon_GenE\"],\n",
    "                    \"n\":events[\"nMuonsGen\"],\n",
    "                    \"label\":events[\"Muon_GenLabel\"],\n",
    "                    \"mother\":events[\"Muon_GenMotherPDGCode\"]},\n",
    "                    with_name='Momentum4D')"
   ]
  },
  {
   "cell_type": "markdown",
   "id": "eeafb138-8eed-43a9-ac65-5ec16ef9445e",
   "metadata": {},
   "source": [
    "Now we will design a function to run over the data with uproot. \n",
    "In the iterate, we define all the varaible we want to access for each events\n",
    "\n",
    "We first select good events and track using lambdas in python. What is a good event or a good track will be define later when we call the function \"scan\""
   ]
  },
  {
   "cell_type": "code",
   "execution_count": 302,
   "id": "0eb0f52a-f529-424c-a051-1b99a0f827d6",
   "metadata": {},
   "outputs": [
    {
     "data": {
      "text/plain": [
       "array([[0, 1],\n",
       "       [0, 2],\n",
       "       [1, 2]])"
      ]
     },
     "execution_count": 302,
     "metadata": {},
     "output_type": "execute_result"
    }
   ],
   "source": [
    "#########\n",
    "# My code\n",
    "#########\n",
    "\n",
    "def invariant_mass(pT1,pT2,eta1,eta2,phi1,phi2):\n",
    "    return np.sqrt(2*pT1*pT2*(np.cosh(eta1-eta2)-np.cos(phi1-phi2)))\n",
    "\n",
    "#def invariant_mass(E1,E2,p1,p2):\n",
    "#    return np.sqrt(2*pT1*pT2*(np.cosh(eta1-eta2)-np.cos(phi1-phi2)))\n",
    "\n",
    "def combinations(x):\n",
    "    idx = np.stack(np.triu_indices(len(x), k=1), axis=-1)\n",
    "    return x[idx]\n",
    "combinations(np.arange(3))\n"
   ]
  },
  {
   "cell_type": "code",
   "execution_count": null,
   "id": "6bbcad19-5994-4531-9d79-6919711fd4de",
   "metadata": {},
   "outputs": [],
   "source": []
  },
  {
   "cell_type": "code",
   "execution_count": 303,
   "id": "d7d8b963-b6fb-4746-8a8c-7d7d61d9ed9f",
   "metadata": {},
   "outputs": [
    {
     "name": "stdout",
     "output_type": "stream",
     "text": [
      "['E', 'E2', 'Et', 'Et2', 'GenericClass', 'M', 'M2', 'Mask', 'Mt', 'Mt2', 'ProjectionClass2D', 'ProjectionClass3D', 'ProjectionClass4D', '__abs__', '__abstractmethods__', '__add__', '__and__', '__annotations__', '__array__', '__array_function__', '__array_ufunc__', '__arrow_array__', '__bool__', '__bytes__', '__cast_cpp__', '__class__', '__class_getitem__', '__copy__', '__deepcopy__', '__delattr__', '__delitem__', '__dict__', '__dir__', '__divmod__', '__doc__', '__eq__', '__floordiv__', '__format__', '__ge__', '__getattr__', '__getattribute__', '__getitem__', '__gt__', '__hash__', '__iadd__', '__iand__', '__ifloordiv__', '__ilshift__', '__imatmul__', '__imod__', '__imul__', '__init__', '__init_subclass__', '__invert__', '__ior__', '__ipow__', '__irshift__', '__isub__', '__iter__', '__itruediv__', '__ixor__', '__le__', '__len__', '__lshift__', '__lt__', '__matmul__', '__mod__', '__module__', '__mul__', '__ne__', '__neg__', '__new__', '__or__', '__pos__', '__pow__', '__radd__', '__rand__', '__rdivmod__', '__reduce__', '__reduce_ex__', '__repr__', '__rfloordiv__', '__rlshift__', '__rmatmul__', '__rmod__', '__rmul__', '__ror__', '__rpow__', '__rrshift__', '__rshift__', '__rsub__', '__rtruediv__', '__rxor__', '__setattr__', '__setitem__', '__setstate__', '__sizeof__', '__slots__', '__str__', '__sub__', '__subclasshook__', '__truediv__', '__weakref__', '__xor__', '_abc_impl', '_histogram_module_', '_ipython_key_completions_', '_repr', '_repr_mimebundle_', '_wrap_result', 'add', 'allclose', 'azimuthal', 'behavior', 'beta', 'boost', 'boostCM_of', 'boostCM_of_beta3', 'boostCM_of_p4', 'boostX', 'boostY', 'boostZ', 'boost_beta3', 'boost_p4', 'costheta', 'cottheta', 'cpp_type', 'cross', 'deltaR', 'deltaR2', 'deltaRapidityPhi', 'deltaRapidityPhi2', 'deltaangle', 'deltaeta', 'deltaphi', 'dot', 'e', 'e2', 'energy', 'energy2', 'equal', 'et', 'et2', 'eta', 'fields', 'gamma', 'is_antiparallel', 'is_lightlike', 'is_parallel', 'is_perpendicular', 'is_spacelike', 'is_timelike', 'is_tuple', 'isclose', 'layout', 'lib', 'longitudinal', 'm', 'm2', 'mag', 'mag2', 'mask', 'mass', 'mass2', 'mt', 'mt2', 'nbytes', 'ndim', 'neg2D', 'neg3D', 'neg4D', 'not_equal', 'numba_type', 'p', 'p2', 'phi', 'pseudorapidity', 'pt', 'pt2', 'px', 'py', 'pz', 'rapidity', 'rho', 'rho2', 'rotateX', 'rotateY', 'rotateZ', 'rotate_axis', 'rotate_euler', 'rotate_nautical', 'rotate_quaternion', 'scale', 'scale2D', 'scale3D', 'scale4D', 'show', 'subtract', 't', 't2', 'tau', 'tau2', 'temporal', 'theta', 'to_Vector2D', 'to_Vector3D', 'to_Vector4D', 'to_beta3', 'to_list', 'to_numpy', 'to_rhophi', 'to_rhophieta', 'to_rhophietat', 'to_rhophietatau', 'to_rhophitheta', 'to_rhophithetat', 'to_rhophithetatau', 'to_rhophiz', 'to_rhophizt', 'to_rhophiztau', 'to_xy', 'to_xyeta', 'to_xyetat', 'to_xyetatau', 'to_xytheta', 'to_xythetat', 'to_xythetatau', 'to_xyz', 'to_xyzt', 'to_xyztau', 'tolist', 'transform2D', 'transform3D', 'transform4D', 'transverse_energy', 'transverse_energy2', 'transverse_mass', 'transverse_mass2', 'type', 'typestr', 'unit', 'x', 'y', 'z']\n"
     ]
    }
   ],
   "source": [
    "print(dir(vector.backends.awkward.MomentumArray4D))"
   ]
  },
  {
   "cell_type": "code",
   "execution_count": 304,
   "id": "921099e8-c6a6-4e97-9432-c71257f15f51",
   "metadata": {},
   "outputs": [],
   "source": [
    "import pandas\n",
    "l1 = pandas.read_csv('../data/counters.offline.csv')['run']\n",
    "l2 = [int(e) for e in os.popen(\"ls /pbs/throng/training/nantes-m2-rps-exp/data/ | grep 'mc' | cut -c 4-9\").read().split('\\n')[0:-2]]\n",
    "#list(set(l1) & set(l2))"
   ]
  },
  {
   "cell_type": "code",
   "execution_count": null,
   "id": "ff410520-594f-486f-bc94-e2f3833cfeb4",
   "metadata": {},
   "outputs": [],
   "source": []
  },
  {
   "cell_type": "code",
   "execution_count": null,
   "id": "8e9c4bec-93b3-4732-979d-924d0f3a9bd7",
   "metadata": {},
   "outputs": [],
   "source": []
  },
  {
   "cell_type": "code",
   "execution_count": 305,
   "id": "e0f51803-769d-489c-b82d-04c6ef8c6572",
   "metadata": {},
   "outputs": [],
   "source": [
    "def invariant_mass(part1,part2):\n",
    "    # sum impulsions\n",
    "    px = part1.px+part2.px\n",
    "    py = part1.py+part2.py\n",
    "    pz = part1.pz+part2.pz \n",
    "    E1 = part1.e\n",
    "    E2 = part2.e\n",
    "    return np.sqrt((E1+E2)**2-(px**2+py**2+pz**2))"
   ]
  },
  {
   "cell_type": "code",
   "execution_count": 368,
   "id": "08d9f8f4-dc9e-4121-b0dd-cabfa9132345",
   "metadata": {
    "tags": []
   },
   "outputs": [],
   "source": [
    "def scanGen(dataDescription, \n",
    "              #hMag:hist.Hist, hPhi:hist.Hist, hMinv:hist.Hist,\n",
    "              eventSelector=lambda x:[True]*len(x),\n",
    "              trackSelector=lambda x:[True]*len(x), \n",
    "              verbose:bool=False):\n",
    "    \"\"\" Loop over data to fill the invariant mass histogram.\n",
    "        \n",
    "        :param: dataDescription: is anything uproot.iterate can take.\n",
    "                typical something like run*.data.root:eventsTree in our case\n",
    "        :param: eventSelector: returns an array of bool from an array of events\n",
    "        :param: trackSelector: returns an array of bool from an array of tracks\n",
    "    \"\"\"\n",
    "    \n",
    "    for batch in uproot.iterate(dataDescription,\n",
    "                                [\"nMuonsGen\",\"Muon_GenPx\",\"Muon_GenPy\",\"Muon_GenPz\",\"Muon_GenE\",\"Muon_GenLabel\",\"Muon_GenMotherPDGCode\"],                                \n",
    "                                 report=True):\n",
    "\n",
    "        events=batch[0] # batch[1] is the report info\n",
    "        if len(events) < 1000:\n",
    "            print(\"something is wrong\",batch[1]) # this is a protection for some corrupted input data files \n",
    "            break\n",
    "            \n",
    "        goodEvents = events[eventSelector(events)] \n",
    "        tracks = getTracksGen(events)\n",
    "        goodTracks=tracks[trackSelector(tracks)]\n",
    "        t = goodTracks  # notation\n",
    "         \n",
    "        # JPsi 443\n",
    "        \n",
    "        print(t)\n",
    "        \n",
    "        NgenJPsi = ak.sum(1*t.mother==443)/2\n",
    "        NgenJPsiN = NgenJPsi/len(t)\n",
    "        \n",
    "        if verbose:\n",
    "            print(batch[1])\n",
    "        gc.collect()\n",
    "\n",
    "        return NgenJPsiN\n",
    "\n"
   ]
  },
  {
   "cell_type": "code",
   "execution_count": 369,
   "id": "8fcb65ef-6318-45fa-b392-8083c621814c",
   "metadata": {},
   "outputs": [],
   "source": [
    "# Ordre de grandeur\n",
    "#Aeps = 0.2386\n",
    "#sigmaJPsi = Nraw*A/(Aeps*5.94)"
   ]
  },
  {
   "cell_type": "code",
   "execution_count": 370,
   "id": "43b800e2-915e-442a-aa66-935ee621c400",
   "metadata": {
    "tags": []
   },
   "outputs": [],
   "source": [
    "def scan(dataDescription, \n",
    "              hMag:hist.Hist, hPhi:hist.Hist, hMinv:hist.Hist,\n",
    "              eventSelector=lambda x:[True]*len(x),\n",
    "              trackSelector=lambda x:[True]*len(x), \n",
    "              verbose:bool=False):\n",
    "    \"\"\" Loop over data to fill the invariant mass histogram.\n",
    "        \n",
    "        :param: dataDescription: is anything uproot.iterate can take.\n",
    "                typical something like run*.data.root:eventsTree in our case\n",
    "        :param: eventSelector: returns an array of bool from an array of events\n",
    "        :param: trackSelector: returns an array of bool from an array of tracks\n",
    "    \"\"\"\n",
    "    \n",
    "\n",
    "\n",
    "    \n",
    "    for batch in uproot.iterate(dataDescription,\n",
    "                                [\"isCINT\",\"isCMUL\",\"isCMSL\",\"nMuons\",\"Muon_Px\",\"Muon_Py\",\"Muon_Pz\",\"Muon_E\",\"Muon_Charge\",\"Muon_thetaAbs\",\"Muon_matchedTrgThreshold\"],                                \n",
    "                                 report=True):\n",
    "        events=batch[0] # batch[1] is the report info\n",
    "        if len(events) < 1000:\n",
    "            print(\"something is wrong\",batch[1]) # this is a protection for some corrupted input data files \n",
    "            break\n",
    "            \n",
    "        goodEvents = events[eventSelector(events)] \n",
    "        tracks = getTracks(events)\n",
    "        goodTracks=tracks[trackSelector(tracks)]\n",
    "        t = goodTracks  # notation\n",
    "         \n",
    "        #hMag.fill(ak.flatten(t.p))\n",
    "        #hPhi.fill(ak.flatten(t.phi))\n",
    "\n",
    "        # Keep events with n>=2\n",
    "        n = ak.num(t.charge,axis=1)\n",
    "        tsel = t[n==2]\n",
    "        \n",
    "        # Combinations\n",
    "        C = ak.combinations(tsel,2)\n",
    "        \n",
    "        # Keep opposite charges only    \n",
    "        I = (C[\"0\"].charge+C[\"1\"].charge)==0\n",
    "        \n",
    "        # Compute invariant mass\n",
    "        \n",
    "        minv = invariant_mass(C[\"0\"][I],C[\"1\"][I])\n",
    "        \n",
    "        hMinv.fill(ak.flatten(minv))\n",
    "        \n",
    "        # Simple integral\n",
    "        Nraw = ak.sum(1*(2.7<minv)*(minv<3.4))\n",
    "        \n",
    "        # JPsi: 100140, Psi2s: 49860\n",
    "        #print(\"A.eps=\",(Nraw/len(events))/(100140/150000))\n",
    "        #print(ak.sum([]))\n",
    "        \n",
    "        NrawN = Nraw/len(events)\n",
    "        \n",
    "        #print(C[\"0\"])\n",
    "        #print(len(C),len(Csel))\n",
    "        #Ccharge = ak.combinations(tsel.charge,2)\n",
    "        #print((ak.to_layout(Ccharge)[0][0]))\n",
    "        #print(ak.sum(Ccharge,axis=1))\n",
    "        #print(C)\n",
    "        #print(ak.num(tsel,axis=1))\n",
    "        \n",
    "        \n",
    "        \n",
    "        #invariant_mass(E1,E2,p1,p2)\n",
    "        #hMinv\n",
    "        #print(type(goodTracks))\n",
    "        #print(dir(vector.backends.awkward.MomentumArray4D))\n",
    "        #print((goodTracks.p))\n",
    "        \n",
    "        \n",
    "        \n",
    "        if verbose:\n",
    "            print(batch[1])\n",
    "        gc.collect()\n",
    "                    \n",
    "        return NrawN\n"
   ]
  },
  {
   "cell_type": "markdown",
   "id": "73c7ae68-4bc3-4114-b72a-8dd9e99c4b9a",
   "metadata": {
    "tags": []
   },
   "source": [
    "\n",
    "We define now some histograms that we want to plot and run over the data. We do it twice for illustration purposes:\n",
    "- first, we don't give any definition for the eventselector and track selector. This is equivalent to say that all events and all tracks are good\n",
    "- second, we implement some definition for the lambda function to have some selection criteria on our tracks\n"
   ]
  },
  {
   "cell_type": "code",
   "execution_count": 371,
   "id": "97fd5e4b-9a97-42a9-a403-99418d3ac8f0",
   "metadata": {
    "tags": []
   },
   "outputs": [
    {
     "name": "stdout",
     "output_type": "stream",
     "text": [
      "[[{px: 1.4, py: -0.226, pz: -10.2, E: 10.3, n: 2, label: 1, ...}, ...], ...]\n",
      "<Report start=0 stop=40000 source='/pbs/throng/training/nantes-m2-rps-exp/data/run291694.mc.root:/genTree;1'>\n",
      "<Report start=0 stop=40000 source='/pbs/throng/training/nantes-m2-rps-exp/data/run291694.mc.root:/eventsTree;1'>\n",
      "0.2602272301173647\n",
      "CPU times: user 798 ms, sys: 311 µs, total: 798 ms\n",
      "Wall time: 799 ms\n"
     ]
    }
   ],
   "source": [
    "%%time\n",
    "## SINGLE MUON TRACK PLOTS\n",
    "#No cuts\n",
    "vhMagRaw = hist.Hist(hist.axis.Regular(bins=100,start=0,stop=100,name='$|p|$'))\n",
    "vhPhiRaw = hist.Hist(hist.axis.Regular(bins=200,start=-22/7,stop=22/7,name='$\\phi$'))\n",
    "#Event selection\n",
    "vhMagEvSel = hist.Hist(hist.axis.Regular(bins=100,start=0,stop=100,name='$|p|$'))\n",
    "vhPhiEvSel = hist.Hist(hist.axis.Regular(bins=200,start=-22/7,stop=22/7,name='$\\phi$'))\n",
    "\n",
    "vhMinvEvSel = hist.Hist(hist.axis.Regular(bins=200,start=1,stop=5.5,name='$m\\mu\\mu$'))\n",
    "\n",
    "#scan(dataDescription=f\"{BASEDIR}/run*.{DATATYPE}.root:eventsTree\",\n",
    "#          hMag=vhMagRaw, hPhi=vhPhiRaw)\n",
    "\n",
    "\n",
    "NgenN = scanGen(dataDescription=f\"{BASEDIR}/run291694.mc.root:genTree\",\n",
    "          #hMag=vhMagEvSel, hPhi=vhPhiEvSel, hMinv=vhMinvEvSel,\n",
    "          #eventSelector=lambda x: x[\"isCMUL\"]==True,\n",
    "          #trackSelector=lambda x: (x.p>5) & (x.eta>-4),\n",
    "         verbose=True\n",
    "    )\n",
    "\n",
    "NrawN = scan(dataDescription=f\"{BASEDIR}/run291694.mc.root:eventsTree\",\n",
    "          hMag=vhMagEvSel, hPhi=vhPhiEvSel, hMinv=vhMinvEvSel,\n",
    "          #eventSelector=lambda x: x[\"isCMUL\"]==True,\n",
    "          #trackSelector=lambda x: (x.p>5) & (x.eta>-4),\n",
    "         verbose=True\n",
    "    )\n",
    "\n",
    "print(NrawN/NgenN)"
   ]
  },
  {
   "cell_type": "markdown",
   "id": "83fa5506-6d48-4167-870b-3a1fe438090f",
   "metadata": {},
   "source": [
    "We can now plot the results! See from the plots that our selection removed some entries in all histograms"
   ]
  },
  {
   "cell_type": "code",
   "execution_count": 310,
   "id": "08329766-c830-4611-afee-45234db64d53",
   "metadata": {},
   "outputs": [
    {
     "data": {
      "image/png": "[encoded data removed]",
      "text/plain": [
       "<Figure size 640x480 with 1 Axes>"
      ]
     },
     "metadata": {},
     "output_type": "display_data"
    }
   ],
   "source": [
    "#vhMagRaw.plot(label=\"no cuts\")\n",
    "vhMinvEvSel.plot(label=\"events selected\")\n",
    "plt.yscale(\"log\")\n",
    "plt.ylabel(\"# of tracks\")\n",
    "plt.title('Total momentum of tracks');\n",
    "plt.legend();"
   ]
  },
  {
   "cell_type": "code",
   "execution_count": 311,
   "id": "0fed2b03-3af1-4620-aa05-a6d38c876244",
   "metadata": {},
   "outputs": [
    {
     "name": "stderr",
     "output_type": "stream",
     "text": [
      "/pbs/throng/training/nantes-m2-rps-exp/miniconda3/envs/qqbar2mumu/lib/python3.9/site-packages/mplhep/utils.py:197: RuntimeWarning: All sumw are zero!  Cannot compute meaningful error bars\n",
      "  return np.abs(method_fcn(self.values, variances) - self.values)\n",
      "/pbs/throng/training/nantes-m2-rps-exp/miniconda3/envs/qqbar2mumu/lib/python3.9/site-packages/mplhep/utils.py:197: RuntimeWarning: All sumw are zero!  Cannot compute meaningful error bars\n",
      "  return np.abs(method_fcn(self.values, variances) - self.values)\n",
      "/tmp/ipykernel_187/3845830240.py:3: UserWarning: Data has no positive values, and therefore cannot be log-scaled.\n",
      "  plt.yscale(\"log\")\n"
     ]
    },
    {
     "data": {
      "image/png": "[encoded data removed]",
      "text/plain": [
       "<Figure size 640x480 with 1 Axes>"
      ]
     },
     "metadata": {},
     "output_type": "display_data"
    }
   ],
   "source": [
    "vhMagRaw.plot(label=\"no cuts\")\n",
    "vhMagEvSel.plot(label=\"events selected\")\n",
    "plt.yscale(\"log\")\n",
    "plt.ylabel(\"# of tracks\")\n",
    "plt.title('Total momentum of tracks');\n",
    "plt.legend();\n"
   ]
  },
  {
   "cell_type": "code",
   "execution_count": 312,
   "id": "8360c05d-aa18-4741-a7a4-56af9b70e84c",
   "metadata": {},
   "outputs": [
    {
     "name": "stderr",
     "output_type": "stream",
     "text": [
      "/pbs/throng/training/nantes-m2-rps-exp/miniconda3/envs/qqbar2mumu/lib/python3.9/site-packages/mplhep/utils.py:197: RuntimeWarning: All sumw are zero!  Cannot compute meaningful error bars\n",
      "  return np.abs(method_fcn(self.values, variances) - self.values)\n",
      "/pbs/throng/training/nantes-m2-rps-exp/miniconda3/envs/qqbar2mumu/lib/python3.9/site-packages/mplhep/utils.py:197: RuntimeWarning: All sumw are zero!  Cannot compute meaningful error bars\n",
      "  return np.abs(method_fcn(self.values, variances) - self.values)\n",
      "/tmp/ipykernel_187/1091764743.py:3: UserWarning: Data has no positive values, and therefore cannot be log-scaled.\n",
      "  plt.yscale(\"log\")\n"
     ]
    },
    {
     "data": {
      "image/png": "[encoded data removed]",
      "text/plain": [
       "<Figure size 640x480 with 1 Axes>"
      ]
     },
     "metadata": {},
     "output_type": "display_data"
    }
   ],
   "source": [
    "vhPhiRaw.plot(label=\"no cuts\")\n",
    "vhPhiEvSel.plot(label=\"events selected\")\n",
    "plt.yscale(\"log\")\n",
    "plt.ylabel(\"# of tracks\")\n",
    "plt.title('Azimuthal angle distribution of tracks');\n",
    "plt.legend();"
   ]
  },
  {
   "cell_type": "code",
   "execution_count": null,
   "id": "6ba730b7-6934-4bcd-972f-8c87541a0103",
   "metadata": {},
   "outputs": [],
   "source": []
  },
  {
   "cell_type": "code",
   "execution_count": null,
   "id": "ad59d3dd-147e-457c-a13f-af2922d83c93",
   "metadata": {},
   "outputs": [],
   "source": []
  },
  {
   "cell_type": "code",
   "execution_count": null,
   "id": "53910b40-1fb4-431a-9baa-0e2ebb2d580c",
   "metadata": {},
   "outputs": [],
   "source": []
  },
  {
   "cell_type": "code",
   "execution_count": null,
   "id": "f068a0e7-581a-45cd-9b42-285ee512999f",
   "metadata": {},
   "outputs": [],
   "source": []
  }
 ],
 "metadata": {
  "kernelspec": {
   "display_name": "Python 3.9 - M2 RPS EXP",
   "language": "python",
   "name": "nantes-m2-rps-exp"
  },
  "language_info": {
   "codemirror_mode": {
    "name": "ipython",
    "version": 3
   },
   "file_extension": ".py",
   "mimetype": "text/x-python",
   "name": "python",
   "nbconvert_exporter": "python",
   "pygments_lexer": "ipython3",
   "version": "3.9.18"
  }
 },
 "nbformat": 4,
 "nbformat_minor": 5
}
