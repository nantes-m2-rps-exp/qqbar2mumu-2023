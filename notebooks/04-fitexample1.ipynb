{
 "cells": [
  {
   "cell_type": "code",
   "execution_count": 1,
   "id": "675e7dbe-dbd4-4c79-b375-b00f6c97824e",
   "metadata": {},
   "outputs": [],
   "source": [
    "import numpy as np\n",
    "from scipy.optimize import curve_fit\n",
    "import matplotlib.pyplot as plt"
   ]
  },
  {
   "cell_type": "code",
   "execution_count": 2,
   "id": "8389e73b-a20f-41c3-84d0-5b19e15f8e65",
   "metadata": {},
   "outputs": [],
   "source": [
    "def func(x, N, mu, sig, alphaL, nL, alphaR, nR):\n",
    "    AL = ( nL / np.absolute( alphaL ) )**nL * np.exp( -1 * np.absolute( alphaL )**2 / 2 )\n",
    "    AR = ( nR / np.absolute( alphaR ) )**nR * np.exp( -1 * np.absolute( alphaR )**2 / 2 )\n",
    "    BL = nL / np.absolute( alphaL ) - np.absolute( alphaL )\n",
    "    BR = nR / np.absolute( alphaR ) - np.absolute( alphaR )\n",
    "\n",
    "    result = 0\n",
    "    rel = ( x - mu )/sig\n",
    "    \n",
    "    if rel < -1 * alphaL:\n",
    "        result = AL * (BL - rel)**(-nL)\n",
    "    elif (rel >= -1 * alphaL) and (rel <= alphaR):\n",
    "        result = np.exp(-1 * rel**2 / 2)\n",
    "    elif rel > alphaR:\n",
    "        result = AR*(BR + rel)**(-nR)\n",
    "        \n",
    "    return result * N #/ (np.sqrt(2 * np.pi) * sig)\n",
    "\n",
    "def vfunc(x, mu, sig):\n",
    "    N = 1\n",
    "    alphaL = 10\n",
    "    alphaR = 1\n",
    "    nL= 3\n",
    "    nR= 3\n",
    "    AL = ( nL / np.absolute( alphaL ) )**nL * np.exp( -1 * np.absolute( alphaL )**2 / 2 )\n",
    "    AR = ( nR / np.absolute( alphaR ) )**nR * np.exp( -1 * np.absolute( alphaR )**2 / 2 )\n",
    "    BL = nL / np.absolute( alphaL ) - np.absolute( alphaL )\n",
    "    BR = nR / np.absolute( alphaR ) - np.absolute( alphaR )\n",
    "\n",
    "    result = np.zeros(np.size(x))\n",
    "    \n",
    "    rel = ( x - mu )/sig\n",
    "    I1 = rel < -1 * alphaL\n",
    "    I2 = (rel >= -1 * alphaL) * (rel <= alphaR)\n",
    "    I3 = rel > alphaR\n",
    "    result[I1] = AL * (BL - rel[I1])**(-nL)\n",
    "    result[I2] = np.exp(-1 * rel[I2]**2 / 2)\n",
    "    result[I3] = AR*(BR + rel[I3])**(-nR)\n",
    "        \n",
    "    return result * N #/ (np.sqrt(2 * np.pi) * sig)"
   ]
  },
  {
   "cell_type": "code",
   "execution_count": 3,
   "id": "f2707ea4-bed3-404c-bdba-94380feebd13",
   "metadata": {},
   "outputs": [
    {
     "name": "stdout",
     "output_type": "stream",
     "text": [
      "10.159064728353176\n"
     ]
    },
    {
     "data": {
      "image/png": "[encoded data removed]",
      "text/plain": [
       "<Figure size 640x480 with 1 Axes>"
      ]
     },
     "metadata": {},
     "output_type": "display_data"
    }
   ],
   "source": [
    "N = 1\n",
    "mu = 3.1\n",
    "sig = 0.70\n",
    "alphaL = 10\n",
    "alphaR = 1\n",
    "nL= 3\n",
    "nR= 3\n",
    "\n",
    "x = np.linspace(0, 10, 50)\n",
    "x_data = np.array(x)\n",
    "#y_data = np.array([vfunc(j, N, mu, sig, alphaL, nL, alphaR, nR) for j in x_data])\n",
    "#y_data = np.array(vfunc(x_data, N, mu, sig, alphaL, nL, alphaR, nR))\n",
    "y_data = np.array(vfunc(x_data, mu, sig))\n",
    "plt.plot(x, y_data, 'bo')\n",
    "plt.yscale(\"log\")\n",
    "\n",
    "print(y_data.sum())"
   ]
  },
  {
   "cell_type": "code",
   "execution_count": 4,
   "id": "e511ef43-acd9-40d3-b744-661db226c56a",
   "metadata": {},
   "outputs": [
    {
     "name": "stdout",
     "output_type": "stream",
     "text": [
      "params:  [3.1 0.7]\n",
      "covariance: \n",
      " [[0. 0.]\n",
      " [0. 0.]]\n"
     ]
    }
   ],
   "source": [
    "#print(len(x_data))\n",
    "#print(len(y_data))\n",
    "\n",
    "params, covs = curve_fit(vfunc, x_data, y_data) \n",
    "print(\"params: \", params)\n",
    "print(\"covariance: \\n\", covs) "
   ]
  },
  {
   "cell_type": "code",
   "execution_count": null,
   "id": "9f28d55a-80ac-4da7-bb90-38fe33e3ba0a",
   "metadata": {},
   "outputs": [],
   "source": []
  },
  {
   "cell_type": "code",
   "execution_count": null,
   "id": "18bb20c7-d28e-46c1-a7de-f7b03721725d",
   "metadata": {},
   "outputs": [],
   "source": []
  },
  {
   "cell_type": "code",
   "execution_count": null,
   "id": "46519f33-17d9-496f-9e6b-43ba0ee4c2eb",
   "metadata": {},
   "outputs": [],
   "source": []
  },
  {
   "cell_type": "code",
   "execution_count": null,
   "id": "15966f8b-f3b9-4c05-9c7d-6d73e069e5e0",
   "metadata": {},
   "outputs": [],
   "source": []
  }
 ],
 "metadata": {
  "kernelspec": {
   "display_name": "Python 3.9 - M2 RPS EXP",
   "language": "python",
   "name": "nantes-m2-rps-exp"
  },
  "language_info": {
   "codemirror_mode": {
    "name": "ipython",
    "version": 3
   },
   "file_extension": ".py",
   "mimetype": "text/x-python",
   "name": "python",
   "nbconvert_exporter": "python",
   "pygments_lexer": "ipython3",
   "version": "3.9.18"
  }
 },
 "nbformat": 4,
 "nbformat_minor": 5
}
