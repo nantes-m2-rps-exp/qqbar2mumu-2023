{
 "cells": [
  {
   "cell_type": "code",
   "execution_count": 1,
   "id": "c37ab757-85cc-466c-aca8-7320a4615ebc",
   "metadata": {},
   "outputs": [
    {
     "name": "stdout",
     "output_type": "stream",
     "text": [
      "uproot version 5.0.12\n",
      "awkward version 2.4.3\n",
      "numpy version 1.25.2\n",
      "matplotlib version 3.8.0\n",
      "hist version 2.7.2\n",
      "vector version 1.1.1\n"
     ]
    }
   ],
   "source": [
    "import uproot\n",
    "import awkward as ak\n",
    "import numpy as np\n",
    "import matplotlib\n",
    "import matplotlib.pyplot as plt\n",
    "import math\n",
    "import hist\n",
    "import vector\n",
    "import os\n",
    "import subprocess\n",
    "import gc\n",
    "print(\"uproot version\", uproot.__version__)\n",
    "print(\"awkward version\", ak.__version__)\n",
    "print(\"numpy version\", np.__version__)\n",
    "print(\"matplotlib version\", matplotlib.__version__)\n",
    "print(\"hist version\", hist.__version__)\n",
    "print(\"vector version\", vector.__version__)\n",
    "#print(\"os version\", os.__version__)\n",
    "#print(\"subprocess version\", subprocess.__version__)\n",
    "#print(\"gc version\", gc.__version__)"
   ]
  },
  {
   "cell_type": "code",
   "execution_count": 2,
   "id": "b66804a3-3175-48ff-b4a2-d63cee227157",
   "metadata": {},
   "outputs": [],
   "source": [
    "vector.register_awkward() "
   ]
  },
  {
   "cell_type": "code",
   "execution_count": 3,
   "id": "7f6d5f43-2e9b-4be8-a1cf-48c65cde81f1",
   "metadata": {},
   "outputs": [],
   "source": [
    "DATATYPE = \"mc\"\n",
    "assert((DATATYPE == \"mc\") or (DATATYPE == \"data\"))\n",
    "BASEDIR = \"/pbs/throng/training/nantes-m2-rps-exp/data\" # basedir where to look for runXXX.DATATYPE.root files\n",
    "IS_MC = True if DATATYPE == \"mc\" else False"
   ]
  },
  {
   "cell_type": "code",
   "execution_count": 4,
   "id": "f1ef7b93-335d-4912-a82a-f5b4ca98ad74",
   "metadata": {},
   "outputs": [],
   "source": [
    "def data_file_path(run,is_mc=IS_MC,dest=BASEDIR):\n",
    "    datatype=\"mc\" if is_mc else \"data\"\n",
    "    print({dest},\"/run\",{run},\".\",{datatype},\".root\")\n",
    "    return f\"{dest}/run{run}.{datatype}.root\""
   ]
  },
  {
   "cell_type": "code",
   "execution_count": 5,
   "id": "00f87251-15ee-4145-8336-37687a876934",
   "metadata": {},
   "outputs": [
    {
     "name": "stdout",
     "output_type": "stream",
     "text": [
      "3\n"
     ]
    }
   ],
   "source": [
    "RUNS = [290323, 290327, 290848, 291361, 291360, 291362, 290853, 290860, 291373, 290374, 290375, 291399,\n",
    "               291400, 290894, 290895, 290404, 291943, 291944, 291948, 291953, 290932, 290423, 291447, 290935, \n",
    "               290425, 290427, 291451, 291453, 291976, 291982, 290456, 290458, 290459, 291482, 291485, 290975, \n",
    "               290980, 290469, 292012, 291002, 291003, 291004, 291005, 290501, 292040, 292060, 292061, 292062, \n",
    "               291041, 290539, 290540, 292075, 292077, 292080, 290549, 290553, 291590, 292106, 292108, 292109, \n",
    "               292115, 290590, 291618, 291622, 291624, 292140, 290612, 292160, 292162, 292163, 292164, 292166, \n",
    "               290632, 291657, 292168, 292192, 290658, 290660, 291690, 291692, 291694, 291698, 291706, 290687, \n",
    "               290692, 290696, 290699, 292242, 292265, 291755, 292269, 292270, 291760, 292273, 292274, 290742, \n",
    "               291769, 291263, 290764, 290766, 291283, 291284, 291285, 291795, 291796, 290776, 291803, 290787]\n",
    "RUNS1 = [290323, 290327, 290848]\n",
    "SAMPLE_RUNS = sorted(RUNS1)\n",
    "print(len(SAMPLE_RUNS))"
   ]
  },
  {
   "cell_type": "code",
   "execution_count": 6,
   "id": "82aeab9a-8af8-491c-bc13-aafa82f40343",
   "metadata": {},
   "outputs": [
    {
     "name": "stdout",
     "output_type": "stream",
     "text": [
      "{'/pbs/throng/training/nantes-m2-rps-exp/data'} /run {290323} . {'mc'} .root\n",
      "name                 | typename                 | interpretation                \n",
      "---------------------+--------------------------+-------------------------------\n",
      "runNumber            | int32_t                  | AsDtype('>i4')\n",
      "xVtx                 | double                   | AsDtype('>f8')\n",
      "yVtx                 | double                   | AsDtype('>f8')\n",
      "zVtx                 | double                   | AsDtype('>f8')\n",
      "isCINT               | bool                     | AsDtype('bool')\n",
      "isCMSL               | bool                     | AsDtype('bool')\n",
      "isCMSH               | bool                     | AsDtype('bool')\n",
      "isCMLL               | bool                     | AsDtype('bool')\n",
      "isCMUL               | bool                     | AsDtype('bool')\n",
      "nMuons               | int32_t                  | AsDtype('>i4')\n",
      "Muon_E               | std::vector<float>       | AsJagged(AsDtype('>f4'), he...\n",
      "Muon_Px              | std::vector<float>       | AsJagged(AsDtype('>f4'), he...\n",
      "Muon_Py              | std::vector<float>       | AsJagged(AsDtype('>f4'), he...\n",
      "Muon_Pz              | std::vector<float>       | AsJagged(AsDtype('>f4'), he...\n",
      "Muon_Charge          | std::vector<int16_t>     | AsJagged(AsDtype('>i2'), he...\n",
      "Muon_thetaAbs        | std::vector<float>       | AsJagged(AsDtype('>f4'), he...\n",
      "Muon_xDCA            | std::vector<double>      | AsJagged(AsDtype('>f8'), he...\n",
      "Muon_yDCA            | std::vector<double>      | AsJagged(AsDtype('>f8'), he...\n",
      "Muon_zDCA            | std::vector<double>      | AsJagged(AsDtype('>f8'), he...\n",
      "Muon_matchedTrgTh... | std::vector<int32_t>     | AsJagged(AsDtype('>i4'), he...\n",
      "Muon_MCHClusterMap   | std::vector<uint32_t>    | AsJagged(AsDtype('>u4'), he...\n",
      "Muon_MTRHitMapTrg    | std::vector<uint32_t>    | AsJagged(AsDtype('>u4'), he...\n",
      "Muon_MTRHitMapTrk    | std::vector<uint32_t>    | AsJagged(AsDtype('>u4'), he...\n",
      "Muon_MCLabel         | std::vector<int32_t>     | AsJagged(AsDtype('>i4'), he...\n",
      "Muon_MCPDGCode       | std::vector<int32_t>     | AsJagged(AsDtype('>i4'), he...\n",
      "name                 | typename                 | interpretation                \n",
      "---------------------+--------------------------+-------------------------------\n",
      "xVtxMC               | double                   | AsDtype('>f8')\n",
      "yVtxMC               | double                   | AsDtype('>f8')\n",
      "zVtxMC               | double                   | AsDtype('>f8')\n",
      "nMuonsGen            | int32_t                  | AsDtype('>i4')\n",
      "Muon_GenE            | std::vector<float>       | AsJagged(AsDtype('>f4'), he...\n",
      "Muon_GenPx           | std::vector<float>       | AsJagged(AsDtype('>f4'), he...\n",
      "Muon_GenPy           | std::vector<float>       | AsJagged(AsDtype('>f4'), he...\n",
      "Muon_GenPz           | std::vector<float>       | AsJagged(AsDtype('>f4'), he...\n",
      "Muon_GenLabel        | std::vector<int32_t>     | AsJagged(AsDtype('>i4'), he...\n",
      "Muon_GenMotherPDG... | std::vector<int32_t>     | AsJagged(AsDtype('>i4'), he...\n"
     ]
    },
    {
     "data": {
      "text/plain": [
       "70000"
      ]
     },
     "execution_count": 6,
     "metadata": {},
     "output_type": "execute_result"
    }
   ],
   "source": [
    "file = uproot.open(data_file_path(SAMPLE_RUNS[0],IS_MC))\n",
    "events = file[\"eventsTree\"]\n",
    "gen = file[\"genTree\"]\n",
    "events.show()\n",
    "events.num_entries\n",
    "gen.show()\n",
    "gen.num_entries"
   ]
  },
  {
   "cell_type": "code",
   "execution_count": 17,
   "id": "bcbe3151-27fe-414b-87fb-87a0b1cc1854",
   "metadata": {},
   "outputs": [],
   "source": [
    "def mag(Px, Py, Pz):\n",
    "    return np.sqrt(Px*Px + Py*Py + Pz*Pz)\n",
    "\n",
    "def rest_mass(E, Px, Py, Pz):\n",
    "    P = mag(Px, Py, Pz)\n",
    "    return np.sqrt(np.abs(E*E - P*P))\n",
    "\n",
    "\n",
    "def getTracks(events):\n",
    "    return ak.zip({\"px\":events[\"Muon_Px\"],\n",
    "                       \"py\":events[\"Muon_Py\"],\n",
    "                       \"pz\":events[\"Muon_Pz\"],\n",
    "                       \"E\":events[\"Muon_E\"],\n",
    "                       \"MC_label\":events[\"Muon_MCLabel\"],\n",
    "                       \"charge\":events[\"Muon_Charge\"],\n",
    "                       \"thetaAbs\":events[\"Muon_thetaAbs\"],\n",
    "                       \"matched\":events[\"Muon_matchedTrgThreshold\"]},\n",
    "                    with_name='Momentum4D')\n",
    "\"\"\"\n",
    "def getTracks_gen(gen):\n",
    "    return ak.zip({\"pxGen\":gen[\"Muon_GenPx\"],\n",
    "                       \"pyGen\":gen[\"Muon_GenPy\"],\n",
    "                       \"pzGen\":gen[\"Muon_GenPz\"],\n",
    "                       \"EGen\":gen[\"Muon_GenE\"],\n",
    "                       \"MC_Genlabel\":gen[\"Muon_GenLabel\"],\n",
    "                       \"MC_GenMotherPDG\":gen[\"Muon_GenMotherPDG\"]},\n",
    "                    with_name='Momentum4D')\"\"\"\n",
    "\n",
    "\n",
    "def scan(dataDescription, \n",
    "              hMag:hist.Hist, hPhi:hist.Hist, hEta:hist.Hist, hPt:hist.Hist, hMass:hist.Hist, hMass_OS:hist.Hist, hMass_LS:hist.Hist,\n",
    "              eventSelector = lambda x:[True]*len(x),\n",
    "              trackSelector = lambda x:[True]*len(x), \n",
    "              #genSelector = lambda x:[True]*len(x), \n",
    "              verbose:bool = False):\n",
    "    Entries = goodEntries = 0\n",
    "    for batch in uproot.iterate(dataDescription,\n",
    "                                [\"isCINT\", \"Muon_MCLabel\",\"isCMUL\", \"isCMSL\", \"nMuons\", \"Muon_Px\", \"Muon_Py\", \"Muon_Pz\", \"Muon_E\", \"Muon_Charge\", \"Muon_thetaAbs\", \"Muon_matchedTrgThreshold\",],                                \n",
    "                                report = True):\n",
    "        events = batch[0] # batch[1] is the report info\n",
    "        if len(events) < 1000:\n",
    "            print(\"something is wrong\",batch[1]) # this is a protection for some corrupted input data files \n",
    "            break\n",
    "            \n",
    "        goodEvents = events[eventSelector(events)] \n",
    "        tracks = getTracks(events)\n",
    "        goodTracks = tracks[trackSelector(tracks)]\n",
    "        #generation = getTracks_gen(events)\n",
    "        #goodGen = generation[genSelector(generation)]\n",
    "        \n",
    "        hMag.fill(ak.flatten(goodTracks.p))\n",
    "        hPhi.fill(ak.flatten(goodTracks.phi))\n",
    "        hEta.fill(ak.flatten(goodTracks.eta))\n",
    "        hPt.fill(ak.flatten(goodTracks.pt))\n",
    "        hMass.fill(ak.flatten(goodTracks.mass))\n",
    "        \n",
    "        pairs = ak.combinations(goodTracks, 2)\n",
    "        Px = pairs[\"0\"].px + pairs[\"1\"].px\n",
    "        Py = pairs[\"0\"].py + pairs[\"1\"].py\n",
    "        Pz = pairs[\"0\"].pz + pairs[\"1\"].pz\n",
    "        E = pairs[\"0\"].E + pairs[\"1\"].E\n",
    "        charge = pairs[\"0\"].charge + pairs[\"1\"].charge\n",
    "        \n",
    "        Pair2 = ak.zip({\"px\":Px,\n",
    "                       \"py\":Py,\n",
    "                       \"pz\":Pz,\n",
    "                       \"E\":E,\n",
    "                       \"charge\":charge},\n",
    "                    with_name='Momentum4D')\n",
    "        \n",
    "        hMass_OS.fill(ak.flatten(Pair2[Pair2.charge==0].mass))\n",
    "        hMass_LS.fill(ak.flatten(Pair2[Pair2.charge!=0].mass))\n",
    "        \n",
    "        Entries += len(events)\n",
    "        goodEntries += len(ak.flatten(goodTracks))/2\n",
    "        \n",
    "        #label = [pairs[\"0\"].MC_label, pairs[\"1\"].MC_label]\n",
    "        \n",
    "        if verbose:\n",
    "            #print(\"-----------------------------------------------------------\")\n",
    "            #print(batch[1], \"\\nEntries: \", Entries, \"\\nJ/Psi: \", int(goodEntries), \"\\nPDG: \", PDG)\n",
    "            gc.collect()\n",
    "        return Entries, goodEntries, PDG"
   ]
  },
  {
   "cell_type": "code",
   "execution_count": 18,
   "id": "edaaaf31-8d5e-4c5c-acfa-5644cef71b05",
   "metadata": {},
   "outputs": [
    {
     "name": "stdout",
     "output_type": "stream",
     "text": [
      "CPU times: user 947 µs, sys: 0 ns, total: 947 µs\n",
      "Wall time: 958 µs\n"
     ]
    }
   ],
   "source": [
    "%%time\n",
    "\n",
    "hMag = hist.Hist(hist.axis.Regular(bins = 100, start = 0, stop = 100, name = '$|p|$'))\n",
    "hPhi = hist.Hist(hist.axis.Regular(bins = 200, start = -22/7, stop = 22/7, name = '$\\phi$'))\n",
    "\n",
    "hEta = hist.Hist(hist.axis.Regular(bins = 100, start = -6, stop = 0, name = '$\\eta$'))\n",
    "hPt = hist.Hist(hist.axis.Regular(bins = 100, start = 0, stop = 100, name = '$p_T$'))\n",
    "hMass = hist.Hist(hist.axis.Regular(bins = 100, start = 0, stop = 0.2, name = '$m_{\\mu}$'))\n",
    "\n",
    "hMass_OS = hist.Hist(hist.axis.Regular(bins = 100, start = 1.5, stop = 5, name = '$m_{\\mu \\mu}$'))\n",
    "hMass_LS = hist.Hist(hist.axis.Regular(bins = 100, start = 1.5, stop = 5, name = '$m_{\\mu \\mu}$'))\n",
    "\n",
    "hMass_OS_cut = hist.Hist(hist.axis.Regular(bins = 100, start = 1.5, stop = 5, name = '$m_{\\mu \\mu}$'))\n",
    "hMass_LS_cut = hist.Hist(hist.axis.Regular(bins = 100, start = 1.5, stop = 5, name = '$m_{\\mu \\mu}$'))\n",
    "\n",
    "hMass_OS_test = hist.Hist(hist.axis.Regular(bins = 100, start = 1.5, stop = 5, name = '$m_{\\mu \\mu}$'))\n",
    "hMass_LS_test = hist.Hist(hist.axis.Regular(bins = 100, start = 1.5, stop = 5, name = '$m_{\\mu \\mu}$'))\n"
   ]
  },
  {
   "cell_type": "code",
   "execution_count": 19,
   "id": "78522939-6a98-4f5d-9c26-589261409216",
   "metadata": {},
   "outputs": [
    {
     "name": "stdout",
     "output_type": "stream",
     "text": [
      "32819.0\n",
      "[7349, 637, 9496]\n",
      "3\n"
     ]
    }
   ],
   "source": [
    "PDG = []\n",
    "NTotalJPsi =0\n",
    "NJPsi=[]\n",
    "Entries = 0\n",
    "goodEntries = 0\n",
    "for run in SAMPLE_RUNS:\n",
    "    a, b, c = scan(dataDescription = f\"/pbs/throng/training/nantes-m2-rps-exp/data/run{run}.mc.root:eventsTree\",\n",
    "          hMag = hMag, hPhi = hPhi, hEta = hEta, hPt = hPt, hMass = hMass, hMass_OS = hMass_OS_test, hMass_LS = hMass_LS_test,\n",
    "          eventSelector = lambda x: x[\"isCMUL\"] == True, \n",
    "          trackSelector = lambda x: (((x.thetaAbs < 3) & (x.eta > -4)) & (x.eta < -2.5)), verbose = True)\n",
    "    Entries += a;\n",
    "    goodEntries += b;\n",
    "    NJPsi.append(int(b))\n",
    "    NTotalJPsi += goodEntries\n",
    "    \n",
    "    #print(a,b)\n",
    "#print(\"-----------------------------------------------------------\", \"\\nEntries: \", Entries, \"\\nJ/Psi: \", int(goodEntries), \"\\nPDG: \", PDG)\n",
    "print(NTotalJPsi)\n",
    "print(NJPsi)\n",
    "print(len(NJPsi))"
   ]
  },
  {
   "cell_type": "code",
   "execution_count": null,
   "id": "b7c8f129-e05c-49a7-8fc7-fd7a1173b4f9",
   "metadata": {},
   "outputs": [],
   "source": [
    "hMag.plot(color = \"blue\", label = \"no cut\")\n",
    "plt.yscale('log')\n",
    "plt.grid(True)\n",
    "plt.legend()"
   ]
  },
  {
   "cell_type": "code",
   "execution_count": null,
   "id": "7c0e9f8e-134c-46e3-801a-e85842027778",
   "metadata": {},
   "outputs": [],
   "source": [
    "nofEvents = 0\n",
    "nofTracks=0\n",
    "m = events.arrays([\"nMuons\",\"Muon_Px\",\"Muon_Py\",\"Muon_Pz\",\"Muon_Charge\", \"Muon_MCPDGCode\"],how=\"zip\",entry_stop=150000)\n",
    "\n",
    "dimuons = ak.flatten([m[\"nMuons\"]==2])\n",
    "X=np.arange(events.num_entries)[m[\"nMuons\"]==2] #indices dimuons\n",
    "\n",
    "print(dimuons[3])\n",
    "print(dimuons)\n",
    "#for event in m[m.nMuons>0]:\n",
    "for event in X : \n",
    "    nofEvents+=1\n",
    "    tracks = m[\"Muon\"].to_list()\n",
    "    for t in tracks:\n",
    "        nofTracks+=1\n",
    "        #muons = [abs(t[\"Muon_MCPDGCode\"])==13]\n",
    "        \n",
    "print(nofEvents)\n",
    "print(nofTracks)\n",
    "print(tracks)\n",
    "print(m[1:5].to_list())\n",
    "\n",
    "print(X)\n",
    "print(len(X))"
   ]
  }
 ],
 "metadata": {
  "kernelspec": {
   "display_name": "Python 3.9 - M2 RPS EXP",
   "language": "python",
   "name": "nantes-m2-rps-exp"
  },
  "language_info": {
   "codemirror_mode": {
    "name": "ipython",
    "version": 3
   },
   "file_extension": ".py",
   "mimetype": "text/x-python",
   "name": "python",
   "nbconvert_exporter": "python",
   "pygments_lexer": "ipython3",
   "version": "3.9.18"
  }
 },
 "nbformat": 4,
 "nbformat_minor": 5
}
