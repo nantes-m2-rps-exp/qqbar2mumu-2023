{
 "cells": [
  {
   "cell_type": "code",
   "execution_count": 1,
   "id": "77632d4f-66e0-4946-bb68-314f7ad7d9ea",
   "metadata": {},
   "outputs": [
    {
     "name": "stdout",
     "output_type": "stream",
     "text": [
      "uproot version 5.0.12\n",
      "awkward version 2.4.3\n",
      "numpy version 1.25.2\n",
      "matplotlib version 3.8.0\n",
      "hist version 2.7.2\n",
      "vector version 1.1.1\n",
      "pandas version 1.5.3\n"
     ]
    }
   ],
   "source": [
    "import uproot\n",
    "import awkward as ak\n",
    "import numpy as np\n",
    "import matplotlib\n",
    "import matplotlib.pyplot as plt\n",
    "import math\n",
    "import hist\n",
    "import vector\n",
    "import os\n",
    "import subprocess\n",
    "import gc\n",
    "import pandas as pd\n",
    "from scipy.optimize import curve_fit\n",
    "from scipy.integrate import quad\n",
    "print(\"uproot version\", uproot.__version__)\n",
    "print(\"awkward version\", ak.__version__)\n",
    "print(\"numpy version\", np.__version__)\n",
    "print(\"matplotlib version\", matplotlib.__version__)\n",
    "print(\"hist version\", hist.__version__)\n",
    "print(\"vector version\", vector.__version__)\n",
    "#print(\"os version\", os.__version__)\n",
    "#print(\"subprocess version\", subprocess.__version__)\n",
    "#print(\"gc version\", gc.__version__)\n",
    "print(\"pandas version\", pd.__version__)\n",
    "#print(\"scipy.optimize version\", scipy.optimize.__version__)\n",
    "#print(\"scipy.integrate version\", scipy.integrate.__version__)"
   ]
  },
  {
   "cell_type": "code",
   "execution_count": 2,
   "id": "165848a0-8570-4c38-81fb-85331cbc3946",
   "metadata": {},
   "outputs": [
    {
     "data": {
      "text/html": [
       "<html>\n",
       "<div style=\"display:flex; align-items:center;\">\n",
       "<div style=\"width:290px;\">\n",
       "<svg xmlns=\"http://www.w3.org/2000/svg\" viewBox=\"-10 -105 270 120\">\n",
       "<line x1=\"-5\" y1=\"0\" x2=\"255\" y2=\"0\" style=\"fill:none;stroke-width:2;stroke:currentColor\"/>\n",
       "<text text-anchor=\"middle\" x=\"0\" y=\"15\" style=\"fill:currentColor;\">\n",
       "1.5\n",
       "</text>\n",
       "<text text-anchor=\"middle\" x=\"250\" y=\"15\" style=\"fill:currentColor;\">\n",
       "5\n",
       "</text>\n",
       "<text text-anchor=\"middle\" x=\"125.0\" y=\"15\" style=\"fill:currentColor;\">\n",
       "X\n",
       "</text>\n",
       "<polyline points=\"  0,0   0,-100 2.5,-100 2.5,-95.5   5,-95.5   5,-89.5 7.5,-89.5 7.5,-85.9  10,-85.9  10,-81.6 12.5,-81.6 12.5,-76.7  15,-76.7  15,-73.5 17.5,-73.5 17.5,-69.8  20,-69.8  20,-66.1 22.5,-66.1 22.5,-63  25,-63  25,-60.1 27.5,-60.1 27.5,-57.1  30,-57.1  30,-53.8 32.5,-53.8 32.5,-51.4  35,-51.4  35,-48.6 37.5,-48.6 37.5,-45.9  40,-45.9  40,-43.4 42.5,-43.4 42.5,-41.3  45,-41.3  45,-39.8 47.5,-39.8 47.5,-37.8  50,-37.8  50,-35.8 52.5,-35.8 52.5,-34.2  55,-34.2  55,-32.3 57.5,-32.3 57.5,-30.4  60,-30.4  60,-29.5 62.5,-29.5 62.5,-28  65,-28  65,-26.8 67.5,-26.8 67.5,-25.4  70,-25.4  70,-24.5 72.5,-24.5 72.5,-23.4  75,-23.4  75,-22.1 77.5,-22.1 77.5,-21.4  80,-21.4  80,-20.7 82.5,-20.7 82.5,-19.8  85,-19.8  85,-19 87.5,-19 87.5,-18.8  90,-18.8  90,-18.2 92.5,-18.2 92.5,-18.3  95,-18.3  95,-18.7 97.5,-18.7 97.5,-19.5 100,-19.5 100,-22.3 102.5,-22.3 102.5,-25.7 105,-25.7 105,-32.3 107.5,-32.3 107.5,-42.8 110,-42.8 110,-54.4 112.5,-54.4 112.5,-61.3 115,-61.3 115,-57.1 117.5,-57.1 117.5,-43.3 120,-43.3 120,-27.5 122.5,-27.5 122.5,-17.1 125,-17.1 125,-11.9 127.5,-11.9 127.5,-9.53 130,-9.53 130,-8.45 132.5,-8.45 132.5,-7.63 135,-7.63 135,-7.16 137.5,-7.16 137.5,-6.71 140,-6.71 140,-6.58 142.5,-6.58 142.5,-6.23 145,-6.23 145,-6.14 147.5,-6.14 147.5,-6.1 150,-6.1 150,-5.99 152.5,-5.99 152.5,-6.1 155,-6.1 155,-5.87 157.5,-5.87 157.5,-5.66 160,-5.66 160,-5.35 162.5,-5.35 162.5,-4.72 165,-4.72 165,-4.33 167.5,-4.33 167.5,-4 170,-4 170,-3.93 172.5,-3.93 172.5,-3.8 175,-3.8 175,-3.55 177.5,-3.55 177.5,-3.44 180,-3.44 180,-3.33 182.5,-3.33 182.5,-3.33 185,-3.33 185,-3.19 187.5,-3.19 187.5,-3.07 190,-3.07 190,-3.06 192.5,-3.06 192.5,-2.82 195,-2.82 195,-2.77 197.5,-2.77 197.5,-2.66 200,-2.66 200,-2.58 202.5,-2.58 202.5,-2.51 205,-2.51 205,-2.46 207.5,-2.46 207.5,-2.3 210,-2.3 210,-2.31 212.5,-2.31 212.5,-2.2 215,-2.2 215,-2.09 217.5,-2.09 217.5,-2.06 220,-2.06 220,-1.92 222.5,-1.92 222.5,-1.92 225,-1.92 225,-1.85 227.5,-1.85 227.5,-1.88 230,-1.88 230,-1.77 232.5,-1.77 232.5,-1.74 235,-1.74 235,-1.68 237.5,-1.68 237.5,-1.64 240,-1.64 240,-1.64 242.5,-1.64 242.5,-1.53 245,-1.53 245,-1.55 247.5,-1.55 247.5,-1.42 250,-1.42 250,0\" style=\"fill:none; stroke:currentColor;\"/>\n",
       "</svg>\n",
       "</div>\n",
       "<div style=\"flex=grow:1;\">\n",
       "Regular(100, 1.5, 5, name='$m_{\\\\mu \\\\mu}$', label='X')<br/>\n",
       "<hr style=\"margin-top:.2em; margin-bottom:.2em;\"/>\n",
       "Double() Σ=1891322.0\n",
       "\n",
       "</div>\n",
       "</div>\n",
       "</html>"
      ],
      "text/plain": [
       "Hist(Regular(100, 1.5, 5, name='$m_{\\\\mu \\\\mu}$', label='X'), storage=Double()) # Sum: 1891322.0"
      ]
     },
     "execution_count": 2,
     "metadata": {},
     "output_type": "execute_result"
    }
   ],
   "source": [
    "X = [1.5174999999999998, 1.5525, 1.5875, 1.6225, 1.6574999999999998, 1.6925, 1.7275, 1.7625000000000002, \n",
    "     1.7975, 1.8325, 1.8675000000000002, 1.9025000000000003, 1.9375, 1.9725, 2.0075, 2.0425, 2.0775, 2.1125, \n",
    "     2.1475, 2.1825, 2.2175000000000002, 2.2525, 2.2875, 2.3225, 2.3575, 2.3925, 2.4275, 2.4625, 2.4975, \n",
    "     2.5324999999999998, 2.5675, 2.6025, 2.6375, 2.6725000000000003, 2.7075, 2.7424999999999997, 2.7775, \n",
    "     2.8125, 2.8475, 2.8825000000000003, 2.9175000000000004, 2.9524999999999997, 2.9875, 3.0225, 3.0575, \n",
    "     3.0925, 3.1275, 3.1625, 3.1975, 3.2325, 3.2675, 3.3025, 3.3375, 3.3725000000000005, 3.4074999999999998, \n",
    "     3.4425000000000003, 3.4775, 3.5125, 3.5475, 3.5824999999999996, 3.6174999999999997, 3.6525000000000003, \n",
    "     3.6875, 3.7224999999999997, 3.7575000000000003, 3.7925000000000004, 3.8275, 3.8625, 3.8975, \n",
    "     3.9324999999999997, 3.9675, 4.0024999999999995, 4.0375, 4.0725, 4.1075, 4.1425, 4.1775, 4.2125, \n",
    "     4.2475000000000005, 4.2825, 4.3175, 4.352499999999999, 4.3875, 4.422499999999999, 4.4575, \n",
    "     4.492500000000001, 4.5275, 4.5625, 4.5975, 4.632499999999999, 4.6675, 4.702500000000001, 4.7375, \n",
    "     4.772500000000001, 4.8075, 4.842499999999999, 4.8775, 4.9125, 4.9475, 4.9825]\n",
    "\n",
    "# CMUL + eta\n",
    "Y = [80562.0, 76898.0, 72107.0, 69178.0, 65752.0, 61789.0, 59183.0, 56197.0, 53244.0, 50785.0, \n",
    "                 48444.0, 45979.0, 43342.0, 41383.0, 39192.0, 36997.0, 34987.0, 33294.0, 32044.0, 30444.0, \n",
    "                 28810.0, 27579.0, 26026.0, 24531.0, 23726.0, 22543.0, 21595.0, 20423.0, 19732.0, 18864.0, \n",
    "                 17811.0, 17206.0, 16666.0, 15911.0, 15301.0, 15150.0, 14690.0, 14717.0, 15055.0, 15691.0, \n",
    "                 17963.0, 20667.0, 26007.0, 34477.0, 43866.0, 49402.0, 46037.0, 34856.0, 22182.0, 13777.0, \n",
    "                 9566.0, 7676.0, 6808.0, 6147.0, 5766.0, 5406.0, 5305.0, 5019.0, 4948.0, 4913.0, 4827.0, \n",
    "                 4916.0, 4725.0, 4556.0, 4310.0, 3805.0, 3492.0, 3224.0, 3169.0, 3065.0, 2862.0, 2773.0, \n",
    "                 2679.0, 2681.0, 2570.0, 2473.0, 2466.0, 2273.0, 2231.0, 2144.0, 2080.0, 2026.0, 1982.0, \n",
    "                 1854.0, 1859.0, 1773.0, 1682.0, 1661.0, 1548.0, 1547.0, 1494.0, 1515.0, 1422.0, 1401.0, \n",
    "                 1352.0, 1320.0, 1319.0, 1234.0, 1251.0, 1145.0]\n",
    "\n",
    "vMass_OS = hist.Hist(hist.axis.Regular(bins = 100, start = 1.5, stop = 5, name='$m_{\\mu \\mu}$', label = 'X'))\n",
    "vMass_OS.fill(X, weight = Y)"
   ]
  },
  {
   "cell_type": "code",
   "execution_count": 3,
   "id": "7de12974-2f8d-4e7a-a22e-431de4547d53",
   "metadata": {},
   "outputs": [],
   "source": [
    "def funcVec(x, N, mu, sig, alphaL, nL, alphaR, nR):\n",
    "    AL = ( nL / np.absolute( alphaL ) )**nL * np.exp( -1 * np.absolute( alphaL )**2 / 2 )\n",
    "    AR = ( nR / np.absolute( alphaR ) )**nR * np.exp( -1 * np.absolute( alphaR )**2 / 2 )\n",
    "    BL = nL / np.absolute( alphaL ) - np.absolute( alphaL )\n",
    "    BR = nR / np.absolute( alphaR ) - np.absolute( alphaR )\n",
    "\n",
    "    return np.piecewise(x, \n",
    "                        [( x - mu )/sig < -1 * alphaL, (( x - mu )/sig >= -1 * alphaL) & (( x - mu )/sig <= alphaR).any() , ( x - mu )/sig > alphaR],\n",
    "                        [lambda x: N * AL * (BL - (( x - mu )/sig))**(-nL), lambda x: N * np.exp(-1 * (( x - mu )/sig)**2 / 2), lambda x: N * AR * (BR + ( x - mu )/sig)**(-nR)])\n",
    "\n",
    "def VWG(x, N, mu, alpha, beta):\n",
    "    sigma = alpha + beta*((x-mu)/mu)\n",
    "    return N * np.exp(-(x - mu)**2 / (2*sigma**2))\n",
    "\n",
    "def PR(x, N, a1, b1, b2):\n",
    "    return N * (1 + a1*x) / (b1*x + b2*x)\n",
    "\n",
    "def DE(x, N, alpha, beta1, beta2):\n",
    "    return N * (np.exp(beta1*x) + alpha * np.exp(beta2*x))\n",
    "\n",
    "def fitFunc(x,\n",
    "            N1, mu1, sig1, alphaL1, nL1, alphaR1, nR1,\n",
    "            N2, mu2, sig2, alphaL2, nL2, alphaR2, nR2,\n",
    "            Nbg, a1, a2, a3):\n",
    "    return funcVec(x, N1, mu1, sig1, alphaL1, nL1, alphaR1, nR1) + funcVec(x, N2, mu2, sig2, alphaL2, nL2, alphaR2, nR2) + DE(x, Nbg, a1, a2, a3)"
   ]
  },
  {
   "cell_type": "code",
   "execution_count": 4,
   "id": "fe907a3c-115c-4123-b2b8-5c69353f999b",
   "metadata": {},
   "outputs": [],
   "source": [
    "x_data = np.array(X)\n",
    "y_data = np.array(vMass_OS)\n",
    "y_error = np.array(np.sqrt(vMass_OS))\n",
    "\n",
    "condition = (x_data > 2.0)\n",
    "#condition = True\n",
    "x_filtered = np.ravel(x_data[condition])\n",
    "y_filtered = np.ravel(y_data[condition])\n",
    "y_error_filtered = np.ravel(y_error[condition])\n",
    "\n",
    "x_data = x_filtered\n",
    "y_data = y_filtered\n",
    "y_error = y_error_filtered"
   ]
  },
  {
   "cell_type": "code",
   "execution_count": 5,
   "id": "80e3cdb6-e292-4b9e-8f2a-849d26cec702",
   "metadata": {},
   "outputs": [],
   "source": [
    "p0 = np.array([4.55480661e+04, 3.09865210e+00, 6.61685782e-02, 8.82346075e-01, 3.02220911e+00,\n",
    "               2.02907631e+00, 2.80816984e+00, 1.00000000e+03, 3.69645336e+00, 5.19889713e-02,\n",
    "               1.05368114e+00, 3.30817422e+00, 2.65615253e+00, 2.93595354e+00, 2.27919897e+04,\n",
    "               4.53001147e+01, -5.76132695e-01, -1.64742979e+00])"
   ]
  },
  {
   "cell_type": "code",
   "execution_count": 6,
   "id": "3937be46-4973-42fa-be25-6086f86d1bf4",
   "metadata": {},
   "outputs": [
    {
     "name": "stderr",
     "output_type": "stream",
     "text": [
      "/tmp/ipykernel_6158/3209874668.py:3: RuntimeWarning: overflow encountered in scalar power\n",
      "  AR = ( nR / np.absolute( alphaR ) )**nR * np.exp( -1 * np.absolute( alphaR )**2 / 2 )\n",
      "/tmp/ipykernel_6158/3209874668.py:9: RuntimeWarning: invalid value encountered in multiply\n",
      "  [lambda x: N * AL * (BL - (( x - mu )/sig))**(-nL), lambda x: N * np.exp(-1 * (( x - mu )/sig)**2 / 2), lambda x: N * AR * (BR + ( x - mu )/sig)**(-nR)])\n",
      "/tmp/ipykernel_6158/3209874668.py:2: RuntimeWarning: invalid value encountered in scalar power\n",
      "  AL = ( nL / np.absolute( alphaL ) )**nL * np.exp( -1 * np.absolute( alphaL )**2 / 2 )\n",
      "/tmp/ipykernel_6158/3209874668.py:9: RuntimeWarning: invalid value encountered in power\n",
      "  [lambda x: N * AL * (BL - (( x - mu )/sig))**(-nL), lambda x: N * np.exp(-1 * (( x - mu )/sig)**2 / 2), lambda x: N * AR * (BR + ( x - mu )/sig)**(-nR)])\n",
      "/tmp/ipykernel_6158/3209874668.py:2: RuntimeWarning: overflow encountered in scalar power\n",
      "  AL = ( nL / np.absolute( alphaL ) )**nL * np.exp( -1 * np.absolute( alphaL )**2 / 2 )\n"
     ]
    },
    {
     "name": "stdout",
     "output_type": "stream",
     "text": [
      "popt: \n",
      " [ 4.11373356e+04  3.09592393e+00  7.14807815e-02  9.12641908e-01\n",
      "  1.25798908e+01  1.83273527e+00  1.57388649e+02  7.38506205e+02\n",
      "  3.68780890e+00  6.93108493e-02  1.17850697e+01  1.56208853e+02\n",
      "  5.00626479e+00  1.74382928e+02  1.36525649e+03  5.28712230e+02\n",
      " -1.28857893e-01 -1.46803853e+00]\n",
      "pcov: \n",
      " [[ 3.93050051e+04  1.51170857e-02 -5.07987464e-02 -1.69842090e-01\n",
      "  -1.56600338e+02 -5.32143410e+00  4.66686325e+03  6.65932325e+02\n",
      "  -4.30460719e-02  1.24858172e-01 -1.33788490e-06  8.85412584e-07\n",
      "  -2.61923794e+06 -2.16455557e-08  2.27717046e+04 -7.89993691e+03\n",
      "  -2.94473396e+00 -9.67162158e-01]\n",
      " [ 1.51170857e-02  2.08743484e-07 -1.39407326e-07 -7.87869208e-06\n",
      "   9.41953936e-04 -6.16531803e-06  7.44545702e-02 -8.61549457e-04\n",
      "   6.76655346e-08 -1.42887272e-07  1.80265491e-13 -1.19276644e-13\n",
      "   3.52656940e-01  2.92345505e-15 -5.40634149e-02  1.92287651e-02\n",
      "   7.20861616e-06  1.90640283e-06]\n",
      " [-5.07987464e-02 -1.39407326e-07  2.71249268e-07  9.21712523e-06\n",
      "  -1.13054847e-03  3.59887302e-05 -3.89395150e-01  2.75315133e-03\n",
      "  -1.09803462e-07  4.21313230e-07 -5.83721290e-12  3.86246236e-12\n",
      "  -1.14248522e+01 -9.44621670e-14  7.79881949e-02 -2.69675880e-02\n",
      "  -1.00192720e-05 -3.41325160e-06]\n",
      " [-1.69842090e-01 -7.87869208e-06  9.21712523e-06  7.21580457e-04\n",
      "  -1.14393011e-01  1.02929528e-03 -1.43215649e+01  1.33075161e-01\n",
      "  -8.43532562e-06  2.14255588e-05 -1.29289755e-10  8.55523229e-11\n",
      "  -2.53042493e+02 -2.09288658e-12  6.51302656e+00 -2.30384522e+00\n",
      "  -8.61570760e-04 -2.41222158e-04]\n",
      " [-1.56600338e+02  9.41953936e-04 -1.13054847e-03 -1.14393011e-01\n",
      "   2.53226797e+01 -1.35140239e-01  3.19589767e+03 -4.16521607e+01\n",
      "   2.82319246e-03 -7.00079538e-03  4.11216779e-08 -2.72120484e-08\n",
      "   8.04902808e+04  6.65571365e-10 -2.07011263e+03  7.31142523e+02\n",
      "   2.73643276e-01  7.72781567e-02]\n",
      " [-5.32143410e+00 -6.16531803e-06  3.59887302e-05  1.02929528e-03\n",
      "  -1.35140239e-01  2.05332630e-02 -2.52289982e+02  6.50893910e-01\n",
      "   9.44216701e-06  5.54624001e-05 -1.77213348e-09  1.17248157e-09\n",
      "  -3.46771806e+03 -2.86866468e-11  6.68258909e+00 -2.14973041e+00\n",
      "  -7.76247048e-04 -4.35028772e-04]\n",
      " [ 4.66686325e+03  7.44545702e-02 -3.89395150e-01 -1.43215649e+01\n",
      "   3.19589767e+03 -2.52289982e+02  4.21039935e+06 -1.93108477e+04\n",
      "   1.90971081e-01 -2.41902407e+00  5.57198997e-05 -3.68690164e-05\n",
      "   1.09053893e+08  9.01722769e-07 -2.28682590e+05  7.39895134e+04\n",
      "   2.68268242e+01  1.44521721e+01]\n",
      " [ 6.65932325e+02 -8.61549457e-04  2.75315133e-03  1.33075161e-01\n",
      "  -4.16521607e+01  6.50893910e-01 -1.93108477e+04  3.93698073e+03\n",
      "  -7.09157222e-03 -1.47624284e-01 -1.57690314e-06  1.04349567e-06\n",
      "  -3.08680297e+06 -2.55120796e-08 -1.18867566e+03  6.15975085e+02\n",
      "   2.56513931e-01 -1.30178944e-01]\n",
      " [-4.30460719e-02  6.76655346e-08 -1.09803462e-07 -8.43532562e-06\n",
      "   2.82319246e-03  9.44216701e-06  1.90971081e-01 -7.09157222e-03\n",
      "   4.11122379e-05 -4.86983501e-06  3.73284237e-12 -2.47070353e-12\n",
      "   7.30847624e+00  6.04255072e-14 -5.06416931e-01  1.78103480e-01\n",
      "   6.64462637e-05  1.93157087e-05]\n",
      " [ 1.24858172e-01 -1.42887272e-07  4.21313230e-07  2.14255588e-05\n",
      "  -7.00079538e-03  5.54624001e-05 -2.41902407e+00 -1.47624284e-01\n",
      "  -4.86983501e-06  5.08307812e-05 -2.83011600e-10  1.87279856e-10\n",
      "  -5.54003515e+02 -4.57865642e-12 -2.75656840e-01  1.32111563e-01\n",
      "   5.38391600e-05 -2.06717265e-05]\n",
      " [-1.33788490e-06  1.80265491e-13 -5.83721290e-12 -1.29289755e-10\n",
      "   4.11216779e-08 -1.77213348e-09  5.57198997e-05 -1.57690314e-06\n",
      "   3.73284237e-12 -2.83011600e-10  6.64820792e-14 -4.39942761e-14\n",
      "   1.30143463e-01  1.07553472e-15  4.12799855e-05 -1.56258504e-05\n",
      "  -5.94666872e-09 -5.92068211e-10]\n",
      " [ 8.85412584e-07 -1.19276644e-13  3.86246236e-12  8.55523229e-11\n",
      "  -2.72120484e-08  1.17248157e-09 -3.68690164e-05  1.04349567e-06\n",
      "  -2.47070353e-12  1.87279856e-10 -4.39942761e-14  2.91130535e-14\n",
      "  -8.61219672e-02 -7.11731217e-16 -2.73162291e-05  1.03401069e-05\n",
      "   3.93509253e-09  3.91786473e-10]\n",
      " [-2.61923794e+06  3.52656940e-01 -1.14248522e+01 -2.53042493e+02\n",
      "   8.04902808e+04 -3.46771806e+03  1.09053893e+08 -3.08680297e+06\n",
      "   7.30847624e+00 -5.54003515e+02  1.30143463e-01 -8.61219672e-02\n",
      "   2.54765211e+11  2.10543674e-03  8.08070756e+07 -3.05881515e+07\n",
      "  -1.16408047e+04 -1.15901342e+03]\n",
      " [-2.16455557e-08  2.92345505e-15 -9.44621670e-14 -2.09288658e-12\n",
      "   6.65571365e-10 -2.86866468e-11  9.01722769e-07 -2.55120796e-08\n",
      "   6.04255072e-14 -4.57865642e-12  1.07553472e-15 -7.11731217e-16\n",
      "   2.10543674e-03  1.73998006e-17  6.67770625e-07 -2.52774824e-07\n",
      "  -9.61976049e-11 -9.57643738e-12]\n",
      " [ 2.27717046e+04 -5.40634149e-02  7.79881949e-02  6.51302656e+00\n",
      "  -2.07011263e+03  6.68258909e+00 -2.28682590e+05 -1.18867566e+03\n",
      "  -5.06416931e-01 -2.75656840e-01  4.12799855e-05 -2.73162291e-05\n",
      "   8.08070756e+07  6.67770625e-07  7.20392997e+05 -2.61186903e+05\n",
      "  -9.96840774e+01 -2.04201163e+01]\n",
      " [-7.89993691e+03  1.92287651e-02 -2.69675880e-02 -2.30384522e+00\n",
      "   7.31142523e+02 -2.14973041e+00  7.39895134e+04  6.15975085e+02\n",
      "   1.78103480e-01  1.32111563e-01 -1.56258504e-05  1.03401069e-05\n",
      "  -3.05881515e+07 -2.52774824e-07 -2.61186903e+05  9.48053765e+04\n",
      "   3.62019315e+01  7.31006774e+00]\n",
      " [-2.94473396e+00  7.20861616e-06 -1.00192720e-05 -8.61570760e-04\n",
      "   2.73643276e-01 -7.76247048e-04  2.68268242e+01  2.56513931e-01\n",
      "   6.64462637e-05  5.38391600e-05 -5.94666872e-09  3.93509253e-09\n",
      "  -1.16408047e+04 -9.61976049e-11 -9.96840774e+01  3.62019315e+01\n",
      "   1.38384578e-02  2.77220830e-03]\n",
      " [-9.67162158e-01  1.90640283e-06 -3.41325160e-06 -2.41222158e-04\n",
      "   7.72781567e-02 -4.35028772e-04  1.44521721e+01 -1.30178944e-01\n",
      "   1.93157087e-05 -2.06717265e-05 -5.92068211e-10  3.91786473e-10\n",
      "  -1.15901342e+03 -9.57643738e-12 -2.04201163e+01  7.31006774e+00\n",
      "   2.77220830e-03  6.60050020e-04]]\n",
      "residual: \n",
      " {'nfev': 153, 'fvec': array([-1.23244253,  0.25704315,  1.35349412,  1.26327655, -0.83223199,\n",
      "       -0.55277394,  0.40164532, -0.57663605,  0.8266962 ,  2.37815389,\n",
      "       -0.08565492,  0.2796402 , -0.52327591,  0.61459935, -1.20585845,\n",
      "       -1.38390521,  0.26752575, -0.92286471, -2.09401575, -0.95648975,\n",
      "       -0.11175388, -1.91270358,  0.22105381,  0.37815239,  0.86595799,\n",
      "        3.13572195, -1.17101266,  0.75604274, -1.71364218, -3.06943927,\n",
      "        3.67337462,  1.39369365, -2.2939101 , -1.79293345,  2.11318256,\n",
      "        0.40259989,  0.09810551, -0.05513322, -0.97654286,  0.47155068,\n",
      "        0.61329382,  1.55481299, -0.45164912,  0.62794986, -0.49947964,\n",
      "       -0.93692854,  0.52542123, -0.39940325,  1.15369882, -0.053526  ,\n",
      "       -1.8365501 ,  0.41829127,  0.97842306,  2.19823001,  0.50172122,\n",
      "        0.07241282,  1.67541035,  1.29031441,  1.09734117, -0.87360642,\n",
      "       -0.58033031, -0.46258988, -2.0583792 ,  0.18299465, -0.57984418,\n",
      "       -0.31857578, -0.47255515, -0.77687162, -1.23918258,  0.27143402,\n",
      "       -1.19569917, -0.49960115,  0.41698808, -0.30105388,  1.34010124,\n",
      "        0.20263003,  0.44889011, -1.16224635,  0.21486895, -0.23305453,\n",
      "        0.11404407,  0.04859924, -0.82847028,  0.67048084, -0.66115322,\n",
      "        1.59668883])}\n"
     ]
    },
    {
     "name": "stderr",
     "output_type": "stream",
     "text": [
      "/tmp/ipykernel_6158/3209874668.py:9: RuntimeWarning: overflow encountered in scalar multiply\n",
      "  [lambda x: N * AL * (BL - (( x - mu )/sig))**(-nL), lambda x: N * np.exp(-1 * (( x - mu )/sig)**2 / 2), lambda x: N * AR * (BR + ( x - mu )/sig)**(-nR)])\n"
     ]
    }
   ],
   "source": [
    "popt, pcov, nfev, fvec, fjac = curve_fit(fitFunc, xdata = x_data, ydata = y_data, sigma = y_error, p0 = p0,  method = 'trf', full_output = True)\n",
    "\n",
    "print(\"popt: \\n\", popt) \n",
    "print(\"pcov: \\n\", pcov)\n",
    "print(\"residual: \\n\", nfev)"
   ]
  },
  {
   "cell_type": "code",
   "execution_count": 7,
   "id": "68eca965-475d-4108-8296-09f9a95c99b0",
   "metadata": {},
   "outputs": [
    {
     "data": {
      "image/png": "[encoded data removed]",
      "text/plain": [
       "<Figure size 640x480 with 1 Axes>"
      ]
     },
     "metadata": {},
     "output_type": "display_data"
    }
   ],
   "source": [
    "x_data_fit = np.linspace(min(x_data), max(x_data), len(x_data))\n",
    "plt.errorbar(x_data, y_data, y_error, marker='+', mfc='black', mec='black', ms=2, mew=5, ls='')\n",
    "plt.plot(x_data_fit, fitFunc(x_data_fit, *popt), '-r')\n",
    "plt.plot(x_data_fit, funcVec(x_data_fit, *popt[:7]), '--b')\n",
    "plt.plot(x_data_fit, funcVec(x_data_fit, *popt[7:14]), '--b')\n",
    "plt.plot(x_data_fit, DE(x_data_fit, *popt[14:18]), '--b')\n",
    "plt.yscale('log')\n",
    "plt.ylim(500, 100000)\n",
    "plt.grid(True)"
   ]
  },
  {
   "cell_type": "code",
   "execution_count": 8,
   "id": "095ac343-5a8a-4bb8-9701-e2b9605d37d6",
   "metadata": {},
   "outputs": [
    {
     "name": "stdout",
     "output_type": "stream",
     "text": [
      "(14298.289612821796, 0.00020471513110839612)\n"
     ]
    }
   ],
   "source": [
    "print(quad(fitFunc, 2.7, 3.3, args = (*popt, )))"
   ]
  },
  {
   "cell_type": "code",
   "execution_count": 15,
   "id": "2895dfdc-1164-486e-8a16-166f08f36a25",
   "metadata": {},
   "outputs": [
    {
     "name": "stdout",
     "output_type": "stream",
     "text": [
      "(8401.536242523125, 4.2507478111990026e-05)\n"
     ]
    }
   ],
   "source": [
    "print(quad(funcVec, 0, np.inf, args = (*popt[:7], )))"
   ]
  },
  {
   "cell_type": "code",
   "execution_count": 16,
   "id": "f8f76249-3b2b-4cdf-b8c8-29370c71c86d",
   "metadata": {},
   "outputs": [
    {
     "name": "stdout",
     "output_type": "stream",
     "text": [
      "Signal : 8401.536242523125\n",
      "Bruit : 502418.7666530866\n"
     ]
    }
   ],
   "source": [
    "signal = quad(funcVec, 0, np.inf, args = (*popt[:7], ))[0]\n",
    "bruit = quad(funcVec, 0, np.inf, args = (*popt[7:14], ))[0] + quad(DE, 0, np.inf, args = (*popt[14:18], ))[0]\n",
    "print(\"Signal :\", signal)\n",
    "print(\"Bruit :\", bruit)"
   ]
  },
  {
   "cell_type": "code",
   "execution_count": 17,
   "id": "6194187b-387f-4b4b-9ab7-6c60cd99c23f",
   "metadata": {},
   "outputs": [
    {
     "name": "stdout",
     "output_type": "stream",
     "text": [
      "RSB : 11.75505404175963\n"
     ]
    }
   ],
   "source": [
    "print(\"RSB :\", signal / np.sqrt(signal + bruit))"
   ]
  },
  {
   "cell_type": "code",
   "execution_count": null,
   "id": "5056f01a-56a4-4a0b-85c0-a6f01436448e",
   "metadata": {},
   "outputs": [],
   "source": []
  }
 ],
 "metadata": {
  "kernelspec": {
   "display_name": "Python 3.9 - M2 RPS EXP",
   "language": "python",
   "name": "nantes-m2-rps-exp"
  },
  "language_info": {
   "codemirror_mode": {
    "name": "ipython",
    "version": 3
   },
   "file_extension": ".py",
   "mimetype": "text/x-python",
   "name": "python",
   "nbconvert_exporter": "python",
   "pygments_lexer": "ipython3",
   "version": "3.9.18"
  }
 },
 "nbformat": 4,
 "nbformat_minor": 5
}
