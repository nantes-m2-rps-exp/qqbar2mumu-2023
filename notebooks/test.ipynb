{
 "cells": [
  {
   "cell_type": "code",
   "execution_count": 1,
   "id": "77632d4f-66e0-4946-bb68-314f7ad7d9ea",
   "metadata": {},
   "outputs": [
    {
     "name": "stdout",
     "output_type": "stream",
     "text": [
      "uproot version 5.0.12\n",
      "awkward version 2.4.3\n",
      "numpy version 1.25.2\n",
      "matplotlib version 3.8.0\n",
      "hist version 2.7.2\n",
      "vector version 1.1.1\n",
      "pandas version 1.5.3\n"
     ]
    }
   ],
   "source": [
    "import uproot\n",
    "import awkward as ak\n",
    "import numpy as np\n",
    "import matplotlib\n",
    "import matplotlib.pyplot as plt\n",
    "import math\n",
    "import hist\n",
    "import vector\n",
    "import os\n",
    "import subprocess\n",
    "import gc\n",
    "import pandas as pd\n",
    "from scipy.optimize import curve_fit\n",
    "from scipy.integrate import quad\n",
    "from scipy.stats import crystalball\n",
    "print(\"uproot version\", uproot.__version__)\n",
    "print(\"awkward version\", ak.__version__)\n",
    "print(\"numpy version\", np.__version__)\n",
    "print(\"matplotlib version\", matplotlib.__version__)\n",
    "print(\"hist version\", hist.__version__)\n",
    "print(\"vector version\", vector.__version__)\n",
    "#print(\"os version\", os.__version__)\n",
    "#print(\"subprocess version\", subprocess.__version__)\n",
    "#print(\"gc version\", gc.__version__)\n",
    "print(\"pandas version\", pd.__version__)\n",
    "#print(\"scipy.optimize version\", scipy.optimize.__version__)\n",
    "#print(\"scipy.integrate version\", scipy.integrate.__version__)"
   ]
  },
  {
   "cell_type": "code",
   "execution_count": 2,
   "id": "165848a0-8570-4c38-81fb-85331cbc3946",
   "metadata": {},
   "outputs": [
    {
     "data": {
      "text/html": [
       "<html>\n",
       "<div style=\"display:flex; align-items:center;\">\n",
       "<div style=\"width:290px;\">\n",
       "<svg xmlns=\"http://www.w3.org/2000/svg\" viewBox=\"-10 -105 270 120\">\n",
       "<line x1=\"-5\" y1=\"0\" x2=\"255\" y2=\"0\" style=\"fill:none;stroke-width:2;stroke:currentColor\"/>\n",
       "<text text-anchor=\"middle\" x=\"0\" y=\"15\" style=\"fill:currentColor;\">\n",
       "1.5\n",
       "</text>\n",
       "<text text-anchor=\"middle\" x=\"250\" y=\"15\" style=\"fill:currentColor;\">\n",
       "5\n",
       "</text>\n",
       "<text text-anchor=\"middle\" x=\"125.0\" y=\"15\" style=\"fill:currentColor;\">\n",
       "X\n",
       "</text>\n",
       "<polyline points=\"  0,0   0,-100 2.5,-100 2.5,-92.6   5,-92.6   5,-86.4 7.5,-86.4 7.5,-80.9  10,-80.9  10,-74.8 12.5,-74.8 12.5,-68.8  15,-68.8  15,-64.5 17.5,-64.5 17.5,-59.9  20,-59.9  20,-54.8 22.5,-54.8 22.5,-51.7  25,-51.7  25,-48.5 27.5,-48.5 27.5,-44.8  30,-44.8  30,-41.1 32.5,-41.1 32.5,-39.1  35,-39.1  35,-36.6 37.5,-36.6 37.5,-33.3  40,-33.3  40,-30.5 42.5,-30.5 42.5,-28.9  45,-28.9  45,-27.2 47.5,-27.2 47.5,-25  50,-25  50,-24.2 52.5,-24.2 52.5,-22.2  55,-22.2  55,-20.4 57.5,-20.4 57.5,-18.8  60,-18.8  60,-17.6 62.5,-17.6 62.5,-16.6  65,-16.6  65,-15.4 67.5,-15.4 67.5,-14.7  70,-14.7  70,-13.6 72.5,-13.6 72.5,-12.9  75,-12.9  75,-11.9 77.5,-11.9 77.5,-11.3  80,-11.3  80,-10.5 82.5,-10.5 82.5,-10  85,-10  85,-9.48 87.5,-9.48 87.5,-8.85  90,-8.85  90,-8.52 92.5,-8.52 92.5,-8.25  95,-8.25  95,-8.13 97.5,-8.13 97.5,-8.32 100,-8.32 100,-8.86 102.5,-8.86 102.5,-9.36 105,-9.36 105,-11.1 107.5,-11.1 107.5,-14.4 110,-14.4 110,-17.6 112.5,-17.6 112.5,-20 115,-20 115,-18.7 117.5,-18.7 117.5,-13.7 120,-13.7 120,-8.56 122.5,-8.56 122.5,-5.54 125,-5.54 125,-3.88 127.5,-3.88 127.5,-3.17 130,-3.17 130,-2.89 132.5,-2.89 132.5,-2.54 135,-2.54 135,-2.45 137.5,-2.45 137.5,-2.14 140,-2.14 140,-2.31 142.5,-2.31 142.5,-2.09 145,-2.09 145,-1.97 147.5,-1.97 147.5,-2.02 150,-2.02 150,-1.84 152.5,-1.84 152.5,-1.89 155,-1.89 155,-1.8 157.5,-1.8 157.5,-1.76 160,-1.76 160,-1.54 162.5,-1.54 162.5,-1.41 165,-1.41 165,-1.25 167.5,-1.25 167.5,-1.13 170,-1.13 170,-1.12 172.5,-1.12 172.5,-1.1 175,-1.1 175,-1.05 177.5,-1.05 177.5,-1.05 180,-1.05 180,-0.979 182.5,-0.979 182.5,-0.864 185,-0.864 185,-0.87 187.5,-0.87 187.5,-0.815 190,-0.815 190,-0.755 192.5,-0.755 192.5,-0.676 195,-0.676 195,-0.714 197.5,-0.714 197.5,-0.649 200,-0.649 200,-0.543 202.5,-0.543 202.5,-0.665 205,-0.665 205,-0.63 207.5,-0.63 207.5,-0.554 210,-0.554 210,-0.578 212.5,-0.578 212.5,-0.559 215,-0.559 215,-0.494 217.5,-0.494 217.5,-0.494 220,-0.494 220,-0.45 222.5,-0.45 222.5,-0.447 225,-0.447 225,-0.412 227.5,-0.412 227.5,-0.42 230,-0.42 230,-0.387 232.5,-0.387 232.5,-0.376 235,-0.376 235,-0.346 237.5,-0.346 237.5,-0.354 240,-0.354 240,-0.335 242.5,-0.335 242.5,-0.308 245,-0.308 245,-0.286 247.5,-0.286 247.5,-0.319 250,-0.319 250,0\" style=\"fill:none; stroke:currentColor;\"/>\n",
       "</svg>\n",
       "</div>\n",
       "<div style=\"flex=grow:1;\">\n",
       "Regular(100, 1.5, 5, name='$m_{\\\\mu \\\\mu}$', label='X')<br/>\n",
       "<hr style=\"margin-top:.2em; margin-bottom:.2em;\"/>\n",
       "Double() Σ=567225.0\n",
       "\n",
       "</div>\n",
       "</div>\n",
       "</html>"
      ],
      "text/plain": [
       "Hist(Regular(100, 1.5, 5, name='$m_{\\\\mu \\\\mu}$', label='X'), storage=Double()) # Sum: 567225.0"
      ]
     },
     "execution_count": 2,
     "metadata": {},
     "output_type": "execute_result"
    }
   ],
   "source": [
    "X = [1.5174999999999998, 1.5525, 1.5875, 1.6225, 1.6574999999999998, 1.6925, 1.7275, 1.7625000000000002, \n",
    "     1.7975, 1.8325, 1.8675000000000002, 1.9025000000000003, 1.9375, 1.9725, 2.0075, 2.0425, 2.0775, 2.1125, \n",
    "     2.1475, 2.1825, 2.2175000000000002, 2.2525, 2.2875, 2.3225, 2.3575, 2.3925, 2.4275, 2.4625, 2.4975, \n",
    "     2.5324999999999998, 2.5675, 2.6025, 2.6375, 2.6725000000000003, 2.7075, 2.7424999999999997, 2.7775, \n",
    "     2.8125, 2.8475, 2.8825000000000003, 2.9175000000000004, 2.9524999999999997, 2.9875, 3.0225, 3.0575, \n",
    "     3.0925, 3.1275, 3.1625, 3.1975, 3.2325, 3.2675, 3.3025, 3.3375, 3.3725000000000005, 3.4074999999999998, \n",
    "     3.4425000000000003, 3.4775, 3.5125, 3.5475, 3.5824999999999996, 3.6174999999999997, 3.6525000000000003, \n",
    "     3.6875, 3.7224999999999997, 3.7575000000000003, 3.7925000000000004, 3.8275, 3.8625, 3.8975, \n",
    "     3.9324999999999997, 3.9675, 4.0024999999999995, 4.0375, 4.0725, 4.1075, 4.1425, 4.1775, 4.2125, \n",
    "     4.2475000000000005, 4.2825, 4.3175, 4.352499999999999, 4.3875, 4.422499999999999, 4.4575, \n",
    "     4.492500000000001, 4.5275, 4.5625, 4.5975, 4.632499999999999, 4.6675, 4.702500000000001, 4.7375, \n",
    "     4.772500000000001, 4.8075, 4.842499999999999, 4.8775, 4.9125, 4.9475, 4.9825]\n",
    "\n",
    "Y_1 = [36675.0, 33971.0, 31674.0, 29679.0, 27416.0, 25215.0, 23659.0, 21985.0, 20087.0, 18943.0, 17778.0, 16429.0, 15087.0, 14345.0, 13408.0, 12229.0, 11187.0, 10586.0, 9989.0, 9179.0, 8867.0, 8150.0, 7491.0, 6904.0, 6441.0, 6098.0, 5658.0, 5384.0, 4973.0, 4727.0, 4356.0, 4148.0, 3855.0, 3671.0, 3476.0, 3245.0, 3123.0, 3026.0, 2983.0, 3053.0, 3249.0, 3432.0, 4073.0, 5292.0, 6468.0, 7349.0, 6865.0, 5031.0, 3139.0, 2031.0, 1422.0, 1164.0, 1059.0, 930.0, 897.0, 784.0, 849.0, 766.0, 721.0, 742.0, 674.0, 692.0, 661.0, 645.0, 564.0, 518.0, 457.0, 413.0, 411.0, 403.0, 386.0, 384.0, 359.0, 317.0, 319.0, 299.0, 277.0, 248.0, 262.0, 238.0, 199.0, 244.0, 231.0, 203.0, 212.0, 205.0, 181.0, 181.0, 165.0, 164.0, 151.0, 154.0, 142.0, 138.0, 127.0, 130.0, 123.0, 113.0, 105.0, 117.0]\n",
    "\n",
    "vMass_OS = hist.Hist(hist.axis.Regular(bins = 100, start = 1.5, stop = 5, name='$m_{\\mu \\mu}$', label = 'X'))\n",
    "vMass_OS.fill(X, weight = Y_1)"
   ]
  },
  {
   "cell_type": "code",
   "execution_count": 3,
   "id": "7de12974-2f8d-4e7a-a22e-431de4547d53",
   "metadata": {},
   "outputs": [],
   "source": [
    "def funcVec(x, N, mu, sig, alphaL, nL, alphaR, nR):\n",
    "    AL = ( nL / np.absolute( alphaL ) )**nL * np.exp( -1 * np.absolute( alphaL )**2 / 2 )\n",
    "    AR = ( nR / np.absolute( alphaR ) )**nR * np.exp( -1 * np.absolute( alphaR )**2 / 2 )\n",
    "    BL = nL / np.absolute( alphaL ) - np.absolute( alphaL )\n",
    "    BR = nR / np.absolute( alphaR ) - np.absolute( alphaR )\n",
    "\n",
    "    return np.piecewise(x, \n",
    "                        [( x - mu )/sig < -1 * alphaL, (( x - mu )/sig >= -1 * alphaL) & (( x - mu )/sig <= alphaR).any() , ( x - mu )/sig > alphaR],\n",
    "                        [lambda x: N * AL * (BL - (( x - mu )/sig))**(-nL), lambda x: N * np.exp(-1 * (( x - mu )/sig)**2 / 2), lambda x: N * AR * (BR + ( x - mu )/sig)**(-nR)])\n",
    "\n",
    "def NA60(x, N, mu, sig, alphaL, p1L, p2L, p3L, alphaR, p1R, p2R, p3R):\n",
    "    return np.piecewise(x, \n",
    "                        [(x - mu)/sig < alphaL, \n",
    "                         ((x - mu)/sig >= alphaL) & ((x - mu)/sig <= alphaR).any() , \n",
    "                         (x - mu)/sig > alphaR],\n",
    "                        [lambda x: N * np.exp(-0.5 * ((x - mu)/sig)**2 / (1 + p1L * (alphaL - (x - mu)/sig)**(p2L - p3L * np.sqrt(alphaL - (x - mu)/sig)))**2), \n",
    "                         lambda x: N * np.exp(-0.5 * ((x - mu)/sig)**2), \n",
    "                         lambda x: N * np.exp(-0.5 * ((x - mu)/sig)**2 / (1 + p1R * (alphaR - (x - mu)/sig)**(p2R - p3R * np.sqrt(alphaR - (x - mu)/sig)))**2)])\n",
    "\n",
    "def VWG(x, N, mu, alpha, beta):\n",
    "    sigma = alpha + beta*((x-mu)/mu)\n",
    "    return N * np.exp(-(x - mu)**2 / (2*sigma**2))\n",
    "\n",
    "def PR(x, N, a1, b1, b2):\n",
    "    return N * (1 + a1*x) / (b1*x + b2*x)\n",
    "\n",
    "def DE(x, N, alpha, beta1, beta2):\n",
    "    return N * (np.exp(beta1*x) + alpha * np.exp(beta2*x))\n",
    "\n",
    "def DE2(x, N, alpha, gamma, beta1, beta2, beta3):\n",
    "    return N * (np.exp(beta1*x) + alpha * np.exp(beta2*x) + gamma * np.exp(beta3*x))\n",
    "\n",
    "def fitFunc2(x,\n",
    "            N1, mu1, sig1, alphaL1, nL1, alphaR1, nR1,\n",
    "            N2, mu2, sig2, alphaL2, nL2, alphaR2, nR2,\n",
    "            N, alpha, gamma, beta1, beta2, beta3):\n",
    "    return funcVec(x, N1, mu1, sig1, alphaL1, nL1, alphaR1, nR1) + funcVec(x, N2, mu2, sig2, alphaL2, nL2, alphaR2, nR2) + DE2(x, N, alpha, gamma, beta1, beta2, beta3)\n",
    "\n",
    "def fitFunc(x,\n",
    "            N1, mu1, sig1, alphaL1, nL1, alphaR1, nR1,\n",
    "            N2, mu2, sig2, alphaL2, nL2, alphaR2, nR2,\n",
    "            Nbg, a1, a2, a3):\n",
    "    return funcVec(x, N1, mu1, sig1, alphaL1, nL1, alphaR1, nR1) + funcVec(x, N2, mu2, sig2, alphaL2, nL2, alphaR2, nR2) + DE(x, Nbg, a1, a2, a3)"
   ]
  },
  {
   "cell_type": "code",
   "execution_count": 4,
   "id": "fe907a3c-115c-4123-b2b8-5c69353f999b",
   "metadata": {},
   "outputs": [],
   "source": [
    "#eps = np.finfo(np.float64).eps\n",
    "#eps = 0.1\n",
    "\n",
    "x_data = np.array(X)\n",
    "y_data = np.array(vMass_OS)\n",
    "#y_error = np.array(np.sqrt(y_data)) + eps\n",
    "y_error = np.array(np.sqrt(y_data))\n",
    "\n",
    "condition = (x_data > 1.9)\n",
    "#condition = True\n",
    "x_filtered = np.ravel(x_data[condition])\n",
    "y_filtered = np.ravel(y_data[condition])\n",
    "y_error_filtered = np.ravel(y_error[condition])\n",
    "\n",
    "x_data = x_filtered\n",
    "y_data = y_filtered\n",
    "y_error = y_error_filtered"
   ]
  },
  {
   "cell_type": "code",
   "execution_count": 23,
   "id": "80e3cdb6-e292-4b9e-8f2a-849d26cec702",
   "metadata": {},
   "outputs": [],
   "source": [
    "\"\"\"p0 = np.array([45495.82873270734, 3.0948049097469124, 0.07328444096670474, 0.9142455163363677, \n",
    "               4.7910964558157785, 1.7597126827730232, 9.732758608176749, 889.2674553435587, \n",
    "               3.678066385549034, 0.08553624671003622, 11.337526631014516, 146.73893885250723, \n",
    "               10.911572881818802, 163.29570256476117, 26989.081283882504, 49.639335099336854, \n",
    "               -0.4819663774691703, -1.6547090353845417])\"\"\"\n",
    "\n",
    "p0 = np.array([5534.708099472125, 3.097527305201937, 0.06694515740769462, 0.858138445292884, \n",
    "               10.903566059719685, 18.19664848741087, 8.141235556827876, 96.200381228583, \n",
    "               3.6981686715671347, 0.05721810746263883, 1.0149071364897841, 22.324893743056005, \n",
    "               2.736747459908999, 1.805251184968137e-05, 3514.620666056445, 238.85659436275319, \n",
    "               -0.7642429951342202, -2.147342236312142])\n",
    "\n",
    "def mklb(p0, var):\n",
    "    return p0*(1-np.sign(p0)*var)\n",
    "\n",
    "def mkub(p0, var):\n",
    "    return p0*(1+np.sign(p0)*var)\n",
    "\n",
    "varbg = np.ones(np.shape(p0[14:]))*1# bg parameters variation factor around p0\n",
    "varpks = np.array([10, 0.05, 0.05, *0.1*np.ones(4)])  # peaks parameters variation factor around p0\n",
    "lb = np.array([*mklb(p0[0:7],varpks), *mklb(p0[7:14],varpks), *mklb(p0[14:],varbg)])\n",
    "ub = np.array([*mkub(p0[0:7],varpks), *mkub(p0[7:14],varpks), *mkub(p0[14:],varbg)])\n",
    "bounds = (lb,ub)"
   ]
  },
  {
   "cell_type": "code",
   "execution_count": 24,
   "id": "3937be46-4973-42fa-be25-6086f86d1bf4",
   "metadata": {},
   "outputs": [
    {
     "name": "stdout",
     "output_type": "stream",
     "text": [
      "popt: \n",
      " [5813.6534402966245, 3.0969493931054806, 0.0673048445101242, 0.8306464316973259, 9.85712944348349, 20.01105229536182, 7.6260679609544955, 102.82967954678962, 3.694412151555921, 0.05855656883306327, 1.0524025199520592, 24.525754699862333, 2.469291554735258, 1.628793301764922e-05, 3005.910650194614, 284.43337499235446, -0.7232769791696421, -2.1046279814053688]\n",
      "pcov: \n",
      " [[ 3.85470505e+03  8.55164885e-03 -2.27616051e-02  2.42414446e-01\n",
      "  -9.28526840e+01 -1.48283724e-07  2.24610292e-07  1.16799743e+02\n",
      "  -6.51947918e-02  9.97949120e-02  1.42912682e+01 -1.87383908e+04\n",
      "  -1.08340412e+02  2.30439380e+01 -6.06874145e+04  5.62539941e+03\n",
      "   4.59215401e+00  5.16783151e-01]\n",
      " [ 8.55164885e-03  1.25736578e-06 -8.34153125e-07 -4.27633594e-05\n",
      "   3.65754490e-03  1.53336399e-12 -2.25643010e-12 -6.17166978e-04\n",
      "   5.99476432e-07 -2.21081384e-07 -7.91182279e-05  1.37374425e-01\n",
      "   1.07505032e-03 -2.50100494e-04  6.37524274e-01 -6.06114514e-02\n",
      "  -5.18155073e-05 -2.55702610e-06]\n",
      " [-2.27616051e-02 -8.34153125e-07  1.22293762e-06  3.96424004e-05\n",
      "  -3.67964482e-03 -2.44020907e-12  3.97185372e-12  6.80252510e-03\n",
      "  -1.21406998e-06  5.78532068e-06  3.27205421e-04 -5.37959692e-01\n",
      "  -2.90458442e-03  5.20797245e-04 -9.59297915e-01  8.86926056e-02\n",
      "   6.34127826e-05  9.09428893e-06]\n",
      " [ 2.42414446e-01 -4.27633594e-05  3.96424004e-05  3.08323192e-03\n",
      "  -3.43209184e-01 -9.87936563e-11  1.49571960e-10  7.77282738e-02\n",
      "  -4.76778507e-05  4.38335474e-05  6.98037733e-03 -1.23743503e+01\n",
      "  -8.17666156e-02  1.84086989e-02 -4.04529082e+01  3.91387247e+00\n",
      "   3.32765730e-03  4.08066623e-05]\n",
      " [-9.28526840e+01  3.65754490e-03 -3.67964482e-03 -3.43209184e-01\n",
      "   5.28278313e+01  3.22721965e-08 -4.72038446e-08 -5.76038732e+00\n",
      "   1.26676273e-02  9.52374270e-04 -1.67050226e+00  2.65628620e+03\n",
      "   2.08713448e+01 -5.02347585e+00  1.34568829e+04 -1.27849802e+03\n",
      "  -1.10463908e+00 -5.51479318e-02]\n",
      " [-1.48283724e-07  1.53336399e-12 -2.44020907e-12 -9.87936563e-11\n",
      "   3.22721965e-08  3.59171600e-16 -4.84958134e-16  2.35457643e-07\n",
      "   4.66177683e-11  2.78533458e-10  5.31273528e-09 -4.29014069e-06\n",
      "   1.37192727e-07 -3.90308021e-08  1.55698885e-04 -1.42963948e-05\n",
      "  -1.25577535e-08 -1.50960944e-09]\n",
      " [ 2.24610292e-07 -2.25643010e-12  3.97185372e-12  1.49571960e-10\n",
      "  -4.72038446e-08 -4.84958134e-16  6.60328644e-16 -2.81768143e-07\n",
      "  -7.68525074e-11 -3.30599493e-10 -2.29023728e-09  1.15612944e-06\n",
      "  -1.92978685e-07  5.35329576e-08 -2.09421087e-04  1.92207223e-05\n",
      "   1.68117227e-08  2.04985439e-09]\n",
      " [ 1.16799743e+02 -6.17166978e-04  6.80252510e-03  7.77282738e-02\n",
      "  -5.76038732e+00  2.35457643e-07 -2.81768143e-07  1.00996894e+03\n",
      "   3.93903168e-02  3.84255288e-01  2.18272788e+01 -3.31418469e+04\n",
      "   1.64272938e+00 -1.57818016e+01  1.07333963e+05 -9.99779459e+03\n",
      "  -9.63192036e+00 -7.38167054e-01]\n",
      " [-6.51947918e-02  5.99476432e-07 -1.21406998e-06 -4.76778507e-05\n",
      "   1.26676273e-02  4.66177683e-11 -7.68525074e-11  3.93903168e-02\n",
      "   3.08488904e-04 -1.78796506e-04 -2.29861495e-02  1.10953485e+01\n",
      "   2.82922508e-02 -6.14328830e-03  1.81826600e+01 -1.66848436e+00\n",
      "  -1.37507951e-03 -1.83941935e-04]\n",
      " [ 9.97949120e-02 -2.21081384e-07  5.78532068e-06  4.38335474e-05\n",
      "   9.52374270e-04  2.78533458e-10 -3.30599493e-10  3.84255288e-01\n",
      "  -1.78796506e-04  9.74027731e-04  5.05328337e-02 -4.14407667e+01\n",
      "   1.80604030e-02 -2.10109201e-02  1.27357325e+02 -1.18395783e+01\n",
      "  -1.12430267e-02 -9.27146079e-04]\n",
      " [ 1.42912682e+01 -7.91182279e-05  3.27205421e-04  6.98037733e-03\n",
      "  -1.67050226e+00  5.31273528e-09 -2.29023728e-09  2.18272788e+01\n",
      "  -2.29861495e-02  5.05328337e-02  6.09492032e+00 -4.15542611e+03\n",
      "  -2.79751172e+00 -9.27250989e-02  3.01408273e+03 -2.82476799e+02\n",
      "  -2.94363010e-01 -1.62917234e-02]\n",
      " [-1.87383908e+04  1.37374425e-01 -5.37959692e-01 -1.23743503e+01\n",
      "   2.65628620e+03 -4.29014069e-06  1.15612944e-06 -3.31418469e+04\n",
      "   1.10953485e+01 -4.14407667e+01 -4.15542611e+03  3.93722762e+06\n",
      "   4.84979759e+03 -2.32239431e+02 -2.53491731e+06  2.39875963e+05\n",
      "   2.70642577e+02  8.33429340e+00]\n",
      " [-1.08340412e+02  1.07505032e-03 -2.90458442e-03 -8.17666156e-02\n",
      "   2.08713448e+01  1.37192727e-07 -1.92978685e-07  1.64272938e+00\n",
      "   2.82922508e-02  1.80604030e-02 -2.79751172e+00  4.84979759e+03\n",
      "   8.77012143e+01 -2.00559449e+01  5.83456621e+04 -5.33506079e+03\n",
      "  -4.51113497e+00 -6.15853940e-01]\n",
      " [ 2.30439380e+01 -2.50100494e-04  5.20797245e-04  1.84086989e-02\n",
      "  -5.02347585e+00 -3.90308021e-08  5.35329576e-08 -1.57818016e+01\n",
      "  -6.14328830e-03 -2.10109201e-02 -9.27250989e-02 -2.32239431e+02\n",
      "  -2.00559449e+01  5.05717066e+00 -1.67982106e+04  1.54157131e+03\n",
      "   1.33598663e+00  1.65539348e-01]\n",
      " [-6.06874145e+04  6.37524274e-01 -9.59297915e-01 -4.04529082e+01\n",
      "   1.34568829e+04  1.55698885e-04 -2.09421087e-04  1.07333963e+05\n",
      "   1.81826600e+01  1.27357325e+02  3.01408273e+03 -2.53491731e+06\n",
      "   5.83456621e+04 -1.67982106e+04  6.76119051e+07 -6.20939819e+06\n",
      "  -5.46464036e+03 -6.52753376e+02]\n",
      " [ 5.62539941e+03 -6.06114514e-02  8.86926056e-02  3.91387247e+00\n",
      "  -1.27849802e+03 -1.42963948e-05  1.92207223e-05 -9.99779459e+03\n",
      "  -1.66848436e+00 -1.18395783e+01 -2.82476799e+02  2.39875963e+05\n",
      "  -5.33506079e+03  1.54157131e+03 -6.20939819e+06  5.70462064e+05\n",
      "   5.02409228e+02  5.95825961e+01]\n",
      " [ 4.59215401e+00 -5.18155073e-05  6.34127826e-05  3.32765730e-03\n",
      "  -1.10463908e+00 -1.25577535e-08  1.68117227e-08 -9.63192036e+00\n",
      "  -1.37507951e-03 -1.12430267e-02 -2.94363010e-01  2.70642577e+02\n",
      "  -4.51113497e+00  1.33598663e+00 -5.46464036e+03  5.02409228e+02\n",
      "   4.44226432e-01  5.16794978e-02]\n",
      " [ 5.16783151e-01 -2.55702610e-06  9.09428893e-06  4.08066623e-05\n",
      "  -5.51479318e-02 -1.50960944e-09  2.04985439e-09 -7.38167054e-01\n",
      "  -1.83941935e-04 -9.27146079e-04 -1.62917234e-02  8.33429340e+00\n",
      "  -6.15853940e-01  1.65539348e-01 -6.52753376e+02  5.95825961e+01\n",
      "   5.16794978e-02  6.98341185e-03]]\n",
      "residual: \n",
      " {'nfev': 139, 'fvec': array([-0.56911887,  1.16139994, -1.35751144, -1.72090474,  0.67302804,\n",
      "        2.59695011,  0.9039391 , -0.37758779,  0.99781231, -2.35285995,\n",
      "       -0.99141435,  0.29703516,  1.29092366,  1.25322929,  0.09345279,\n",
      "        0.56216709, -0.80896587,  0.05258426, -1.0456973 ,  0.04201314,\n",
      "       -0.94635046, -0.24496008, -0.88226375, -0.91857883,  0.18673265,\n",
      "        0.01785258,  0.16761245,  0.35919856, -0.10027219, -0.7919112 ,\n",
      "        1.62327806,  0.54802213, -2.6634569 ,  1.60711209,  0.55391925,\n",
      "       -1.48987695, -0.11054716,  1.51659248, -0.58867231, -0.60096281,\n",
      "       -0.40685532, -0.57796495,  1.35446528,  0.56525739,  2.77801679,\n",
      "       -1.20067053,  0.17812351,  0.46676506, -1.39536963,  0.4904412 ,\n",
      "       -0.23251495,  0.55250287, -0.44675626,  0.27069277, -0.31328659,\n",
      "        0.5041858 ,  1.37280335,  0.36500029, -0.28458886, -0.43431082,\n",
      "       -1.28324108, -0.93068809,  0.44533148, -0.53342909, -0.23524488,\n",
      "        0.25518713,  1.29293203, -0.35698617,  0.4394842 ,  2.48042786,\n",
      "       -1.29243767, -1.10517287,  0.14936127, -1.06090383, -1.15619767,\n",
      "       -0.01660066, -0.55613194,  0.12798685, -0.30214571,  0.24051253,\n",
      "       -0.47563104,  0.04510309, -0.06325267,  0.46489069, -0.222077  ,\n",
      "       -0.00641942,  0.52754359,  0.92634601, -0.59446898])}\n"
     ]
    }
   ],
   "source": [
    "#popt, pcov, nfev, fvec, fjac = curve_fit(fitFunc, xdata = x_data, ydata = y_data, sigma = y_error, method = 'trf', full_output = True)\n",
    "#popt, pcov, nfev, fvec, fjac = curve_fit(fitFunc, xdata = x_data, ydata = y_data, sigma = y_error, p0 = p0, method = 'trf', full_output = True)\n",
    "popt, pcov, nfev, fvec, fjac = curve_fit(fitFunc, xdata = x_data, ydata = y_data, sigma = y_error, p0 = p0, bounds = bounds, method = 'trf', full_output = True)\n",
    "\n",
    "print(\"popt: \\n\", list(popt)) \n",
    "print(\"pcov: \\n\", pcov)\n",
    "print(\"residual: \\n\", nfev)"
   ]
  },
  {
   "cell_type": "code",
   "execution_count": 25,
   "id": "68eca965-475d-4108-8296-09f9a95c99b0",
   "metadata": {},
   "outputs": [
    {
     "name": "stdout",
     "output_type": "stream",
     "text": [
      "fit error : 8492.621010735338\n"
     ]
    },
    {
     "data": {
      "text/plain": [
       "<matplotlib.collections.PolyCollection at 0x7fe59ae32730>"
      ]
     },
     "execution_count": 25,
     "metadata": {},
     "output_type": "execute_result"
    },
    {
     "data": {
      "image/png": "[encoded data removed]",
      "text/plain": [
       "<Figure size 640x480 with 1 Axes>"
      ]
     },
     "metadata": {},
     "output_type": "display_data"
    }
   ],
   "source": [
    "x_data_fit = np.linspace(min(x_data), max(x_data), len(x_data))\n",
    "plt.errorbar(x_data, y_data, y_error, marker='+', mfc='black', mec='black', ms=2, mew=5, ls='')\n",
    "\n",
    "y_data_fit = fitFunc(x_data_fit, *popt)\n",
    "plt.plot(x_data_fit, y_data_fit, '-r')\n",
    "plt.plot(x_data_fit, funcVec(x_data_fit, *popt[:7]), '--b')\n",
    "plt.plot(x_data_fit, funcVec(x_data_fit, *popt[7:14]), '--b')\n",
    "plt.plot(x_data_fit, DE(x_data_fit, *popt[14:18]), '--b')\n",
    "plt.yscale('log')\n",
    "plt.ylim(500, 200000)\n",
    "plt.grid(True)\n",
    "\n",
    "sigmas = np.diag(pcov)\n",
    "e_data_fit = np.sqrt(np.sum(sigmas))\n",
    "print(\"fit error :\", e_data_fit)\n",
    "\n",
    "plt.fill_between(x_data_fit, y_data_fit - e_data_fit, y_data_fit + e_data_fit, color = 'gray', alpha = 0.2)"
   ]
  },
  {
   "cell_type": "code",
   "execution_count": 26,
   "id": "efac2fb7-6359-4827-a088-00629af1e584",
   "metadata": {},
   "outputs": [
    {
     "name": "stdout",
     "output_type": "stream",
     "text": [
      "(1152.9091011456323, 2.1966456415097556e-06)\n"
     ]
    }
   ],
   "source": [
    "print(quad(funcVec, 0, np.inf, args = (*popt[:7], )))"
   ]
  },
  {
   "cell_type": "code",
   "execution_count": 27,
   "id": "e124a154-4fef-4a21-ac34-a7bae6a925bc",
   "metadata": {},
   "outputs": [
    {
     "name": "stdout",
     "output_type": "stream",
     "text": [
      "Signal J/Psi: 1067.6590245344014\n",
      "Bruit : 655.0426872646227\n",
      "RSB J/Psi: 25.723350343239474\n",
      "RSB J/Psi: 1.6299075545638309\n",
      "\n",
      "Signal Psi(2S): 15.843914613659312\n",
      "Bruit : 202.22458941155836\n",
      "RSB Psi(2S): 1.072916739362479\n",
      "RSB Psi(2S): 0.07834811117561225\n"
     ]
    }
   ],
   "source": [
    "mu_JPsi = popt[1]\n",
    "sigma_JPsi = popt[2]\n",
    "start = mu_JPsi - 3*sigma_JPsi\n",
    "stop = mu_JPsi + 3*sigma_JPsi\n",
    "signal_JPsi = quad(funcVec, start, stop, args = (*popt[:7], ))[0]\n",
    "bruit = quad(DE, start, stop, args = (*popt[14:], ))[0]\n",
    "print(\"Signal J/Psi:\", signal_JPsi)\n",
    "print(\"Bruit :\", bruit)\n",
    "print(\"RSB J/Psi:\", signal_JPsi / np.sqrt(signal_JPsi + bruit))\n",
    "print(\"RSB J/Psi:\", signal_JPsi / bruit)\n",
    "\n",
    "mu_Psi  = popt[8]\n",
    "sigma_Psi = popt[9]\n",
    "start = mu_Psi  - 3*sigma_Psi\n",
    "stop = mu_Psi  + 3*sigma_Psi\n",
    "signal_Psi = quad(funcVec, start, stop, args = (*popt[7:14], ))[0]\n",
    "bruit = quad(DE, start, stop, args = (*popt[14:], ))[0]\n",
    "print(\"\\nSignal Psi(2S):\", signal_Psi)\n",
    "print(\"Bruit :\", bruit)\n",
    "print(\"RSB Psi(2S):\", signal_Psi / np.sqrt(signal_Psi + bruit))\n",
    "print(\"RSB Psi(2S):\", signal_Psi / bruit)"
   ]
  },
  {
   "cell_type": "code",
   "execution_count": 28,
   "id": "095ac343-5a8a-4bb8-9701-e2b9605d37d6",
   "metadata": {},
   "outputs": [],
   "source": [
    "perr = np.sqrt(np.diag(pcov))"
   ]
  },
  {
   "cell_type": "code",
   "execution_count": 29,
   "id": "d0f5d4f3-ecf7-46fa-a0d1-e3629096c670",
   "metadata": {},
   "outputs": [
    {
     "name": "stdout",
     "output_type": "stream",
     "text": [
      "85.73867720421846\n"
     ]
    }
   ],
   "source": [
    "r = y_data - fitFunc(x_data, *popt)\n",
    "chi2 = sum((r / y_error) ** 2)\n",
    "print(chi2)"
   ]
  },
  {
   "cell_type": "code",
   "execution_count": 30,
   "id": "88cf4ab5-65db-4089-8890-52ccd3cf719b",
   "metadata": {},
   "outputs": [],
   "source": [
    "ndf = len(x_data) + len(popt) - 1"
   ]
  },
  {
   "cell_type": "code",
   "execution_count": 31,
   "id": "c9082b67-f065-4fda-b158-8ae596b457b4",
   "metadata": {},
   "outputs": [
    {
     "data": {
      "text/plain": [
       "0.8088554453228157"
      ]
     },
     "execution_count": 31,
     "metadata": {},
     "output_type": "execute_result"
    }
   ],
   "source": [
    "chi2 / ndf"
   ]
  },
  {
   "cell_type": "code",
   "execution_count": null,
   "id": "1f36c245-f49f-47e4-a418-0de0c34b951f",
   "metadata": {},
   "outputs": [],
   "source": []
  }
 ],
 "metadata": {
  "kernelspec": {
   "display_name": "Python 3.9 - M2 RPS EXP",
   "language": "python",
   "name": "nantes-m2-rps-exp"
  },
  "language_info": {
   "codemirror_mode": {
    "name": "ipython",
    "version": 3
   },
   "file_extension": ".py",
   "mimetype": "text/x-python",
   "name": "python",
   "nbconvert_exporter": "python",
   "pygments_lexer": "ipython3",
   "version": "3.9.18"
  }
 },
 "nbformat": 4,
 "nbformat_minor": 5
}
