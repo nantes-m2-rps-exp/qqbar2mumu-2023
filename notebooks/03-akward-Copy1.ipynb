{
 "cells": [
  {
   "cell_type": "markdown",
   "id": "15f97d7c-da15-481b-b354-6e66be0628c5",
   "metadata": {},
   "source": [
    "# 1- Introduction"
   ]
  },
  {
   "cell_type": "markdown",
   "id": "7e56b0df-cbf6-452b-b919-4023ad44392c",
   "metadata": {},
   "source": [
    "In this notebook, we will demonstrate how to use the akward table and how to build selector efficiently using lambda's in python"
   ]
  },
  {
   "cell_type": "code",
   "execution_count": 1,
   "id": "943c4485-fcb0-4000-a413-49d81eb3b9dc",
   "metadata": {},
   "outputs": [],
   "source": [
    "import uproot\n",
    "import awkward as ak\n",
    "import numpy as np\n",
    "import math\n",
    "import hist\n",
    "import matplotlib.pyplot as plt\n",
    "import os\n",
    "import subprocess\n",
    "import vector\n",
    "import gc"
   ]
  },
  {
   "cell_type": "markdown",
   "id": "cbaf2d66-96c7-4ca2-b91e-bdb34f06c097",
   "metadata": {},
   "source": [
    "First we need to identify the akward table as vectors"
   ]
  },
  {
   "cell_type": "code",
   "execution_count": 80,
   "id": "cbd5f867-ee55-417f-b59f-874318cd52bb",
   "metadata": {},
   "outputs": [],
   "source": [
    "vector.register_awkward() "
   ]
  },
  {
   "cell_type": "markdown",
   "id": "47902ff2-1d02-4382-b94a-58b9f041f3e3",
   "metadata": {},
   "source": [
    "We then collect the data (either MC or real data)"
   ]
  },
  {
   "cell_type": "code",
   "execution_count": 81,
   "id": "10f3e0ea-d515-42ef-a2af-25819fd9864f",
   "metadata": {},
   "outputs": [],
   "source": [
    "DATATYPE=\"mc\"\n",
    "assert((DATATYPE==\"mc\") or (DATATYPE==\"data\"))\n",
    "BASEDIR=\"/pbs/throng/training/nantes-m2-rps-exp/data\" # basedir where to look for runXXX.DATATYPE.root files\n",
    "IS_MC=True if DATATYPE==\"mc\" else False"
   ]
  },
  {
   "cell_type": "code",
   "execution_count": 82,
   "id": "1bc2367c-343a-4846-953c-84466d08fd10",
   "metadata": {},
   "outputs": [],
   "source": [
    "def data_file_path(run,is_mc=IS_MC,dest=BASEDIR):\n",
    "    datatype=\"mc\" if is_mc else \"data\"\n",
    "    print({dest},\"/run\",{run},\".\",{datatype},\".root\")\n",
    "    return f\"{dest}/run{run}.{datatype}.root\""
   ]
  },
  {
   "cell_type": "code",
   "execution_count": 83,
   "id": "cadaaaf3-b071-49f1-9cbb-50b9aa372282",
   "metadata": {},
   "outputs": [],
   "source": [
    "SAMPLE_RUNS=[291694,291399]"
   ]
  },
  {
   "cell_type": "markdown",
   "id": "9bc53cbc-6ce1-40fc-aa63-1a1fcacb81df",
   "metadata": {},
   "source": [
    "Let's now open the root file and print the content"
   ]
  },
  {
   "cell_type": "code",
   "execution_count": 84,
   "id": "a8bf2254-ba68-4e89-84c0-1f5691035287",
   "metadata": {},
   "outputs": [
    {
     "name": "stdout",
     "output_type": "stream",
     "text": [
      "{'/pbs/throng/training/nantes-m2-rps-exp/data'} /run {291694} . {'mc'} .root\n",
      "name                 | typename                 | interpretation                \n",
      "---------------------+--------------------------+-------------------------------\n",
      "runNumber            | int32_t                  | AsDtype('>i4')\n",
      "xVtx                 | double                   | AsDtype('>f8')\n",
      "yVtx                 | double                   | AsDtype('>f8')\n",
      "zVtx                 | double                   | AsDtype('>f8')\n",
      "isCINT               | bool                     | AsDtype('bool')\n",
      "isCMSL               | bool                     | AsDtype('bool')\n",
      "isCMSH               | bool                     | AsDtype('bool')\n",
      "isCMLL               | bool                     | AsDtype('bool')\n",
      "isCMUL               | bool                     | AsDtype('bool')\n",
      "nMuons               | int32_t                  | AsDtype('>i4')\n",
      "Muon_E               | std::vector<float>       | AsJagged(AsDtype('>f4'), he...\n",
      "Muon_Px              | std::vector<float>       | AsJagged(AsDtype('>f4'), he...\n",
      "Muon_Py              | std::vector<float>       | AsJagged(AsDtype('>f4'), he...\n",
      "Muon_Pz              | std::vector<float>       | AsJagged(AsDtype('>f4'), he...\n",
      "Muon_Charge          | std::vector<int16_t>     | AsJagged(AsDtype('>i2'), he...\n",
      "Muon_thetaAbs        | std::vector<float>       | AsJagged(AsDtype('>f4'), he...\n",
      "Muon_xDCA            | std::vector<double>      | AsJagged(AsDtype('>f8'), he...\n",
      "Muon_yDCA            | std::vector<double>      | AsJagged(AsDtype('>f8'), he...\n",
      "Muon_zDCA            | std::vector<double>      | AsJagged(AsDtype('>f8'), he...\n",
      "Muon_matchedTrgTh... | std::vector<int32_t>     | AsJagged(AsDtype('>i4'), he...\n",
      "Muon_MCHClusterMap   | std::vector<uint32_t>    | AsJagged(AsDtype('>u4'), he...\n",
      "Muon_MTRHitMapTrg    | std::vector<uint32_t>    | AsJagged(AsDtype('>u4'), he...\n",
      "Muon_MTRHitMapTrk    | std::vector<uint32_t>    | AsJagged(AsDtype('>u4'), he...\n",
      "Muon_MCLabel         | std::vector<int32_t>     | AsJagged(AsDtype('>i4'), he...\n",
      "Muon_MCPDGCode       | std::vector<int32_t>     | AsJagged(AsDtype('>i4'), he...\n",
      "name                 | typename                 | interpretation                \n",
      "---------------------+--------------------------+-------------------------------\n",
      "xVtxMC               | double                   | AsDtype('>f8')\n",
      "yVtxMC               | double                   | AsDtype('>f8')\n",
      "zVtxMC               | double                   | AsDtype('>f8')\n",
      "nMuonsGen            | int32_t                  | AsDtype('>i4')\n",
      "Muon_GenE            | std::vector<float>       | AsJagged(AsDtype('>f4'), he...\n",
      "Muon_GenPx           | std::vector<float>       | AsJagged(AsDtype('>f4'), he...\n",
      "Muon_GenPy           | std::vector<float>       | AsJagged(AsDtype('>f4'), he...\n",
      "Muon_GenPz           | std::vector<float>       | AsJagged(AsDtype('>f4'), he...\n",
      "Muon_GenLabel        | std::vector<int32_t>     | AsJagged(AsDtype('>i4'), he...\n",
      "Muon_GenMotherPDG... | std::vector<int32_t>     | AsJagged(AsDtype('>i4'), he...\n"
     ]
    }
   ],
   "source": [
    "file = uproot.open(data_file_path(SAMPLE_RUNS[0],IS_MC))\n",
    "events = file[\"eventsTree\"]\n",
    "eventsGen = file[\"genTree\"]\n",
    "events.show()\n",
    "eventsGen.show()"
   ]
  },
  {
   "cell_type": "markdown",
   "id": "1e3fa135-5bb6-4979-9dca-6281e21ceb07",
   "metadata": {},
   "source": [
    "We will just print here the number of entries (events) in the file for the record"
   ]
  },
  {
   "cell_type": "code",
   "execution_count": 85,
   "id": "cad12c86-befd-446d-9739-463559276a31",
   "metadata": {},
   "outputs": [
    {
     "name": "stdout",
     "output_type": "stream",
     "text": [
      "40000\n",
      "40000\n"
     ]
    }
   ],
   "source": [
    "print(events.num_entries)\n",
    "print(eventsGen.num_entries)"
   ]
  },
  {
   "cell_type": "markdown",
   "id": "a4c1938d-76cb-40be-b9d3-5967f6b75e6c",
   "metadata": {},
   "source": [
    "# 2- 4-momentum vector with akward and selectors"
   ]
  },
  {
   "cell_type": "markdown",
   "id": "06ef45ae-f19e-44ac-a6f1-365774e2049b",
   "metadata": {},
   "source": [
    "It is possible to build akward table as a 4-momentum vector. To do that, you need to use the \"zip\" method whith px, py, pz and E as its 4 first members. You also need to call this table with the following specific name \"Momentum4D\"\n",
    "\n",
    "This allow you in the following to get the kinematics of your tracks quite easily by calling:\n",
    "- .p, .px, .py, .pz, .pt, ... for the momentum\n",
    "- .eta for the pseudo-rapidity\n",
    "- ...\n",
    "\n",
    "Indeed, you can also add more information to the akward table after defining the first 4 members of the table (as you can see below)"
   ]
  },
  {
   "cell_type": "markdown",
   "id": "6e87dd6a-b51f-4874-868d-25807d5f6e5a",
   "metadata": {},
   "source": [
    "We are here implementing a \"getTracks\" function that will be use in the following to select tracks. See here:"
   ]
  },
  {
   "cell_type": "code",
   "execution_count": 86,
   "id": "48e2f3ae-8300-462d-b6e0-10f8dc308068",
   "metadata": {},
   "outputs": [],
   "source": [
    "def getTracks(events):\n",
    "    return ak.zip({\"px\":events[\"Muon_Px\"],\n",
    "                       \"py\":events[\"Muon_Py\"],\n",
    "                       \"pz\":events[\"Muon_Pz\"],\n",
    "                       \"E\":events[\"Muon_E\"],\n",
    "                       \"charge\":events[\"Muon_Charge\"],\n",
    "                       \"thetaAbs\":events[\"Muon_thetaAbs\"],\n",
    "                       \"matched\":events[\"Muon_matchedTrgThreshold\"],\n",
    "                       \"n\":events[\"nMuons\"]},\n",
    "                    with_name='Momentum4D')\n",
    "\n",
    "def getTracksGen(events):\n",
    "    return ak.zip({\"px\":events[\"Muon_GenPx\"],\n",
    "                    \"py\":events[\"Muon_GenPy\"],\n",
    "                    \"pz\":events[\"Muon_GenPz\"],\n",
    "                    \"E\":events[\"Muon_GenE\"],\n",
    "                    \"n\":events[\"nMuonsGen\"],\n",
    "                    \"label\":events[\"Muon_GenLabel\"],\n",
    "                    \"mother\":events[\"Muon_GenMotherPDGCode\"]},\n",
    "                    with_name='Momentum4D')"
   ]
  },
  {
   "cell_type": "markdown",
   "id": "eeafb138-8eed-43a9-ac65-5ec16ef9445e",
   "metadata": {},
   "source": [
    "Now we will design a function to run over the data with uproot. \n",
    "In the iterate, we define all the varaible we want to access for each events\n",
    "\n",
    "We first select good events and track using lambdas in python. What is a good event or a good track will be define later when we call the function \"scan\""
   ]
  },
  {
   "cell_type": "code",
   "execution_count": 87,
   "id": "0eb0f52a-f529-424c-a051-1b99a0f827d6",
   "metadata": {},
   "outputs": [
    {
     "data": {
      "text/plain": [
       "array([[0, 1],\n",
       "       [0, 2],\n",
       "       [1, 2]])"
      ]
     },
     "execution_count": 87,
     "metadata": {},
     "output_type": "execute_result"
    }
   ],
   "source": [
    "#########\n",
    "# My code\n",
    "#########\n",
    "\n",
    "def invariant_mass(pT1,pT2,eta1,eta2,phi1,phi2):\n",
    "    return np.sqrt(2*pT1*pT2*(np.cosh(eta1-eta2)-np.cos(phi1-phi2)))\n",
    "\n",
    "#def invariant_mass(E1,E2,p1,p2):\n",
    "#    return np.sqrt(2*pT1*pT2*(np.cosh(eta1-eta2)-np.cos(phi1-phi2)))\n",
    "\n",
    "def combinations(x):\n",
    "    idx = np.stack(np.triu_indices(len(x), k=1), axis=-1)\n",
    "    return x[idx]\n",
    "combinations(np.arange(3))\n"
   ]
  },
  {
   "cell_type": "code",
   "execution_count": null,
   "id": "6bbcad19-5994-4531-9d79-6919711fd4de",
   "metadata": {},
   "outputs": [],
   "source": []
  },
  {
   "cell_type": "code",
   "execution_count": 88,
   "id": "d7d8b963-b6fb-4746-8a8c-7d7d61d9ed9f",
   "metadata": {},
   "outputs": [
    {
     "name": "stdout",
     "output_type": "stream",
     "text": [
      "['E', 'E2', 'Et', 'Et2', 'GenericClass', 'M', 'M2', 'Mask', 'Mt', 'Mt2', 'ProjectionClass2D', 'ProjectionClass3D', 'ProjectionClass4D', '__abs__', '__abstractmethods__', '__add__', '__and__', '__annotations__', '__array__', '__array_function__', '__array_ufunc__', '__arrow_array__', '__bool__', '__bytes__', '__cast_cpp__', '__class__', '__class_getitem__', '__copy__', '__deepcopy__', '__delattr__', '__delitem__', '__dict__', '__dir__', '__divmod__', '__doc__', '__eq__', '__floordiv__', '__format__', '__ge__', '__getattr__', '__getattribute__', '__getitem__', '__gt__', '__hash__', '__iadd__', '__iand__', '__ifloordiv__', '__ilshift__', '__imatmul__', '__imod__', '__imul__', '__init__', '__init_subclass__', '__invert__', '__ior__', '__ipow__', '__irshift__', '__isub__', '__iter__', '__itruediv__', '__ixor__', '__le__', '__len__', '__lshift__', '__lt__', '__matmul__', '__mod__', '__module__', '__mul__', '__ne__', '__neg__', '__new__', '__or__', '__pos__', '__pow__', '__radd__', '__rand__', '__rdivmod__', '__reduce__', '__reduce_ex__', '__repr__', '__rfloordiv__', '__rlshift__', '__rmatmul__', '__rmod__', '__rmul__', '__ror__', '__rpow__', '__rrshift__', '__rshift__', '__rsub__', '__rtruediv__', '__rxor__', '__setattr__', '__setitem__', '__setstate__', '__sizeof__', '__slots__', '__str__', '__sub__', '__subclasshook__', '__truediv__', '__weakref__', '__xor__', '_abc_impl', '_histogram_module_', '_ipython_key_completions_', '_repr', '_repr_mimebundle_', '_wrap_result', 'add', 'allclose', 'azimuthal', 'behavior', 'beta', 'boost', 'boostCM_of', 'boostCM_of_beta3', 'boostCM_of_p4', 'boostX', 'boostY', 'boostZ', 'boost_beta3', 'boost_p4', 'costheta', 'cottheta', 'cpp_type', 'cross', 'deltaR', 'deltaR2', 'deltaRapidityPhi', 'deltaRapidityPhi2', 'deltaangle', 'deltaeta', 'deltaphi', 'dot', 'e', 'e2', 'energy', 'energy2', 'equal', 'et', 'et2', 'eta', 'fields', 'gamma', 'is_antiparallel', 'is_lightlike', 'is_parallel', 'is_perpendicular', 'is_spacelike', 'is_timelike', 'is_tuple', 'isclose', 'layout', 'lib', 'longitudinal', 'm', 'm2', 'mag', 'mag2', 'mask', 'mass', 'mass2', 'mt', 'mt2', 'nbytes', 'ndim', 'neg2D', 'neg3D', 'neg4D', 'not_equal', 'numba_type', 'p', 'p2', 'phi', 'pseudorapidity', 'pt', 'pt2', 'px', 'py', 'pz', 'rapidity', 'rho', 'rho2', 'rotateX', 'rotateY', 'rotateZ', 'rotate_axis', 'rotate_euler', 'rotate_nautical', 'rotate_quaternion', 'scale', 'scale2D', 'scale3D', 'scale4D', 'show', 'subtract', 't', 't2', 'tau', 'tau2', 'temporal', 'theta', 'to_Vector2D', 'to_Vector3D', 'to_Vector4D', 'to_beta3', 'to_list', 'to_numpy', 'to_rhophi', 'to_rhophieta', 'to_rhophietat', 'to_rhophietatau', 'to_rhophitheta', 'to_rhophithetat', 'to_rhophithetatau', 'to_rhophiz', 'to_rhophizt', 'to_rhophiztau', 'to_xy', 'to_xyeta', 'to_xyetat', 'to_xyetatau', 'to_xytheta', 'to_xythetat', 'to_xythetatau', 'to_xyz', 'to_xyzt', 'to_xyztau', 'tolist', 'transform2D', 'transform3D', 'transform4D', 'transverse_energy', 'transverse_energy2', 'transverse_mass', 'transverse_mass2', 'type', 'typestr', 'unit', 'x', 'y', 'z']\n"
     ]
    }
   ],
   "source": [
    "print(dir(vector.backends.awkward.MomentumArray4D))"
   ]
  },
  {
   "cell_type": "code",
   "execution_count": 89,
   "id": "921099e8-c6a6-4e97-9432-c71257f15f51",
   "metadata": {},
   "outputs": [],
   "source": [
    "import pandas\n",
    "l1 = pandas.read_csv('../data/counters.offline.csv')['run']\n",
    "l2 = [int(e) for e in os.popen(\"ls /pbs/throng/training/nantes-m2-rps-exp/data/ | grep 'mc' | cut -c 4-9\").read().split('\\n')[0:-2]]\n",
    "#list(set(l1) & set(l2))"
   ]
  },
  {
   "cell_type": "code",
   "execution_count": null,
   "id": "ff410520-594f-486f-bc94-e2f3833cfeb4",
   "metadata": {},
   "outputs": [],
   "source": []
  },
  {
   "cell_type": "code",
   "execution_count": null,
   "id": "8e9c4bec-93b3-4732-979d-924d0f3a9bd7",
   "metadata": {},
   "outputs": [],
   "source": []
  },
  {
   "cell_type": "code",
   "execution_count": 90,
   "id": "e0f51803-769d-489c-b82d-04c6ef8c6572",
   "metadata": {},
   "outputs": [],
   "source": [
    "def invariant_mass(part1,part2):\n",
    "    # sum impulsions\n",
    "    px = part1.px+part2.px\n",
    "    py = part1.py+part2.py\n",
    "    pz = part1.pz+part2.pz \n",
    "    E1 = part1.e\n",
    "    E2 = part2.e\n",
    "    return np.sqrt((E1+E2)**2-(px**2+py**2+pz**2))"
   ]
  },
  {
   "cell_type": "code",
   "execution_count": 91,
   "id": "08d9f8f4-dc9e-4121-b0dd-cabfa9132345",
   "metadata": {
    "tags": []
   },
   "outputs": [],
   "source": [
    "def scanGen(dataDescription, \n",
    "              #hMag:hist.Hist, hPhi:hist.Hist, hMinv:hist.Hist,\n",
    "              eventSelector=lambda x:[True]*len(x),\n",
    "              trackSelector=lambda x:[True]*len(x), \n",
    "              verbose:bool=False):\n",
    "    \"\"\" Loop over data to fill the invariant mass histogram.\n",
    "        \n",
    "        :param: dataDescription: is anything uproot.iterate can take.\n",
    "                typical something like run*.data.root:eventsTree in our case\n",
    "        :param: eventSelector: returns an array of bool from an array of events\n",
    "        :param: trackSelector: returns an array of bool from an array of tracks\n",
    "    \"\"\"\n",
    "    \n",
    "    for batch in uproot.iterate(dataDescription,\n",
    "                                [\"nMuonsGen\",\"Muon_GenPx\",\"Muon_GenPy\",\"Muon_GenPz\",\"Muon_GenE\",\"Muon_GenLabel\",\"Muon_GenMotherPDGCode\"],                                \n",
    "                                 report=True):\n",
    "\n",
    "        events=batch[0] # batch[1] is the report info\n",
    "        if len(events) < 1000:\n",
    "            print(\"something is wrong\",batch[1]) # this is a protection for some corrupted input data files \n",
    "            break\n",
    "            \n",
    "        goodEvents = events[eventSelector(events)] \n",
    "        tracks = getTracksGen(events)\n",
    "        goodTracks=tracks[trackSelector(tracks)]\n",
    "        t = goodTracks  # notation\n",
    "         \n",
    "        # JPsi 443\n",
    "        \n",
    "        #print(t)\n",
    "        \n",
    "        NgenJPsi = ak.sum(1*t.mother==443)/2\n",
    "        NgenJPsiN = NgenJPsi/len(t)\n",
    "        \n",
    "        if verbose:\n",
    "            print(batch[1])\n",
    "        gc.collect()\n",
    "\n",
    "        return NgenJPsiN\n",
    "\n"
   ]
  },
  {
   "cell_type": "code",
   "execution_count": 92,
   "id": "8fcb65ef-6318-45fa-b392-8083c621814c",
   "metadata": {},
   "outputs": [],
   "source": [
    "# Ordre de grandeur\n",
    "#Aeps = 0.2386\n",
    "#sigmaJPsi = Nraw*A/(Aeps*5.94)"
   ]
  },
  {
   "cell_type": "code",
   "execution_count": 235,
   "id": "43b800e2-915e-442a-aa66-935ee621c400",
   "metadata": {
    "tags": []
   },
   "outputs": [],
   "source": [
    "def scan(dataDescription,\n",
    "            fminv,\n",
    "            eventSelector=lambda x:[True]*len(x),\n",
    "            trackSelector=lambda x:[True]*len(x), \n",
    "            verbose:bool=False):\n",
    "    \"\"\" Loop over data to fill the invariant mass histogram.\n",
    "        \n",
    "        :param: dataDescription: is anything uproot.iterate can take.\n",
    "                typical something like run*.data.root:eventsTree in our case\n",
    "        :param: eventSelector: returns an array of bool from an array of events\n",
    "        :param: trackSelector: returns an array of bool from an array of tracks\n",
    "    \"\"\"\n",
    "    \n",
    "\n",
    "\n",
    "    \n",
    "    for batch in uproot.iterate(dataDescription,\n",
    "                                [\"isCINT\",\"isCMUL\",\"isCMSL\",\"nMuons\",\"Muon_Px\",\"Muon_Py\",\"Muon_Pz\",\"Muon_E\",\"Muon_Charge\",\"Muon_thetaAbs\",\"Muon_matchedTrgThreshold\"],                                \n",
    "                                 report=True):\n",
    "        events=batch[0] # batch[1] is the report info\n",
    "        if len(events) < 1000:\n",
    "            print(\"something is wrong\",batch[1]) # this is a protection for some corrupted input data files \n",
    "            break\n",
    "            \n",
    "        goodEvents = events[eventSelector(events)] \n",
    "        tracks = getTracks(events)\n",
    "        goodTracks=tracks[trackSelector(tracks)]\n",
    "        t = goodTracks  # notation\n",
    "         \n",
    "        #hMag.fill(ak.flatten(t.p))\n",
    "        #hPhi.fill(ak.flatten(t.phi))\n",
    "\n",
    "        # Keep events with n>=2\n",
    "        n = ak.num(t.charge,axis=1)\n",
    "        tsel = t[n==2]\n",
    "        \n",
    "        # Combinations\n",
    "        C = ak.combinations(tsel,2)\n",
    "        \n",
    "        # Keep opposite charges only    \n",
    "        I = (C[\"0\"].charge+C[\"1\"].charge)==0\n",
    "        \n",
    "        # Compute invariant mass\n",
    "        \n",
    "        minv = invariant_mass(C[\"0\"][I],C[\"1\"][I])\n",
    "        \n",
    "        # Save all minv\n",
    "        np.save(fminv,ak.flatten(minv).to_numpy())\n",
    "        \n",
    "        \n",
    "        #hMinv.fill(ak.flatten(minv))\n",
    "        \n",
    "        # Simple integral\n",
    "        #Nraw = ak.sum(1*(2.7<minv)*(minv<3.4))\n",
    "        \n",
    "        # JPsi: 100140, Psi2s: 49860\n",
    "        #print(\"A.eps=\",(Nraw/len(events))/(100140/150000))\n",
    "        #print(ak.sum([]))\n",
    "        \n",
    "        #NrawN = Nraw/len(events)\n",
    "        \n",
    "        #print(C[\"0\"])\n",
    "        #print(len(C),len(Csel))\n",
    "        #Ccharge = ak.combinations(tsel.charge,2)\n",
    "        #print((ak.to_layout(Ccharge)[0][0]))\n",
    "        #print(ak.sum(Ccharge,axis=1))\n",
    "        #print(C)\n",
    "        #print(ak.num(tsel,axis=1))\n",
    "        \n",
    "        \n",
    "        \n",
    "        #invariant_mass(E1,E2,p1,p2)\n",
    "        #hMinv\n",
    "        #print(type(goodTracks))\n",
    "        #print(dir(vector.backends.awkward.MomentumArray4D))\n",
    "        #print((goodTracks.p))\n",
    "        \n",
    "        \n",
    "        \n",
    "        if verbose:\n",
    "            print(batch[1])\n",
    "        gc.collect()\n"
   ]
  },
  {
   "cell_type": "markdown",
   "id": "73c7ae68-4bc3-4114-b72a-8dd9e99c4b9a",
   "metadata": {
    "tags": []
   },
   "source": [
    "\n",
    "We define now some histograms that we want to plot and run over the data. We do it twice for illustration purposes:\n",
    "- first, we don't give any definition for the eventselector and track selector. This is equivalent to say that all events and all tracks are good\n",
    "- second, we implement some definition for the lambda function to have some selection criteria on our tracks\n"
   ]
  },
  {
   "cell_type": "code",
   "execution_count": 271,
   "id": "97fd5e4b-9a97-42a9-a403-99418d3ac8f0",
   "metadata": {
    "tags": []
   },
   "outputs": [
    {
     "name": "stdout",
     "output_type": "stream",
     "text": [
      "<Report start=0 stop=668105 source='/pbs/throng/training/nantes-m2-rps-exp/data/run290428.data.root:/eventsTree;1'>\n",
      "<Report start=668105 stop=2357952 source='/pbs/throng/training/nantes-m2-rps-exp/data/run291447.data.root:/eventsTree;1'>\n",
      "<Report start=2357952 stop=4950944 source='/pbs/throng/training/nantes-m2-rps-exp/data/run290860.data.root:/eventsTree;1'>\n",
      "<Report start=4950944 stop=7220676 source='/pbs/throng/training/nantes-m2-rps-exp/data/run290860.data.root:/eventsTree;1'>\n"
     ]
    },
    {
     "name": "stderr",
     "output_type": "stream",
     "text": [
      "/pbs/throng/training/nantes-m2-rps-exp/miniconda3/envs/qqbar2mumu/lib/python3.9/site-packages/awkward/_connect/numpy.py:391: RuntimeWarning: invalid value encountered in sqrt\n",
      "  result = impl(*args, **kwargs)\n"
     ]
    },
    {
     "name": "stdout",
     "output_type": "stream",
     "text": [
      "<Report start=7220676 stop=9748758 source='/pbs/throng/training/nantes-m2-rps-exp/data/run292062.data.root:/eventsTree;1'>\n",
      "<Report start=9748758 stop=11212400 source='/pbs/throng/training/nantes-m2-rps-exp/data/run292062.data.root:/eventsTree;1'>\n",
      "<Report start=11212400 stop=13726429 source='/pbs/throng/training/nantes-m2-rps-exp/data/run291453.data.root:/eventsTree;1'>\n",
      "<Report start=13726429 stop=15469803 source='/pbs/throng/training/nantes-m2-rps-exp/data/run291453.data.root:/eventsTree;1'>\n",
      "<Report start=15469803 stop=17107977 source='/pbs/throng/training/nantes-m2-rps-exp/data/run291944.data.root:/eventsTree;1'>\n",
      "<Report start=17107977 stop=18420565 source='/pbs/throng/training/nantes-m2-rps-exp/data/run290467.data.root:/eventsTree;1'>\n",
      "<Report start=18420565 stop=18850601 source='/pbs/throng/training/nantes-m2-rps-exp/data/run290401.data.root:/eventsTree;1'>\n",
      "<Report start=18850601 stop=21433043 source='/pbs/throng/training/nantes-m2-rps-exp/data/run291041.data.root:/eventsTree;1'>\n",
      "<Report start=21433043 stop=22710165 source='/pbs/throng/training/nantes-m2-rps-exp/data/run291041.data.root:/eventsTree;1'>\n",
      "<Report start=22710165 stop=25084845 source='/pbs/throng/training/nantes-m2-rps-exp/data/run291769.data.root:/eventsTree;1'>\n",
      "<Report start=25084845 stop=25967677 source='/pbs/throng/training/nantes-m2-rps-exp/data/run290935.data.root:/eventsTree;1'>\n",
      "<Report start=25967677 stop=26986644 source='/pbs/throng/training/nantes-m2-rps-exp/data/run290764.data.root:/eventsTree;1'>\n",
      "<Report start=26986644 stop=28169465 source='/pbs/throng/training/nantes-m2-rps-exp/data/run291399.data.root:/eventsTree;1'>\n",
      "<Report start=28169465 stop=28789190 source='/pbs/throng/training/nantes-m2-rps-exp/data/run292167.data.root:/eventsTree;1'>\n",
      "<Report start=28789190 stop=31309553 source='/pbs/throng/training/nantes-m2-rps-exp/data/run292160.data.root:/eventsTree;1'>\n",
      "<Report start=31309553 stop=32974331 source='/pbs/throng/training/nantes-m2-rps-exp/data/run292160.data.root:/eventsTree;1'>\n",
      "<Report start=32974331 stop=33968796 source='/pbs/throng/training/nantes-m2-rps-exp/data/run292077.data.root:/eventsTree;1'>\n",
      "<Report start=33968796 stop=34984663 source='/pbs/throng/training/nantes-m2-rps-exp/data/run291005.data.root:/eventsTree;1'>\n",
      "<Report start=34984663 stop=36333151 source='/pbs/throng/training/nantes-m2-rps-exp/data/run291729.data.root:/eventsTree;1'>\n",
      "<Report start=36333151 stop=38672216 source='/pbs/throng/training/nantes-m2-rps-exp/data/run290300.data.root:/eventsTree;1'>\n",
      "<Report start=38672216 stop=39118450 source='/pbs/throng/training/nantes-m2-rps-exp/data/run290375.data.root:/eventsTree;1'>\n",
      "<Report start=39118450 stop=40308171 source='/pbs/throng/training/nantes-m2-rps-exp/data/run292270.data.root:/eventsTree;1'>\n",
      "<Report start=40308171 stop=42447311 source='/pbs/throng/training/nantes-m2-rps-exp/data/run290323.data.root:/eventsTree;1'>\n",
      "<Report start=42447311 stop=44541008 source='/pbs/throng/training/nantes-m2-rps-exp/data/run291590.data.root:/eventsTree;1'>\n",
      "<Report start=44541008 stop=47289066 source='/pbs/throng/training/nantes-m2-rps-exp/data/run290501.data.root:/eventsTree;1'>\n",
      "<Report start=47289066 stop=48105262 source='/pbs/throng/training/nantes-m2-rps-exp/data/run290501.data.root:/eventsTree;1'>\n",
      "<Report start=48105262 stop=49496961 source='/pbs/throng/training/nantes-m2-rps-exp/data/run290696.data.root:/eventsTree;1'>\n",
      "<Report start=49496961 stop=49898685 source='/pbs/throng/training/nantes-m2-rps-exp/data/run290774.data.root:/eventsTree;1'>\n",
      "<Report start=49898685 stop=51926294 source='/pbs/throng/training/nantes-m2-rps-exp/data/run292168.data.root:/eventsTree;1'>\n",
      "<Report start=51926294 stop=54109533 source='/pbs/throng/training/nantes-m2-rps-exp/data/run291976.data.root:/eventsTree;1'>\n",
      "<Report start=54109533 stop=56447620 source='/pbs/throng/training/nantes-m2-rps-exp/data/run291943.data.root:/eventsTree;1'>\n",
      "<Report start=56447620 stop=57614959 source='/pbs/throng/training/nantes-m2-rps-exp/data/run290350.data.root:/eventsTree;1'>\n",
      "<Report start=57614959 stop=58657340 source='/pbs/throng/training/nantes-m2-rps-exp/data/run290766.data.root:/eventsTree;1'>\n",
      "<Report start=58657340 stop=59343908 source='/pbs/throng/training/nantes-m2-rps-exp/data/run290612.data.root:/eventsTree;1'>\n",
      "<Report start=59343908 stop=59908136 source='/pbs/throng/training/nantes-m2-rps-exp/data/run291796.data.root:/eventsTree;1'>\n",
      "<Report start=59908136 stop=62383844 source='/pbs/throng/training/nantes-m2-rps-exp/data/run291263.data.root:/eventsTree;1'>\n",
      "<Report start=62383844 stop=64859552 source='/pbs/throng/training/nantes-m2-rps-exp/data/run291263.data.root:/eventsTree;1'>\n",
      "<Report start=64859552 stop=64890488 source='/pbs/throng/training/nantes-m2-rps-exp/data/run291263.data.root:/eventsTree;1'>\n",
      "<Report start=64890488 stop=66845371 source='/pbs/throng/training/nantes-m2-rps-exp/data/run291755.data.root:/eventsTree;1'>\n",
      "<Report start=66845371 stop=67738956 source='/pbs/throng/training/nantes-m2-rps-exp/data/run290427.data.root:/eventsTree;1'>\n",
      "<Report start=67738956 stop=68364319 source='/pbs/throng/training/nantes-m2-rps-exp/data/run290632.data.root:/eventsTree;1'>\n",
      "<Report start=68364319 stop=68967121 source='/pbs/throng/training/nantes-m2-rps-exp/data/run290538.data.root:/eventsTree;1'>\n",
      "<Report start=68967121 stop=69382648 source='/pbs/throng/training/nantes-m2-rps-exp/data/run291110.data.root:/eventsTree;1'>\n",
      "<Report start=69382648 stop=69912266 source='/pbs/throng/training/nantes-m2-rps-exp/data/run291485.data.root:/eventsTree;1'>\n",
      "<Report start=69912266 stop=70184155 source='/pbs/throng/training/nantes-m2-rps-exp/data/run290895.data.root:/eventsTree;1'>\n",
      "<Report start=70184155 stop=71213253 source='/pbs/throng/training/nantes-m2-rps-exp/data/run291692.data.root:/eventsTree;1'>\n",
      "<Report start=71213253 stop=71973979 source='/pbs/throng/training/nantes-m2-rps-exp/data/run291626.data.root:/eventsTree;1'>\n",
      "<Report start=71973979 stop=73119615 source='/pbs/throng/training/nantes-m2-rps-exp/data/run290787.data.root:/eventsTree;1'>\n",
      "<Report start=73119615 stop=73471445 source='/pbs/throng/training/nantes-m2-rps-exp/data/run290980.data.root:/eventsTree;1'>\n",
      "<Report start=73471445 stop=74930135 source='/pbs/throng/training/nantes-m2-rps-exp/data/run290853.data.root:/eventsTree;1'>\n",
      "<Report start=74930135 stop=76002819 source='/pbs/throng/training/nantes-m2-rps-exp/data/run291363.data.root:/eventsTree;1'>\n",
      "<Report start=76002819 stop=76793499 source='/pbs/throng/training/nantes-m2-rps-exp/data/run290894.data.root:/eventsTree;1'>\n",
      "<Report start=76793499 stop=78313096 source='/pbs/throng/training/nantes-m2-rps-exp/data/run292080.data.root:/eventsTree;1'>\n",
      "<Report start=78313096 stop=79404568 source='/pbs/throng/training/nantes-m2-rps-exp/data/run292166.data.root:/eventsTree;1'>\n",
      "<Report start=79404568 stop=80676774 source='/pbs/throng/training/nantes-m2-rps-exp/data/run290254.data.root:/eventsTree;1'>\n",
      "<Report start=80676774 stop=80809608 source='/pbs/throng/training/nantes-m2-rps-exp/data/run291037.data.root:/eventsTree;1'>\n",
      "<Report start=80809608 stop=81203073 source='/pbs/throng/training/nantes-m2-rps-exp/data/run290293.data.root:/eventsTree;1'>\n",
      "<Report start=81203073 stop=82197351 source='/pbs/throng/training/nantes-m2-rps-exp/data/run291614.data.root:/eventsTree;1'>\n",
      "<Report start=82197351 stop=82590028 source='/pbs/throng/training/nantes-m2-rps-exp/data/run290615.data.root:/eventsTree;1'>\n",
      "<Report start=82590028 stop=84018700 source='/pbs/throng/training/nantes-m2-rps-exp/data/run292163.data.root:/eventsTree;1'>\n",
      "<Report start=84018700 stop=84452783 source='/pbs/throng/training/nantes-m2-rps-exp/data/run291285.data.root:/eventsTree;1'>\n",
      "<Report start=84452783 stop=85575437 source='/pbs/throng/training/nantes-m2-rps-exp/data/run291283.data.root:/eventsTree;1'>\n",
      "<Report start=85575437 stop=86237977 source='/pbs/throng/training/nantes-m2-rps-exp/data/run291417.data.root:/eventsTree;1'>\n",
      "<Report start=86237977 stop=87039181 source='/pbs/throng/training/nantes-m2-rps-exp/data/run291402.data.root:/eventsTree;1'>\n",
      "<Report start=87039181 stop=88102774 source='/pbs/throng/training/nantes-m2-rps-exp/data/run291618.data.root:/eventsTree;1'>\n",
      "<Report start=88102774 stop=90637559 source='/pbs/throng/training/nantes-m2-rps-exp/data/run290692.data.root:/eventsTree;1'>\n",
      "<Report start=90637559 stop=91599244 source='/pbs/throng/training/nantes-m2-rps-exp/data/run290692.data.root:/eventsTree;1'>\n",
      "<Report start=91599244 stop=92803155 source='/pbs/throng/training/nantes-m2-rps-exp/data/run291698.data.root:/eventsTree;1'>\n",
      "<Report start=92803155 stop=95333593 source='/pbs/throng/training/nantes-m2-rps-exp/data/run292240.data.root:/eventsTree;1'>\n",
      "<Report start=95333593 stop=95815042 source='/pbs/throng/training/nantes-m2-rps-exp/data/run292240.data.root:/eventsTree;1'>\n",
      "<Report start=95815042 stop=98153448 source='/pbs/throng/training/nantes-m2-rps-exp/data/run290742.data.root:/eventsTree;4'>\n",
      "<Report start=98153448 stop=99120130 source='/pbs/throng/training/nantes-m2-rps-exp/data/run290423.data.root:/eventsTree;1'>\n",
      "<Report start=99120130 stop=100502140 source='/pbs/throng/training/nantes-m2-rps-exp/data/run290932.data.root:/eventsTree;1'>\n",
      "<Report start=100502140 stop=103084213 source='/pbs/throng/training/nantes-m2-rps-exp/data/run291002.data.root:/eventsTree;1'>\n",
      "<Report start=103084213 stop=103802500 source='/pbs/throng/training/nantes-m2-rps-exp/data/run291002.data.root:/eventsTree;1'>\n",
      "<Report start=103802500 stop=104771828 source='/pbs/throng/training/nantes-m2-rps-exp/data/run291416.data.root:/eventsTree;1'>\n",
      "<Report start=104771828 stop=106469852 source='/pbs/throng/training/nantes-m2-rps-exp/data/run291982.data.root:/eventsTree;1'>\n",
      "<Report start=106469852 stop=106888607 source='/pbs/throng/training/nantes-m2-rps-exp/data/run291373.data.root:/eventsTree;1'>\n",
      "<Report start=106888607 stop=107243429 source='/pbs/throng/training/nantes-m2-rps-exp/data/run292114.data.root:/eventsTree;1'>\n",
      "<Report start=107243429 stop=109816872 source='/pbs/throng/training/nantes-m2-rps-exp/data/run290848.data.root:/eventsTree;1'>\n",
      "<Report start=109816872 stop=110039142 source='/pbs/throng/training/nantes-m2-rps-exp/data/run290848.data.root:/eventsTree;1'>\n",
      "<Report start=110039142 stop=111384968 source='/pbs/throng/training/nantes-m2-rps-exp/data/run292106.data.root:/eventsTree;1'>\n",
      "<Report start=111384968 stop=112459710 source='/pbs/throng/training/nantes-m2-rps-exp/data/run291451.data.root:/eventsTree;1'>\n",
      "<Report start=112459710 stop=113726127 source='/pbs/throng/training/nantes-m2-rps-exp/data/run290776.data.root:/eventsTree;1'>\n",
      "<Report start=113726127 stop=113916522 source='/pbs/throng/training/nantes-m2-rps-exp/data/run290327.data.root:/eventsTree;1'>\n",
      "<Report start=113916522 stop=114824927 source='/pbs/throng/training/nantes-m2-rps-exp/data/run292242.data.root:/eventsTree;1'>\n",
      "<Report start=114824927 stop=116057716 source='/pbs/throng/training/nantes-m2-rps-exp/data/run291694.data.root:/eventsTree;1'>\n",
      "<Report start=116057716 stop=118579181 source='/pbs/throng/training/nantes-m2-rps-exp/data/run290590.data.root:/eventsTree;1'>\n",
      "<Report start=118579181 stop=118623145 source='/pbs/throng/training/nantes-m2-rps-exp/data/run290590.data.root:/eventsTree;1'>\n",
      "<Report start=118623145 stop=121140614 source='/pbs/throng/training/nantes-m2-rps-exp/data/run291456.data.root:/eventsTree;1'>\n",
      "<Report start=121140614 stop=123173901 source='/pbs/throng/training/nantes-m2-rps-exp/data/run291456.data.root:/eventsTree;1'>\n",
      "<Report start=123173901 stop=125705972 source='/pbs/throng/training/nantes-m2-rps-exp/data/run292115.data.root:/eventsTree;1'>\n",
      "<Report start=125705972 stop=126379514 source='/pbs/throng/training/nantes-m2-rps-exp/data/run292115.data.root:/eventsTree;1'>\n",
      "<Report start=126379514 stop=126689223 source='/pbs/throng/training/nantes-m2-rps-exp/data/run290420.data.root:/eventsTree;1'>\n",
      "<Report start=126689223 stop=126742310 source='/pbs/throng/training/nantes-m2-rps-exp/data/run291953.data.root:/eventsTree;1'>\n",
      "<Report start=126742310 stop=129280426 source='/pbs/throng/training/nantes-m2-rps-exp/data/run290469.data.root:/eventsTree;1'>\n",
      "<Report start=129280426 stop=129721930 source='/pbs/throng/training/nantes-m2-rps-exp/data/run290469.data.root:/eventsTree;1'>\n",
      "<Report start=129721930 stop=132057351 source='/pbs/throng/training/nantes-m2-rps-exp/data/run291066.data.root:/eventsTree;1'>\n",
      "<Report start=132057351 stop=132537818 source='/pbs/throng/training/nantes-m2-rps-exp/data/run290544.data.root:/eventsTree;1'>\n",
      "<Report start=132537818 stop=132814725 source='/pbs/throng/training/nantes-m2-rps-exp/data/run291625.data.root:/eventsTree;1'>\n",
      "<Report start=132814725 stop=135347955 source='/pbs/throng/training/nantes-m2-rps-exp/data/run291948.data.root:/eventsTree;1'>\n",
      "<Report start=135347955 stop=135603160 source='/pbs/throng/training/nantes-m2-rps-exp/data/run291948.data.root:/eventsTree;1'>\n",
      "<Report start=135603160 stop=135897988 source='/pbs/throng/training/nantes-m2-rps-exp/data/run290297.data.root:/eventsTree;1'>\n",
      "<Report start=135897988 stop=136503117 source='/pbs/throng/training/nantes-m2-rps-exp/data/run290721.data.root:/eventsTree;1'>\n",
      "<Report start=136503117 stop=137215493 source='/pbs/throng/training/nantes-m2-rps-exp/data/run290421.data.root:/eventsTree;1'>\n",
      "<Report start=137215493 stop=138043070 source='/pbs/throng/training/nantes-m2-rps-exp/data/run290411.data.root:/eventsTree;1'>\n",
      "<Report start=138043070 stop=138437734 source='/pbs/throng/training/nantes-m2-rps-exp/data/run290418.data.root:/eventsTree;1'>\n",
      "<Report start=138437734 stop=140095464 source='/pbs/throng/training/nantes-m2-rps-exp/data/run292012.data.root:/eventsTree;1'>\n",
      "<Report start=140095464 stop=142470503 source='/pbs/throng/training/nantes-m2-rps-exp/data/run291284.data.root:/eventsTree;1'>\n",
      "<Report start=142470503 stop=143836875 source='/pbs/throng/training/nantes-m2-rps-exp/data/run291657.data.root:/eventsTree;1'>\n",
      "<Report start=143836875 stop=146313453 source='/pbs/throng/training/nantes-m2-rps-exp/data/run291482.data.root:/eventsTree;1'>\n",
      "<Report start=146313453 stop=146544458 source='/pbs/throng/training/nantes-m2-rps-exp/data/run291482.data.root:/eventsTree;1'>\n",
      "<Report start=146544458 stop=147291365 source='/pbs/throng/training/nantes-m2-rps-exp/data/run291803.data.root:/eventsTree;1'>\n",
      "<Report start=147291365 stop=150012391 source='/pbs/throng/training/nantes-m2-rps-exp/data/run290687.data.root:/eventsTree;1'>\n",
      "<Report start=150012391 stop=150550548 source='/pbs/throng/training/nantes-m2-rps-exp/data/run290614.data.root:/eventsTree;1'>\n",
      "<Report start=150550548 stop=152259245 source='/pbs/throng/training/nantes-m2-rps-exp/data/run290665.data.root:/eventsTree;1'>\n",
      "<Report start=152259245 stop=154794499 source='/pbs/throng/training/nantes-m2-rps-exp/data/run290425.data.root:/eventsTree;1'>\n",
      "<Report start=154794499 stop=154991056 source='/pbs/throng/training/nantes-m2-rps-exp/data/run290425.data.root:/eventsTree;1'>\n",
      "<Report start=154991056 stop=155242924 source='/pbs/throng/training/nantes-m2-rps-exp/data/run291282.data.root:/eventsTree;1'>\n",
      "<Report start=155242924 stop=155836752 source='/pbs/throng/training/nantes-m2-rps-exp/data/run290627.data.root:/eventsTree;1'>\n",
      "<Report start=155836752 stop=158268871 source='/pbs/throng/training/nantes-m2-rps-exp/data/run290660.data.root:/eventsTree;1'>\n",
      "<Report start=158268871 stop=158488971 source='/pbs/throng/training/nantes-m2-rps-exp/data/run291065.data.root:/eventsTree;1'>\n",
      "<Report start=158488971 stop=159352620 source='/pbs/throng/training/nantes-m2-rps-exp/data/run291942.data.root:/eventsTree;1'>\n",
      "<Report start=159352620 stop=159588383 source='/pbs/throng/training/nantes-m2-rps-exp/data/run290948.data.root:/eventsTree;1'>\n",
      "<Report start=159588383 stop=159804485 source='/pbs/throng/training/nantes-m2-rps-exp/data/run292140.data.root:/eventsTree;1'>\n",
      "<Report start=159804485 stop=160432280 source='/pbs/throng/training/nantes-m2-rps-exp/data/run291446.data.root:/eventsTree;1'>\n",
      "<Report start=160432280 stop=161905518 source='/pbs/throng/training/nantes-m2-rps-exp/data/run290539.data.root:/eventsTree;1'>\n",
      "<Report start=161905518 stop=162921846 source='/pbs/throng/training/nantes-m2-rps-exp/data/run290976.data.root:/eventsTree;1'>\n",
      "<Report start=162921846 stop=163150008 source='/pbs/throng/training/nantes-m2-rps-exp/data/run292269.data.root:/eventsTree;1'>\n",
      "<Report start=163150008 stop=163643168 source='/pbs/throng/training/nantes-m2-rps-exp/data/run290862.data.root:/eventsTree;1'>\n",
      "<Report start=163643168 stop=166111559 source='/pbs/throng/training/nantes-m2-rps-exp/data/run291360.data.root:/eventsTree;1'>\n",
      "<Report start=166111559 stop=166700444 source='/pbs/throng/training/nantes-m2-rps-exp/data/run291360.data.root:/eventsTree;1'>\n",
      "<Report start=166700444 stop=167895286 source='/pbs/throng/training/nantes-m2-rps-exp/data/run290699.data.root:/eventsTree;1'>\n",
      "<Report start=167895286 stop=170063196 source='/pbs/throng/training/nantes-m2-rps-exp/data/run290549.data.root:/eventsTree;1'>\n",
      "<Report start=170063196 stop=170955754 source='/pbs/throng/training/nantes-m2-rps-exp/data/run290499.data.root:/eventsTree;1'>\n",
      "<Report start=170955754 stop=172049929 source='/pbs/throng/training/nantes-m2-rps-exp/data/run291945.data.root:/eventsTree;1'>\n",
      "<Report start=172049929 stop=172315344 source='/pbs/throng/training/nantes-m2-rps-exp/data/run292162.data.root:/eventsTree;1'>\n",
      "<Report start=172315344 stop=173669188 source='/pbs/throng/training/nantes-m2-rps-exp/data/run292274.data.root:/eventsTree;1'>\n",
      "<Report start=173669188 stop=174681516 source='/pbs/throng/training/nantes-m2-rps-exp/data/run291419.data.root:/eventsTree;1'>\n",
      "<Report start=174681516 stop=175089116 source='/pbs/throng/training/nantes-m2-rps-exp/data/run290892.data.root:/eventsTree;1'>\n",
      "<Report start=175089116 stop=175646807 source='/pbs/throng/training/nantes-m2-rps-exp/data/run291361.data.root:/eventsTree;1'>\n",
      "<Report start=175646807 stop=176165114 source='/pbs/throng/training/nantes-m2-rps-exp/data/run290456.data.root:/eventsTree;1'>\n",
      "<Report start=176165114 stop=178756083 source='/pbs/throng/training/nantes-m2-rps-exp/data/run291004.data.root:/eventsTree;1'>\n",
      "<Report start=178756083 stop=179489897 source='/pbs/throng/training/nantes-m2-rps-exp/data/run291004.data.root:/eventsTree;1'>\n",
      "<Report start=179489897 stop=179722222 source='/pbs/throng/training/nantes-m2-rps-exp/data/run291100.data.root:/eventsTree;1'>\n",
      "<Report start=179722222 stop=181091277 source='/pbs/throng/training/nantes-m2-rps-exp/data/run291457.data.root:/eventsTree;1'>\n",
      "<Report start=181091277 stop=181841920 source='/pbs/throng/training/nantes-m2-rps-exp/data/run290944.data.root:/eventsTree;1'>\n",
      "<Report start=181841920 stop=183550328 source='/pbs/throng/training/nantes-m2-rps-exp/data/run290553.data.root:/eventsTree;1'>\n",
      "<Report start=183550328 stop=183759181 source='/pbs/throng/training/nantes-m2-rps-exp/data/run290658.data.root:/eventsTree;1'>\n",
      "<Report start=183759181 stop=184379619 source='/pbs/throng/training/nantes-m2-rps-exp/data/run291690.data.root:/eventsTree;1'>\n",
      "<Report start=184379619 stop=186566941 source='/pbs/throng/training/nantes-m2-rps-exp/data/run291362.data.root:/eventsTree;1'>\n",
      "<Report start=186566941 stop=189102836 source='/pbs/throng/training/nantes-m2-rps-exp/data/run290459.data.root:/eventsTree;1'>\n",
      "<Report start=189102836 stop=191423165 source='/pbs/throng/training/nantes-m2-rps-exp/data/run290459.data.root:/eventsTree;1'>\n",
      "<Report start=191423165 stop=192124471 source='/pbs/throng/training/nantes-m2-rps-exp/data/run292161.data.root:/eventsTree;1'>\n",
      "<Report start=192124471 stop=194466241 source='/pbs/throng/training/nantes-m2-rps-exp/data/run290975.data.root:/eventsTree;1'>\n",
      "<Report start=194466241 stop=196640449 source='/pbs/throng/training/nantes-m2-rps-exp/data/run291003.data.root:/eventsTree;1'>\n",
      "<Report start=196640449 stop=197937253 source='/pbs/throng/training/nantes-m2-rps-exp/data/run290540.data.root:/eventsTree;1'>\n",
      "<Report start=197937253 stop=198190843 source='/pbs/throng/training/nantes-m2-rps-exp/data/run292192.data.root:/eventsTree;1'>\n",
      "<Report start=198190843 stop=200185167 source='/pbs/throng/training/nantes-m2-rps-exp/data/run292397.data.root:/eventsTree;1'>\n",
      "<Report start=200185167 stop=200451380 source='/pbs/throng/training/nantes-m2-rps-exp/data/run292164.data.root:/eventsTree;1'>\n",
      "<Report start=200451380 stop=200884283 source='/pbs/throng/training/nantes-m2-rps-exp/data/run290613.data.root:/eventsTree;1'>\n",
      "<Report start=200884283 stop=202042899 source='/pbs/throng/training/nantes-m2-rps-exp/data/run292108.data.root:/eventsTree;1'>\n",
      "<Report start=202042899 stop=203030441 source='/pbs/throng/training/nantes-m2-rps-exp/data/run291622.data.root:/eventsTree;1'>\n",
      "<Report start=203030441 stop=203673206 source='/pbs/throng/training/nantes-m2-rps-exp/data/run291265.data.root:/eventsTree;1'>\n",
      "<Report start=203673206 stop=204661193 source='/pbs/throng/training/nantes-m2-rps-exp/data/run292109.data.root:/eventsTree;1'>\n",
      "<Report start=204661193 stop=204706354 source='/pbs/throng/training/nantes-m2-rps-exp/data/run291760.data.root:/eventsTree;1'>\n",
      "<Report start=204706354 stop=205823646 source='/pbs/throng/training/nantes-m2-rps-exp/data/run291400.data.root:/eventsTree;1'>\n",
      "<Report start=205823646 stop=208353566 source='/pbs/throng/training/nantes-m2-rps-exp/data/run292273.data.root:/eventsTree;1'>\n",
      "<Report start=208353566 stop=209075823 source='/pbs/throng/training/nantes-m2-rps-exp/data/run292273.data.root:/eventsTree;1'>\n",
      "<Report start=209075823 stop=210887187 source='/pbs/throng/training/nantes-m2-rps-exp/data/run291035.data.root:/eventsTree;1'>\n",
      "<Report start=210887187 stop=212831106 source='/pbs/throng/training/nantes-m2-rps-exp/data/run292060.data.root:/eventsTree;1'>\n",
      "<Report start=212831106 stop=214573170 source='/pbs/throng/training/nantes-m2-rps-exp/data/run291624.data.root:/eventsTree;1'>\n",
      "<Report start=214573170 stop=217118771 source='/pbs/throng/training/nantes-m2-rps-exp/data/run290404.data.root:/eventsTree;1'>\n",
      "<Report start=217118771 stop=217328355 source='/pbs/throng/training/nantes-m2-rps-exp/data/run290404.data.root:/eventsTree;1'>\n",
      "<Report start=217328355 stop=217680657 source='/pbs/throng/training/nantes-m2-rps-exp/data/run290790.data.root:/eventsTree;1'>\n",
      "<Report start=217680657 stop=218790486 source='/pbs/throng/training/nantes-m2-rps-exp/data/run290374.data.root:/eventsTree;1'>\n",
      "<Report start=218790486 stop=219217508 source='/pbs/throng/training/nantes-m2-rps-exp/data/run290458.data.root:/eventsTree;1'>\n",
      "<Report start=219217508 stop=221741556 source='/pbs/throng/training/nantes-m2-rps-exp/data/run292040.data.root:/eventsTree;1'>\n",
      "<Report start=221741556 stop=221912927 source='/pbs/throng/training/nantes-m2-rps-exp/data/run292040.data.root:/eventsTree;1'>\n",
      "<Report start=221912927 stop=222239784 source='/pbs/throng/training/nantes-m2-rps-exp/data/run291795.data.root:/eventsTree;1'>\n",
      "<Report start=222239784 stop=223181132 source='/pbs/throng/training/nantes-m2-rps-exp/data/run291615.data.root:/eventsTree;1'>\n",
      "<Report start=223181132 stop=224510811 source='/pbs/throng/training/nantes-m2-rps-exp/data/run292061.data.root:/eventsTree;1'>\n",
      "<Report start=224510811 stop=226884762 source='/pbs/throng/training/nantes-m2-rps-exp/data/run291706.data.root:/eventsTree;1'>\n",
      "<Report start=226884762 stop=229249239 source='/pbs/throng/training/nantes-m2-rps-exp/data/run292075.data.root:/eventsTree;1'>\n",
      "<Report start=229249239 stop=229703913 source='/pbs/throng/training/nantes-m2-rps-exp/data/run292241.data.root:/eventsTree;1'>\n",
      "<Report start=229703913 stop=230606727 source='/pbs/throng/training/nantes-m2-rps-exp/data/run292265.data.root:/eventsTree;1'>\n",
      "<Report start=230606727 stop=231261195 source='/pbs/throng/training/nantes-m2-rps-exp/data/run292081.data.root:/eventsTree;1'>\n",
      "CPU times: user 8min 33s, sys: 11.9 s, total: 8min 45s\n",
      "Wall time: 13min 59s\n"
     ]
    }
   ],
   "source": [
    "%%time\n",
    "## SINGLE MUON TRACK PLOTS\n",
    "#No cuts\n",
    "\n",
    "#scan(dataDescription=f\"{BASEDIR}/run*.{DATATYPE}.root:eventsTree\",\n",
    "#          hMag=vhMagRaw, hPhi=vhPhiRaw)\n",
    "\n",
    "#runid = \"2904[1-3]*\"\n",
    "runid = \"*\"\n",
    "'''\n",
    "NgenN = scanGen(dataDescription=f\"{BASEDIR}/run{runid}.mc.root:genTree\",\n",
    "          #hMag=vhMagEvSel, hPhi=vhPhiEvSel, hMinv=vhMinvEvSel,\n",
    "          #eventSelector=lambda x: x[\"isCMUL\"]==True,\n",
    "          #trackSelector=lambda x: (x.p>5) & (x.eta>-4),\n",
    "         verbose=True\n",
    "    )\n",
    "'''\n",
    "os.system(\"> minv.dat\")\n",
    "f = open(\"minv.npy\",\"ab\")\n",
    "scan(dataDescription=f\"{BASEDIR}/run{runid}.data.root:eventsTree\",\n",
    "        fminv=f,\n",
    "        eventSelector=lambda x: x[\"isCMUL\"]==True,\n",
    "        #trackSelector=lambda x: (x.p>5) & (x.eta>-4),\n",
    "        verbose=True\n",
    "    )\n",
    "f.close()\n",
    "\n",
    "#print(NrawN/NgenN)"
   ]
  },
  {
   "cell_type": "code",
   "execution_count": 2,
   "id": "4f91799d-5103-423b-a7d8-6a6640c19265",
   "metadata": {},
   "outputs": [],
   "source": [
    "nbin = 200\n",
    "minvmin = 1.0\n",
    "minvmax = 5.0\n",
    "hminv = hist.Hist(hist.axis.Regular(bins=nbin,start=minvmin,stop=minvmax,name='$m\\mu\\mu$'))\n",
    "\n",
    "f = open('minv.npy', 'rb')\n",
    "for i in range(166):\n",
    "    A = np.load(f)\n",
    "    #print(A)\n",
    "    hminv.fill(A)\n",
    "f.close()"
   ]
  },
  {
   "cell_type": "code",
   "execution_count": 335,
   "id": "60bd3200-fc0d-4486-a0ea-8b5fcc2a66f3",
   "metadata": {},
   "outputs": [
    {
     "name": "stdout",
     "output_type": "stream",
     "text": [
      "params:  [ 9.99816277e+02  2.89000055e+00  1.34616879e-07  1.00000000e+01\n",
      "  3.00000000e+00  5.92022582e-01  5.35265688e-01  1.33043360e+01\n",
      " -1.25880172e-01  5.10692579e-01 -2.03436382e-03]\n"
     ]
    }
   ],
   "source": [
    "#####\n",
    "# Fit\n",
    "#####\n",
    "import numpy as np\n",
    "from scipy.optimize import curve_fit\n",
    "import matplotlib.pyplot as plt\n",
    "\n",
    "def bgVWG(x, N, mu, alpha, beta):\n",
    "    X = (x-mu)/mu\n",
    "    sig = alpha + beta*X\n",
    "    return N*np.exp(-(x-mu)**2/(2*sig**2))\n",
    "\n",
    "def bgPL(x, N, mu, a1, a2, a3):\n",
    "    return N*(1+a1*x)/(a2*x+a3*x)\n",
    "    #return N*(a1*x**2+a2*x+a3)  # test\n",
    "    \n",
    "def bgDE(x, N, a1, a2, a3):\n",
    "    return N*(np.exp(a1*x) + a3*np.exp(a2*x))\n",
    "\n",
    "\n",
    "def crystalball(x, N, mu, sig, alphaL, nL, alphaR, nR):\n",
    "    AL = ( nL / np.absolute( alphaL ) )**nL * np.exp( -1 * np.absolute( alphaL )**2 / 2 )\n",
    "    AR = ( nR / np.absolute( alphaR ) )**nR * np.exp( -1 * np.absolute( alphaR )**2 / 2 )\n",
    "    BL = nL / np.absolute( alphaL ) - np.absolute( alphaL )\n",
    "    BR = nR / np.absolute( alphaR ) - np.absolute( alphaR )\n",
    "\n",
    "    result = np.zeros(np.size(x))\n",
    "    \n",
    "    rel = ( x - mu )/sig\n",
    "    I1 = rel < -1 * alphaL\n",
    "    I2 = (rel >= -1 * alphaL) * (rel <= alphaR)\n",
    "    I3 = rel > alphaR\n",
    "    result[I1] = AL * (BL - rel[I1])**(-nL)\n",
    "    result[I2] = np.exp(-1 * rel[I2]**2 / 2)\n",
    "    result[I3] = AR*(BR + rel[I3])**(-nR)\n",
    "        \n",
    "    return result * N #/ (np.sqrt(2 * np.pi) * sig)\n",
    "\n",
    "def fitfunc(x, N, mu, sig, alphaL, nL, alphaR, nR,   Nbg, a1, a2, a3):\n",
    "    return crystalball(x, N, mu, sig, alphaL, nL, alphaR, nR) + bgDE(x, Nbg, a1, a2, a3)\n",
    "\n",
    "\n",
    "# Fit minv interval\n",
    "xmin = minvmin\n",
    "xmax = minvmax\n",
    "# Get data from histo\n",
    "y,x = hminv[xmin*1j:xmax*1j].to_numpy()\n",
    "x = x[:-1]+(x[1]-x[0])/2\n",
    "xminpeak = 2.5\n",
    "xmaxpeak = 4\n",
    "# Fit bg\n",
    "Ipeak = (xminpeak<x)*(x<xmaxpeak)\n",
    "Ibg = ~Ipeak\n",
    "err = 1*np.sqrt(y)\n",
    " \n",
    "paramsbg, covsbg = curve_fit(bgDE, x[Ibg], np.log(y[Ibg]), method='trf')\n",
    "# Fit peak\n",
    "#params, covs = curve_fit(fitfunc, x, np.log(y), p0=[1000, 3.1, 0.7, 10, 3, 1, 3, *paramsbg], method='trf')\n",
    "\n",
    "#print(\"params: \", paramsbg)\n",
    "print(\"params: \", params) \n",
    "#print(\"covariance: \\n\", covs) "
   ]
  },
  {
   "cell_type": "code",
   "execution_count": 337,
   "id": "08329766-c830-4611-afee-45234db64d53",
   "metadata": {},
   "outputs": [
    {
     "data": {
      "image/png": "[encoded data removed]",
      "text/plain": [
       "<Figure size 640x480 with 1 Axes>"
      ]
     },
     "metadata": {},
     "output_type": "display_data"
    }
   ],
   "source": [
    "#vhMagRaw.plot(label=\"no cuts\")\n",
    "hminv.plot(label=\"Selected events\",color='black',ls='-',lw=0.5)\n",
    "\n",
    "# Initial bg fit\n",
    "if 1:\n",
    "    plt.plot(x[Ibg],y[Ibg],'xg')\n",
    "    yfitbg = np.exp(bgDE(x,*paramsbg))\n",
    "    plt.plot(x,yfitbg,':g',label=\"Background initial fit\")\n",
    "    sigmas = np.diag(covsbg)**2\n",
    "    #efit = np.sqrt(np.sum(sigmas))\n",
    "    #plt.fill_between(x,yfit-efit,yfit+efit,color='gray',alpha=0.2)\n",
    "    \n",
    "if 0:\n",
    "    yfit = np.exp(fitfunc(x,*params))\n",
    "    plt.plot(x,yfit,'-r',label=\"fit\")\n",
    "    sigmas = np.diag(covs)**2\n",
    "    efit = np.sqrt(np.sum(sigmas))\n",
    "    #plt.fill_between(x,yfit-efit,yfit+efit,color='gray',alpha=0.2)  \n",
    "    plt.fill_between(x,yfit-err,yfit+err,color='gray',alpha=0.2)\n",
    "    \n",
    "if 0:\n",
    "    yfitbg = np.exp(bgDE(x,*paramsbg[-4:]))\n",
    "    plt.plot(x,yfitbg,':b',label=\"Background fit\")\n",
    "    #sigmas = np.diag(covsbg)**2\n",
    "    #efit = np.sqrt(np.sum(sigmas))\n",
    "    #plt.fill_between(x,yfit-efit,yfit+efit,color='gray',alpha=0.2)   \n",
    "\n",
    "if 0:\n",
    "    yfit = np.exp(crystalball(x,*params[:7]))\n",
    "    plt.plot(x,yfit,':b',label=\"Crystall Ball function fit\")    \n",
    "    \n",
    "\n",
    "plt.yscale(\"log\")\n",
    "plt.ylabel(\"Tracks counts\")\n",
    "plt.title('Invariant mass');\n",
    "plt.legend();\n"
   ]
  },
  {
   "cell_type": "code",
   "execution_count": null,
   "id": "e3508a0a-39ba-48e3-9271-457d06cdc8f3",
   "metadata": {},
   "outputs": [],
   "source": []
  },
  {
   "cell_type": "code",
   "execution_count": null,
   "id": "a5528ee4-495c-4d9b-b202-44c984fcf64c",
   "metadata": {},
   "outputs": [],
   "source": []
  },
  {
   "cell_type": "code",
   "execution_count": null,
   "id": "6e7e09db-5545-4fe4-a1b7-7331bdc7918b",
   "metadata": {},
   "outputs": [],
   "source": []
  },
  {
   "cell_type": "code",
   "execution_count": null,
   "id": "6ba730b7-6934-4bcd-972f-8c87541a0103",
   "metadata": {},
   "outputs": [],
   "source": []
  },
  {
   "cell_type": "code",
   "execution_count": null,
   "id": "ad59d3dd-147e-457c-a13f-af2922d83c93",
   "metadata": {},
   "outputs": [],
   "source": []
  },
  {
   "cell_type": "code",
   "execution_count": null,
   "id": "53910b40-1fb4-431a-9baa-0e2ebb2d580c",
   "metadata": {},
   "outputs": [],
   "source": []
  },
  {
   "cell_type": "code",
   "execution_count": null,
   "id": "f068a0e7-581a-45cd-9b42-285ee512999f",
   "metadata": {},
   "outputs": [],
   "source": []
  }
 ],
 "metadata": {
  "kernelspec": {
   "display_name": "Python 3.9 - M2 RPS EXP",
   "language": "python",
   "name": "nantes-m2-rps-exp"
  },
  "language_info": {
   "codemirror_mode": {
    "name": "ipython",
    "version": 3
   },
   "file_extension": ".py",
   "mimetype": "text/x-python",
   "name": "python",
   "nbconvert_exporter": "python",
   "pygments_lexer": "ipython3",
   "version": "3.9.18"
  }
 },
 "nbformat": 4,
 "nbformat_minor": 5
}
