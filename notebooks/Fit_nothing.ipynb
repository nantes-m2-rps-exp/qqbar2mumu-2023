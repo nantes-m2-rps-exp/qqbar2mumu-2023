{
 "cells": [
  {
   "cell_type": "code",
   "execution_count": 1,
   "id": "77632d4f-66e0-4946-bb68-314f7ad7d9ea",
   "metadata": {},
   "outputs": [
    {
     "name": "stdout",
     "output_type": "stream",
     "text": [
      "uproot version 5.0.12\n",
      "awkward version 2.4.3\n",
      "numpy version 1.25.2\n",
      "matplotlib version 3.8.0\n",
      "hist version 2.7.2\n",
      "vector version 1.1.1\n",
      "pandas version 1.5.3\n"
     ]
    }
   ],
   "source": [
    "import uproot\n",
    "import awkward as ak\n",
    "import numpy as np\n",
    "import matplotlib\n",
    "import matplotlib.pyplot as plt\n",
    "import math\n",
    "import hist\n",
    "import vector\n",
    "import os\n",
    "import subprocess\n",
    "import gc\n",
    "import pandas as pd\n",
    "from scipy.optimize import curve_fit\n",
    "from scipy.integrate import quad\n",
    "print(\"uproot version\", uproot.__version__)\n",
    "print(\"awkward version\", ak.__version__)\n",
    "print(\"numpy version\", np.__version__)\n",
    "print(\"matplotlib version\", matplotlib.__version__)\n",
    "print(\"hist version\", hist.__version__)\n",
    "print(\"vector version\", vector.__version__)\n",
    "#print(\"os version\", os.__version__)\n",
    "#print(\"subprocess version\", subprocess.__version__)\n",
    "#print(\"gc version\", gc.__version__)\n",
    "print(\"pandas version\", pd.__version__)\n",
    "#print(\"scipy.optimize version\", scipy.optimize.__version__)\n",
    "#print(\"scipy.integrate version\", scipy.integrate.__version__)"
   ]
  },
  {
   "cell_type": "code",
   "execution_count": 2,
   "id": "165848a0-8570-4c38-81fb-85331cbc3946",
   "metadata": {},
   "outputs": [
    {
     "data": {
      "text/html": [
       "<html>\n",
       "<div style=\"display:flex; align-items:center;\">\n",
       "<div style=\"width:290px;\">\n",
       "<svg xmlns=\"http://www.w3.org/2000/svg\" viewBox=\"-10 -105 270 120\">\n",
       "<line x1=\"-5\" y1=\"0\" x2=\"255\" y2=\"0\" style=\"fill:none;stroke-width:2;stroke:currentColor\"/>\n",
       "<text text-anchor=\"middle\" x=\"0\" y=\"15\" style=\"fill:currentColor;\">\n",
       "1.5\n",
       "</text>\n",
       "<text text-anchor=\"middle\" x=\"250\" y=\"15\" style=\"fill:currentColor;\">\n",
       "5\n",
       "</text>\n",
       "<text text-anchor=\"middle\" x=\"125.0\" y=\"15\" style=\"fill:currentColor;\">\n",
       "X\n",
       "</text>\n",
       "<polyline points=\"  0,0   0,-100 2.5,-100 2.5,-95.2   5,-95.2   5,-89.4 7.5,-89.4 7.5,-85.3  10,-85.3  10,-81 12.5,-81 12.5,-76.3  15,-76.3  15,-72.5 17.5,-72.5 17.5,-69  20,-69  20,-65.3 22.5,-65.3 22.5,-62.3  25,-62.3  25,-59.2 27.5,-59.2 27.5,-56.1  30,-56.1  30,-53 32.5,-53 32.5,-50.8  35,-50.8  35,-48 37.5,-48 37.5,-45.6  40,-45.6  40,-43.2 42.5,-43.2 42.5,-41.1  45,-41.1  45,-39.3 47.5,-39.3 47.5,-37.6  50,-37.6  50,-35.6 52.5,-35.6 52.5,-34.1  55,-34.1  55,-32.3 57.5,-32.3 57.5,-30.6  60,-30.6  60,-29.6 62.5,-29.6 62.5,-28.4  65,-28.4  65,-27 67.5,-27 67.5,-25.7  70,-25.7  70,-25 72.5,-25 72.5,-23.9  75,-23.9  75,-22.8 77.5,-22.8 77.5,-22  80,-22  80,-21.4 82.5,-21.4 82.5,-20.4  85,-20.4  85,-19.8 87.5,-19.8 87.5,-19.4  90,-19.4  90,-19.1 92.5,-19.1 92.5,-18.9  95,-18.9  95,-19.3 97.5,-19.3 97.5,-19.7 100,-19.7 100,-21.6 102.5,-21.6 102.5,-24.1 105,-24.1 105,-28.7 107.5,-28.7 107.5,-36 110,-36 110,-44 112.5,-44 112.5,-48.7 115,-48.7 115,-45.3 117.5,-45.3 117.5,-35.4 120,-35.4 120,-23.9 122.5,-23.9 122.5,-16.3 125,-16.3 125,-12.5 127.5,-12.5 127.5,-10.5 130,-10.5 130,-9.55 132.5,-9.55 132.5,-8.86 135,-8.86 135,-8.38 137.5,-8.38 137.5,-7.98 140,-7.98 140,-7.81 142.5,-7.81 142.5,-7.6 145,-7.6 145,-7.5 147.5,-7.5 147.5,-7.26 150,-7.26 150,-7.12 152.5,-7.12 152.5,-7.1 155,-7.1 155,-6.83 157.5,-6.83 157.5,-6.77 160,-6.77 160,-6.45 162.5,-6.45 162.5,-5.86 165,-5.86 165,-5.52 167.5,-5.52 167.5,-5.22 170,-5.22 170,-5.11 172.5,-5.11 172.5,-4.98 175,-4.98 175,-4.86 177.5,-4.86 177.5,-4.69 180,-4.69 180,-4.49 182.5,-4.49 182.5,-4.42 185,-4.42 185,-4.28 187.5,-4.28 187.5,-4.11 190,-4.11 190,-4.1 192.5,-4.1 192.5,-3.91 195,-3.91 195,-3.82 197.5,-3.82 197.5,-3.73 200,-3.73 200,-3.63 202.5,-3.63 202.5,-3.51 205,-3.51 205,-3.48 207.5,-3.48 207.5,-3.36 210,-3.36 210,-3.35 212.5,-3.35 212.5,-3.2 215,-3.2 215,-3.06 217.5,-3.06 217.5,-3.06 220,-3.06 220,-2.92 222.5,-2.92 222.5,-2.89 225,-2.89 225,-2.75 227.5,-2.75 227.5,-2.83 230,-2.83 230,-2.66 232.5,-2.66 232.5,-2.68 235,-2.68 235,-2.6 237.5,-2.6 237.5,-2.47 240,-2.47 240,-2.46 242.5,-2.46 242.5,-2.41 245,-2.41 245,-2.44 247.5,-2.44 247.5,-2.24 250,-2.24 250,0\" style=\"fill:none; stroke:currentColor;\"/>\n",
       "</svg>\n",
       "</div>\n",
       "<div style=\"flex=grow:1;\">\n",
       "Regular(100, 1.5, 5, name='$m_{\\\\mu \\\\mu}$', label='X')<br/>\n",
       "<hr style=\"margin-top:.2em; margin-bottom:.2em;\"/>\n",
       "Double() Σ=2850995.0\n",
       "\n",
       "</div>\n",
       "</div>\n",
       "</html>"
      ],
      "text/plain": [
       "Hist(Regular(100, 1.5, 5, name='$m_{\\\\mu \\\\mu}$', label='X'), storage=Double()) # Sum: 2850995.0"
      ]
     },
     "execution_count": 2,
     "metadata": {},
     "output_type": "execute_result"
    }
   ],
   "source": [
    "X = [1.5174999999999998, 1.5525, 1.5875, 1.6225, 1.6574999999999998, 1.6925, 1.7275, 1.7625000000000002, \n",
    "     1.7975, 1.8325, 1.8675000000000002, 1.9025000000000003, 1.9375, 1.9725, 2.0075, 2.0425, 2.0775, 2.1125, \n",
    "     2.1475, 2.1825, 2.2175000000000002, 2.2525, 2.2875, 2.3225, 2.3575, 2.3925, 2.4275, 2.4625, 2.4975, \n",
    "     2.5324999999999998, 2.5675, 2.6025, 2.6375, 2.6725000000000003, 2.7075, 2.7424999999999997, 2.7775, \n",
    "     2.8125, 2.8475, 2.8825000000000003, 2.9175000000000004, 2.9524999999999997, 2.9875, 3.0225, 3.0575, \n",
    "     3.0925, 3.1275, 3.1625, 3.1975, 3.2325, 3.2675, 3.3025, 3.3375, 3.3725000000000005, 3.4074999999999998, \n",
    "     3.4425000000000003, 3.4775, 3.5125, 3.5475, 3.5824999999999996, 3.6174999999999997, 3.6525000000000003, \n",
    "     3.6875, 3.7224999999999997, 3.7575000000000003, 3.7925000000000004, 3.8275, 3.8625, 3.8975, \n",
    "     3.9324999999999997, 3.9675, 4.0024999999999995, 4.0375, 4.0725, 4.1075, 4.1425, 4.1775, 4.2125, \n",
    "     4.2475000000000005, 4.2825, 4.3175, 4.352499999999999, 4.3875, 4.422499999999999, 4.4575, \n",
    "     4.492500000000001, 4.5275, 4.5625, 4.5975, 4.632499999999999, 4.6675, 4.702500000000001, 4.7375, \n",
    "     4.772500000000001, 4.8075, 4.842499999999999, 4.8775, 4.9125, 4.9475, 4.9825]\n",
    "\n",
    "# nothing\n",
    "Y = [121901.0, 116094.0, 108979.0, 103922.0, 98793.0, 92978.0, 88413.0, 84144.0, 79554.0, \n",
    "                    75928.0, 72198.0, 68404.0, 64648.0, 61973.0, 58571.0, 55637.0, 52708.0, 50121.0, \n",
    "                    47898.0, 45844.0, 43426.0, 41511.0, 39381.0, 37267.0, 36060.0, 34570.0, 32911.0, \n",
    "                    31332.0, 30433.0, 29180.0, 27788.0, 26828.0, 26036.0, 24897.0, 24165.0, 23688.0, \n",
    "                    23263.0, 23079.0, 23497.0, 24015.0, 26326.0, 29328.0, 35040.0, 43877.0, 53671.0, \n",
    "                    59383.0, 55279.0, 43117.0, 29126.0, 19892.0, 15209.0, 12847.0, 11646.0, 10802.0, \n",
    "                    10213.0, 9728.0, 9526.0, 9259.0, 9140.0, 8852.0, 8677.0, 8654.0, 8322.0, 8256.0, \n",
    "                    7866.0, 7144.0, 6726.0, 6358.0, 6234.0, 6070.0, 5924.0, 5713.0, 5478.0, 5385.0, \n",
    "                    5212.0, 5012.0, 5002.0, 4765.0, 4662.0, 4542.0, 4428.0, 4279.0, 4246.0, 4100.0, \n",
    "                    4078.0, 3901.0, 3728.0, 3736.0, 3557.0, 3518.0, 3351.0, 3452.0, 3239.0, 3271.0, \n",
    "                    3171.0, 3011.0, 2997.0, 2933.0, 2974.0, 2727.0]\n",
    "\n",
    "vMass_OS = hist.Hist(hist.axis.Regular(bins = 100, start = 1.5, stop = 5, name='$m_{\\mu \\mu}$', label = 'X'))\n",
    "vMass_OS.fill(X, weight = Y)"
   ]
  },
  {
   "cell_type": "code",
   "execution_count": 3,
   "id": "7de12974-2f8d-4e7a-a22e-431de4547d53",
   "metadata": {},
   "outputs": [],
   "source": [
    "def funcVec(x, N, mu, sig, alphaL, nL, alphaR, nR):\n",
    "    AL = ( nL / np.absolute( alphaL ) )**nL * np.exp( -1 * np.absolute( alphaL )**2 / 2 )\n",
    "    AR = ( nR / np.absolute( alphaR ) )**nR * np.exp( -1 * np.absolute( alphaR )**2 / 2 )\n",
    "    BL = nL / np.absolute( alphaL ) - np.absolute( alphaL )\n",
    "    BR = nR / np.absolute( alphaR ) - np.absolute( alphaR )\n",
    "\n",
    "    return np.piecewise(x, \n",
    "                        [( x - mu )/sig < -1 * alphaL, (( x - mu )/sig >= -1 * alphaL) & (( x - mu )/sig <= alphaR).any() , ( x - mu )/sig > alphaR],\n",
    "                        [lambda x: N * AL * (BL - (( x - mu )/sig))**(-nL), lambda x: N * np.exp(-1 * (( x - mu )/sig)**2 / 2), lambda x: N * AR * (BR + ( x - mu )/sig)**(-nR)])\n",
    "\n",
    "def VWG(x, N, mu, alpha, beta):\n",
    "    sigma = alpha + beta*((x-mu)/mu)\n",
    "    return N * np.exp(-(x - mu)**2 / (2*sigma**2))\n",
    "\n",
    "def PR(x, N, a1, b1, b2):\n",
    "    return N * (1 + a1*x) / (b1*x + b2*x)\n",
    "\n",
    "def DE(x, N, alpha, beta1, beta2):\n",
    "    return N * (np.exp(beta1*x) + alpha * np.exp(beta2*x))\n",
    "\n",
    "def fitFunc(x,\n",
    "            N1, mu1, sig1, alphaL1, nL1, alphaR1, nR1,\n",
    "            N2, mu2, sig2, alphaL2, nL2, alphaR2, nR2,\n",
    "            Nbg, a1, a2, a3):\n",
    "    return funcVec(x, N1, mu1, sig1, alphaL1, nL1, alphaR1, nR1) + funcVec(x, N2, mu2, sig2, alphaL2, nL2, alphaR2, nR2) + DE(x, Nbg, a1, a2, a3)"
   ]
  },
  {
   "cell_type": "code",
   "execution_count": 4,
   "id": "fe907a3c-115c-4123-b2b8-5c69353f999b",
   "metadata": {},
   "outputs": [],
   "source": [
    "x_data = np.array(X)\n",
    "y_data = np.array(vMass_OS)\n",
    "y_error = np.array(np.sqrt(vMass_OS))\n",
    "\n",
    "condition = (x_data > 2.0)\n",
    "#condition = True\n",
    "x_filtered = np.ravel(x_data[condition])\n",
    "y_filtered = np.ravel(y_data[condition])\n",
    "y_error_filtered = np.ravel(y_error[condition])\n",
    "\n",
    "x_data = x_filtered\n",
    "y_data = y_filtered\n",
    "y_error = y_error_filtered"
   ]
  },
  {
   "cell_type": "code",
   "execution_count": 5,
   "id": "80e3cdb6-e292-4b9e-8f2a-849d26cec702",
   "metadata": {},
   "outputs": [],
   "source": [
    "p0 = np.array([4.55480661e+04, 3.09865210e+00, 6.61685782e-02, 8.82346075e-01,\n",
    "                  3.02220911e+00, 2.02907631e+00, 2.80816984e+00, 1.00000000e+03,\n",
    "                  3.69645336e+00, 5.19889713e-02, 1.05368114e+00, 3.30817422e+00,\n",
    "                  2.65615253e+00, 2.93595354e+00, 2.27919897e+04, 4.53001147e+01,\n",
    "                  -5.76132695e-01, -1.64742979e+00])"
   ]
  },
  {
   "cell_type": "code",
   "execution_count": 6,
   "id": "3937be46-4973-42fa-be25-6086f86d1bf4",
   "metadata": {},
   "outputs": [
    {
     "name": "stdout",
     "output_type": "stream",
     "text": [
      "popt: \n",
      " [ 4.54316636e+04  3.09499332e+00  7.28124615e-02  8.93968186e-01\n",
      "  6.04069566e+00  1.70845781e+00  1.55327433e+02  9.75198521e+02\n",
      "  3.72133851e+00  4.48276373e-02  3.11153253e-01  1.09749681e+02\n",
      "  3.38585633e+01  3.86600892e+00  2.27670692e+04  5.41206312e+01\n",
      " -4.53279640e-01 -1.60439614e+00]\n",
      "pcov: \n",
      " [[ 5.43604834e+04  1.72522464e-02 -5.21178879e-02  7.52924904e-02\n",
      "  -7.12956809e+01 -4.72145035e+00 -7.15302945e+04 -9.38499684e+02\n",
      "   4.35710582e-01 -1.84098301e-01 -1.41976625e+01  6.94711068e+05\n",
      "   9.07369144e-11  1.02128065e-10  1.37037667e+05 -1.67250537e+02\n",
      "  -9.86692238e-01 -1.77502836e+00]\n",
      " [ 1.72522464e-02  2.28094248e-07 -1.43291363e-07 -7.92762403e-06\n",
      "   2.83124021e-04 -1.63878143e-06 -6.95977680e-02 -3.67682313e-03\n",
      "   4.22239064e-07 -3.60888073e-07 -1.11757495e-05  7.70173298e-01\n",
      "  -6.12509561e-16  1.69755771e-16 -3.67364666e-01  5.56346984e-04\n",
      "   2.79353376e-06  3.83275146e-06]\n",
      " [-5.21178879e-02 -1.43291363e-07  3.76065670e-07  1.02094019e-05\n",
      "  -3.40697649e-04  4.16933488e-05 -6.78273642e-01 -3.26431496e-03\n",
      "   1.14836189e-06 -5.49863597e-07 -3.94487560e-05  2.30893981e+00\n",
      "   2.62247792e-17  3.49864179e-16  4.44408656e-01 -6.43131920e-04\n",
      "  -3.33551734e-06 -4.89668180e-06]\n",
      " [ 7.52924904e-02 -7.92762403e-06  1.02094019e-05  6.99144204e-04\n",
      "  -3.11516251e-02  8.11716442e-04 -1.10901147e+01  1.47247052e-01\n",
      "   6.32298282e-07  8.47671456e-06 -2.41068049e-04  6.95681697e+00\n",
      "   4.91116300e-14 -3.04959549e-15  4.06131878e+01 -6.35006406e-02\n",
      "  -3.11446127e-04 -4.06746794e-04]\n",
      " [-7.12956809e+01  2.83124021e-04 -3.40697649e-04 -3.11516251e-02\n",
      "   1.99084715e+00 -1.82128401e-02  4.58717307e+02 -1.65196014e+01\n",
      "   2.38738222e-04 -1.11607756e-03  1.14235920e-02  3.54792273e+02\n",
      "  -4.41916092e-12  4.17369762e-13 -3.36695548e+03  5.03591762e+00\n",
      "   2.55352985e-02  3.55950721e-02]\n",
      " [-4.72145035e+00 -1.63878143e-06  4.16933488e-05  8.11716442e-04\n",
      "  -1.82128401e-02  1.51810924e-02 -2.32632338e+02 -5.45860727e-01\n",
      "   1.03541085e-04 -6.52392017e-05 -4.22736644e-03  3.82928941e+02\n",
      "  -1.43009753e-13  6.64675846e-14  1.84246180e+01 -3.31588309e-02\n",
      "  -1.47218000e-04 -1.46550014e-04]\n",
      " [-7.15302945e+04 -6.95977680e-02 -6.78273642e-01 -1.10901147e+01\n",
      "   4.58717307e+02 -2.32632338e+02  5.89228613e+06  4.09749799e+04\n",
      "  -8.77636542e+00  5.24540598e+00  2.97871815e+02 -2.00611283e+07\n",
      "   4.34575029e-09 -3.39958470e-09 -5.56225341e+05  8.28336754e+02\n",
      "   4.19969513e+00  5.91542407e+00]\n",
      " [-9.38499684e+02 -3.67682313e-03 -3.26431496e-03  1.47247052e-01\n",
      "  -1.65196014e+01 -5.45860727e-01  4.09749799e+04  1.09109032e+04\n",
      "  -2.57780350e-01 -3.36619731e-02  1.05584733e+01 -5.67410884e+05\n",
      "  -5.33656246e-12 -8.94544690e-11 -5.40070201e+04  1.47517892e+02\n",
      "   5.03997702e-01 -3.51246388e-02]\n",
      " [ 4.35710582e-01  4.22239064e-07  1.14836189e-06  6.32298282e-07\n",
      "   2.38738222e-04  1.03541085e-04 -8.77636542e+00 -2.57780350e-01\n",
      "   2.47977826e-04 -1.80009716e-04 -3.45865793e-03  1.05457028e+02\n",
      "  -8.45073600e-15  1.73212777e-14  3.86544277e+00 -9.78690393e-03\n",
      "  -3.48721437e-05 -4.53117841e-06]\n",
      " [-1.84098301e-01 -3.60888073e-07 -5.49863597e-07  8.47671456e-06\n",
      "  -1.11607756e-03 -6.52392017e-05  5.24540598e+00 -3.36619731e-02\n",
      "  -1.80009716e-04  1.75568096e-04  2.58645772e-03 -6.97010514e+01\n",
      "  -1.29682250e-15 -1.09187921e-14 -7.30639326e+00  1.79001937e-02\n",
      "   6.50826518e-05  1.37786027e-05]\n",
      " [-1.41976625e+01 -1.11757495e-05 -3.94487560e-05 -2.41068049e-04\n",
      "   1.14235920e-02 -4.22736644e-03  2.97871815e+02  1.05584733e+01\n",
      "  -3.45865793e-03  2.58645772e-03  7.27372161e-02 -2.92791921e+03\n",
      "   3.23056049e-13 -4.86481829e-13 -6.62375498e+01  1.58058795e-01\n",
      "   5.82617239e-04  1.66529112e-04]\n",
      " [ 6.94711068e+05  7.70173298e-01  2.30893981e+00  6.95681697e+00\n",
      "   3.54792273e+02  3.82928941e+02 -2.00611283e+07 -5.67410884e+05\n",
      "   1.05457028e+02 -6.97010514e+01 -2.92791921e+03  1.55805387e+08\n",
      "  -2.25757645e-08  2.62011287e-08  1.42791751e+06 -5.95826746e+03\n",
      "  -1.62270605e+01  1.92105609e+01]\n",
      " [ 9.07369144e-11 -6.12509561e-16  2.62247792e-17  4.91116300e-14\n",
      "  -4.41916092e-12 -1.43009753e-13  4.34575029e-09 -5.33656246e-12\n",
      "  -8.45073600e-15 -1.29682250e-15  3.23056049e-13 -2.25757645e-08\n",
      "   5.43232165e-23 -7.78085623e-24  3.60409377e-08 -6.61337588e-11\n",
      "  -2.94456106e-13 -2.65365563e-13]\n",
      " [ 1.02128065e-10  1.69755771e-16  3.49864179e-16 -3.04959549e-15\n",
      "   4.17369762e-13  6.64675846e-14 -3.39958470e-09 -8.94544690e-11\n",
      "   1.73212777e-14 -1.09187921e-14 -4.86481829e-13  2.62011287e-08\n",
      "  -7.78085623e-24  4.71937608e-24 -2.62567477e-09  4.27789981e-12\n",
      "   2.07117649e-14  2.41448966e-14]\n",
      " [ 1.37037667e+05 -3.67364666e-01  4.44408656e-01  4.06131878e+01\n",
      "  -3.36695548e+03  1.84246180e+01 -5.56225341e+05 -5.40070201e+04\n",
      "   3.86544277e+00 -7.30639326e+00 -6.62375498e+01  1.42791751e+06\n",
      "   3.60409377e-08 -2.62567477e-09  2.63442802e+07 -4.84527925e+04\n",
      "  -2.15352484e+02 -1.93018394e+02]\n",
      " [-1.67250537e+02  5.56346984e-04 -6.43131920e-04 -6.35006406e-02\n",
      "   5.03591762e+00 -3.31588309e-02  8.28336754e+02  1.47517892e+02\n",
      "  -9.78690393e-03  1.79001937e-02  1.58058795e-01 -5.95826746e+03\n",
      "  -6.61337588e-11  4.27789981e-12 -4.84527925e+04  9.16230459e+01\n",
      "   4.00040016e-01  3.32792085e-01]\n",
      " [-9.86692238e-01  2.79353376e-06 -3.33551734e-06 -3.11446127e-04\n",
      "   2.55352985e-02 -1.47218000e-04  4.19969513e+00  5.03997702e-01\n",
      "  -3.48721437e-05  6.50826518e-05  5.82617239e-04 -1.62270605e+01\n",
      "  -2.94456106e-13  2.07117649e-14 -2.15352484e+02  4.00040016e-01\n",
      "   1.76823159e-03  1.54197802e-03]\n",
      " [-1.77502836e+00  3.83275146e-06 -4.89668180e-06 -4.06746794e-04\n",
      "   3.55950721e-02 -1.46550014e-04  5.91542407e+00 -3.51246388e-02\n",
      "  -4.53117841e-06  1.37786027e-05  1.66529112e-04  1.92105609e+01\n",
      "  -2.65365563e-13  2.41448966e-14 -1.93018394e+02  3.32792085e-01\n",
      "   1.54197802e-03  1.61236371e-03]]\n",
      "residual: \n",
      " {'nfev': 40, 'fvec': array([-7.49341805e-01, -3.07497732e-01,  7.89179795e-01,  1.04942061e+00,\n",
      "        2.71365506e-01, -7.34911717e-01,  5.34107459e-01, -3.71871575e-02,\n",
      "        1.00059042e+00,  2.55786562e+00, -9.10475310e-02, -7.98342093e-01,\n",
      "       -9.21175138e-02,  7.15633984e-01, -1.83111738e+00, -1.87831593e+00,\n",
      "       -5.43495928e-01, -1.19209684e+00, -2.24983804e+00, -4.19960033e-01,\n",
      "       -2.52565248e-01, -6.48342352e-01,  9.14109023e-03,  9.63412845e-01,\n",
      "        5.52237493e-01,  3.18114459e+00, -2.45930802e-01,  3.12632583e-01,\n",
      "       -2.42921215e+00, -2.82468840e+00,  4.10286058e+00,  1.09919846e+00,\n",
      "       -1.98354773e+00, -1.89850885e+00,  2.35017217e+00,  4.22537895e-01,\n",
      "       -3.46083017e-01, -1.21084542e-01, -5.28247801e-01,  3.41735907e-01,\n",
      "        1.03346281e+00,  1.88546483e+00,  5.22547643e-01,  2.74228656e-01,\n",
      "       -1.13765747e+00, -4.12904491e-01, -4.68312465e-01, -1.69066769e+00,\n",
      "        9.68545551e-01,  7.81394955e-01, -5.33744072e-01,  2.31371334e-01,\n",
      "        3.05484820e-02,  1.38216631e+00,  3.62272068e-01,  1.87354236e-02,\n",
      "       -4.57932812e-01,  9.21184502e-03,  9.17295003e-01, -2.48482843e-04,\n",
      "        2.57972903e-01,  9.95779292e-01, -8.72483687e-01,  5.61009494e-01,\n",
      "        1.54059105e-01,  6.54832351e-02, -4.26413383e-02,  4.51489269e-01,\n",
      "       -7.62630113e-01, -1.83193187e-01, -1.46843205e+00, -2.72352163e-01,\n",
      "        9.72507483e-01, -6.83443868e-01,  7.94273846e-01, -5.70269019e-03,\n",
      "        1.43301819e+00, -1.68309401e+00,  6.32643219e-01, -1.24997078e+00,\n",
      "       -7.90023579e-01,  8.18247128e-01, -1.72320348e-01, -2.13936201e-01,\n",
      "       -2.13907042e+00,  1.30745697e+00])}\n"
     ]
    },
    {
     "name": "stderr",
     "output_type": "stream",
     "text": [
      "/tmp/ipykernel_6749/3209874668.py:2: RuntimeWarning: invalid value encountered in scalar power\n",
      "  AL = ( nL / np.absolute( alphaL ) )**nL * np.exp( -1 * np.absolute( alphaL )**2 / 2 )\n",
      "/tmp/ipykernel_6749/3209874668.py:3: RuntimeWarning: invalid value encountered in scalar power\n",
      "  AR = ( nR / np.absolute( alphaR ) )**nR * np.exp( -1 * np.absolute( alphaR )**2 / 2 )\n",
      "/tmp/ipykernel_6749/3209874668.py:9: RuntimeWarning: invalid value encountered in power\n",
      "  [lambda x: N * AL * (BL - (( x - mu )/sig))**(-nL), lambda x: N * np.exp(-1 * (( x - mu )/sig)**2 / 2), lambda x: N * AR * (BR + ( x - mu )/sig)**(-nR)])\n",
      "/tmp/ipykernel_6749/3209874668.py:3: RuntimeWarning: overflow encountered in scalar power\n",
      "  AR = ( nR / np.absolute( alphaR ) )**nR * np.exp( -1 * np.absolute( alphaR )**2 / 2 )\n",
      "/tmp/ipykernel_6749/3209874668.py:9: RuntimeWarning: invalid value encountered in multiply\n",
      "  [lambda x: N * AL * (BL - (( x - mu )/sig))**(-nL), lambda x: N * np.exp(-1 * (( x - mu )/sig)**2 / 2), lambda x: N * AR * (BR + ( x - mu )/sig)**(-nR)])\n",
      "/tmp/ipykernel_6749/3209874668.py:2: RuntimeWarning: overflow encountered in scalar power\n",
      "  AL = ( nL / np.absolute( alphaL ) )**nL * np.exp( -1 * np.absolute( alphaL )**2 / 2 )\n",
      "/tmp/ipykernel_6749/3209874668.py:9: RuntimeWarning: overflow encountered in scalar multiply\n",
      "  [lambda x: N * AL * (BL - (( x - mu )/sig))**(-nL), lambda x: N * np.exp(-1 * (( x - mu )/sig)**2 / 2), lambda x: N * AR * (BR + ( x - mu )/sig)**(-nR)])\n"
     ]
    }
   ],
   "source": [
    "popt, pcov, nfev, fvec, fjac = curve_fit(fitFunc, xdata = x_data, ydata = y_data, sigma = y_error, p0 = p0,  method = 'trf', full_output = True)\n",
    "\n",
    "print(\"popt: \\n\", popt) \n",
    "print(\"pcov: \\n\", pcov)\n",
    "print(\"residual: \\n\", nfev)"
   ]
  },
  {
   "cell_type": "code",
   "execution_count": 7,
   "id": "68eca965-475d-4108-8296-09f9a95c99b0",
   "metadata": {},
   "outputs": [
    {
     "data": {
      "image/png": "[encoded data removed]",
      "text/plain": [
       "<Figure size 640x480 with 1 Axes>"
      ]
     },
     "metadata": {},
     "output_type": "display_data"
    }
   ],
   "source": [
    "x_data_fit = np.linspace(min(x_data), max(x_data), len(x_data))\n",
    "plt.errorbar(x_data, y_data, y_error, marker='+', mfc='black', mec='black', ms=2, mew=5, ls='')\n",
    "plt.plot(x_data_fit, fitFunc(x_data_fit, *popt), '-r')\n",
    "plt.plot(x_data_fit, funcVec(x_data_fit, *popt[:7]), '--b')\n",
    "plt.plot(x_data_fit, funcVec(x_data_fit, *popt[7:14]), '--b')\n",
    "plt.plot(x_data_fit, DE(x_data_fit, *popt[14:18]), '--b')\n",
    "plt.yscale('log')\n",
    "plt.ylim(500, 150000)\n",
    "plt.grid(True)"
   ]
  },
  {
   "cell_type": "code",
   "execution_count": 8,
   "id": "095ac343-5a8a-4bb8-9701-e2b9605d37d6",
   "metadata": {},
   "outputs": [
    {
     "name": "stdout",
     "output_type": "stream",
     "text": [
      "(19286.97795510963, 0.00013295140289563127)\n"
     ]
    }
   ],
   "source": [
    "print(quad(fitFunc, 2.7, 3.3, args = (*popt, )))"
   ]
  },
  {
   "cell_type": "code",
   "execution_count": 9,
   "id": "2895dfdc-1164-486e-8a16-166f08f36a25",
   "metadata": {},
   "outputs": [
    {
     "name": "stdout",
     "output_type": "stream",
     "text": [
      "(9815.780232544314, 0.0001110411267672127)\n"
     ]
    }
   ],
   "source": [
    "print(quad(funcVec, 0, np.inf, args = (*popt[:7], )))"
   ]
  },
  {
   "cell_type": "code",
   "execution_count": 10,
   "id": "f8f76249-3b2b-4cdf-b8c8-29370c71c86d",
   "metadata": {},
   "outputs": [
    {
     "name": "stdout",
     "output_type": "stream",
     "text": [
      "Signal : 9815.780232544314\n",
      "Bruit : 818425.6528123718\n"
     ]
    }
   ],
   "source": [
    "signal = quad(funcVec, 0, np.inf, args = (*popt[:7], ))[0]\n",
    "bruit = quad(funcVec, 0, np.inf, args = (*popt[7:14], ))[0] + quad(DE, 0, np.inf, args = (*popt[14:18], ))[0]\n",
    "print(\"Signal :\", signal)\n",
    "print(\"Bruit :\", bruit)"
   ]
  },
  {
   "cell_type": "code",
   "execution_count": 11,
   "id": "6194187b-387f-4b4b-9ab7-6c60cd99c23f",
   "metadata": {},
   "outputs": [
    {
     "name": "stdout",
     "output_type": "stream",
     "text": [
      "RSB : 10.785650670778264\n"
     ]
    }
   ],
   "source": [
    "print(\"RSB :\", signal / np.sqrt(signal + bruit))"
   ]
  },
  {
   "cell_type": "code",
   "execution_count": null,
   "id": "5056f01a-56a4-4a0b-85c0-a6f01436448e",
   "metadata": {},
   "outputs": [],
   "source": []
  }
 ],
 "metadata": {
  "kernelspec": {
   "display_name": "Python 3.9 - M2 RPS EXP",
   "language": "python",
   "name": "nantes-m2-rps-exp"
  },
  "language_info": {
   "codemirror_mode": {
    "name": "ipython",
    "version": 3
   },
   "file_extension": ".py",
   "mimetype": "text/x-python",
   "name": "python",
   "nbconvert_exporter": "python",
   "pygments_lexer": "ipython3",
   "version": "3.9.18"
  }
 },
 "nbformat": 4,
 "nbformat_minor": 5
}
